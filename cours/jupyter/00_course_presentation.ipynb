{
 "cells": [
  {
   "cell_type": "markdown",
   "id": "83e01e82",
   "metadata": {
    "slideshow": {
     "slide_type": "slide"
    }
   },
   "source": [
    "# Python Programmin Language\n",
    "## Welcome to the course!\n",
    "\n",
    "### Gabriel Kathari (ref Antonio Pisanello) | PPL_2024 - Nomades"
   ]
  },
  {
   "cell_type": "markdown",
   "id": "9d99275e",
   "metadata": {
    "slideshow": {
     "slide_type": "slide"
    }
   },
   "source": [
    "# Présentation du cours\n",
    "\n",
    "- semaine 1: Python, les bases"
   ]
  },
  {
   "cell_type": "markdown",
   "id": "f0f9071e",
   "metadata": {
    "slideshow": {
     "slide_type": "slide"
    }
   },
   "source": [
    "# Présentation\n",
    "\n",
    "- Gabriel Kathari\n",
    "- Ingénieur en environenment EPFL et Python fullstack devloper\n",
    "## Mes jobs : \n",
    "- Recherche en epidémiologie spatiale - EPFL & HUG\n",
    "- Enseignement de python pour les systèmes d'information géographiques BA3 - EPFL\n",
    "- Software solution engineer - Circet Switzerland\n",
    "- Web devloper - TRSC\n",
    "- Computer vision - Nomades\n",
    "## Hobbys : \n",
    "- Programmation et Sports de combats\n",
    "## contact\n",
    "- [Contactez moi par e-mail](mailto:gabriel.kathari@epfl.ch)\n",
    "- À vous :)"
   ]
  },
  {
   "cell_type": "markdown",
   "id": "f094880b",
   "metadata": {
    "slideshow": {
     "slide_type": "slide"
    }
   },
   "source": [
    "# Questions ?"
   ]
  },
  {
   "cell_type": "markdown",
   "id": "9ff523d2",
   "metadata": {},
   "source": [
    "# Bon Cours :)"
   ]
  }
 ],
 "metadata": {
  "celltoolbar": "Slideshow",
  "kernelspec": {
   "display_name": "Python 3 (ipykernel)",
   "language": "python",
   "name": "python3"
  },
  "language_info": {
   "codemirror_mode": {
    "name": "ipython",
    "version": 3
   },
   "file_extension": ".py",
   "mimetype": "text/x-python",
   "name": "python",
   "nbconvert_exporter": "python",
   "pygments_lexer": "ipython3",
   "version": "3.10.14"
  }
 },
 "nbformat": 4,
 "nbformat_minor": 5
}
