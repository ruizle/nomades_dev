{
 "cells": [
  {
   "cell_type": "markdown",
   "id": "83e01e82",
   "metadata": {
    "slideshow": {
     "slide_type": "slide"
    }
   },
   "source": [
    "# Course Setup\n",
    "\n",
    "## Python Programming language\n",
    "## Welcome to the course!\n",
    "\n",
    "### PPL 2025"
   ]
  },
  {
   "cell_type": "markdown",
   "id": "9d99275e",
   "metadata": {
    "slideshow": {
     "slide_type": "slide"
    }
   },
   "source": [
    "# Course Setup\n",
    "## Overview\n",
    "- 1. Git\n",
    "- 2. Conda\n",
    "- 3. PyTest"
   ]
  },
  {
   "cell_type": "markdown",
   "id": "f0f9071e",
   "metadata": {
    "slideshow": {
     "slide_type": "slide"
    }
   },
   "source": [
    "# Git\n",
    "\n",
    "Git est un outils de gestion de version. Il permet de suivre les modifications apportées à un projet au fil du temps. Il permet également de travailler à plusieurs sur un même projet.\n",
    "Nous utiliseront Git pour récupérer les notebooks (slides) de cours et pour soumettre les exercices."
   ]
  },
  {
   "cell_type": "markdown",
   "id": "7bea0b00",
   "metadata": {
    "slideshow": {
     "slide_type": "slide"
    }
   },
   "source": [
    "# Créer un compte sur Github\n",
    "\n",
    "Nous utiliseront la plateforme Github.\n",
    "Pour créer un compte sur Github, rendez-vous sur le site de github (github.com) et cliquez sur le bouton \"Sign up\" en haut à droite."
   ]
  },
  {
   "cell_type": "markdown",
   "id": "5d916036",
   "metadata": {
    "slideshow": {
     "slide_type": "slide"
    }
   },
   "source": [
    "# Clés SSH - Local\n",
    "\n",
    "Pour pouvoir utiliser Git, il faut générer une clé SSH et l'ajouter à votre compte Github. La clé SSH remplace le mot de passe et permet de s'authentifier sans avoir à entrer de mot de passe.\n",
    "Pour se faire:\n",
    "- Ouvrez un terminal\n",
    "- Générez une clé SSH avec la commande suivante:\n",
    "```bash\n",
    "ssh-keygen\n",
    "```\n",
    "- Appuyez sur entrée pour accepter le chemin par défaut ou alors entrez un chemin personnalisé\n",
    "- Appuyez sur entrée pour ne pas mettre de passphrase"
   ]
  },
  {
   "cell_type": "markdown",
   "id": "55b7c972",
   "metadata": {
    "slideshow": {
     "slide_type": "slide"
    }
   },
   "source": [
    "Cette opération crée deux fichiers dans le dossier .ssh de votre dossier personnel:\n",
    "- id_rsa (ou votre nom personnalisé): la clé privée\n",
    "- id_rsa.pub: la clé publique"
   ]
  },
  {
   "cell_type": "markdown",
   "id": "afb844b2",
   "metadata": {
    "slideshow": {
     "slide_type": "slide"
    }
   },
   "source": [
    "# Clés SSH - Github\n",
    "\n",
    "Pour pouvoir linker votre clé personnelle avec github il faut:\n",
    "- Copier le contenu de la clé publique (id_rsa.pub)\n",
    "- Aller sur votre compte github\n",
    "- Aller dans les paramètres\n",
    "- Aller dans SSH and GPG keys\n",
    "- Cliquer sur \"New SSH key\"\n",
    "- Donner un nom à la clé\n",
    "- Coller le contenu de la clé publique\n",
    "- Cliquer sur \"Add SSH key\"\n",
    "\n",
    "Voila :)"
   ]
  },
  {
   "cell_type": "markdown",
   "id": "f094880b",
   "metadata": {
    "slideshow": {
     "slide_type": "slide"
    }
   },
   "source": [
    "# Création de votre repo personnel\n",
    "\n",
    "Pour pouvoir soumettre vos exercices, vous devez créer un repo personnel sur github.\n",
    "Pour se faire:\n",
    "\n",
    "- Aller sur votre compte github\n",
    "- Cliquer sur le bouton `New` en haut à droite\n",
    "- Donner un nom à votre repo (par exemple: *nomades-python-software-engineer-winter-2023*)\n",
    "- mettez le repo en `private`\n",
    "- Cliquer sur `Create repository`\n",
    "\n",
    "Vous serez alors redirrigé vers la page de votre repo. Pour l'instant votre repo est vide."
   ]
  },
  {
   "cell_type": "markdown",
   "id": "439c93e1",
   "metadata": {
    "slideshow": {
     "slide_type": "slide"
    }
   },
   "source": [
    "# Clonnage de votre repo\n",
    "\n",
    "Le clonnage d'un repo consiste à copier le contenu de votre repo sur votre compte github en local.\n",
    "Pour se faire:\n",
    "\n",
    "- Aller sur votre repo\n",
    "- Cliquer sur le bouton \"Code\" en vert\n",
    "- Copier le lien SSH\n",
    "- Ouvrir un terminal dans le dossier ou vous voulez cloner votre repo\n",
    "- Cloner votre repo avec la commande suivante:\n",
    "```bash\n",
    "git clone <lien ssh>\n",
    "```"
   ]
  },
  {
   "cell_type": "markdown",
   "id": "63966d38",
   "metadata": {
    "slideshow": {
     "slide_type": "slide"
    }
   },
   "source": [
    "# Ajout du repo de cours\n",
    "\n",
    "Le repo de cours est disponible a cette adresse : git@github.com:gabri1207/nomades_python_programming_langugage.git\n",
    "\n",
    "Pour ajouter le repo de cours, vous pouvez:\n",
    "- Ouvrir un terminal dans le dossier de votre repo\n",
    "- Entrer la comamnde suivante :\n",
    "```bash\n",
    "git remote add course git@github.com:gabri1207/nomades_python_programming_langugage.git\n",
    "```\n",
    "- Pour récupérer les fichiers du cours, entrez la commande suivante:\n",
    "```bash\n",
    "git pull course main\n",
    "```"
   ]
  },
  {
   "cell_type": "markdown",
   "id": "a0175643",
   "metadata": {
    "slideshow": {
     "slide_type": "slide"
    }
   },
   "source": [
    "`git remote add course ...`, cette commande permet d'ajouter un repo distant. Ici on ajoute le repo de cours sous le nom `course`.\n",
    "\n",
    "`git pull course main`, cette commande permet de récupérer les fichiers du repo distant `course` sur la branche `main`."
   ]
  },
  {
   "cell_type": "markdown",
   "id": "41f30dae",
   "metadata": {
    "slideshow": {
     "slide_type": "slide"
    }
   },
   "source": [
    "# Utilisation de Git (Overview)\n",
    "\n",
    "![Git repository](./imgs/git-repository.jpg)"
   ]
  },
  {
   "cell_type": "markdown",
   "id": "5c9fc376",
   "metadata": {
    "slideshow": {
     "slide_type": "slide"
    }
   },
   "source": [
    "# Git commands\n",
    "\n",
    "Les commandes les plus utilisés sont les suivantes:\n",
    "- `git status`: permet de voir l'état de votre repo local\n",
    "- `git add <file>`: permet d'ajouter un fichier à l'index\n",
    "- `git commit -m \"<message>\"`: permet de créer un commit avec un message\n",
    "- `git push <remote> <branch>`: permet de pousser les commits sur un repo distant\n",
    "- `git pull <remote> <branch>`: permet de récupérer les commits d'un repo distant\n"
   ]
  },
  {
   "cell_type": "markdown",
   "id": "3aff96c9",
   "metadata": {
    "slideshow": {
     "slide_type": "slide"
    }
   },
   "source": [
    "# Envoi de vos fichiers sur votre repo\n",
    "\n",
    "Pour envoyer vos fichiers, vous pouvez:\n",
    "- Ouvrir un terminal dans le dossier de votre repo\n",
    "- Entrer la commande suivante :\n",
    "```bash\n",
    "git add .\n",
    "```\n",
    "- Entrer la commande suivante :\n",
    "```bash\n",
    "git commit -m \"message\"\n",
    "```\n",
    "- Entrer la commande suivante :\n",
    "```bash\n",
    "git push\n",
    "```"
   ]
  },
  {
   "cell_type": "markdown",
   "id": "9ffc3515",
   "metadata": {
    "slideshow": {
     "slide_type": "slide"
    }
   },
   "source": [
    "# Conda\n",
    "\n",
    "Conda est un outil de distribution de Python. Il permet de créer des environnements de Python et de leur associer des packages.\n",
    "\n",
    "Les environnements permettent de séparer les packages installés pour chaque projet. Cela permet d'éviter les conflits de versions entre les packages.\n",
    "\n",
    "Conda permet aussi d'utiliser une version de python spécifique par environnement.\n",
    "\n",
    "Dans ce cours nous utiliseront conda pour créer nos environnements et installer nos packages."
   ]
  },
  {
   "cell_type": "markdown",
   "id": "ed7adde3",
   "metadata": {
    "slideshow": {
     "slide_type": "slide"
    }
   },
   "source": [
    "# Conda\n",
    "## Installation\n",
    "\n",
    "Rendez vous sur le site de [Miniconda](https://docs.conda.io/projects/miniconda/en/latest/miniconda-other-installer-links.html) pour installer miniconda.\n",
    "Pour OSX et Linux, Téléchargé le fichier .sh\n",
    "Pour installer Conda, ouvrez un terminal et entrez la commande suivante:\n",
    "```bash\n",
    "sh <Fichier Miniconda>\n",
    "```\n",
    "Ensuite suivez les instructions\n",
    "L'intallation de conda crée un environnement par défaut appelé `base`."
   ]
  },
  {
   "cell_type": "markdown",
   "id": "71abbff3",
   "metadata": {
    "slideshow": {
     "slide_type": "slide"
    }
   },
   "source": [
    "# Conda\n",
    "## Creation d'un environnement\n",
    "\n",
    "Pour créer un environnement, ouvrez un terminal et entrez la commande suivante:\n",
    "```bash\n",
    "conda create -n <nom de l environnement> python=<version de python>\n",
    "```\n",
    "\n",
    "Une fois l'environement crée, vous pouvez l'activer avec la commande suivante:\n",
    "\n",
    "```bash\n",
    "conda activate <nom de l environnement>\n",
    "```\n",
    "\n",
    "Quand un environnement est activé, le nom de l'environnement est affiché entre parenthèses dans le terminal."
   ]
  },
  {
   "cell_type": "markdown",
   "id": "3e400260",
   "metadata": {},
   "source": [
    "# Conda\n",
    "## Creation de l'environement Nomades\n",
    "\n",
    "Pour creer un environnement nomades, ouvrez un terminal et entrez la commande suivante:\n",
    "```bash\n",
    "conda create -n nomades python=3.11\n",
    "```"
   ]
  },
  {
   "cell_type": "markdown",
   "id": "b699e2d6",
   "metadata": {
    "slideshow": {
     "slide_type": "slide"
    }
   },
   "source": [
    "# Conda\n",
    "## Installation de packages\n",
    "\n",
    "Pour installer un package, ouvrez un terminal et entrez la commande suivante:\n",
    "```bash\n",
    "conda install <nom du package>\n",
    "```\n",
    "\n",
    "Essayer de toujours installer les packages via conda. Il est possible que certains package ne soit pas disponible, dans ce cas vous pouvez utiliser `pip`"
   ]
  },
  {
   "cell_type": "markdown",
   "id": "f56a2d7e",
   "metadata": {},
   "source": [
    "# Conda\n",
    "## Installation de packages\n",
    "\n",
    "Exemple d'installation, nous allons installer le package `jupyter` :\n",
    "```bash\n",
    "conda install jupyter\n",
    "```\n",
    "\n",
    "Les fichiers jupyter sont de fichier de type `.ipynb`. Ils permettent de creer des notebooks. Les notebooks sont des fichiers qui contiennent du code et du texte. Ils permettent de faire des analyses et de les documenter en même temps. Le cours sera sous forme de notebooks."
   ]
  },
  {
   "cell_type": "markdown",
   "id": "31cc96a6",
   "metadata": {
    "slideshow": {
     "slide_type": "slide"
    }
   },
   "source": [
    "# PyTest - unittest (Facultatif pour la semaine 1)\n",
    "\n",
    "Les exercices de cours sont testés à l'aide de test unitaires.\n",
    "Les tests unitaires permettent de tester le bon fonctionnement d'une fonction ou d'une classe.\n",
    "Les exercices sont en partie constitués de petites fonction qu'il faut implémenter et qui sont testées à l'aide de tests unitaires.\n",
    "Pour executer les tests rendez-vous dans le dossier qui contient le fichier de tests et entrez la commande suivante:\n",
    "```bash\n",
    "python test_<nom du fichier>.py\n",
    "```"
   ]
  },
  {
   "cell_type": "markdown",
   "id": "c90dc5cf",
   "metadata": {
    "slideshow": {
     "slide_type": "slide"
    }
   },
   "source": [
    "# PyTest - unittest (Facultatif pour la semaine 1)\n",
    "\n",
    "Il est aussi possible de tester les fonction avec les commandes `pytest` et le module `unittest`.\n",
    "\n",
    "Pour ce faire vous devez dabord installer le module `unittest` et le module `pytest`.:\n",
    "```bash\n",
    "conda install unittest pytest\n",
    "```\n",
    "Une fois installer, vous pouvez lancer les tests avec la commande suivante:\n",
    "```bash\n",
    "pytest test_<nom du fichier>.py\n",
    "```\n",
    "ou alors:\n",
    "```bash\n",
    "python -m unittest test_<nom du fichier>.py\n",
    "```\n",
    "\n",
    "Il est aussi possible de lancer toius les tests d'un dossier avec la commande suivante:\n",
    "```bash\n",
    "pytest\n",
    "```"
   ]
  }
 ],
 "metadata": {
  "celltoolbar": "Slideshow",
  "kernelspec": {
   "display_name": "Python 3 (ipykernel)",
   "language": "python",
   "name": "python3"
  },
  "language_info": {
   "codemirror_mode": {
    "name": "ipython",
    "version": 3
   },
   "file_extension": ".py",
   "mimetype": "text/x-python",
   "name": "python",
   "nbconvert_exporter": "python",
   "pygments_lexer": "ipython3",
   "version": "3.10.14"
  }
 },
 "nbformat": 4,
 "nbformat_minor": 5
}
