{
 "cells": [
  {
   "cell_type": "markdown",
   "id": "949ddfe1",
   "metadata": {
    "slideshow": {
     "slide_type": "slide"
    }
   },
   "source": [
    "# Python Variables\n",
    "\n",
    "En programmation les variables sont des espaces mémoires qui permettent de stocker des valeurs. Ces valeurs peuvent être de différents types: entiers, réels, chaînes de caractères, booléens, etc."
   ]
  },
  {
   "cell_type": "code",
   "execution_count": 1,
   "id": "3699056e",
   "metadata": {},
   "outputs": [
    {
     "name": "stdout",
     "output_type": "stream",
     "text": [
      "10\n"
     ]
    }
   ],
   "source": [
    "number = 10\n",
    "print(number)"
   ]
  },
  {
   "cell_type": "markdown",
   "id": "28f8e19b",
   "metadata": {},
   "source": [
    "Ici `number` est une variable de type entier qui contient la valeur 10"
   ]
  },
  {
   "cell_type": "markdown",
   "id": "beae593b",
   "metadata": {
    "slideshow": {
     "slide_type": "slide"
    }
   },
   "source": [
    "# Assignation de variables\n",
    "\n",
    "Pour assigner une valeur à une variable on utilise le symbole `=`. Par exemple:"
   ]
  },
  {
   "cell_type": "code",
   "execution_count": 18,
   "id": "33b641be",
   "metadata": {},
   "outputs": [
    {
     "name": "stdout",
     "output_type": "stream",
     "text": [
      "<class 'str'>\n",
      "<class 'float'>\n"
     ]
    }
   ],
   "source": [
    "# assign value to site_name variable\n",
    "site_name = '12'\n",
    "n = 10.7\n",
    "\n",
    "print(type(site_name))\n",
    "print(type(n))"
   ]
  },
  {
   "cell_type": "markdown",
   "id": "0cdca871",
   "metadata": {
    "slideshow": {
     "slide_type": "slide"
    }
   },
   "source": [
    "Dans l'exemple ci-dessus, on a assigné la valeur `'12'` à la variable `site_name`. On peut ensuite utiliser cette variable dans notre code, ici on l'a affiché.\n",
    "\n",
    "> **Note:** En Python, les variables sont sensibles à la casse, c'est-à-dire que `a` et `A` sont deux variables différentes.\n",
    "\n",
    "> **Note:** En Python, le type des variables est déterminé dynamiquement, c'est-à-dire que le type de la variable est déterminé à l'exécution du programme. Par exemple, dans l'exemple ci-dessus, on a assigné la valeur `'12'` à la variable `site_name`, donc le type de la variable `site_name` est `str` (chaîne de caractères).\n"
   ]
  },
  {
   "cell_type": "markdown",
   "id": "13716b73",
   "metadata": {
    "slideshow": {
     "slide_type": "slide"
    }
   },
   "source": [
    "# Changement de valeur d'une variable Python\n",
    "\n",
    "On peut changer la valeur d'une variable Python en lui assignant une nouvelle valeur. Par exemple:"
   ]
  },
  {
   "cell_type": "code",
   "execution_count": 3,
   "id": "38f1283d",
   "metadata": {},
   "outputs": [
    {
     "name": "stdout",
     "output_type": "stream",
     "text": [
      "facebook.com\n",
      "12\n"
     ]
    }
   ],
   "source": [
    "site_name = 'facebook.com'\n",
    "print(site_name)\n",
    "\n",
    "# assigning a new value to site_name\n",
    "site_name = 12\n",
    "print(site_name)"
   ]
  },
  {
   "cell_type": "markdown",
   "id": "2e829f61",
   "metadata": {},
   "source": [
    "Ici, on a changé la valeur de la variable `site_name` en lui assignant la valeur `facebook.com` et ensuite la valeure `apple.com`."
   ]
  },
  {
   "cell_type": "markdown",
   "id": "ee86c714",
   "metadata": {
    "slideshow": {
     "slide_type": "slide"
    }
   },
   "source": [
    "# Assignation multiple\n",
    "\n",
    "On peut assigner plusieurs variables en une seule ligne. Par exemple:"
   ]
  },
  {
   "cell_type": "code",
   "execution_count": 4,
   "id": "4b8c45a3",
   "metadata": {},
   "outputs": [
    {
     "name": "stdout",
     "output_type": "stream",
     "text": [
      "a 5\n",
      "b 3.2\n",
      "c Hello\n"
     ]
    }
   ],
   "source": [
    "a, b, c  = 5, 3.2, 'Hello'\n",
    "print(\"a\", a)\n",
    "print(\"b\", b)\n",
    "print(\"c\", c)"
   ]
  },
  {
   "cell_type": "markdown",
   "id": "5bd0d7c2",
   "metadata": {},
   "source": [
    "On peut aussi assigner une même valeur à plusieurs variables en une seule ligne. Par exemple:"
   ]
  },
  {
   "cell_type": "code",
   "execution_count": 5,
   "id": "bf291d87",
   "metadata": {},
   "outputs": [
    {
     "name": "stdout",
     "output_type": "stream",
     "text": [
      "<class 'str'>\n",
      "<class 'str'>\n"
     ]
    }
   ],
   "source": [
    "site1 = site2 = 'apple.com'\n",
    "\n",
    "print(type(site1))\n",
    "print(type(site2))"
   ]
  },
  {
   "cell_type": "markdown",
   "id": "bf3e6370",
   "metadata": {
    "slideshow": {
     "slide_type": "slide"
    }
   },
   "source": [
    "# Règles pour nommer les variables Python\n",
    "\n",
    "- Les constantes et les variables en python doivent commencer par une lettre ou un underscore `_`."
   ]
  },
  {
   "cell_type": "markdown",
   "id": "40ac12bb",
   "metadata": {
    "slideshow": {
     "slide_type": "fragment"
    }
   },
   "source": [
    "- Le reste du nom de la variable peut contenir des lettres, des chiffres et des underscores `_`.\n",
    "```\n",
    "  snake_case\n",
    "  MACRO_CASE\n",
    "  camelCase\n",
    "  CapWords\n",
    "  kebab-case\n",
    "```"
   ]
  },
  {
   "cell_type": "markdown",
   "id": "799aa742",
   "metadata": {
    "slideshow": {
     "slide_type": "fragment"
    }
   },
   "source": [
    "- Utilisez des nom de variables qui font sense, `voyelles` est un meilleur nom que `v`. Et essayer de coder en anglais."
   ]
  },
  {
   "cell_type": "markdown",
   "id": "3c846da7",
   "metadata": {
    "slideshow": {
     "slide_type": "slide"
    }
   },
   "source": [
    "- Si vous voulez utiliser une variables a 2 ou n mots utilisez des underscores pour séparer les mots\n",
    "```\n",
    "  my_name\n",
    "  current_salary\n",
    "```"
   ]
  },
  {
   "cell_type": "markdown",
   "id": "46d69964",
   "metadata": {
    "slideshow": {
     "slide_type": "fragment"
    }
   },
   "source": [
    "- Evitez d'utiliser des `keywords` comme nom de variables"
   ]
  },
  {
   "cell_type": "markdown",
   "id": "2d22bd8c",
   "metadata": {
    "slideshow": {
     "slide_type": "slide"
    }
   },
   "source": [
    "\n",
    "- Les noms de variables sont sensibles à la casse, c'est-à-dire que `a` et `A` sont deux variables différentes."
   ]
  },
  {
   "cell_type": "code",
   "execution_count": 6,
   "id": "e7903951",
   "metadata": {
    "slideshow": {
     "slide_type": "-"
    }
   },
   "outputs": [
    {
     "name": "stdout",
     "output_type": "stream",
     "text": [
      "140720553468968\n",
      "140720553470568\n"
     ]
    }
   ],
   "source": [
    "num = 5 \n",
    "Num = 55\n",
    "\n",
    "print(id(num))\n",
    "print(id(Num))"
   ]
  },
  {
   "cell_type": "markdown",
   "id": "9f416add",
   "metadata": {
    "slideshow": {
     "slide_type": "slide"
    }
   },
   "source": [
    "# Constantes en Python\n",
    "\n",
    "Les constantes sont des variables dont la valeur ne peut pas être modifiée. En Python, on peut créer des constantes en utilisant des lettres majuscules. Par exemple:"
   ]
  },
  {
   "cell_type": "code",
   "execution_count": 7,
   "id": "643f393c",
   "metadata": {},
   "outputs": [
    {
     "name": "stdout",
     "output_type": "stream",
     "text": [
      "0 9.8\n",
      "0\n"
     ]
    }
   ],
   "source": [
    "# declare constants \n",
    "PI = 3.14\n",
    "EARTH_GRAVITY = 9.8\n",
    "\n",
    "PI = 0\n",
    "cirle_area = 23**2*PI\n",
    "\n",
    "print(PI, EARTH_GRAVITY)\n",
    "print(cirle_area)"
   ]
  },
  {
   "cell_type": "markdown",
   "id": "572f846a",
   "metadata": {},
   "source": [
    "> **Note:** En Python, les constantes sont modifiables, non protégée comme dans d'autres langages de programmation. Par exemple, dans l'exemple ci-dessus, on peut changer la valeur de la constante `PI` en faisant `PI = 3.1415`. Le fait d'utiliser des lettres majuscules pour les constantes est une convention de codage pour indiquer aux autres programmeurs que c'est une constante. Donc, il est préférable de ne pas changer la valeur d'une constante."
   ]
  },
  {
   "cell_type": "markdown",
   "id": "199ca06a",
   "metadata": {
    "slideshow": {
     "slide_type": "slide"
    }
   },
   "source": [
    "# Python literals\n",
    "\n",
    "Les littéraux sont des données dont la valeur est fixe. En Python, il existe différents types de littéraux:"
   ]
  },
  {
   "cell_type": "code",
   "execution_count": 8,
   "id": "aa43c556",
   "metadata": {},
   "outputs": [
    {
     "name": "stdout",
     "output_type": "stream",
     "text": [
      "apple.com\n",
      "apple.com\n"
     ]
    }
   ],
   "source": [
    "site_name = 'apple.com'\n",
    "print((site_name))\n",
    "site_name = \"apple.com\"\n",
    "print((site_name))"
   ]
  },
  {
   "cell_type": "markdown",
   "id": "8fc54065",
   "metadata": {},
   "source": [
    "Dans l'example ci-dessus `site_name` est la variable et `apple.com` est le littéral."
   ]
  },
  {
   "cell_type": "markdown",
   "id": "05c5e244",
   "metadata": {
    "slideshow": {
     "slide_type": "slide"
    }
   },
   "source": [
    "# Python Numeric Literals\n",
    "\n",
    "Les littéraux numériques sont des données dont la valeur est un nombre. \n",
    "\n",
    "| Type        | Example           | Remarque  |\n",
    "| ----------- |:-------------:| -----:|\n",
    "| Décimal     | 5, 10, -68 | Integers |\n",
    "| Binaire     | 0b101, 0b11      |   Commence avec `0b` |\n",
    "| Octal       | 0o13  |    Commence avec `0o` |\n",
    "| Hexadécimal | 0x9, 0x11  |    Commence avec `0x` |\n",
    "| Float       | 0.0, 15.20, -32.54  |    Nombre à virgule flottante |\n",
    "| Complex     | 3+14j, 4+0j, -6+7j  |    Nombre sous la forme `a + bj` ou `a` est la partie réelle et `b`la partie imaginaire|"
   ]
  },
  {
   "cell_type": "code",
   "execution_count": 9,
   "id": "76a09d2f",
   "metadata": {
    "slideshow": {
     "slide_type": "slide"
    }
   },
   "outputs": [
    {
     "name": "stdout",
     "output_type": "stream",
     "text": [
      "10 10 10 10\n",
      "10.5 150.0\n",
      "(-3+14j) -3.0 14.0\n"
     ]
    }
   ],
   "source": [
    "a = 0b1010 #Binary Literals\n",
    "b = 10 #Decimal Literal\n",
    "c = 0o12 #Octal Literal\n",
    "d = 0xA #Hexadecimal Literal\n",
    "\n",
    "#Float Literal\n",
    "float_1 = 10.5\n",
    "float_2 = 1.5e2 # <==> 1.5 * 10^2 <==> 150\n",
    "\n",
    "#Complex Literal\n",
    "x = -3+14j\n",
    "\n",
    "print(a, b, c, d)\n",
    "print(float_1, float_2)\n",
    "print(x, x.real, x.imag)"
   ]
  },
  {
   "cell_type": "code",
   "execution_count": 11,
   "id": "4b0b2ac7",
   "metadata": {
    "slideshow": {
     "slide_type": "slide"
    }
   },
   "outputs": [
    {
     "name": "stdout",
     "output_type": "stream",
     "text": [
      "a = 10 | type de a=<class 'int'>\n",
      "b = 10 | type de b=<class 'int'>\n",
      "c = 10 | type de c=<class 'int'>\n",
      "d = 10 | type de d=<class 'int'>\n",
      "float_1 = 10.5 | type de float_1=<class 'float'>\n",
      "float_2 = 150.0 | type de float_2=<class 'float'>\n",
      "x = (-3+14j) | type de x=<class 'complex'>\n",
      "x.real = -3.0 | type de x.real=<class 'float'>\n",
      "x.imag = 14.0 | type de x.imag=<class 'float'>\n"
     ]
    }
   ],
   "source": [
    "print(f\"a = {a} | type de a={type(a)}\")\n",
    "print(f\"b = {b} | type de b={type(b)}\")\n",
    "print(f\"c = {c} | type de c={type(c)}\")\n",
    "print(f\"d = {d} | type de d={type(d)}\")\n",
    "print(f\"float_1 = {float_1} | type de float_1={type(float_1)}\")\n",
    "print(f\"float_2 = {float_2} | type de float_2={type(float_2)}\")\n",
    "print(f\"x = {x} | type de x={type(x)}\")\n",
    "print(f\"x.real = {x.real} | type de x.real={type(x.real)}\")\n",
    "print(f\"x.imag = {x.imag} | type de x.imag={type(x.imag)}\")"
   ]
  },
  {
   "cell_type": "markdown",
   "id": "00d9c526",
   "metadata": {
    "slideshow": {
     "slide_type": "slide"
    }
   },
   "source": [
    "# Python Boolean Literals\n",
    "\n",
    "Les littéraux booléens sont des données dont la valeur est soit `True` soit `False`.\n",
    "> **Note:** En Python, `True` et `False` sont des mots-clés et ils doivent être écrits en majuscules."
   ]
  },
  {
   "cell_type": "code",
   "execution_count": 12,
   "id": "b204f0b8",
   "metadata": {},
   "outputs": [
    {
     "name": "stdout",
     "output_type": "stream",
     "text": [
      "else\n",
      "Hello\n"
     ]
    }
   ],
   "source": [
    "flag = False\n",
    "\n",
    "if flag:\n",
    "    print(\"flag is true\")\n",
    "else:\n",
    "    print(\"else\")\n",
    "    print(\"Hello\")"
   ]
  },
  {
   "cell_type": "markdown",
   "id": "5ac1f81e",
   "metadata": {},
   "source": [
    "Ici, `True` est un littéral booléen et est assigné à la variable `flag`."
   ]
  },
  {
   "cell_type": "markdown",
   "id": "d6c41f12",
   "metadata": {
    "slideshow": {
     "slide_type": "slide"
    }
   },
   "source": [
    "# String et char literals\n",
    "\n",
    "Les caractères littéraux sont des données unicode dont la valeur est un caractère. En Python, on peut définir une chaîne de caractères en utilisant des guillemets simples ou doubles. Par exemple:"
   ]
  },
  {
   "cell_type": "code",
   "execution_count": 13,
   "id": "e4b53e5a",
   "metadata": {},
   "outputs": [
    {
     "name": "stdout",
     "output_type": "stream",
     "text": [
      "a\"b\n",
      "a\"b\n"
     ]
    }
   ],
   "source": [
    "some_char = 'a\"b'\n",
    "print((some_char))\n",
    "\n",
    "some_char2 = \"a\\\"b\"\n",
    "print((some_char2))"
   ]
  },
  {
   "cell_type": "markdown",
   "id": "5fcf29e7",
   "metadata": {},
   "source": [
    "Ici, `a` est un caractère littéral et est assigné au deux variables `some_char` et `some_char2` en utilisant une fois les simples guillemets et une fois les doubles guillemets."
   ]
  },
  {
   "cell_type": "markdown",
   "id": "8377f907",
   "metadata": {
    "slideshow": {
     "slide_type": "slide"
    }
   },
   "source": [
    "De façon similaire on peut construire les strings comme étant des listes de caractères. Par exemple:"
   ]
  },
  {
   "cell_type": "code",
   "execution_count": 14,
   "id": "8112590c",
   "metadata": {},
   "outputs": [
    {
     "name": "stdout",
     "output_type": "stream",
     "text": [
      "Python is fun\n",
      "Python is fun\n",
      "Python's syntax is easy to learn\n",
      "Python\\'s syntax is easy to learn\n"
     ]
    }
   ],
   "source": [
    "some_string = 'Python is fun' \n",
    "print(some_string)\n",
    "\n",
    "some_string2 = \"Python is fun\"\n",
    "print(some_string2)\n",
    "\n",
    "quote_in_strings = 'Python\\'s syntax is easy to learn'\n",
    "print(quote_in_strings)\n",
    "\n",
    "quote_in_strings2 = 'Python\\\\\\'s syntax is easy to learn'\n",
    "print(quote_in_strings2)"
   ]
  },
  {
   "cell_type": "markdown",
   "id": "23090217",
   "metadata": {
    "slideshow": {
     "slide_type": "fragment"
    }
   },
   "source": [
    "Ici, `'Python is fun'` est un littéral de chaîne de caractères et est assigné à la variable `some_string`.\n",
    "\n",
    "> **Note**: On peut mettre des `single quotes (')` à l'intérieur des `double quotes (\")` et vice versa."
   ]
  },
  {
   "cell_type": "markdown",
   "id": "aa43a2bf",
   "metadata": {
    "slideshow": {
     "slide_type": "slide"
    }
   },
   "source": [
    "# Python Special Literals\n",
    "\n",
    "Python a un littéral spécial appelé `None`. On l'utilise souvent pour représenter la valeur nulle ou vide. Par exemple:"
   ]
  },
  {
   "cell_type": "code",
   "execution_count": 15,
   "id": "1eb7c269",
   "metadata": {},
   "outputs": [
    {
     "name": "stdout",
     "output_type": "stream",
     "text": [
      "<class 'NoneType'>\n"
     ]
    }
   ],
   "source": [
    "value = None\n",
    "\n",
    "print(type(value))"
   ]
  },
  {
   "cell_type": "markdown",
   "id": "a09afbcb",
   "metadata": {},
   "source": [
    "Ici, nous recevons la valeur `None`, cela signifie que la variable `value` n'as pas de valeurs."
   ]
  },
  {
   "cell_type": "markdown",
   "id": "71907cc3",
   "metadata": {
    "slideshow": {
     "slide_type": "slide"
    }
   },
   "source": [
    "# Literals Collections\n",
    "\n",
    "Python a 4 types de collections littérales:"
   ]
  },
  {
   "cell_type": "code",
   "execution_count": 17,
   "id": "55683b57",
   "metadata": {},
   "outputs": [
    {
     "name": "stdout",
     "output_type": "stream",
     "text": [
      "['apple', 'mango', 'orange', 1, 1.2, 5, 'salut', 'apple']\n",
      "(1, 2, 3)\n",
      "{'prenom': 'Gabriel', 'nom': 'Kathari', 'age': 28, 'hobbies': ['programmer', 'faire du sport']}\n",
      "{'prenom': 'Lamine', 'nom': 'Sakho', 'age': '28', 'hobby': ['programmer', 'faire du sport']}\n",
      "True\n",
      "{'o', 'u', 'i', 'a', 'e'}\n"
     ]
    }
   ],
   "source": [
    "# list literal\n",
    "fruits = [\"apple\", \"mango\", \"orange\", 1, 1.2, 0b101, 'salut', \"apple\"]\n",
    "print(fruits)\n",
    "\n",
    "# tuple literal\n",
    "numbers = (1, 2, 3)\n",
    "print(numbers)\n",
    "\n",
    "# dictionary literal\n",
    "utilisateur = {'prenom':'Gabriel', 'nom':'Kathari', 'age':28, \"hobbies\":[\"programmer\", \"faire du sport\"]} \n",
    "utilisateur2 = {'prenom':'Lamine', 'nom':'Sakho', 'age':'28', \"hobby\":[\"programmer\", \"faire du sport\"]} \n",
    "print(utilisateur)\n",
    "print(utilisateur2)\n",
    "\n",
    "# set literal\n",
    "vowels = {'a', 'e', 'i' , 'o', 'u', 'e'} \n",
    "print('e' in vowels)\n",
    "print(vowels)"
   ]
  },
  {
   "cell_type": "markdown",
   "id": "511a90c0",
   "metadata": {
    "slideshow": {
     "slide_type": "slide"
    }
   },
   "source": [
    "Dans l'example ci-dessus, nous avons crée une **liste** de `fruits`, un **tuple** de `chiffres`, un **Dictionnaire** d'`utilisateurs` et un **set** de `voyelles`.\n",
    "\n",
    "> **Note:** Les listes et les tuples sont des collections ordonnées, donc les éléments sont accessibles par leur index, tandis que les dictionnaires et les sets sont des collections non ordonnées, donc les éléments ne sont pas accessibles par leur index. (Nous verrons plus loin ce que sont les listes, les tuples, les dictionnaires et les sets.)"
   ]
  }
 ],
 "metadata": {
  "celltoolbar": "Slideshow",
  "kernelspec": {
   "display_name": "computer_vision",
   "language": "python",
   "name": "python3"
  },
  "language_info": {
   "codemirror_mode": {
    "name": "ipython",
    "version": 3
   },
   "file_extension": ".py",
   "mimetype": "text/x-python",
   "name": "python",
   "nbconvert_exporter": "python",
   "pygments_lexer": "ipython3",
   "version": "3.13.2"
  }
 },
 "nbformat": 4,
 "nbformat_minor": 5
}
