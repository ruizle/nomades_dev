{
 "cells": [
  {
   "cell_type": "markdown",
   "id": "54ffa405",
   "metadata": {
    "slideshow": {
     "slide_type": "slide"
    }
   },
   "source": [
    "# Python Data Types\n",
    "\n",
    "En programmation, `data type` (type de données) est un concept important. Les variables peuvent stocker des données de différents types, et les différents types peuvent faire différentes choses. Python a les types de données suivants intégrés par défaut, dans ces catégories:\n",
    "\n",
    "| Data Type   | Classes       | Description  |\n",
    "| ----------- |:-------------:| -----:|\n",
    "| Numeric     | int, float, complex | Stoque les valeurs numériques    |\n",
    "| String      | str                 | Stoque les chaînes de caractères |\n",
    "| Sequenece   | list, tuple, range  | Stoque des collection d'objets |\n",
    "| Mapping     | dict                | Stoque les données sour forme de key/value|\n",
    "| Boolean     | bool                | Stoque soit `True` soit `False` |\n",
    "| Set         | set, frozenset      | Stoque une collection d'objet, **unique**|\n",
    "\n",
    "Comme tout est objet en python, chaque `Data Type` sont des `Classes` et les variables sont des `instances(Objet)` des ces classes.\n"
   ]
  },
  {
   "cell_type": "markdown",
   "id": "7505565a",
   "metadata": {
    "slideshow": {
     "slide_type": "slide"
    }
   },
   "source": [
    "# Python Numeric Data Type\n",
    "\n",
    "Les données numériques sont utilisées pour stocker des valeurs numériques. Les objets numériques sont créés lorsque vous assignez une valeur numérique à eux.\n",
    "\n",
    "`Integers`, `Nombres à virgule flottante` et `Nombres complexes` sont tous des types de données numériques. Ils sont définis comme `int`, `float` et `complex` dans Python."
   ]
  },
  {
   "cell_type": "markdown",
   "id": "7ad813e5",
   "metadata": {
    "slideshow": {
     "slide_type": "slide"
    }
   },
   "source": [
    "- `int` - Stoque des nombres entiers positifs ou négatifs sans décimales, sans limite de taille.\n",
    "- `float` - Stoque des nombres, positifs ou négatifs, contenant un ou plusieurs décimales. Les nombres à virgule flottante peuvent également être scientifiques (avec un \"e\" pour indiquer la puissance de 10). ils sont précis jusqu'à 15 chiffres décimaux.\n",
    "- `complex` - Stoque des nombres complexes, ils sont de la forme `a + bj`, où `a` et `b` sont des nombres et `j` (ou `J`) représente la racine carrée de -1 (qui est un nombre imaginaire). La partie réelle est `a`, et la partie imaginaire est `b`. Les nombres complexes ne peuvent pas être convertis en un autre type de nombre. `a` et `b` sont de type `float`.\n",
    "\n",
    "Nous pouvons utiliser la fonction `type()` pour connaître le type de données d'une variable."
   ]
  },
  {
   "cell_type": "code",
   "execution_count": 4,
   "id": "676c1d26",
   "metadata": {
    "slideshow": {
     "slide_type": "slide"
    }
   },
   "outputs": [
    {
     "name": "stdout",
     "output_type": "stream",
     "text": [
      "5 is of type <class 'int'>\n",
      "2.0 is of type <class 'float'>\n",
      "(1+2j) is of type <class 'complex'>\n"
     ]
    }
   ],
   "source": [
    "num1 = 5\n",
    "print(num1, 'is of type', type(num1))\n",
    "\n",
    "num2 = 2.0\n",
    "print(num2, 'is of type', type(num2))\n",
    "\n",
    "num3 = 1+2j\n",
    "print(num3, 'is of type', type(num3))"
   ]
  },
  {
   "cell_type": "markdown",
   "id": "734b97a8",
   "metadata": {},
   "source": [
    "- **5** est un integer, `type()` retourne `int` car la classe de `num1` est `<class 'int'>`\n",
    "- **2.0** est un float, `type()` retourne `float` car la classe de `num2` est `<class 'float'>`\n",
    "- **1+2j** est un complex, `type()` retourne `complex` car la classe de `num3` est `<class 'complex'>`"
   ]
  },
  {
   "cell_type": "markdown",
   "id": "08f0d61d",
   "metadata": {
    "slideshow": {
     "slide_type": "slide"
    }
   },
   "source": [
    "# Python String Data Type\n",
    "\n",
    "Les chaînes de caractères sont utilisées pour stocker des valeurs textuelles. Une chaîne est une séquence de caractères. Dans Python, les chaînes sont écrits avec des guillemets simples ou doubles."
   ]
  },
  {
   "cell_type": "code",
   "execution_count": 5,
   "id": "5d77a284",
   "metadata": {},
   "outputs": [
    {
     "name": "stdout",
     "output_type": "stream",
     "text": [
      "Name\n",
      "Python\n",
      " for Name beginners\n"
     ]
    }
   ],
   "source": [
    "name = 'Name'\n",
    "print(name)  \n",
    "\n",
    "message = f\"Python\\n for {name} beginners\"\n",
    "print(message) "
   ]
  },
  {
   "cell_type": "markdown",
   "id": "97c0c80e",
   "metadata": {
    "slideshow": {
     "slide_type": "slide"
    }
   },
   "source": [
    "# Python List Data Type\n",
    "\n",
    "Les listes sont des collections ordonnées et modifiables. Dans Python, les listes sont écrites avec des crochets `[]`. Elles peuvent contenir des éléments de différents ou même types de données."
   ]
  },
  {
   "cell_type": "code",
   "execution_count": 6,
   "id": "1b1209dd",
   "metadata": {},
   "outputs": [],
   "source": [
    "languages = [\"Swift\", \"Java\", \"Python\", 3]"
   ]
  },
  {
   "cell_type": "markdown",
   "id": "3cc218ae",
   "metadata": {},
   "source": [
    "Ici, nous avons crée une liste nommeée `languages` contenant trois `strings`"
   ]
  },
  {
   "cell_type": "markdown",
   "id": "4909ac57",
   "metadata": {
    "slideshow": {
     "slide_type": "slide"
    }
   },
   "source": [
    "### Accéder aux éléments d'une liste\n",
    "\n",
    "Vous pouvez accéder aux éléments d'une liste en utilisant leurs index. L'index d'une liste commence à 0."
   ]
  },
  {
   "cell_type": "code",
   "execution_count": 7,
   "id": "3e06e12f",
   "metadata": {},
   "outputs": [
    {
     "name": "stdout",
     "output_type": "stream",
     "text": [
      "3 Python\n",
      "['Swift', 'Java', 'Python', 'C++']\n"
     ]
    }
   ],
   "source": [
    "# access element at index 0\n",
    "print(languages[3], languages[2])\n",
    "languages[3] = \"C++\"\n",
    "print(languages)"
   ]
  },
  {
   "cell_type": "markdown",
   "id": "04b37cab",
   "metadata": {
    "slideshow": {
     "slide_type": "slide"
    }
   },
   "source": [
    "# Python Tuple Data Type\n",
    "\n",
    "Les tuples sont des collections ordonnées et non modifiables. Dans Python, les tuples sont écrits avec des parenthèses `()`. Ils peuvent contenir des éléments de différents ou même types de données.\n",
    "Les tupoles sont comme les listes, sauf qu'elles sont immuables (ne peuvent pas être modifiées)."
   ]
  },
  {
   "cell_type": "code",
   "execution_count": 8,
   "id": "ec3359aa",
   "metadata": {},
   "outputs": [],
   "source": [
    "product = ('Xbox', 499.99)"
   ]
  },
  {
   "cell_type": "markdown",
   "id": "7366a957",
   "metadata": {},
   "source": [
    "Ici, nous avons crée un `tuple` nommé `product` contenant un `string` et un `float`."
   ]
  },
  {
   "cell_type": "markdown",
   "id": "42caf865",
   "metadata": {
    "slideshow": {
     "slide_type": "slide"
    }
   },
   "source": [
    "Pour accéder aux éléments d'un tuple, nous utilisons leurs index. L'index d'un tuple commence à 0. (Comme pour les listes)"
   ]
  },
  {
   "cell_type": "code",
   "execution_count": 9,
   "id": "a8240354",
   "metadata": {},
   "outputs": [
    {
     "name": "stdout",
     "output_type": "stream",
     "text": [
      "Microsoft\n",
      "Apple\n",
      "<class 'str'>\n"
     ]
    }
   ],
   "source": [
    "# create a tuple \n",
    "product = ('Microsoft', 'Xbox', 499.99)\n",
    "\n",
    "# access element at index 0\n",
    "print(product[0])   # Microsoft \n",
    "\n",
    "product = (\"Apple\", \"iPhone\", 1290.99)\n",
    "print(product[0])   # Microsoft\n",
    "\n",
    "\n",
    "# access element at index 1\n",
    "print(type(product[1])) # -> float  "
   ]
  },
  {
   "cell_type": "markdown",
   "id": "072b231b",
   "metadata": {
    "slideshow": {
     "slide_type": "slide"
    }
   },
   "source": [
    "# Python Set Data Type\n",
    "\n",
    "Les sets sont utilisés pour stocker plusieurs éléments dans un seul conteneur. Les sets sont des collections non ordonnées et non indexées. Dans Python, les sets sont écrits avec des accolades `{}`.\n",
    "En mathématique un `Set` est une collection d'éléments uniques. En Python, les sets sont utilisés pour stocker des éléments uniques."
   ]
  },
  {
   "cell_type": "code",
   "execution_count": 10,
   "id": "cbd09668",
   "metadata": {},
   "outputs": [
    {
     "name": "stdout",
     "output_type": "stream",
     "text": [
      "{'119', '116', '114', '118', '115'}\n",
      "5\n"
     ]
    }
   ],
   "source": [
    "# create a set named student_id\n",
    "student_id = {\"118\", \"114\", \"116\", \"118\", \"115\", \"119\", \"114\", \"114\", \"114\"}\n",
    "\n",
    "# display student_id elements\n",
    "print(student_id)\n",
    "\n",
    "# display type of student_id\n",
    "print(len(student_id))"
   ]
  },
  {
   "cell_type": "markdown",
   "id": "f02459ef",
   "metadata": {
    "slideshow": {
     "slide_type": "slide"
    }
   },
   "source": [
    "# Python Dictionary Data Type\n",
    "\n",
    "Les dictionnaires sont utilisés pour stocker des données sous forme de paires clé/valeur (key/value). Un dictionnaire est une collection non ordonnée, modifiable et indexée. Dans Python, les dictionnaires sont écrits avec des accolades `{}`.\n",
    "\n",
    "> **Note:** Les dictionnaires ne peuvent pas avoir deux clés avec le même nom. Les clés sont uniques dans un dictionnaire, alors que les valeurs peuvent ne pas l'être.\n",
    "\n",
    "> **Note:** Ne pas confondre les `dictionnaires` et les `sets`. Ils sont tous les deux écrits avec des accolades `{}`, mais les sets n'ont pas de clés et les dictionnaires ont des clés. Les sets sont utilisés pour stocker des éléments uniques, et les dictionnaires sont utilisés pour stocker des données sous forme de paires clé/valeur."
   ]
  },
  {
   "cell_type": "code",
   "execution_count": 11,
   "id": "122e8889",
   "metadata": {
    "slideshow": {
     "slide_type": "slide"
    }
   },
   "outputs": [
    {
     "name": "stdout",
     "output_type": "stream",
     "text": [
      "{('Asia', 'Nepal'): 'Kathmandu', 'Italy': 'naples', 'England': 'London', 12: 'Nomades'}\n",
      "Kathmandu\n",
      "Paris\n",
      "{('Asia', 'Nepal'): 'Kathmandu', 'Italy': 'Paris', 'England': 'London', 12: 'Nomades'}\n"
     ]
    }
   ],
   "source": [
    "# create a dictionary named capital_city\n",
    "capital_city = {\n",
    "    ('Asia', 'Nepal'): 'Kathmandu', \n",
    "    'Italy': \"Rome\", \n",
    "    'England': 'London',\n",
    "    12: \"Nomades\",\n",
    "    'Italy': \"naples\"\n",
    "}\n",
    "print(capital_city)\n",
    "\n",
    "# On accède aux éléments du dictionnaire par leur clé\n",
    "print(capital_city[('Asia','Nepal')])  # prints Kathmandu\n",
    "capital_city[\"Italy\"] = \"Paris\"\n",
    "print(capital_city['Italy'])\n",
    "print(capital_city)"
   ]
  },
  {
   "cell_type": "markdown",
   "id": "1d60b56a",
   "metadata": {
    "slideshow": {
     "slide_type": "slide"
    }
   },
   "source": [
    "# Python Type Conversion\n",
    "\n",
    "En programmation, il est parfois nécessaire de convertir les données d'un type à un autre. Python a deux types de conversion de données:\n",
    "\n",
    "- **Implicit Type Conversion** - Ces conversions de données sont effectuées automatiquement par Python. On ne peut pas les contrôler.\n",
    "\n",
    "- **Explicit Type Conversion** - Ces conversions de données sont effectuées par l'utilisateur en utilisant les fonctions prédéfinies Python comme `int()`, `float()`, `str()` etc."
   ]
  },
  {
   "cell_type": "markdown",
   "id": "76a6331c",
   "metadata": {
    "slideshow": {
     "slide_type": "slide"
    }
   },
   "source": [
    "### Exemple 1: Conversion implicite de type\n",
    "\n",
    "Dans cet exemple Python convertit le type `int` au type `float` implicitement (automatiquement). Nous n'avons pas besoin de faire quoi que ce soit. Python favorise la conversion du type de données inférieur (entier) vers le type de données supérieur (flottant) pour éviter toute perte de données."
   ]
  },
  {
   "cell_type": "code",
   "execution_count": 14,
   "id": "62648c2f",
   "metadata": {},
   "outputs": [
    {
     "name": "stdout",
     "output_type": "stream",
     "text": [
      "<class 'int'>\n",
      "<class 'float'>\n",
      "124.23\n",
      "123\n"
     ]
    }
   ],
   "source": [
    "integer_number = 123\n",
    "float_number = 1.23\n",
    "print(type(integer_number))\n",
    "print(type(float_number))\n",
    "\n",
    "print(integer_number + float_number)\n",
    "\n",
    "r = integer_number + False\n",
    "print((r))"
   ]
  },
  {
   "cell_type": "markdown",
   "id": "109236cd",
   "metadata": {
    "slideshow": {
     "slide_type": "slide"
    }
   },
   "source": [
    "Dans l'exemple ci-dessus, nous avons ajouté un `int` et un `float`, et Python a converti le type `int` en `float` avant de faire l'addition. Le résultat du calcul est un `float`. Python a converti le type `int` en `float` implicitement (automatiquement). Lorsque Python rencontre une opération où les types de données sont différents, il effectue automatiquement une conversion pour garantir que les données de plus petite taille ne soient pas perdues. Par exemple, si vous effectuez une opération entre un entier (un type de données plus petit) et un flottant (un type de données plus grand), Python convertira automatiquement l'entier en flottant avant d'effectuer l'opération afin de préserver toutes les informations contenues dans l'entier. Cela garantit qu'aucune donnée ne soit perdue lors de la manipulation des différentes variables et types de données dans votre programme Python.\n",
    "\n",
    "> **Note:** Python ne peut pas convertir le type `string` en `int` implicitement (automatiquement). Cela générera une erreur. Par exemple, si on essaye d'additionner un `string` et un `int`, Python ne peut pas convertir le `string` en `int` implicitement (automatiquement). Cela générera une erreur de type `TypeError`. La solution est d'utiliser la conversion explicite de type."
   ]
  },
  {
   "cell_type": "markdown",
   "id": "8f91277b",
   "metadata": {
    "slideshow": {
     "slide_type": "slide"
    }
   },
   "source": [
    "### Exemple 2: Conversion explicite de type\n",
    "\n",
    "La conversion explicite de type est faite par le programmeur en utilisant les fonctions prédéfinies Python comme `int()`, `float()`, `str()` etc. Ce type de conversion est également appelé `typecasting` car le programmeur force le type de données à changer."
   ]
  },
  {
   "cell_type": "code",
   "execution_count": 18,
   "id": "40c9f5c8",
   "metadata": {},
   "outputs": [
    {
     "name": "stdout",
     "output_type": "stream",
     "text": [
      "Data type of num_string before Type Casting: <class 'str'>\n",
      "12.23\n",
      "12\n",
      "Data type of num_string after Type Casting: <class 'int'>\n"
     ]
    }
   ],
   "source": [
    "num_string = '12.23'\n",
    "num_integer = 1\n",
    "\n",
    "print(\"Data type of num_string before Type Casting:\",type(num_string))\n",
    "\n",
    "# explicit type conversion\n",
    "print(num_string)\n",
    "num_string = int(float(num_string))\n",
    "print(num_string)\n",
    "\n",
    "print(\"Data type of num_string after Type Casting:\",type(num_string))\n",
    "\n",
    "#num_sum = num_integer + num_string\n",
    "\n",
    "#print(\"Sum:\",num_sum)\n",
    "#print(\"Data type of num_sum:\",type(num_sum))"
   ]
  },
  {
   "cell_type": "markdown",
   "id": "c68a36ac",
   "metadata": {
    "slideshow": {
     "slide_type": "slide"
    }
   },
   "source": [
    "Dans l'example ci-dessus, nous avons créé deux variables `num_string` et `num_integer` de type `str`et `int` respectivement. \n",
    "\n",
    "```python\n",
    "num_string = int(num_string)\n",
    "```\n",
    "Ici, nous avons converti la variable `num_string` de type `str` en type `int` en utilisant la fonction `int()`.\n",
    "\n",
    "Une fois la conversion effectuée, python est capable d'additionner les deux variables `num_string` et `num_integer` car elles sont toutes les deux de type `int`."
   ]
  },
  {
   "cell_type": "markdown",
   "id": "cb1d6dc6",
   "metadata": {
    "slideshow": {
     "slide_type": "slide"
    }
   },
   "source": [
    "# Conclusion \n",
    "\n",
    "1. `TypeConversion` est la conversion d'un type de données en un autre type de données.\n",
    "2. Python a deux types de conversion de données:\n",
    "    - **Implicit Type Conversion** - Ces conversions de données sont effectuées automatiquement par Python. On ne peut pas les contrôler.\n",
    "    - **Explicit Type Conversion** - Ces conversions de données sont effectuées par l'utilisateur en utilisant les fonctions prédéfinies Python comme `int()`, `float()`, `str()` etc."
   ]
  },
  {
   "cell_type": "markdown",
   "id": "a6ed2d6d",
   "metadata": {
    "slideshow": {
     "slide_type": "slide"
    }
   },
   "source": [
    "3. Python favorise la conversion du type de données inférieur (entier) vers le type de données supérieur (flottant) pour éviter toute perte de données.\n",
    "4. Python ne peut pas convertir le type `string` en `int` implicitement (automatiquement). Cela générera une erreur. La solution est d'utiliser la conversion explicite de type. appellée `typecasting` car le programmeur force le type de données à changer."
   ]
  }
 ],
 "metadata": {
  "celltoolbar": "Slideshow",
  "kernelspec": {
   "display_name": "computer_vision",
   "language": "python",
   "name": "python3"
  },
  "language_info": {
   "codemirror_mode": {
    "name": "ipython",
    "version": 3
   },
   "file_extension": ".py",
   "mimetype": "text/x-python",
   "name": "python",
   "nbconvert_exporter": "python",
   "pygments_lexer": "ipython3",
   "version": "3.13.2"
  }
 },
 "nbformat": 4,
 "nbformat_minor": 5
}
