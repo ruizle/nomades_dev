{
 "cells": [
  {
   "cell_type": "markdown",
   "id": "bc4829dc",
   "metadata": {
    "slideshow": {
     "slide_type": "slide"
    }
   },
   "source": [
    "# Python Basic Input and Output\n",
    "\n",
    "En python, on peut utiliser la fonction `print()` pour afficher du texte en output"
   ]
  },
  {
   "cell_type": "code",
   "execution_count": 2,
   "id": "91ca7deb",
   "metadata": {},
   "outputs": [
    {
     "name": "stdout",
     "output_type": "stream",
     "text": [
      "le chiffre actuel est :_9_valeurs_55\r"
     ]
    }
   ],
   "source": [
    "from time import sleep\n",
    "for i in range(10):\n",
    "    print(\"le chiffre actuel est :\", i, \"valeurs\", 12+43, sep=\"_\", end=\"\\r\")\n",
    "    sleep(0.3)"
   ]
  },
  {
   "cell_type": "markdown",
   "id": "9f5aced5",
   "metadata": {
    "slideshow": {
     "slide_type": "slide"
    }
   },
   "source": [
    "Ici, `print()` prend un seul paramètre, qui est une chaîne de caractères (string). Cependant, `print()` attend **5** paramètres\n",
    "\n",
    "```python\n",
    "print(object=, sep=, end=, file=, flush=)\n",
    "```\n",
    "\n",
    "- `object` : la/les variable(s) à afficher\n",
    "- `sep (optionnel)` : le séparateur entre les `objects` (par défaut, un espace)\n",
    "- `end (optionnel)` : le caractère à ajouter à la fin de l'affichage (par défaut, un retour à la ligne)\n",
    "- `file (optionnel)` : le fichier dans lequel écrire (par défaut, la sortie standard `sys.stdout`)\n",
    "- `flush (optionnel)` : Valeur booléenne indiquant s'il faut vider le buffer après l'affichage (par défaut, `False`)"
   ]
  },
  {
   "cell_type": "markdown",
   "id": "b47942f8",
   "metadata": {
    "slideshow": {
     "slide_type": "slide"
    }
   },
   "source": [
    "### Exemple 1 : Python Print Statement\n",
    "\n",
    "Affichage de deux String, ici la valeur de `end` n'est pas renseignée, donc par défaut un retour à la ligne est ajouté à la fin de l'affichage. L'affichage des deux string se fera sur deux ligne différentes."
   ]
  },
  {
   "cell_type": "code",
   "execution_count": 3,
   "id": "e6904ca3",
   "metadata": {},
   "outputs": [
    {
     "name": "stdout",
     "output_type": "stream",
     "text": [
      "Good Morning!\tIt is rainy today\n",
      "Hello World\n"
     ]
    }
   ],
   "source": [
    "print('Good Morning!', end=\"\\t\")\n",
    "print('It is rainy today')\n",
    "print(\"Hello World\")"
   ]
  },
  {
   "cell_type": "markdown",
   "id": "5997ec3a",
   "metadata": {
    "slideshow": {
     "slide_type": "slide"
    }
   },
   "source": [
    "### Exemple 2 : Python Print() avec end\n",
    "\n",
    "Affichage de deux String, ici la valeur de `end` est renseignée, donc un espace est ajouté à la fin de l'affichage. L'affichage des deux string se fera sur une seule ligne."
   ]
  },
  {
   "cell_type": "code",
   "execution_count": 4,
   "id": "902ea390",
   "metadata": {},
   "outputs": [
    {
     "name": "stdout",
     "output_type": "stream",
     "text": [
      "Good Morning! It is rainy today\n"
     ]
    }
   ],
   "source": [
    "# print with end whitespace\n",
    "print('Good Morning!', end= ' ')\n",
    "\n",
    "print('It is rainy today')"
   ]
  },
  {
   "cell_type": "markdown",
   "id": "39c87cd0",
   "metadata": {
    "slideshow": {
     "slide_type": "slide"
    }
   },
   "source": [
    "### Exemple 3: Python print() avec sep parameter\n",
    "\n",
    "Affichage de plusieurs objets, ici la valeur de `sep` est renseignée, donc un séparateur est ajouté entre les objets."
   ]
  },
  {
   "cell_type": "code",
   "execution_count": 5,
   "id": "d29a537b",
   "metadata": {},
   "outputs": [
    {
     "name": "stdout",
     "output_type": "stream",
     "text": [
      "New Year. 16. 1. See you soon!\n"
     ]
    }
   ],
   "source": [
    "def un():\n",
    "    return 1\n",
    "\n",
    "print('New Year', 3+13, un(), 'See you soon!', sep= '. ')"
   ]
  },
  {
   "cell_type": "markdown",
   "id": "0a87abe2",
   "metadata": {
    "slideshow": {
     "slide_type": "slide"
    }
   },
   "source": [
    "### Example: Print Python Variables and Literals\n",
    "\n",
    "On peut utiliser `print()` pour afficher des variables et des littéraux (littéraux = valeurs littérales, c'est à dire des valeurs qui ne sont pas stockées dans une variable)"
   ]
  },
  {
   "cell_type": "code",
   "execution_count": 6,
   "id": "8e86f587",
   "metadata": {},
   "outputs": [
    {
     "name": "stdout",
     "output_type": "stream",
     "text": [
      "5\n",
      "-10.6\n",
      "10\n",
      "-10.6\n",
      "Gabriel\n"
     ]
    }
   ],
   "source": [
    "number = -10.6\n",
    "\n",
    "name = \"Gabriel\"\n",
    "\n",
    "# print literals     \n",
    "print(5)\n",
    "\n",
    "# print variables\n",
    "print(number)\n",
    "print(0xA)\n",
    "print(number, name, sep=\"\\n\")"
   ]
  },
  {
   "cell_type": "markdown",
   "id": "d6de2eed",
   "metadata": {
    "slideshow": {
     "slide_type": "slide"
    }
   },
   "source": [
    "### Exemple: Print avec concatenation de string\n",
    "\n",
    "On peut `join` 2 strings ensemble a l'intérieur de la fonction `print()` avec l'opérateur `+`"
   ]
  },
  {
   "cell_type": "code",
   "execution_count": 7,
   "id": "f8275971",
   "metadata": {},
   "outputs": [
    {
     "name": "stdout",
     "output_type": "stream",
     "text": [
      "Hello World.\n"
     ]
    }
   ],
   "source": [
    "print('Hello ' + 'World.')"
   ]
  },
  {
   "cell_type": "markdown",
   "id": "6e8ff5f8",
   "metadata": {
    "slideshow": {
     "slide_type": "slide"
    }
   },
   "source": [
    "# Output formatting\n",
    "\n",
    "On peut utiliser la fonction `format()` pour formater l'affichage de variables dans une chaîne de caractères."
   ]
  },
  {
   "cell_type": "code",
   "execution_count": 8,
   "id": "474f9509",
   "metadata": {},
   "outputs": [
    {
     "name": "stdout",
     "output_type": "stream",
     "text": [
      "The value of y is 5 and x is 5\n",
      "I love butter and bread\n",
      "Good Morning, Hello John \n",
      "x is 5 and z is 10\n",
      "10.555555555\n",
      "z is 10.56\n"
     ]
    }
   ],
   "source": [
    "x = 5\n",
    "y = 10\n",
    "z = 10.555555555\n",
    "\n",
    "print('The value of y is {0} and x is {0}'.format(x))\n",
    "print('I love {1} and {0}'.format('bread','butter'))\n",
    "\n",
    "# on peut aussi formatter l'affichage des variables\n",
    "print('{greeting}, Hello {name} '.format(greeting = 'Good Morning', name = 'John'))\n",
    "\n",
    "# on peut aussi formatter les nombres a afficher\n",
    "print(\"x is %d and z is %d\" % (x, z))\n",
    "print(z)\n",
    "print(\"z is {0:.2f}\".format(z))"
   ]
  },
  {
   "cell_type": "markdown",
   "id": "498db8aa",
   "metadata": {},
   "source": [
    "Dans l'exemple ci-dessus, %d stipule qu'on attend un nombre décimal"
   ]
  },
  {
   "cell_type": "markdown",
   "id": "34d8f326",
   "metadata": {
    "slideshow": {
     "slide_type": "slide"
    }
   },
   "source": [
    "## F-Strings: A New and Improved Way to Format Strings in Python\n",
    "\n",
    "Depuis Python 3.6, on peut utiliser les `f-strings` pour formater l'affichage de variables dans une chaîne de caractères."
   ]
  },
  {
   "cell_type": "code",
   "execution_count": 9,
   "id": "c40f6d65",
   "metadata": {},
   "outputs": [
    {
     "name": "stdout",
     "output_type": "stream",
     "text": [
      "<class 'int'>\n",
      "True\n",
      "The value of x is 0xb3\n",
      "The value of x is 179.00\n",
      "The value of x is 179.00\n",
      "Hello JOHN, Good Morning\n"
     ]
    }
   ],
   "source": [
    "# old style formatting\n",
    "x = 0xb3\n",
    "print(type(x))\n",
    "x2 = 11*16+3\n",
    "print(x == x2)\n",
    "\n",
    "print(f'The value of x is {hex(x)}')\n",
    "\n",
    "# new style formatting\n",
    "print('The value of x is {:.2f}'.format(x))\n",
    "print(f\"The value of x is {x:.2f}\")\n",
    "\n",
    "name = 'John'\n",
    "greeting = 'Good Morning'\n",
    "\n",
    "print(f\"Hello {name.upper()}, {greeting}\")"
   ]
  },
  {
   "attachments": {
    "image.png": {
     "image/png": "[encoded data removed]"
    }
   },
   "cell_type": "markdown",
   "id": "f570e3b0",
   "metadata": {},
   "source": [
    "![image.png](attachment:image.png)"
   ]
  },
  {
   "cell_type": "markdown",
   "id": "5f15d3b2",
   "metadata": {},
   "source": [
    "Parce que 0-9 --> 0-9 et ensuite a --> 10, b--> 11 etc."
   ]
  },
  {
   "cell_type": "markdown",
   "id": "97e9820c",
   "metadata": {
    "slideshow": {
     "slide_type": "slide"
    }
   },
   "source": [
    "# Python Input\n",
    "\n",
    "En python, il est possible de demander à l'utilisateur d'entrer une valeur avec la fonction `input()`"
   ]
  },
  {
   "cell_type": "code",
   "execution_count": 10,
   "id": "2598bfc6",
   "metadata": {},
   "outputs": [
    {
     "ename": "KeyboardInterrupt",
     "evalue": "Interrupted by user",
     "output_type": "error",
     "traceback": [
      "\u001b[31m---------------------------------------------------------------------------\u001b[39m",
      "\u001b[31mKeyboardInterrupt\u001b[39m                         Traceback (most recent call last)",
      "\u001b[36mCell\u001b[39m\u001b[36m \u001b[39m\u001b[32mIn[10]\u001b[39m\u001b[32m, line 1\u001b[39m\n\u001b[32m----> \u001b[39m\u001b[32m1\u001b[39m hello = \u001b[38;5;28minput\u001b[39m(\u001b[33m'\u001b[39m\u001b[33mEnter your name: \u001b[39m\u001b[33m'\u001b[39m)\n\u001b[32m      2\u001b[39m \u001b[38;5;28mprint\u001b[39m(\u001b[38;5;28mtype\u001b[39m(hello))\n",
      "\u001b[36mFile \u001b[39m\u001b[32mc:\\Users\\gkath\\anaconda3\\envs\\computer_vision\\Lib\\site-packages\\ipykernel\\kernelbase.py:1282\u001b[39m, in \u001b[36mKernel.raw_input\u001b[39m\u001b[34m(self, prompt)\u001b[39m\n\u001b[32m   1280\u001b[39m     msg = \u001b[33m\"\u001b[39m\u001b[33mraw_input was called, but this frontend does not support input requests.\u001b[39m\u001b[33m\"\u001b[39m\n\u001b[32m   1281\u001b[39m     \u001b[38;5;28;01mraise\u001b[39;00m StdinNotImplementedError(msg)\n\u001b[32m-> \u001b[39m\u001b[32m1282\u001b[39m \u001b[38;5;28;01mreturn\u001b[39;00m \u001b[38;5;28mself\u001b[39m._input_request(\n\u001b[32m   1283\u001b[39m     \u001b[38;5;28mstr\u001b[39m(prompt),\n\u001b[32m   1284\u001b[39m     \u001b[38;5;28mself\u001b[39m._parent_ident[\u001b[33m\"\u001b[39m\u001b[33mshell\u001b[39m\u001b[33m\"\u001b[39m],\n\u001b[32m   1285\u001b[39m     \u001b[38;5;28mself\u001b[39m.get_parent(\u001b[33m\"\u001b[39m\u001b[33mshell\u001b[39m\u001b[33m\"\u001b[39m),\n\u001b[32m   1286\u001b[39m     password=\u001b[38;5;28;01mFalse\u001b[39;00m,\n\u001b[32m   1287\u001b[39m )\n",
      "\u001b[36mFile \u001b[39m\u001b[32mc:\\Users\\gkath\\anaconda3\\envs\\computer_vision\\Lib\\site-packages\\ipykernel\\kernelbase.py:1325\u001b[39m, in \u001b[36mKernel._input_request\u001b[39m\u001b[34m(self, prompt, ident, parent, password)\u001b[39m\n\u001b[32m   1322\u001b[39m \u001b[38;5;28;01mexcept\u001b[39;00m \u001b[38;5;167;01mKeyboardInterrupt\u001b[39;00m:\n\u001b[32m   1323\u001b[39m     \u001b[38;5;66;03m# re-raise KeyboardInterrupt, to truncate traceback\u001b[39;00m\n\u001b[32m   1324\u001b[39m     msg = \u001b[33m\"\u001b[39m\u001b[33mInterrupted by user\u001b[39m\u001b[33m\"\u001b[39m\n\u001b[32m-> \u001b[39m\u001b[32m1325\u001b[39m     \u001b[38;5;28;01mraise\u001b[39;00m \u001b[38;5;167;01mKeyboardInterrupt\u001b[39;00m(msg) \u001b[38;5;28;01mfrom\u001b[39;00m\u001b[38;5;250m \u001b[39m\u001b[38;5;28;01mNone\u001b[39;00m\n\u001b[32m   1326\u001b[39m \u001b[38;5;28;01mexcept\u001b[39;00m \u001b[38;5;167;01mException\u001b[39;00m:\n\u001b[32m   1327\u001b[39m     \u001b[38;5;28mself\u001b[39m.log.warning(\u001b[33m\"\u001b[39m\u001b[33mInvalid Message:\u001b[39m\u001b[33m\"\u001b[39m, exc_info=\u001b[38;5;28;01mTrue\u001b[39;00m)\n",
      "\u001b[31mKeyboardInterrupt\u001b[39m: Interrupted by user"
     ]
    }
   ],
   "source": [
    "hello = input('Enter your name: ')\n",
    "print(type(hello))"
   ]
  },
  {
   "cell_type": "markdown",
   "id": "d16d6bd5",
   "metadata": {},
   "source": [
    "Ici, on affichera le string: 'Enter your name' et l'utilisateur pourra entrer une valeur. Cette valeur sera stockée dans la variable `user_input`  "
   ]
  },
  {
   "cell_type": "code",
   "execution_count": null,
   "id": "b5d5843b",
   "metadata": {
    "slideshow": {
     "slide_type": "slide"
    }
   },
   "outputs": [],
   "source": [
    "# using input() to take user input\n",
    "num = input('Enter a number: ')\n",
    "print('You Entered:', num)\n",
    "print('Data type of num:', type(num))\n",
    "\n",
    "num_int = int(input('Enter a number: '))\n",
    "print(f'You entered: {num_int}')\n",
    "print(f'Data type of num_int: {type(num_int)}')"
   ]
  }
 ],
 "metadata": {
  "celltoolbar": "Slideshow",
  "kernelspec": {
   "display_name": "computer_vision",
   "language": "python",
   "name": "python3"
  },
  "language_info": {
   "codemirror_mode": {
    "name": "ipython",
    "version": 3
   },
   "file_extension": ".py",
   "mimetype": "text/x-python",
   "name": "python",
   "nbconvert_exporter": "python",
   "pygments_lexer": "ipython3",
   "version": "3.13.2"
  }
 },
 "nbformat": 4,
 "nbformat_minor": 5
}
