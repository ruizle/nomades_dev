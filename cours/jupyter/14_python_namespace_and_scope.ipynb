{
 "cells": [
  {
   "cell_type": "markdown",
   "id": "d09667ba",
   "metadata": {
    "slideshow": {
     "slide_type": "slide"
    }
   },
   "source": [
    "# Python Namespace and Scope\n",
    "\n",
    "En python, les variables sont stockées dans des espaces de noms (namespace). Un espace de nom est un dictionnaire qui contient toutes les variables et leurs valeurs. Il existe plusieurs espaces de noms dans un programme python. Par exemple, chaque module a son propre espace de nom. De plus, les fonctions et les classes ont également leur propre espace de nom. Enfin, il existe un espace de nom global qui contient toutes les variables globales. L'espace de nom global est créé lorsque le programme démarre et dure jusqu'à ce que le programme se termine. Lorsque vous utilisez une variable, Python recherche d'abord dans l'espace de nom local, puis dans l'espace de nom global et enfin dans l'espace de nom intégré."
   ]
  },
  {
   "cell_type": "markdown",
   "id": "579977d1",
   "metadata": {
    "slideshow": {
     "slide_type": "slide"
    }
   },
   "source": [
    "Il est possible d'utiliser plusieurs fois le même nom de variable dans différents espaces de noms. Cependant, les variables ne sont pas liées entre elles. Par exemple, si vous définissez une variable dans une fonction, cette variable n'existe pas dans l'espace de nom global. De plus, si vous définissez une variable dans un module, cette variable n'existe pas dans l'espace de nom d'une fonction ou d'une classe."
   ]
  },
  {
   "cell_type": "markdown",
   "id": "72eebe87",
   "metadata": {},
   "source": [
    "![Namespace schema](./imgs/python-namespace.png)\n",
    "[Source](https://www.programiz.com/python-programming/namespace)"
   ]
  },
  {
   "cell_type": "markdown",
   "id": "c7b7aa73",
   "metadata": {
    "slideshow": {
     "slide_type": "slide"
    }
   },
   "source": [
    "si nous avons une fonctions dans une fonction, la fonction interne peut accéder aux variables de la fonction externe, mais pas l'inverse. C'est ce qu'on appelle la portée (scope) des variables. La portée d'une variable est l'endroit où la variable est accessible. La portée d'une variable dépend de l'endroit où la variable est définie. Les variables définies dans une fonction ne sont accessibles que dans cette fonction. Les variables définies dans une classe ne sont accessibles que dans cette classe et les variables définies dans un module ne sont accessibles que dans ce module."
   ]
  },
  {
   "cell_type": "markdown",
   "id": "98eac788",
   "metadata": {
    "slideshow": {
     "slide_type": "slide"
    }
   },
   "source": [
    "## Exemple 1: Scope and Namespace in Python"
   ]
  },
  {
   "cell_type": "code",
   "execution_count": 3,
   "id": "c0ae058d",
   "metadata": {},
   "outputs": [
    {
     "name": "stdout",
     "output_type": "stream",
     "text": [
      "global_var 10\n",
      "global_var, outer_function 10\n",
      "global_var, inner_function 10\n",
      "outer_var, inner_function 12\n",
      "inner_var, inner_function 30\n",
      "outer_var, outer_function 12\n"
     ]
    }
   ],
   "source": [
    "# global_var is in the global namespace\n",
    "global_var = 10\n",
    "def outer_function():\n",
    "    #  outer_var is in the local namespace \n",
    "    outer_var = 20\n",
    "    print(\"global_var, outer_function\", global_var)\n",
    "    \n",
    "    def inner_function():\n",
    "        #  inner_var is in the nested local namespace \n",
    "        inner_var = 30\n",
    "        nonlocal outer_var\n",
    "        outer_var = 12\n",
    "        print(\"global_var, inner_function\", global_var)\n",
    "        print(\"outer_var, inner_function\", outer_var)\n",
    "        print(\"inner_var, inner_function\", inner_var)\n",
    "    \n",
    "    inner_function()\n",
    "    print(\"outer_var, outer_function\", outer_var)\n",
    "    \n",
    "print(\"global_var\", global_var)\n",
    "# call the outer function and print local and nested local variables\n",
    "outer_function()\n",
    "#print(\"outer_var\", outer_var)"
   ]
  },
  {
   "cell_type": "markdown",
   "id": "591fd52e",
   "metadata": {
    "slideshow": {
     "slide_type": "slide"
    }
   },
   "source": [
    "Dans l'exemple ci-dessus, Nous avons définit 3 `Namespace` différents: le `global`, le `local de outer function` ` et le `local de inner function`. \n",
    "\n",
    "De ce fait :\n",
    "- `global_var` - est dans le `global namespace` avec la valeur `10`, cette variable est accessible dans tout le programme.\n",
    "- `outer_val` - est dans le `local namespace` de la fonction `outer_function` avec la valeur `20`, cette variable est accessible dans la fonction `outer_function` et dans la fonction `inner_function`.\n",
    "- `inner_val` - est dans le `local namespace` de la fonction `inner_function` avec la valeur `30`, cette variable est accessible uniquement dans la fonction `inner_function`."
   ]
  },
  {
   "cell_type": "markdown",
   "id": "910fbdbe",
   "metadata": {
    "slideshow": {
     "slide_type": "slide"
    }
   },
   "source": [
    "## Exemple 2: Le mot clé `global`\n",
    "\n",
    "Le mot clé `global` est utilisé pour définir une variable dans l'espace de nom global. Le mot clé `global` est utilisé à l'intérieur d'une fonction uniquement lorsque nous voulons modifier / lire une variable globale à l'intérieur d'une fonction."
   ]
  },
  {
   "cell_type": "code",
   "execution_count": 4,
   "id": "75e689fd",
   "metadata": {
    "slideshow": {
     "slide_type": "slide"
    }
   },
   "outputs": [
    {
     "name": "stdout",
     "output_type": "stream",
     "text": [
      "10\n",
      "30\n",
      "20\n"
     ]
    }
   ],
   "source": [
    "# define global variable \n",
    "global_var = 10\n",
    "\n",
    "def my_function():\n",
    "    # define local variable\n",
    "    global local_var\n",
    "    local_var = 20\n",
    "    global global_var\n",
    "    global_var = 30\n",
    "\n",
    "# print global variable value\n",
    "print(global_var)\n",
    "\n",
    "# call the function and modify the global variable\n",
    "my_function()\n",
    "\n",
    "# print the modified value of the global variable\n",
    "print(global_var)\n",
    "print(local_var)"
   ]
  },
  {
   "cell_type": "markdown",
   "id": "012319d3",
   "metadata": {
    "slideshow": {
     "slide_type": "slide"
    }
   },
   "source": [
    "Ici, quand la fonctio `my_function` est appelée, la variable `global_var` est définie dans l'espace de nom global. En utilisant le mot clé `global`, nous pouvons modifier la valeur de `global_var` à l'intérieur de la fonction.\n",
    "Si on n'utilise pas le mot clé `global`, la variable `global_var` sera une nouvelle variable locale à l'intérieur de la fonction `my_function` avec la valeur `30`. La variable `global_var` globale sera inchangée."
   ]
  },
  {
   "cell_type": "markdown",
   "id": "f9b2f1d1",
   "metadata": {
    "slideshow": {
     "slide_type": "slide"
    }
   },
   "source": [
    "# Python Variable Scope\n",
    "\n",
    "En Python nous pouvons définir des variables dans 3 scopes différents:\n",
    "- `local` - à l'intérieur d'une fonction ou d'une classe\n",
    "- `global` - à l'extérieur de toutes les fonctions et classes\n",
    "- `nonlocal` - à l'intérieur d'une fonction, mais disponible dans une fonction imbriquée"
   ]
  },
  {
   "cell_type": "markdown",
   "id": "914eb42d",
   "metadata": {},
   "source": [
    "Le scope d'une variable definis la region dans laquelle on peut accéder a la variable, par exemple:\n",
    "\n",
    "```python\n",
    "def add_numbers():\n",
    "    sum = 5 + 4\n",
    "```\n",
    "\n",
    "Ici, la variable `sum` est définie à l'intérieur de la fonction `add_numbers`. Elle est donc accessible uniquement à l'intérieur de cette fonction (local scope). On appelle cette variable une `variable locale`."
   ]
  },
  {
   "cell_type": "markdown",
   "id": "66e62865",
   "metadata": {
    "slideshow": {
     "slide_type": "slide"
    }
   },
   "source": [
    "## Python Local Variables\n",
    "\n",
    "Quand on définit une variable à l'intérieur d'une fonction, elle est accessible uniquement à l'intérieur de cette fonction. On appelle cette variable une `variable locale`. Les `variables locales` ne sont pas disponnible en dehors du `local scope` (la fonction)."
   ]
  },
  {
   "cell_type": "code",
   "execution_count": 5,
   "id": "b1255a3b",
   "metadata": {},
   "outputs": [
    {
     "name": "stdout",
     "output_type": "stream",
     "text": [
      "Local Hello\n",
      "World\n"
     ]
    }
   ],
   "source": [
    "def greet():\n",
    "    # local variable\n",
    "    message = 'Hello'\n",
    "    print('Local', message)\n",
    "\n",
    "greet()\n",
    "\n",
    "# try to access message variable \n",
    "# outside greet() function\n",
    "print(message)"
   ]
  },
  {
   "cell_type": "markdown",
   "id": "488fabd9",
   "metadata": {
    "slideshow": {
     "slide_type": "slide"
    }
   },
   "source": [
    "## Python Global Variables\n",
    "\n",
    "Les `variables globales` sont définies à l'extérieur de toutes les fonctions et classes. On peut accéder à une `variable globale` depuis n'importe où dans le programme."
   ]
  },
  {
   "cell_type": "code",
   "execution_count": 6,
   "id": "32ad9fb5",
   "metadata": {},
   "outputs": [
    {
     "name": "stdout",
     "output_type": "stream",
     "text": [
      "Local Hello\n",
      "Global Hello\n"
     ]
    }
   ],
   "source": [
    "# declare global variable\n",
    "message = \"Hello\"\n",
    "\n",
    "def greet():\n",
    "    # declare local variable\n",
    "    print('Local', message)\n",
    "\n",
    "greet()\n",
    "print('Global', message)"
   ]
  },
  {
   "cell_type": "markdown",
   "id": "fb731aa3",
   "metadata": {},
   "source": [
    "Cette fois on peut accéder à la variable `message` et on ne reçoit pas l'erreur `NameError`"
   ]
  },
  {
   "cell_type": "code",
   "execution_count": 7,
   "id": "d15ed912",
   "metadata": {
    "slideshow": {
     "slide_type": "slide"
    }
   },
   "outputs": [
    {
     "name": "stdout",
     "output_type": "stream",
     "text": [
      "Local World\n",
      "Global World\n"
     ]
    }
   ],
   "source": [
    "# declare global variable\n",
    "message = 'Hello'\n",
    "\n",
    "def greet():\n",
    "    # declare local variable\n",
    "    global message\n",
    "    message = 'World'\n",
    "    print('Local', message)\n",
    "\n",
    "greet()\n",
    "print('Global', message)"
   ]
  },
  {
   "cell_type": "markdown",
   "id": "1b912f2c",
   "metadata": {
    "slideshow": {
     "slide_type": "slide"
    }
   },
   "source": [
    "## Utilisation du mot clé `global`\n",
    "\n",
    "Ici, si on modifie la valeur de la variable `message` à l'intérieur de la fonction `greet`, la nouvelle valeur de la variable `message` ne sera pas modifiée à l'extérieur de la fonction `greet`."
   ]
  },
  {
   "cell_type": "markdown",
   "id": "b56f9f68",
   "metadata": {},
   "source": [
    "Si on veut modifier la valeur de la variable `message` à l'intérieur de la fonction `greet` et que cette modification soit visible à l'extérieur de la fonction `greet`, on doit utiliser le mot clé `global` à l'intérieur de la fonction `greet`."
   ]
  },
  {
   "cell_type": "code",
   "execution_count": 8,
   "id": "85c90904",
   "metadata": {
    "slideshow": {
     "slide_type": "slide"
    }
   },
   "outputs": [
    {
     "name": "stdout",
     "output_type": "stream",
     "text": [
      "Local World\n",
      "Global World\n"
     ]
    }
   ],
   "source": [
    "# declare global variable\n",
    "message = 'Hello'\n",
    "\n",
    "def greet():\n",
    "    # declare local variable\n",
    "    global message\n",
    "    message = 'World'\n",
    "    print('Local', message)\n",
    "\n",
    "greet()\n",
    "print('Global', message)"
   ]
  },
  {
   "cell_type": "markdown",
   "id": "a1ca70d9",
   "metadata": {
    "slideshow": {
     "slide_type": "slide"
    }
   },
   "source": [
    "## Python Nonlocal Variables\n",
    "\n",
    "Les `variable nonlocal` sont définies à l'intérieur d'une fonction imbriquée (fonction à l'intérieur d'une fonction). Les `variables nonlocal` sont utilisées dans les fonctions imbriquées afin de modifier les variables définies dans la fonction parent."
   ]
  },
  {
   "cell_type": "code",
   "execution_count": 9,
   "id": "f27b1ec6",
   "metadata": {
    "slideshow": {
     "slide_type": "slide"
    }
   },
   "outputs": [
    {
     "name": "stdout",
     "output_type": "stream",
     "text": [
      "local\n",
      "inner: nonlocal\n",
      "outer: nonlocal\n",
      "Coucou\n"
     ]
    }
   ],
   "source": [
    "# outside function \n",
    "g = \"Salut\"\n",
    "def outer():\n",
    "    message = 'local'\n",
    "\n",
    "    # nested function  \n",
    "    def inner():\n",
    "        # declare nonlocal variable\n",
    "        nonlocal message\n",
    "        global g\n",
    "        g = \"Coucou\"\n",
    "        print(message)\n",
    "        message = 'nonlocal'\n",
    "        print(\"inner:\", message)\n",
    "    inner()\n",
    "    print(\"outer:\", message)\n",
    "\n",
    "outer()\n",
    "print(g)"
   ]
  },
  {
   "cell_type": "markdown",
   "id": "3a4a62d6",
   "metadata": {
    "slideshow": {
     "slide_type": "slide"
    }
   },
   "source": [
    "Dans le code ci-dessus, nous avons une fonction imbriquée `inner()` et nous utilisons le mot clé `nonlocal` pour définir la variable `message` à l'intérieur de la fonction `inner()`. La fonction `inner()` est définie dans à l'intérieur de la fonction `outer()`\n",
    "\n",
    "> **Note:** Si on change la valeur de la variable `message` à l'intérieur de la fonction `inner()`, la modification sera visible à l'extérieur, dans la fonction `outer()`."
   ]
  }
 ],
 "metadata": {
  "celltoolbar": "Slideshow",
  "kernelspec": {
   "display_name": "nomades_PPL",
   "language": "python",
   "name": "python3"
  },
  "language_info": {
   "codemirror_mode": {
    "name": "ipython",
    "version": 3
   },
   "file_extension": ".py",
   "mimetype": "text/x-python",
   "name": "python",
   "nbconvert_exporter": "python",
   "pygments_lexer": "ipython3",
   "version": "3.11.13"
  }
 },
 "nbformat": 4,
 "nbformat_minor": 5
}
