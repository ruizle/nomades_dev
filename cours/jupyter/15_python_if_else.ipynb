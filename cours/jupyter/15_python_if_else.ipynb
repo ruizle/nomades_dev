{
 "cells": [
  {
   "cell_type": "markdown",
   "id": "91a57468",
   "metadata": {
    "slideshow": {
     "slide_type": "slide"
    }
   },
   "source": [
    "# If, else statement in Python\n",
    "\n",
    "En programmation, il est souvent nécessaire de vérifier si une condition est vraie ou fausse. En fonction du résultat de cette condition, nous pouvons exécuter différentes actions. \n",
    "Par exemple, si un utilisateur a le droit d'accéder à certaines données, nous voulons lui montrer ces données. Sinon, nous voulons lui montrer un message d'erreur."
   ]
  },
  {
   "cell_type": "markdown",
   "id": "f339d7b7",
   "metadata": {
    "slideshow": {
     "slide_type": "slide"
    }
   },
   "source": [
    "En python, il existe trois formes de conditions:\n",
    "- if statement (si) : exécute un bloc de code si une condition est vraie\n",
    "- if...else statement (si...sinon) : exécute un bloc de code si une condition est vraie et un autre bloc de code si elle est fausse\n",
    "- if...elif...else statement (si...sinon si...sinon) : exécute un bloc de code si une condition est vraie et un autre bloc de code si elle est fausse. Si la première condition est fausse, il vérifie la condition suivante et exécute le bloc de code correspondant si elle est vraie. Si toutes les conditions sont fausses, il exécute le bloc de code du else statement."
   ]
  },
  {
   "cell_type": "markdown",
   "id": "a1fd3725",
   "metadata": {
    "slideshow": {
     "slide_type": "slide"
    }
   },
   "source": [
    "## 1. Python if statement\n",
    "\n",
    "La syntaxe de l'instruction if est la suivante:\n",
    "\n",
    "```python\n",
    "if condition:\n",
    "    # code à exécuter si la condition est vraie\n",
    "```\n",
    "\n",
    "La condition peut être n'importe quelle expression qui renvoie un booléen. Si la condition est évaluée a `True` alors le bloc de code est exécuté. Si la condition est évaluée a `False` alors le bloc de code n'est pas exécuté."
   ]
  },
  {
   "cell_type": "markdown",
   "id": "1646647d",
   "metadata": {
    "slideshow": {
     "slide_type": "slide"
    }
   },
   "source": [
    "![`if condition`](./imgs/python-if.png)\n",
    "[Source](https://www.programiz.com/python-programming/if-elif-else)"
   ]
  },
  {
   "cell_type": "code",
   "execution_count": null,
   "id": "350b7751",
   "metadata": {
    "slideshow": {
     "slide_type": "slide"
    }
   },
   "outputs": [],
   "source": [
    "number = 1\n",
    "\n",
    "# check if number is greater than 0\n",
    "if number > 0:\n",
    "    print('Number is positive.')\n",
    "\n",
    "print('The if statement is easy')"
   ]
  },
  {
   "cell_type": "markdown",
   "id": "29d97107",
   "metadata": {
    "slideshow": {
     "slide_type": "slide"
    }
   },
   "source": [
    "## 2. Python if...else statement\n",
    "\n",
    "Un `if` peut avoir une clause `else` optionelle. La syntaxe de l'instruction `if...else` est la suivante:\n",
    "\n",
    "```python\n",
    "if condition:\n",
    "    # code à exécuter si la condition est vraie\n",
    "else:\n",
    "    # code à exécuter si la condition est fausse\n",
    "```\n",
    "\n",
    "le `if...else` vérifie la condition."
   ]
  },
  {
   "cell_type": "markdown",
   "id": "ea43588d",
   "metadata": {
    "slideshow": {
     "slide_type": "slide"
    }
   },
   "source": [
    "### Si la condition est vraie (True),\n",
    "- le bloc de code a l'intérieur du `if` est exécuté\n",
    "- le bloc de code a l'intérieur du `else` n'est pas exécuté\n",
    "\n",
    "### Si la condition est fausse (False),\n",
    "- le bloc de code a l'intérieur du `if` n'est pas exécuté\n",
    "- le bloc de code a l'intérieur du `else` est exécuté"
   ]
  },
  {
   "cell_type": "markdown",
   "id": "3268db1a",
   "metadata": {
    "slideshow": {
     "slide_type": "slide"
    }
   },
   "source": [
    "![`if...else condition`](./imgs/python-if-else.png)\n",
    "[Source](https://www.programiz.com/python-programming/if-elif-else)"
   ]
  },
  {
   "cell_type": "code",
   "execution_count": 1,
   "id": "ddaf8f39",
   "metadata": {
    "slideshow": {
     "slide_type": "slide"
    }
   },
   "outputs": [
    {
     "name": "stdout",
     "output_type": "stream",
     "text": [
      "Number is negative\n",
      "The if statement is easy\n"
     ]
    }
   ],
   "source": [
    "number = 0\n",
    "\n",
    "# check if number is greater than 0\n",
    "if number > 0:\n",
    "    print('Number is positive.')\n",
    "else:\n",
    "    print('Number is negative')\n",
    "\n",
    "print('The if statement is easy')"
   ]
  },
  {
   "cell_type": "markdown",
   "id": "4a2db829",
   "metadata": {
    "slideshow": {
     "slide_type": "slide"
    }
   },
   "source": [
    "## 3. Python if...elif...else statement\n",
    "\n",
    "Un `if` peut avoir une ou plusieurs clauses `elif` optionelles. La syntaxe de l'instruction `if...elif...else` est la suivante:\n",
    "\n",
    "```python\n",
    "if condition1:\n",
    "    # code à exécuter si la condition1 est vraie\n",
    "elif condition2:\n",
    "    # code à exécuter si la condition2 est vraie\n",
    "else:\n",
    "    # code à exécuter si toutes les conditions sont fausses\n",
    "```"
   ]
  },
  {
   "cell_type": "markdown",
   "id": "2e22f889",
   "metadata": {
    "slideshow": {
     "slide_type": "slide"
    }
   },
   "source": [
    "1. si `condition1` est vraie, le bloc de code a l'intérieur du `if` est exécuté. Le bloc de code a l'intérieur du `elif` et du `else` n'est pas exécuté.\n",
    "2. si `condition1` est fausse:\n",
    "    - si `condition2` est vraie, le bloc de code a l'intérieur du `elif` est exécuté. Le bloc de code a l'intérieur du `else` n'est pas exécuté.\n",
    "    - si `condition2` est fausse, le bloc de code a l'intérieur du `else` est exécuté."
   ]
  },
  {
   "cell_type": "markdown",
   "id": "93a46f0f",
   "metadata": {
    "slideshow": {
     "slide_type": "slide"
    }
   },
   "source": [
    "![\"if...elif...else condition\"](./imgs/python-elif.png)\n",
    "[Source](https://www.programiz.com/python-programming/if-elif-else)"
   ]
  },
  {
   "cell_type": "code",
   "execution_count": null,
   "id": "f0151b2a",
   "metadata": {
    "slideshow": {
     "slide_type": "slide"
    }
   },
   "outputs": [],
   "source": [
    "number = \"10\"\n",
    "\n",
    "if number == 10:\n",
    "    print(\"10\")\n",
    "if number == 0:\n",
    "    print('Zero')\n",
    "elif number > 0:\n",
    "    print(\"Positive number\")\n",
    "else:\n",
    "    print('Negative number')\n",
    "\n",
    "print('This statement is always executed')"
   ]
  },
  {
   "cell_type": "markdown",
   "id": "5354cbdf",
   "metadata": {
    "slideshow": {
     "slide_type": "slide"
    }
   },
   "source": [
    "# Python nested if statements\n",
    "\n",
    "Nous pouvons avoir un `if...elif...else` à l'intérieur d'un autre `if...elif...else`. C'est ce qu'on appelle un `nested if` en python.\n",
    "\n",
    "la syntaxe est la suivante:\n",
    "\n",
    "```python\n",
    "if condition1:\n",
    "    # code à exécuter si la condition1 est vraie\n",
    "    if condition2:\n",
    "        # code à exécuter si la condition2 est vraie\n",
    "    else:\n",
    "        # code à exécuter si la condition2 est fausse\n",
    "else:\n",
    "    # code à exécuter si la condition1 est fausse\n",
    "```"
   ]
  },
  {
   "cell_type": "code",
   "execution_count": null,
   "id": "a0da1352",
   "metadata": {
    "slideshow": {
     "slide_type": "slide"
    }
   },
   "outputs": [],
   "source": [
    "age = 22\n",
    "majority = \"major\" if age >= 18 else \"teen\" if age >= 12 else \"child\"\n",
    "# majority = age >= 18 ? \"major\" : \"minor\" -> JS Like\n",
    "print(majority)"
   ]
  },
  {
   "cell_type": "code",
   "execution_count": null,
   "id": "2db520b5",
   "metadata": {},
   "outputs": [],
   "source": []
  }
 ],
 "metadata": {
  "celltoolbar": "Slideshow",
  "kernelspec": {
   "display_name": "computer_vision",
   "language": "python",
   "name": "python3"
  },
  "language_info": {
   "codemirror_mode": {
    "name": "ipython",
    "version": 3
   },
   "file_extension": ".py",
   "mimetype": "text/x-python",
   "name": "python",
   "nbconvert_exporter": "python",
   "pygments_lexer": "ipython3",
   "version": "3.13.2"
  }
 },
 "nbformat": 4,
 "nbformat_minor": 5
}
