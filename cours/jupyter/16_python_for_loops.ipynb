{
 "cells": [
  {
   "cell_type": "markdown",
   "id": "61e60f74",
   "metadata": {
    "slideshow": {
     "slide_type": "slide"
    }
   },
   "source": [
    "# Python For loops\n",
    "\n",
    "En programmation, les boucles sont utilisées pour répéter un bloc de code autant de fois que nécessaire.\n",
    "\n",
    "En Python, nous avons deux types de boucles:\n",
    "- `for` loop, qui est utilisé pour itérer sur une séquence (iterable) (liste, tuple, dictionnaire, ensemble, chaîne)\n",
    "- `while` loop, qui est utilisé pour exécuter un bloc de code tant qu'une condition est vraie"
   ]
  },
  {
   "cell_type": "code",
   "execution_count": 2,
   "id": "8b28ca57",
   "metadata": {
    "slideshow": {
     "slide_type": "slide"
    }
   },
   "outputs": [
    {
     "name": "stdout",
     "output_type": "stream",
     "text": [
      "Swift\n",
      "Python\n",
      "Go\n"
     ]
    }
   ],
   "source": [
    "languages = ['Swift', 'Python', 'Go', 'JavaScript']\n",
    "\n",
    "for language in languages:\n",
    "    print(language)\n",
    "    if language == \"Go\":\n",
    "        break"
   ]
  },
  {
   "cell_type": "markdown",
   "id": "5e56b155",
   "metadata": {},
   "source": [
    "Dans l'exemple ci-dessus, nous avons utilisé une boucle `for` pour imprimer chaque élément de la liste `languages`."
   ]
  },
  {
   "cell_type": "markdown",
   "id": "5128671c",
   "metadata": {
    "slideshow": {
     "slide_type": "slide"
    }
   },
   "source": [
    "La syntaxe de la boucle `for` est la suivante:\n",
    "\n",
    "```python\n",
    "for element in sequence:\n",
    "    # do something with element\n",
    "```\n",
    "\n",
    "- `element` est une variable qui contient l'élément de la séquence à chaque itération (l'élément courrant)"
   ]
  },
  {
   "cell_type": "markdown",
   "id": "2261a0d3",
   "metadata": {
    "slideshow": {
     "slide_type": "slide"
    }
   },
   "source": [
    "## Flowchart de la boucle `for`\n",
    "\n",
    "![Flowchart de la boucle for](./imgs/python-for-loop.png)\n"
   ]
  },
  {
   "cell_type": "markdown",
   "id": "f2d1d4f4",
   "metadata": {
    "slideshow": {
     "slide_type": "slide"
    }
   },
   "source": [
    "### Exemple 1: boucler a travers une chaîne de caractères"
   ]
  },
  {
   "cell_type": "code",
   "execution_count": 3,
   "id": "85c0ade1",
   "metadata": {},
   "outputs": [
    {
     "name": "stdout",
     "output_type": "stream",
     "text": [
      "G a b r i e l "
     ]
    }
   ],
   "source": [
    "for c in 'Gabriel':\n",
    "    print(c, end=\" \")"
   ]
  },
  {
   "cell_type": "markdown",
   "id": "2184f5f5",
   "metadata": {
    "slideshow": {
     "slide_type": "slide"
    }
   },
   "source": [
    "# Python for loop with range()\n",
    "\n",
    "La fonction `range()` est utilisée pour générer une séquence de nombres.\n",
    "\n",
    "La syntaxe de la fonction `range()` est la suivante:\n",
    "\n",
    "```python\n",
    "range(start, stop, step)\n",
    "```\n",
    "\n",
    "- `start` est un nombre entier qui indique le début de la séquence (par défaut 0)\n",
    "- `stop` est un nombre entier qui indique la fin de la séquence (non inclus)\n",
    "- `step` est un nombre entier qui indique le pas de la séquence (par défaut 1)"
   ]
  },
  {
   "cell_type": "code",
   "execution_count": 4,
   "id": "9d4dc6d1",
   "metadata": {
    "slideshow": {
     "slide_type": "slide"
    }
   },
   "outputs": [
    {
     "name": "stdout",
     "output_type": "stream",
     "text": [
      "Nicolas\n",
      "Geogios\n",
      "Homan\n",
      "Elena\n",
      "Nicolas\n",
      "Geogios\n",
      "Homan\n",
      "Elena\n"
     ]
    }
   ],
   "source": [
    "students = [\"Nicolas\", \"Geogios\", \"Homan\", \"Elena\"]\n",
    "\n",
    "for i in range(len(students)): # <==> for(i=0; i<len(students); i++)\n",
    "    print(students[i])\n",
    "    \n",
    "for student in (students):\n",
    "    print(student)"
   ]
  },
  {
   "cell_type": "markdown",
   "id": "f8fdef91",
   "metadata": {
    "slideshow": {
     "slide_type": "slide"
    }
   },
   "source": [
    "# Python for loop sans accéder aux éléments\n",
    "\n",
    "Parfois, nous n'avons pas besoin d'accéder aux éléments de la séquence, nous voulons juste répéter un bloc de code un certain nombre de fois.\n",
    "\n",
    "Dans ce cas, nous pouvons utiliser la fonction `range()` avec la boucle `for` comme ceci:\n",
    "\n",
    "```python\n",
    "for _ in range(5):\n",
    "    # do something\n",
    "```"
   ]
  },
  {
   "cell_type": "code",
   "execution_count": 5,
   "id": "4e53876c",
   "metadata": {},
   "outputs": [
    {
     "name": "stdout",
     "output_type": "stream",
     "text": [
      "Hello\n",
      "Hello\n",
      "Hello\n",
      "Hello\n",
      "Hello\n"
     ]
    }
   ],
   "source": [
    "for _ in range(5):\n",
    "    print('Hello')"
   ]
  },
  {
   "cell_type": "markdown",
   "id": "8cd64d1a",
   "metadata": {
    "slideshow": {
     "slide_type": "slide"
    }
   },
   "source": [
    "# Utilisation de la fonction enumerate()\n",
    "\n",
    "La fonction `enumerate()` est utilisée pour obtenir l'index et l'élément de la séquence à chaque itération. La syntaxe de la fonction `enumerate()` est la suivante:\n",
    "\n",
    "```python\n",
    "for index, element in enumerate(sequence):\n",
    "    # do something with index and element\n",
    "```\n",
    "\n",
    "- `index` est un nombre entier qui indique l'index de l'élément dans la séquence\n",
    "- `element` est l'élément courrant de la séquence"
   ]
  },
  {
   "cell_type": "code",
   "execution_count": 6,
   "id": "63a90cde",
   "metadata": {
    "slideshow": {
     "slide_type": "slide"
    }
   },
   "outputs": [
    {
     "name": "stdout",
     "output_type": "stream",
     "text": [
      "['Swift', 'Python', 'Go', 'JavaScript']\n",
      "2\n"
     ]
    }
   ],
   "source": [
    "print(languages)\n",
    "\n",
    "for idx, val in enumerate(languages):\n",
    "    if val == \"Go\":\n",
    "        print(idx)\n"
   ]
  },
  {
   "cell_type": "markdown",
   "id": "baec2a23",
   "metadata": {
    "slideshow": {
     "slide_type": "slide"
    }
   },
   "source": [
    "# Python for loop with else\n",
    "\n",
    "La clause `else` est facultative et sera exécutée si la boucle se termine sans interruption."
   ]
  },
  {
   "cell_type": "code",
   "execution_count": 7,
   "id": "33c46017",
   "metadata": {},
   "outputs": [
    {
     "name": "stdout",
     "output_type": "stream",
     "text": [
      "0\n",
      "1\n",
      "5\n",
      "No items left.\n"
     ]
    }
   ],
   "source": [
    "digits = [0, 1, 5]\n",
    "\n",
    "for i in digits:\n",
    "    print(i)\n",
    "    if i == 10:\n",
    "        break\n",
    "else:\n",
    "    print(\"No items left.\")"
   ]
  },
  {
   "cell_type": "markdown",
   "id": "d1cb68f6",
   "metadata": {},
   "source": [
    "> **Note:** La clause `else` ne sera pas exécutée si la boucle se termine avec `break`."
   ]
  }
 ],
 "metadata": {
  "celltoolbar": "Slideshow",
  "kernelspec": {
   "display_name": "computer_vision",
   "language": "python",
   "name": "python3"
  },
  "language_info": {
   "codemirror_mode": {
    "name": "ipython",
    "version": 3
   },
   "file_extension": ".py",
   "mimetype": "text/x-python",
   "name": "python",
   "nbconvert_exporter": "python",
   "pygments_lexer": "ipython3",
   "version": "3.13.2"
  }
 },
 "nbformat": 4,
 "nbformat_minor": 5
}
