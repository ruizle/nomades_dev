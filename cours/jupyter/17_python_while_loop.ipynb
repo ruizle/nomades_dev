{
 "cells": [
  {
   "cell_type": "markdown",
   "id": "2a51b599",
   "metadata": {
    "slideshow": {
     "slide_type": "slide"
    }
   },
   "source": [
    "# Python While loop\n",
    "\n",
    "En programmation, la boucle `while` est une structure de contrôle qui permet d'exécuter un bloc d'instructions de manière répétée tant qu'une condition est vraie (`True`).\n",
    "\n",
    "La syntaxe de la boucle `while` est la suivante:\n",
    "\n",
    "```python\n",
    "while condition:\n",
    "    # instructions\n",
    "```\n",
    "\n",
    "1. La boucle `while` evalue une condition\n",
    "2. Si la condition est vraie, le bloc d'instructions (le body de la boucle `while`) est exécuté\n",
    "3. La condition est à nouveau évaluée\n",
    "4. Si la condition est toujours vraie, le bloc d'instructions est exécuté à nouveau, jusqu'à ce que la condition soit fausse\n",
    "5. Lorsque la condition est fausse, le programme sort de la boucle `while` et continue à s'exécuter après la boucle `while`"
   ]
  },
  {
   "cell_type": "markdown",
   "id": "72e22c8c",
   "metadata": {
    "slideshow": {
     "slide_type": "slide"
    }
   },
   "source": [
    "# Flowchart de la boucle `while`\n",
    "\n",
    "![Flowchart de la boucle while](./imgs/python-while-loop.png)\n",
    "[Source](https://www.programiz.com/python-programming/while-loop)"
   ]
  },
  {
   "cell_type": "markdown",
   "id": "13f2501d",
   "metadata": {
    "slideshow": {
     "slide_type": "slide"
    }
   },
   "source": [
    "### Exemple 1: Boucle `while`"
   ]
  },
  {
   "cell_type": "code",
   "execution_count": 1,
   "id": "933aaa36",
   "metadata": {},
   "outputs": [
    {
     "name": "stdout",
     "output_type": "stream",
     "text": [
      "1\n",
      "2\n",
      "3\n",
      "4\n",
      "5\n",
      "Hello World\n"
     ]
    }
   ],
   "source": [
    "# initialize the variable\n",
    "i = 1\n",
    "n = 5\n",
    "\n",
    "while i <= n:\n",
    "    print(i)\n",
    "    i += 1 # i = i + 1\n",
    "\n",
    "print(\"Hello World\")"
   ]
  },
  {
   "cell_type": "markdown",
   "id": "bc1d33a3",
   "metadata": {
    "slideshow": {
     "slide_type": "slide"
    }
   },
   "source": [
    "### Exemple 2: Boucle `while`"
   ]
  },
  {
   "cell_type": "code",
   "execution_count": 3,
   "id": "a80679a9",
   "metadata": {},
   "outputs": [
    {
     "ename": "ValueError",
     "evalue": "invalid literal for int() with base 10: ''",
     "output_type": "error",
     "traceback": [
      "\u001b[31m---------------------------------------------------------------------------\u001b[39m",
      "\u001b[31mValueError\u001b[39m                                Traceback (most recent call last)",
      "\u001b[36mCell\u001b[39m\u001b[36m \u001b[39m\u001b[32mIn[3]\u001b[39m\u001b[32m, line 6\u001b[39m\n\u001b[32m      1\u001b[39m \u001b[38;5;66;03m# program to calculate the sum of numbers\u001b[39;00m\n\u001b[32m      2\u001b[39m \u001b[38;5;66;03m# until the user enters zero\u001b[39;00m\n\u001b[32m      4\u001b[39m total = \u001b[32m0\u001b[39m\n\u001b[32m----> \u001b[39m\u001b[32m6\u001b[39m number = \u001b[38;5;28mint\u001b[39m(\u001b[38;5;28minput\u001b[39m(\u001b[33m'\u001b[39m\u001b[33mEnter a number: \u001b[39m\u001b[33m'\u001b[39m))\n\u001b[32m      8\u001b[39m \u001b[38;5;66;03m# add numbers until number is zero\u001b[39;00m\n\u001b[32m      9\u001b[39m \u001b[38;5;28;01mwhile\u001b[39;00m number != \u001b[32m0\u001b[39m:\n",
      "\u001b[31mValueError\u001b[39m: invalid literal for int() with base 10: ''"
     ]
    }
   ],
   "source": [
    "# program to calculate the sum of numbers\n",
    "# until the user enters zero\n",
    "\n",
    "total = 0\n",
    "\n",
    "number = int(input('Enter a number: '))\n",
    "\n",
    "# add numbers until number is zero\n",
    "while number != 0:\n",
    "    total += number    # total = total + number\n",
    "    \n",
    "    # take integer input again\n",
    "    number = int(input('Enter a number: '))\n",
    "    \n",
    "\n",
    "print('total =', total)"
   ]
  },
  {
   "cell_type": "markdown",
   "id": "b1601b7d",
   "metadata": {
    "slideshow": {
     "slide_type": "slide"
    }
   },
   "source": [
    "# Boucles infinies\n",
    "\n",
    "Si la condition de la boucle `while` est toujours vraie, la boucle `while` s'exécutera pour toujours, ce qui est appelé une boucle infinie. Assuré vous que la condition de la boucle `while` devienne fausse à un moment donné ou qu'il y ait une instruction `break` pour sortir de la boucle `while`.\n",
    "\n",
    "Une boucle infinie est une boucle qui n'a pas de condition de sortie, ce qui signifie qu'elle ne s'arrête jamais. Les boucles infinies sont très utiles dans certains cas, par exemple lorsque vous souhaitez exécuter un programme en continu, mais elles sont aussi très dangereuses car elles peuvent causer des problèmes de performance et même faire planter votre ordinateur."
   ]
  },
  {
   "cell_type": "code",
   "execution_count": null,
   "id": "a2b506fa",
   "metadata": {
    "slideshow": {
     "slide_type": "slide"
    }
   },
   "outputs": [],
   "source": [
    "age = 32\n",
    "\n",
    "# the test condition is always True\n",
    "while age > 18:\n",
    "    print('You can vote')"
   ]
  },
  {
   "cell_type": "markdown",
   "id": "fc2085c1",
   "metadata": {
    "slideshow": {
     "slide_type": "slide"
    }
   },
   "source": [
    "# Python while loop with else\n",
    "\n",
    "La boucle `while` peut avoir une clause `else` qui est exécutée lorsque la condition de la boucle `while` devient fausse."
   ]
  },
  {
   "cell_type": "code",
   "execution_count": null,
   "id": "a5eb929b",
   "metadata": {},
   "outputs": [],
   "source": [
    "counter = 0\n",
    "\n",
    "while counter < 3:\n",
    "    print('Inside loop')\n",
    "    counter = counter + 1\n",
    "    if counter == 1:\n",
    "        break\n",
    "else:\n",
    "    print('Inside else')"
   ]
  },
  {
   "cell_type": "markdown",
   "id": "569c839e",
   "metadata": {},
   "source": [
    "> **Note**: La clause `else` n'est pas exécutée si vous sortez de la boucle `while` avec une instruction `break`."
   ]
  },
  {
   "cell_type": "code",
   "execution_count": null,
   "id": "d45b77fc",
   "metadata": {
    "slideshow": {
     "slide_type": "slide"
    }
   },
   "outputs": [],
   "source": [
    "counter = 0\n",
    "\n",
    "while counter < -1:\n",
    "    # loop ends because of break\n",
    "    # the else part is not executed \n",
    "    if counter == 1:\n",
    "        break\n",
    "    print('Inside loop')\n",
    "    counter = counter + 1\n",
    "else:\n",
    "    print('Inside else')"
   ]
  }
 ],
 "metadata": {
  "celltoolbar": "Slideshow",
  "kernelspec": {
   "display_name": "computer_vision",
   "language": "python",
   "name": "python3"
  },
  "language_info": {
   "codemirror_mode": {
    "name": "ipython",
    "version": 3
   },
   "file_extension": ".py",
   "mimetype": "text/x-python",
   "name": "python",
   "nbconvert_exporter": "python",
   "pygments_lexer": "ipython3",
   "version": "3.13.2"
  }
 },
 "nbformat": 4,
 "nbformat_minor": 5
}
