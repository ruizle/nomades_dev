{
 "cells": [
  {
   "cell_type": "markdown",
   "id": "2e6f89ac",
   "metadata": {
    "slideshow": {
     "slide_type": "slide"
    }
   },
   "source": [
    "# Python Break and Continue\n",
    "## Python break Statement\n",
    "\n",
    "L'instricution `break` permet de sortir d'une boucle `for` ou `while` de manière anticipée. La boucle est stoppée immédiatement après l'instruction `break`.\n",
    "\n",
    "La syntace de l'instruction `break` est la suivante:\n",
    "\n",
    "```python\n",
    "break\n",
    "```"
   ]
  },
  {
   "cell_type": "markdown",
   "id": "f0c2a07c",
   "metadata": {
    "slideshow": {
     "slide_type": "slide"
    }
   },
   "source": [
    "# Working of break statement\n",
    "![\"Break Statement Flowchart\"](./imgs/working-break-statement-python.png)\n",
    "[Source](https://www.programiz.com/python-programming/break-continue)"
   ]
  },
  {
   "cell_type": "code",
   "execution_count": null,
   "id": "b55830c8",
   "metadata": {
    "slideshow": {
     "slide_type": "slide"
    }
   },
   "outputs": [],
   "source": [
    "for i in range(5):\n",
    "    if i == 3:\n",
    "        break\n",
    "    print(i)"
   ]
  },
  {
   "cell_type": "code",
   "execution_count": null,
   "id": "1348f5c4",
   "metadata": {
    "scrolled": false
   },
   "outputs": [],
   "source": [
    "i = 1\n",
    "while i <= 10:\n",
    "\n",
    "    if i >= 5:\n",
    "        break\n",
    "    \n",
    "    print('6 * ',(i), '=',6 * i)\n",
    "    \n",
    "    i = i + 1"
   ]
  },
  {
   "cell_type": "markdown",
   "id": "d56101ef",
   "metadata": {},
   "source": [
    "> **Note:** L'instruction `break` est souvent utilisée avec une condition `if` pour déterminer si l'instruction `break` doit être exécutée ou non."
   ]
  },
  {
   "cell_type": "markdown",
   "id": "48bd5ac3",
   "metadata": {
    "slideshow": {
     "slide_type": "slide"
    }
   },
   "source": [
    "# Python continue Statement\n",
    "\n",
    "L'instruction `continue` est utilisée pour ignorer le reste du code à l'intérieur d'une boucle pour l'itération actuelle uniquement. La boucle ne s'arrête pas mais continue avec l'itération suivante."
   ]
  },
  {
   "cell_type": "markdown",
   "id": "ba7f426b",
   "metadata": {
    "slideshow": {
     "slide_type": "slide"
    }
   },
   "source": [
    "# Working of continue statement\n",
    "![\"Continue Statement Flowchart\"](./imgs/working-continue-statement-python.png)\n",
    "[Source](https://www.programiz.com/python-programming/break-continue)"
   ]
  },
  {
   "cell_type": "code",
   "execution_count": null,
   "id": "e6ad7d74",
   "metadata": {
    "slideshow": {
     "slide_type": "slide"
    }
   },
   "outputs": [],
   "source": [
    "for i in range(5):\n",
    "    if i == 3:\n",
    "        continue\n",
    "    print(i)"
   ]
  },
  {
   "cell_type": "code",
   "execution_count": null,
   "id": "99d188d7",
   "metadata": {},
   "outputs": [],
   "source": [
    "num = 0\n",
    "\n",
    "while num < 10:\n",
    "    num += 1\n",
    "    if (num % 5) == 1:\n",
    "        continue\n",
    "    print(num)"
   ]
  }
 ],
 "metadata": {
  "celltoolbar": "Slideshow",
  "kernelspec": {
   "display_name": "Python 3 (ipykernel)",
   "language": "python",
   "name": "python3"
  },
  "language_info": {
   "codemirror_mode": {
    "name": "ipython",
    "version": 3
   },
   "file_extension": ".py",
   "mimetype": "text/x-python",
   "name": "python",
   "nbconvert_exporter": "python",
   "pygments_lexer": "ipython3",
   "version": "3.10.14"
  }
 },
 "nbformat": 4,
 "nbformat_minor": 5
}
