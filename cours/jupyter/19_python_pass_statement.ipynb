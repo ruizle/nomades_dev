{
 "cells": [
  {
   "cell_type": "markdown",
   "id": "a3d6c2a0",
   "metadata": {
    "slideshow": {
     "slide_type": "slide"
    }
   },
   "source": [
    "# Python Pass Statement\n",
    "\n",
    "En python, le mot clé `pass` est utilisé pour indiquer une instruction vide. Lorsque l'interpréteur rencontre un mot clé `pass` dans le code, il ne fait rien et passe à la ligne suivante du code."
   ]
  },
  {
   "cell_type": "code",
   "execution_count": null,
   "id": "7f5ff6fd",
   "metadata": {},
   "outputs": [],
   "source": [
    "n = 10\n",
    "\n",
    "# use pass inside if statement\n",
    "for i in range(10):\n",
    "    pass\n",
    "\n",
    "print('Hello')"
   ]
  },
  {
   "cell_type": "markdown",
   "id": "1b650ae9",
   "metadata": {
    "slideshow": {
     "slide_type": "slide"
    }
   },
   "source": [
    "En imaginant que nous utilisions un commentaire a la place du mot clé `pass`, cela ne fonctionnerait pas car les commentaires ne sont pas ignorés par l'interpréteur."
   ]
  },
  {
   "cell_type": "code",
   "execution_count": null,
   "id": "3280be17",
   "metadata": {},
   "outputs": [],
   "source": [
    "n = 10\n",
    "\n",
    "if n > 10:\n",
    "    # write code later\n",
    "\n",
    "print('Hello')"
   ]
  },
  {
   "cell_type": "markdown",
   "id": "e9006d18",
   "metadata": {},
   "source": [
    "Ici, on va recevoir une erreur de type: `IndentationError: expected an indented block`"
   ]
  }
 ],
 "metadata": {
  "celltoolbar": "Slideshow",
  "kernelspec": {
   "display_name": "Python 3 (ipykernel)",
   "language": "python",
   "name": "python3"
  },
  "language_info": {
   "codemirror_mode": {
    "name": "ipython",
    "version": 3
   },
   "file_extension": ".py",
   "mimetype": "text/x-python",
   "name": "python",
   "nbconvert_exporter": "python",
   "pygments_lexer": "ipython3",
   "version": "3.10.14"
  }
 },
 "nbformat": 4,
 "nbformat_minor": 5
}
