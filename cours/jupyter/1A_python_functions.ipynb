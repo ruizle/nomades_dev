{
 "cells": [
  {
   "cell_type": "markdown",
   "id": "321d2484",
   "metadata": {
    "slideshow": {
     "slide_type": "slide"
    }
   },
   "source": [
    "# Python Functions\n",
    "\n",
    "Une fonction est un bloc de code qui execute une tâche spécifique. Une fonction prend des entrées, effectue une action sur ces entrées et renvoie une sortie. Le but de la fonction est de toujours faire la même chose, mais sur différentes entrées.\n",
    "\n",
    "Les fonctions sont utiles pour plusieurs raisons:"
   ]
  },
  {
   "cell_type": "markdown",
   "id": "bb0e1207",
   "metadata": {
    "slideshow": {
     "slide_type": "fragment"
    }
   },
   "source": [
    "- Elles permettent de réutiliser du code (éviter la duplication de code, raccourcis le code)\n",
    "- Elles permettent de rendre le code plus lisible (en donnant un nom à une action)\n",
    "- Elles permettent de rendre le code plus facile à maintenir (en cas de bug, il suffit de corriger la fonction, correction à un seul endroit)"
   ]
  },
  {
   "cell_type": "markdown",
   "id": "60acb9a0",
   "metadata": {
    "slideshow": {
     "slide_type": "slide"
    }
   },
   "source": [
    "## Types de fonctions\n",
    "\n",
    "Il existe deux types de fonctions en Python:\n",
    "\n",
    "- Les fonctions prédéfinies (built-in functions, Standard Library Functions), ces fonctions sont incluses dans Python et peuvent être utilisées directement tel que `print()`, `len()`, `range()`, `type()`, etc.\n",
    "- Les fonctions définies par l'utilisateur (user-defined functions), ces fonctions sont définies par l'utilisateur ce sont des fonctions dites custom, tel que: `def my_function():`"
   ]
  },
  {
   "cell_type": "markdown",
   "id": "5e618ba2",
   "metadata": {
    "slideshow": {
     "slide_type": "slide"
    }
   },
   "source": [
    "## Python function Declaration\n",
    "\n",
    "La déclaration d'une fonction en Python se fait avec le mot clé `def` suivi du nom de la fonction et des parenthèses `()`.\n",
    "\n",
    "```python\n",
    "def my_function(arguments):\n",
    "    # code\n",
    "    return output\n",
    "```\n",
    "\n",
    "- `def` est le mot clé pour déclarer une fonction\n",
    "- `my_function` est le nom de la fonction\n",
    "- `arguments` est la liste des arguments de la fonction, les arguments sont optionnels\n",
    "- `return` est le mot clé pour retourner une valeur, le `return` est optionnel"
   ]
  },
  {
   "cell_type": "code",
   "execution_count": 5,
   "id": "88c16735",
   "metadata": {},
   "outputs": [
    {
     "name": "stdout",
     "output_type": "stream",
     "text": [
      "toto\n",
      "None\n"
     ]
    }
   ],
   "source": [
    "sum_ = \"toto\"\n",
    "\n",
    "def somme(a, b):\n",
    "  sum_ = a + b\n",
    "#  return a + b\n",
    "\n",
    "print(sum_)\n",
    "print(somme(7,5))"
   ]
  },
  {
   "cell_type": "markdown",
   "id": "e1aab45d",
   "metadata": {
    "slideshow": {
     "slide_type": "slide"
    }
   },
   "source": [
    "## Appel de fonction en python\n",
    "\n",
    "Pour appeler une fonction, il suffit d'écrire le nom de la fonction suivi des parenthèses `()`."
   ]
  },
  {
   "cell_type": "code",
   "execution_count": 1,
   "id": "ea06ae32",
   "metadata": {},
   "outputs": [
    {
     "name": "stdout",
     "output_type": "stream",
     "text": [
      "Hello, World!\n",
      "None\n"
     ]
    }
   ],
   "source": [
    "def greet():\n",
    "    print(\"Hello, World!\")\n",
    "\n",
    "# Call the function\n",
    "print(greet())"
   ]
  },
  {
   "cell_type": "markdown",
   "id": "d6316441",
   "metadata": {
    "slideshow": {
     "slide_type": "slide"
    }
   },
   "source": [
    "# Python Function Arguments\n",
    "\n",
    "Les fonctions peuvent prendre des arguments, les arguments sont des valeurs variables qui sont passées à la fonction lors de l'appel de la fonction. Une fonction peut ne pas avoir d'arguments."
   ]
  },
  {
   "cell_type": "markdown",
   "id": "25e98591",
   "metadata": {
    "slideshow": {
     "slide_type": "slide"
    }
   },
   "source": [
    "### Exemple 1: Pyhton function with parameters"
   ]
  },
  {
   "cell_type": "code",
   "execution_count": null,
   "id": "b9f51b18",
   "metadata": {},
   "outputs": [],
   "source": [
    "# function with two arguments\n",
    "def add_numbers(num1: int, num2: int) -> int:\n",
    "    sum_: int = num1 + num2\n",
    "    print(type(sum_))\n",
    "    print(\"Sum: \", sum_)\n",
    "\n",
    "# function call with two values\n",
    "add_numbers(5, 4)\n",
    "\n",
    "# On peut aussi utiliser les arguments en les nommant\n",
    "add_numbers(num2=4, num1=5)"
   ]
  },
  {
   "cell_type": "markdown",
   "id": "a9cbabe4",
   "metadata": {
    "slideshow": {
     "slide_type": "slide"
    }
   },
   "source": [
    "## Arguments avec valeurs par défaut\n",
    "\n",
    "Les arguments peuvent avoir des valeurs par défaut, dans ce cas, si l'argument n'est pas passé à la fonction, la valeur par défaut sera utilisée."
   ]
  },
  {
   "cell_type": "code",
   "execution_count": 8,
   "id": "06f946c2",
   "metadata": {},
   "outputs": [
    {
     "name": "stdout",
     "output_type": "stream",
     "text": [
      "Sum: 15\n",
      "Sum: 15\n",
      "Sum: 19\n",
      "Sum: 15\n"
     ]
    }
   ],
   "source": [
    "def add_numbers(a:int=7, b:int=8) -> int:\n",
    "    sum_ = a + b\n",
    "    print('Sum:', sum_)\n",
    "\n",
    "# function call with two arguments\n",
    "add_numbers(7, 8)\n",
    "\n",
    "#  function call with one argument\n",
    "add_numbers(7)\n",
    "add_numbers(b=12, a = 7)\n",
    "\n",
    "# function call with no arguments\n",
    "add_numbers()"
   ]
  },
  {
   "cell_type": "markdown",
   "id": "ca500944",
   "metadata": {
    "slideshow": {
     "slide_type": "slide"
    }
   },
   "source": [
    "## Python Function avec un nombre variable d'arguments\n",
    "\n",
    "Parfois, on ne sait pas à l'avance combien d'arguments seront passés à la fonction. Pour cela, il est possible de définir une fonction avec un nombre variable d'arguments. Pour cela, il faut utiliser le symbole `*` devant le nom de l'argument. Le nombre variable d'arguments, comme son nom l'indique, permet de passer un nombre arbitraire d'arguments à la fonction."
   ]
  },
  {
   "cell_type": "code",
   "execution_count": null,
   "id": "bd6d6b93",
   "metadata": {
    "slideshow": {
     "slide_type": "slide"
    }
   },
   "outputs": [],
   "source": [
    "# program to find sum of multiple numbers \n",
    "def find_sum(*numbers):\n",
    "    print((numbers))\n",
    "    result = 0\n",
    "    \n",
    "    for num in numbers:\n",
    "        result = result + num\n",
    "    \n",
    "    print(\"Sum = \", result)\n",
    "# function call with 2 arguments\n",
    "#find_sum(4, 9)\n",
    "# function call with 3 arguments\n",
    "find_sum(1, 2, 3, 6, 7,8,5,3,2,1,1)"
   ]
  },
  {
   "cell_type": "code",
   "execution_count": null,
   "id": "3afa7436",
   "metadata": {},
   "outputs": [],
   "source": [
    "def find_sum(*args, **kwargs):\n",
    "#    print(args, type(args))\n",
    "    print(a, type(a))\n",
    "    for k,v in a.items():\n",
    "        print(f\"k: {k} / v: {v}\")\n",
    "\n",
    "find_sum(prenom=\"Antonio\", nom=\"Pisanello\", age=23)"
   ]
  },
  {
   "cell_type": "markdown",
   "id": "50d49bf5",
   "metadata": {},
   "source": [
    "> **Note**: Le nombre variable d'arguments est récupéré sous forme de `tuple`, on peut donc utiliser les méthodes des tuples et surtout boucler sur les arguments."
   ]
  },
  {
   "cell_type": "markdown",
   "id": "bc1b0af0",
   "metadata": {
    "slideshow": {
     "slide_type": "slide"
    }
   },
   "source": [
    "## The return statement\n",
    "\n",
    "Une fonction peut retourner une valeur avec le mot clé `return`. Si la fonction ne retourne rien, elle retourne `None`.\n",
    "\n",
    "```python\n",
    "def add_numbers(num1, num2):\n",
    "    sum_ = num1 + num2\n",
    "    return sum_\n",
    "```\n",
    "\n",
    "> **Note**: L'instruction `return` termine l'exécution de la fonction et retourne une valeur. Tout code après le `return` ne sera pas exécuté."
   ]
  },
  {
   "cell_type": "code",
   "execution_count": null,
   "id": "e3ca58c1",
   "metadata": {
    "slideshow": {
     "slide_type": "slide"
    }
   },
   "outputs": [],
   "source": [
    "# function definition\n",
    "def find_square(num: int) -> int:\n",
    "    result: int = num * num\n",
    "    return result\n",
    "print(\"Hello\")\n",
    "\n",
    "# function call\n",
    "square = find_square(3) # <==> square = 9\n",
    "\n",
    "print('Square:',square)"
   ]
  },
  {
   "cell_type": "code",
   "execution_count": null,
   "id": "bb70ba3d",
   "metadata": {},
   "outputs": [],
   "source": [
    "# function that adds two numbers\n",
    "def add_numbers(num1, num2):\n",
    "    sum_ = num1 + num2\n",
    "    return sum_, num1 - num2\n",
    "\n",
    "# calling function with two values\n",
    "s, d = add_numbers(5, 4)\n",
    "\n",
    "print('Sum: ', s, \" Diff: \", d)"
   ]
  },
  {
   "cell_type": "markdown",
   "id": "882a59bd",
   "metadata": {
    "slideshow": {
     "slide_type": "slide"
    }
   },
   "source": [
    "## Python Fonctions Récursives\n",
    "\n",
    "Une fonction récursive est une fonction qui s'appelle elle-même. \n",
    "\n",
    "Dans le monde réel, on peut observer ce phénomène avec des miroirs, si on place deux miroirs l'un en face de l'autre et un objet entre, il sera réfléchis de façon recurssive."
   ]
  },
  {
   "cell_type": "markdown",
   "id": "2e09af05",
   "metadata": {
    "slideshow": {
     "slide_type": "slide"
    }
   },
   "source": [
    "Nous savons qu'en Python une fonction peut en appeler une autre, mais il est également possible qu'une fonction s'appelle elle-même. On appelle ces fonctions des fonctions récursives.\n",
    "\n",
    "![recursive function](./imgs/python-recursion-function.png)\n",
    "[Source](https://www.programiz.com/python-programming/recursion)"
   ]
  },
  {
   "cell_type": "markdown",
   "id": "6c9fce75",
   "metadata": {
    "slideshow": {
     "slide_type": "slide"
    }
   },
   "source": [
    "Voici un exemple de fonction recurssive, la fonction `factorial(x)` calcule la factorielle d'un nombre."
   ]
  },
  {
   "cell_type": "code",
   "execution_count": null,
   "id": "a2c86cdf",
   "metadata": {},
   "outputs": [],
   "source": [
    "def factorial(n):\n",
    "    \"\"\"This is a recursive function\n",
    "    to find the factorial of an integer\"\"\"\n",
    "    if n == 1:\n",
    "        return 1\n",
    "    \n",
    "    print(f\"fact({n}) is {n} * fact({n-1})\")\n",
    "    return n * factorial(n-1)\n",
    "\n",
    "factorial(5)"
   ]
  },
  {
   "cell_type": "markdown",
   "id": "d0572834",
   "metadata": {
    "slideshow": {
     "slide_type": "slide"
    }
   },
   "source": [
    "```\n",
    "factorial(3)          # 1er appel avec 3\n",
    "3 * factorial(2)      # 2e appel avec 2\n",
    "3 * 2 * factorial(1)  # 3e appel avec 1\n",
    "3 * 2 * 1             # return du 3e appel avec ret=1\n",
    "3 * 2                 # return du 2e appel\n",
    "6                     # return du 1er appel\n",
    "```"
   ]
  },
  {
   "cell_type": "markdown",
   "id": "9eb44d51",
   "metadata": {
    "slideshow": {
     "slide_type": "slide"
    }
   },
   "source": [
    "![\"Schéma de recursion\"](./imgs/python-factorial-function.png)\n",
    "[Source](https://www.programiz.com/python-programming/recursion)"
   ]
  },
  {
   "cell_type": "markdown",
   "id": "c5bf3863",
   "metadata": {
    "slideshow": {
     "slide_type": "slide"
    }
   },
   "source": [
    "La recursion est terminée lorsque la condition d'arrêt est atteinte, dans notre exemple, la condition d'arrêt est `if num == 1:`. \n",
    "\n",
    "**Il faut toujours avoir un `if` qui termine la recursion** ce `if` est appelé la condition d'arrêt ou le `base case`.\n",
    "\n",
    "Python limite le nombre de recursions à `1000` par défaut, si on dépasse ce nombre, une erreur `RecursionError` est levée. Cette limite peut être modifiée avec la fonction `sys.setrecursionlimit()`. Cette limite est présente pour éviter de consommer trop de mémoire."
   ]
  },
  {
   "cell_type": "code",
   "execution_count": null,
   "id": "c8ea177f",
   "metadata": {},
   "outputs": [],
   "source": [
    "def recursor():\n",
    "    recursor()\n",
    "recursor()"
   ]
  },
  {
   "cell_type": "markdown",
   "id": "4f2e33bb",
   "metadata": {
    "slideshow": {
     "slide_type": "slide"
    }
   },
   "source": [
    "### Avantages de la recursion\n",
    "\n",
    "- La recursion permet de résoudre des problèmes complexes en les divisant en sous-problèmes plus simples.\n",
    "- La recursion permet de résoudre des problèmes qui ne peuvent pas être résolus facilement avec une boucle.\n",
    "- Les fonctions récurssives rendent le code plus lisible et plus élégant.\n",
    "- Certains problèmes sont plus intuitifs à résoudre avec la recursion. Comme la factorielle, les tours de Hanoi, suite de Fibonacci, etc."
   ]
  },
  {
   "cell_type": "markdown",
   "id": "1ed75f23",
   "metadata": {
    "slideshow": {
     "slide_type": "slide"
    }
   },
   "source": [
    "### Désavantages de la recursion\n",
    "\n",
    "- Souvent la logique de la recursion n'est pas évidente.\n",
    "- Les appels récursifs peuvent être plus coûteux, car ils utilisent la mémoire différemment et ont besoin de `context switching`.\n",
    "- Les fonctions récursives peuvent être plus compliquées a debuger."
   ]
  },
  {
   "cell_type": "markdown",
   "id": "1852674e",
   "metadata": {
    "slideshow": {
     "slide_type": "slide"
    }
   },
   "source": [
    "## Python Fonctions anonymes\n",
    "\n",
    "Les fonctions anonymes sont des fonctions qui n'ont pas de nom. Elles sont définies avec le mot clé `lambda` suivi des arguments et du corps de la fonction.\n",
    "\n",
    "```python\n",
    "lambda argument(s): expression\n",
    "lambda x: 2*x\n",
    "```\n",
    "\n",
    "Ici,\n",
    "- `lambda` est le mot clé pour définir une fonction anonyme\n",
    "- `argument(s)` est la liste des arguments de la fonction\n",
    "- `expression` est le corps de la fonction"
   ]
  },
  {
   "cell_type": "code",
   "execution_count": null,
   "id": "1d8347a7",
   "metadata": {
    "slideshow": {
     "slide_type": "slide"
    }
   },
   "outputs": [],
   "source": [
    "greet = lambda : print('Hello World')\n",
    "\n",
    "# call the lambda\n",
    "greet()"
   ]
  },
  {
   "cell_type": "markdown",
   "id": "00c242a2",
   "metadata": {},
   "source": [
    "Cette fonction `lambda` ne prend pas d'arguments et affiche simplement `Hello World`."
   ]
  },
  {
   "cell_type": "markdown",
   "id": "92e4fc54",
   "metadata": {
    "slideshow": {
     "slide_type": "slide"
    }
   },
   "source": [
    "## Python Fonctions Lambda avec arguments\n",
    "\n",
    "Les fonctions `lambda` peuvent prendre un ou plusieurs arguments."
   ]
  },
  {
   "cell_type": "code",
   "execution_count": null,
   "id": "d46afe8c",
   "metadata": {},
   "outputs": [],
   "source": [
    "def computation_lst(f, lst: list) -> None:\n",
    "    for i in lst:\n",
    "        print(f(i))\n",
    "\n",
    "l = [1,2,3,4,5]\n",
    "\n",
    "def square(x):\n",
    "    return x*x\n",
    "\n",
    "square = lambda x: x*x\n",
    "print(square(4))\n",
    "\n",
    "computation_lst(lambda n: n*n, l)\n",
    "computation_lst(lambda n: n**3, l)\n",
    "computation_lst(lambda n: n%2, l)"
   ]
  },
  {
   "cell_type": "markdown",
   "id": "72771815",
   "metadata": {
    "slideshow": {
     "slide_type": "slide"
    }
   },
   "source": [
    "## Python Library Functions\n",
    "\n",
    "Python a un ensemble de fonctions prédéfinies (built-in functions) qui sont incluses dans Python et peuvent être utilisées directement tel que:\n",
    "\n",
    "- `print()`\n",
    "- `sqrt()`\n",
    "- `pow()`\n",
    "\n",
    "Certaines fonctions sont inclues dans des modules, il faut importer le module pour pouvoir utiliser la fonction. Comme par exemple, `sqrt()` est définis dans le module `math`."
   ]
  },
  {
   "cell_type": "code",
   "execution_count": null,
   "id": "074b5c52",
   "metadata": {
    "slideshow": {
     "slide_type": "slide"
    }
   },
   "outputs": [],
   "source": [
    "import math\n",
    "\n",
    "# sqrt computes the square root\n",
    "square_root = math.sqrt(4)\n",
    "\n",
    "print(\"Square Root of 4 is\", square_root)\n",
    "\n",
    "# pow() comptes the power\n",
    "power = pow(2, 3)\n",
    "\n",
    "print(\"2 to the power 3 is\", power)"
   ]
  },
  {
   "cell_type": "markdown",
   "id": "86e637a6",
   "metadata": {
    "slideshow": {
     "slide_type": "slide"
    }
   },
   "source": [
    "## Benefits of using functions\n",
    "\n",
    "1. Réutilisation du code"
   ]
  },
  {
   "cell_type": "code",
   "execution_count": null,
   "id": "774398f0",
   "metadata": {},
   "outputs": [],
   "source": [
    "# function definition\n",
    "def get_square(num):\n",
    "    return num * num * num\n",
    "\n",
    "for i in [1,2,3]:\n",
    "    # function call\n",
    "    result = get_square(i)\n",
    "    print('Square of', i, '=', result)\n",
    "\n",
    "for i in [-1,-2,-3]:\n",
    "    # function call\n",
    "    print('Square of', i, '=', get_square(i))"
   ]
  },
  {
   "cell_type": "markdown",
   "id": "d2e0df2b",
   "metadata": {
    "slideshow": {
     "slide_type": "slide"
    }
   },
   "source": [
    "2. Rendre le code plus lisible"
   ]
  },
  {
   "cell_type": "code",
   "execution_count": null,
   "id": "e7d7831c",
   "metadata": {
    "slideshow": {
     "slide_type": "slide"
    }
   },
   "outputs": [],
   "source": [
    "# Helpers function\n",
    "def get_total_price(quantity, price):\n",
    "    \"\"\"Calculate the total price.\"\"\"\n",
    "    total = quantity * price\n",
    "    return total\n",
    "\n",
    "\n",
    "def apply_discount(total, discount):\n",
    "    \"\"\"Apply a discount to the total price.\"\"\"\n",
    "    discounted_price = total - (total * discount)\n",
    "    return discounted_price\n",
    "\n",
    "\n",
    "def calculate_tax(subtotal, tax_rate):\n",
    "    \"\"\"Calculate the tax amount.\"\"\"\n",
    "    tax = subtotal * tax_rate\n",
    "    return tax\n",
    "\n",
    "# main function\n",
    "def calculate_final_price(quantity, price, discount, tax_rate):\n",
    "    \"\"\"Calculate the final price after applying discount and tax.\"\"\"\n",
    "    total = get_total_price(quantity, price)\n",
    "    discounted_price = apply_discount(total, discount)\n",
    "    tax = calculate_tax(discounted_price, tax_rate)\n",
    "    final_price = discounted_price + tax\n",
    "    return final_price\n",
    "\n",
    "\n",
    "# Main program\n",
    "quantity = 10\n",
    "price = 25.99\n",
    "discount = 0.1\n",
    "tax_rate = 0.07\n",
    "\n",
    "final_price = calculate_final_price(quantity, price, discount, tax_rate)\n",
    "print(\"Final Price:\", final_price)\n"
   ]
  },
  {
   "cell_type": "code",
   "execution_count": null,
   "id": "e9e758d9",
   "metadata": {
    "slideshow": {
     "slide_type": "slide"
    }
   },
   "outputs": [],
   "source": [
    "# Using lambda function\n",
    "def calculate_final_price(quantity, price, discount, tax_rate):\n",
    "    \"\"\"Calculate the final price after applying discount and tax.\"\"\"\n",
    "    get_total_price = lambda q, p: q*p\n",
    "    apply_discount = lambda t, d : total - (total * discount)\n",
    "    calculate_tax = lambda s, tr: s * tr\n",
    "    \n",
    "    total = get_total_price(quantity, price)\n",
    "    discounted_price = apply_discount(total, discount)\n",
    "    tax = calculate_tax(discounted_price, tax_rate)\n",
    "    final_price = discounted_price + tax\n",
    "    return final_price\n",
    "\n",
    "\n",
    "# Main program\n",
    "quantity = 10\n",
    "price = 25.99\n",
    "discount = 0.1\n",
    "tax_rate = 0.07\n",
    "\n",
    "final_price = calculate_final_price(quantity, price, discount, tax_rate)\n",
    "print(f\"Final Price: {final_price:.2f}\")"
   ]
  },
  {
   "cell_type": "code",
   "execution_count": null,
   "id": "63f17e01",
   "metadata": {},
   "outputs": [],
   "source": []
  }
 ],
 "metadata": {
  "celltoolbar": "Slideshow",
  "kernelspec": {
   "display_name": "nomades_PPL",
   "language": "python",
   "name": "python3"
  },
  "language_info": {
   "codemirror_mode": {
    "name": "ipython",
    "version": 3
   },
   "file_extension": ".py",
   "mimetype": "text/x-python",
   "name": "python",
   "nbconvert_exporter": "python",
   "pygments_lexer": "ipython3",
   "version": "3.11.13"
  }
 },
 "nbformat": 4,
 "nbformat_minor": 5
}
