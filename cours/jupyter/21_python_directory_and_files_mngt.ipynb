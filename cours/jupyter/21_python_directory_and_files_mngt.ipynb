{
 "cells": [
  {
   "cell_type": "markdown",
   "id": "e40d8fa4",
   "metadata": {},
   "source": [
    "# Python Directory and Files Management\n",
    "\n",
    "Grâce au module `os` python est capable de manipuler les fichiers et les répertoires."
   ]
  },
  {
   "cell_type": "markdown",
   "id": "54430e51",
   "metadata": {},
   "source": [
    "## Get current directory\n",
    "\n",
    "Nous pouvons récupérer le dossier courant avec la fonction `getcwd()` du module `os`"
   ]
  },
  {
   "cell_type": "code",
   "execution_count": null,
   "id": "c2d44df5",
   "metadata": {},
   "outputs": [],
   "source": [
    "import os\n",
    "\n",
    "print(os.getcwd())"
   ]
  },
  {
   "cell_type": "markdown",
   "id": "97b360c0",
   "metadata": {},
   "source": [
    "## Change directory\n",
    "\n",
    "Nous pouvons changer de dossier avec la fonction `chdir()` du module `os`"
   ]
  },
  {
   "cell_type": "code",
   "execution_count": null,
   "id": "0b695313",
   "metadata": {},
   "outputs": [],
   "source": [
    "import os\n",
    "\n",
    "# change directory\n",
    "os.chdir('../../python/')\n",
    "\n",
    "print(os.getcwd())"
   ]
  },
  {
   "cell_type": "markdown",
   "id": "e0dee7bb",
   "metadata": {},
   "source": [
    "## List directories and files in a directory\n",
    "\n",
    "Nous pouvons lister les fichiers et les répertoires d'un dossier avec la fonction `listdir()` du module `os`. Il est possible de renseigner un chemin absolu ou relatif. Si aucun chemin n'est renseigné, le dossier courant est utilisé."
   ]
  },
  {
   "cell_type": "code",
   "execution_count": null,
   "id": "330a6abb",
   "metadata": {},
   "outputs": [],
   "source": [
    "import os\n",
    "\n",
    "os.chdir('../cours/jupyter/')\n",
    "print(os.getcwd())\n",
    "\n",
    "# list all sub-directories\n",
    "os.listdir()"
   ]
  },
  {
   "cell_type": "markdown",
   "id": "62ff94d0",
   "metadata": {},
   "source": [
    "## Making a new directory\n",
    "\n",
    "Nous pouvons créer un nouveau dossier avec la fonction `mkdir()` du module `os`. Il est possible de renseigner un chemin absolu ou relatif. Si aucun chemin n'est renseigné, le dossier courant est utilisé."
   ]
  },
  {
   "cell_type": "code",
   "execution_count": null,
   "id": "b81f2b7e",
   "metadata": {},
   "outputs": [],
   "source": [
    "if not os.path.exists('_test'):\n",
    "    os.mkdir('_test')\n",
    "\n",
    "os.listdir()"
   ]
  },
  {
   "cell_type": "markdown",
   "id": "ed33d363",
   "metadata": {},
   "source": [
    "## rename a file or a directory\n",
    "\n",
    "Nous pouvons renommer un fichier ou un dossier avec la fonction `rename()` du module `os`. Il est possible de renseigner un chemin absolu ou relatif. Si aucun chemin n'est renseigné, le dossier courant est utilisé.\n",
    "\n",
    "```python\n",
    "import os\n",
    "\n",
    "os.rename(\"oldname\", \"newname\")\n",
    "```\n",
    "\n",
    "- `oldname` : le nom du fichier ou du dossier à renommer\n",
    "- `newname` : le nouveau nom du fichier ou du dossier\n",
    "\n",
    "> **Note**:La fonction `rename()` peut aussi être utilisée pour déplacer un fichier ou un dossier."
   ]
  },
  {
   "cell_type": "code",
   "execution_count": null,
   "id": "b6f0e06b",
   "metadata": {},
   "outputs": [],
   "source": [
    "import os\n",
    "\n",
    "os.listdir()\n",
    "\n",
    "# rename a directory\n",
    "os.rename('_test','_test_')\n",
    "\n",
    "os.listdir()"
   ]
  },
  {
   "cell_type": "markdown",
   "id": "4a739f70",
   "metadata": {},
   "source": [
    "## Remove a file or a directory\n",
    "\n",
    "Nous pouvons supprimer un fichier ou un dossier avec les fonctions `remove()`, `rmdir()` ou `removedirs()` du module `os`. Il est possible de renseigner un chemin absolu ou relatif. Si aucun chemin n'est renseigné, le dossier courant est utilisé.\n",
    "\n",
    "```python\n",
    "import os\n",
    "\n",
    "# remove a file\n",
    "os.remove(\"filename\")\n",
    "\n",
    "# remove an empty directory\n",
    "os.rmdir(\"dirname\")\n",
    "```"
   ]
  },
  {
   "cell_type": "code",
   "execution_count": null,
   "id": "9c538764",
   "metadata": {},
   "outputs": [],
   "source": [
    "import os\n",
    "\n",
    "# delete \"myfile.txt\" file\n",
    "os.rmdir(\"./_test_\")"
   ]
  },
  {
   "cell_type": "markdown",
   "id": "6646f14b",
   "metadata": {},
   "source": [
    "Si on veut supprimer des dossier non vides, il faut utiliser la fonction rmtree() du module `shutil`.\n",
    "\n",
    "```python\n",
    "import shutil\n",
    "\n",
    "shutil.rmtree(\"dirname\")\n",
    "```\n",
    "\n",
    "> **Note**: `/!\\` La suppression est définitive, il n'y a pas de corbeille."
   ]
  },
  {
   "cell_type": "markdown",
   "id": "6b32ffc4",
   "metadata": {},
   "source": [
    "## OS Module Methods & Attributes\n",
    "\n",
    "| Method/Attribute | Description |\n",
    "| --- | --- |\n",
    "| `os.name` | Gives the name of the operating system dependent module imported. The following names have currently been registered: `posix`, `nt`, `mac`, `os2`, `ce`, `java`, `riscos`. |\n",
    "| `os.getcwd()` | Returns the current working directory. |\n",
    "| `os.chdir()` | Change the current working directory to the given path. |\n",
    "| `os.listdir()` | Returns a list of all files and directories in the specified path. |\n",
    "| `os.mkdir()` | Create a directory named path with numeric mode mode. The default mode is 0777 (octal). |\n",
    "| `os.makedirs()` | Recursive directory creation function. Like mkdir(), but makes all intermediate-level directories needed to contain the leaf directory. |\n",
    "| `os.remove()` | Remove (delete) the file path. If path is a directory, OSError is raised. Use rmdir() to remove directories. |\n",
    "| `os.rmdir()` | Remove (delete) the directory path. Only works when the directory is empty, otherwise, OSError is raised. In order to remove whole directory trees, shutil.rmtree() can be used. |\n",
    "| `os.removedirs()` | Remove directories recursively. Works like rmdir() except that, if the leaf directory is successfully removed, removedirs() tries to successively remove every parent directory mentioned in path until an error is raised (which is ignored, because it generally means that a parent directory is not empty). |\n",
    "| `os.rename()` | Rename the file or directory src to dst. If dst is a directory, OSError will be raised. On Unix, if dst exists and is a file, it will be replaced silently if the user has permission. The operation may fail on some Unix flavors if src and dst are on different filesystems. If successful, the renaming will be an atomic operation (this is a POSIX requirement). |\n",
    "| `os.renames()` | Recursive directory or file renaming function. Works like rename(), except creation of any intermediate directories needed to make the new pathname good is attempted first. After the rename, directories corresponding to rightmost path segments of the old name will be pruned away using removedirs(). |\n",
    "| `os.stat()` | Perform a stat system call on the given path. The return value is an object whose attributes correspond to the members of the stat structure, namely: st_mode (protection bits), st_ino (inode number), st_dev (device), st_nlink (number of hard links), st_uid (user ID of owner), st_gid (group ID of owner), st_size (size of file, in bytes), st_atime (time of most recent access), st_mtime (time of most recent content modification), st_ctime (platform dependent; time of most recent metadata change on Unix, or the time of creation on Windows) |\n",
    "| `os.system()` | Execute the command (a string) in a subshell. This is implemented by calling the Standard C function system(), and has the same limitations. Changes to sys.stdin, etc. are not reflected in the environment of the executed command. If command generates any output, it will be sent to the interpreter standard output stream. |\n",
    "| `os.environ` | A mapping object representing the string environment. For example, environ['HOME'] is the pathname of your home directory (on some platforms), and is equivalent to getenv(\"HOME\") in C. |\n",
    "| `os.path` | The path module suitable for the operating system Python is running on, for example, posix, nt, or os2. If you want to import the correct path module using import os.path, you need to use the code below instead. |\n",
    "| `os.path.abspath(path)` | Return a normalized absolutized version of the pathname path. On most platforms, this is equivalent to calling the function normpath() as follows: normpath(join(os.getcwd(), path)). |\n",
    "| `os.path.basename(path)` | Return the base name of pathname path. This is the second element of the pair returned by passing path to the function split(). Note that the result of this function is different from the Unix basename program; where basename for '/foo/bar/' returns 'bar', the basename() function returns an empty string (''). |\n",
    "\n",
    "etc..."
   ]
  }
 ],
 "metadata": {
  "kernelspec": {
   "display_name": "Python 3 (ipykernel)",
   "language": "python",
   "name": "python3"
  },
  "language_info": {
   "codemirror_mode": {
    "name": "ipython",
    "version": 3
   },
   "file_extension": ".py",
   "mimetype": "text/x-python",
   "name": "python",
   "nbconvert_exporter": "python",
   "pygments_lexer": "ipython3",
   "version": "3.10.13"
  }
 },
 "nbformat": 4,
 "nbformat_minor": 5
}
