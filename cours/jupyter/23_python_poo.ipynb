{
 "cells": [
  {
   "cell_type": "markdown",
   "id": "c68bc7e5",
   "metadata": {
    "slideshow": {
     "slide_type": "slide"
    }
   },
   "source": [
    "# Python Programation Orientée Objet\n",
    "\n",
    "Python est un langage orienté objet. Cela signifie qu'il fournit tous les éléments classiques de la programmation orientée objet (POO) : les classes et les objets.\n",
    "\n",
    "La POO est un paradigme de programmation qui permet de structurer un programme en combinant des briques de base appelées objets. Il s'agit de rassembler en un tout cohérent des données et les traitements qui s'y appliquent. La POO est un niveau d'abstraction supplémentaire qui permet de mieux gérer la complexité des programmes, tout comme les fonctions le sont pour les instructions."
   ]
  },
  {
   "cell_type": "markdown",
   "id": "3bc8c115",
   "metadata": {
    "slideshow": {
     "slide_type": "slide"
    }
   },
   "source": [
    "## Objet\n",
    "\n",
    "Un objet est une entité qui regroupe des données et des traitements qui lui sont applicables. Un objet possède une identité, un état et un comportement.\n",
    "\n",
    "### Identité\n",
    "\n",
    "L'identité d'un objet est un identifiant unique qui le distingue des autres objets. En Python, l'identité d'un objet est accessible via la fonction id().\n",
    "\n",
    "### Etat\n",
    "\n",
    "L'état d'un objet est défini par ses données, appelées attributs. Les attributs d'un objet peuvent être de n'importe quel type Python : des types de base, des collections, des instances de classes, etc."
   ]
  },
  {
   "cell_type": "markdown",
   "id": "134c88df",
   "metadata": {
    "slideshow": {
     "slide_type": "subslide"
    }
   },
   "source": [
    "### Comportement\n",
    "\n",
    "Le comportement d'un objet est défini par ses méthodes. Une méthode est une fonction qui s'applique à l'objet et qui peut utiliser ses attributs.\n",
    "\n",
    "### Conclusion\n",
    "\n",
    "Un objet est donc une structure de données qui regroupe des données et les traitements qui s'y appliquent. Les données sont représentées par les attributs et les traitements par les méthodes."
   ]
  },
  {
   "cell_type": "markdown",
   "id": "acd90070",
   "metadata": {
    "slideshow": {
     "slide_type": "slide"
    }
   },
   "source": [
    "## Classe\n",
    "\n",
    "Les classe sont les modèles des objets (blueprint). Une classe définit la structure et le comportement des objets qui en sont issus.\n",
    "\n",
    "### Définition\n",
    "\n",
    "Une classe est définie par le mot-clé class suivi du nom de la classe et de deux points. Le nom de la classe doit commencer par une majuscule."
   ]
  },
  {
   "cell_type": "markdown",
   "id": "e2240406",
   "metadata": {
    "slideshow": {
     "slide_type": "subslide"
    }
   },
   "source": [
    "### Attributs\n",
    "\n",
    "Les attributs d'une classe sont définis dans une méthode spéciale appelée constructeur. Le constructeur est une méthode qui porte le nom __init__(). Cette méthode est appelée automatiquement lors de la création d'un objet.\n",
    "\n",
    "### Méthodes\n",
    "\n",
    "Les méthodes sont des fonctions qui s'appliquent aux objets. Elles sont définies dans la classe et prennent comme premier paramètre une référence à l'objet en cours de traitement. Par convention, ce paramètre s'appelle `self`."
   ]
  },
  {
   "cell_type": "markdown",
   "id": "fa5275be",
   "metadata": {
    "slideshow": {
     "slide_type": "slide"
    }
   },
   "source": [
    "## Définition d'une classe\n",
    "\n",
    "Une classe est définie par le mot-clé class suivi du nom de la classe et de deux points. Le nom de la classe doit commencer par une majuscule.\n",
    "\n",
    "```python\n",
    "class Point:\n",
    "    pass\n",
    "```"
   ]
  },
  {
   "cell_type": "markdown",
   "id": "eaa20130",
   "metadata": {
    "slideshow": {
     "slide_type": "slide"
    }
   },
   "source": [
    "## Attributs\n",
    "\n",
    "Les attributs d'une classe sont des variables propres a chaque objet. Il sont définis à l'intérieur de la classe. \n",
    "\n",
    "```python\n",
    "class Point:\n",
    "    x = 0\n",
    "    y = 0\n",
    "```\n",
    "\n",
    "> **Note**: Les attributs en Python sont publics. Il n'y a pas de notion de visibilité (private, protected, public) comme en Java ou en C++.\n",
    "> **Note**: Par convention, les attributs privés sont précédés d'un underscore."
   ]
  },
  {
   "cell_type": "code",
   "execution_count": 3,
   "id": "787a90ed",
   "metadata": {
    "slideshow": {
     "slide_type": "slide"
    }
   },
   "outputs": [
    {
     "name": "stdout",
     "output_type": "stream",
     "text": [
      "23 69\n"
     ]
    }
   ],
   "source": [
    "class Point:\n",
    "    # private variable\n",
    "    __private = \"I'm private by convetion\"\n",
    "\n",
    "    # class attribute\n",
    "    x = 10\n",
    "    y = 0\n",
    "    \n",
    "    \n",
    "p1 = Point()\n",
    "p1.x = 23\n",
    "p1.y = 3*p1.x\n",
    "\n",
    "# print(p1.t, p1.x, p1.y)\n",
    "print(p1.x, p1.y)"
   ]
  },
  {
   "cell_type": "markdown",
   "id": "497ba503",
   "metadata": {
    "slideshow": {
     "slide_type": "slide"
    }
   },
   "source": [
    "## Les attributs/méthodes privées\n",
    "\n",
    "En python, comme il n'y pas de notion de visibilité, il n'y a pas de variables / méthodes privées. Cependant, par convention, les attributs / méthodes privés sont précédés d'un underscore. Ces variables ne sont pas sensée être utilisées en dehors de la classe.\n",
    "\n",
    "Parfois on peut voir des variables/methodes privée qui commencent avec deux underscores. Ces variables sont appelées \"mangled\". Elles sont utilisées pour éviter les conflits de noms lors de l'héritage."
   ]
  },
  {
   "cell_type": "markdown",
   "id": "89e1f082",
   "metadata": {
    "slideshow": {
     "slide_type": "slide"
    }
   },
   "source": [
    "## Creation d'un objet\n",
    "\n",
    "Pour créer un objet, on utilise le nom de la classe suivi de parenthèses. Cela appelle le `constructeur` de la classe qui crée l'objet."
   ]
  },
  {
   "cell_type": "code",
   "execution_count": 4,
   "id": "49c46fbe",
   "metadata": {},
   "outputs": [
    {
     "name": "stdout",
     "output_type": "stream",
     "text": [
      "<class '__main__.Point'>\n",
      "<__main__.Point object at 0x1120107d0>\n"
     ]
    }
   ],
   "source": [
    "# Creation of two instances of the Point class\n",
    "p1 = Point()\n",
    "p2 = Point()\n",
    "\n",
    "print(type(p1))\n",
    "print(p2)"
   ]
  },
  {
   "cell_type": "markdown",
   "id": "f61ce9d1",
   "metadata": {
    "slideshow": {
     "slide_type": "slide"
    }
   },
   "source": [
    "## Acceder aux attributs d'un objet\n",
    "\n",
    "En python, pour accéder aux attributs d'un objet, on utilise le point `.`"
   ]
  },
  {
   "cell_type": "code",
   "execution_count": 5,
   "id": "2739b58a",
   "metadata": {},
   "outputs": [
    {
     "name": "stdout",
     "output_type": "stream",
     "text": [
      "P1 valeur en X=5; Y=4\n",
      "P2 valeur en X=3; Y=6\n"
     ]
    }
   ],
   "source": [
    "point1 = Point()\n",
    "point2 = Point()\n",
    "# Modification of attributes\n",
    "point1.x = 5\n",
    "point1.y = 4\n",
    "\n",
    "point2.x = 3\n",
    "point2.y = 6\n",
    "\n",
    "# access attributes\n",
    "print(f\"P1 valeur en X={point1.x}; Y={point1.y}\")\n",
    "print(f\"P2 valeur en X={point2.x}; Y={point2.y}\")"
   ]
  },
  {
   "cell_type": "markdown",
   "id": "48f955c6",
   "metadata": {
    "slideshow": {
     "slide_type": "slide"
    }
   },
   "source": [
    "## Methods\n",
    "\n",
    "Les méthodes sont des fonctions qui s'appliquent aux objets. Elles sont définies dans la classe et prennent comme premier paramètre une référence à l'objet en cours de traitement. Par convention, ce paramètre s'appelle `self`."
   ]
  },
  {
   "cell_type": "code",
   "execution_count": null,
   "id": "88a116ee",
   "metadata": {
    "slideshow": {
     "slide_type": "slide"
    }
   },
   "outputs": [],
   "source": [
    "class Room:\n",
    "    length = 0.0\n",
    "    width = 0.0\n",
    "    \n",
    "    def calculate_perimeter(self):\n",
    "        return 2*self.length+2*self.width\n",
    "\n",
    "    def calculate_area(self):\n",
    "        print(\"self\", self)\n",
    "        return self.length * self.width\n",
    "    \n",
    "    def print_area(self, name=\"\"):\n",
    "        print(name, self.calculate_area())\n",
    "        \n",
    "nomades_3e = Room()\n",
    "nomades_6e = Room()\n",
    "\n",
    "nomades_3e.length = 10\n",
    "nomades_3e.width = 5\n",
    "\n",
    "p = nomades_3e.calculate_perimeter()\n",
    "print(p)\n",
    "\n",
    "nomades_3e.print_area(name=\"Old classroom\")"
   ]
  },
  {
   "cell_type": "markdown",
   "id": "a0761a1d",
   "metadata": {
    "slideshow": {
     "slide_type": "slide"
    }
   },
   "source": [
    "## Mot clé self\n",
    "\n",
    "Le mot clé self est une convention en python. Il est utilisé pour faire référence à l'objet en cours de traitement. Il est passé automatiquement en premier paramètre de chaque méthode. Il est possible de le renommer mais il est fortement déconseillé de le faire. Le premier paramètre d'une méthode est toujours une référence à l'objet en cours de traitement `self`."
   ]
  },
  {
   "cell_type": "markdown",
   "id": "88f25685",
   "metadata": {
    "slideshow": {
     "slide_type": "slide"
    }
   },
   "source": [
    "## Constructor\n",
    "Le constructeur est une méthode spéciale appelée `__init__()`. Cette méthode est appelée automatiquement lors de la création d'un objet. Elle permet d'initialiser les attributs de l'objet. Il est possible de donner des arguments au constructeur afin de pouvoir initialiser les attributs avec des valeurs différentes."
   ]
  },
  {
   "cell_type": "code",
   "execution_count": null,
   "id": "0db621d6",
   "metadata": {
    "slideshow": {
     "slide_type": "slide"
    }
   },
   "outputs": [],
   "source": [
    "class GeoPoint:\n",
    "    def __init__(self, lat=0, lng=0):\n",
    "        self.__lat = lat\n",
    "        self.__lng = lng\n",
    "        \n",
    "    def set_lat(self, lat):\n",
    "        self.__lat = lat\n",
    "    def set_lng(self, lng):\n",
    "        self.__lng = lng\n",
    "    \n",
    "    def get_lat(self):\n",
    "        return self.__lat\n",
    "    def get_lng(self):\n",
    "        return self.__lng\n",
    "    \n",
    "    def print_point(self):\n",
    "        print(f\"Point: ({self.__lat}, {self.__lng})\")\n",
    "\n",
    "# Creation of an instance of the GeoPoint class\n",
    "p1 = GeoPoint()\n",
    "print(p1.get_lat(), p1.get_lng())"
   ]
  },
  {
   "cell_type": "markdown",
   "id": "7bea4294",
   "metadata": {
    "slideshow": {
     "slide_type": "slide"
    }
   },
   "source": [
    "Ici, on définit un constructeur avec la fonction `__init__`. Le constructeur prend en arguments trois paramètres `self`, `lat`, `lng`, qui correspondent aux attributs de la classe. Le paramètre `self` est obligatoire et correspond à l'objet en cours de traitement. `self` est automatiquement passé lors de l'appel de la méthode et définis la classe actuelle. \n",
    "\n",
    "les paramètres `lat` et `lng` sont optionnels. Si on ne les fournit pas, ils prennent la valeur par défaut 0. le constructeur les assigne aux attributs `self.lat` et `self.lng`. Ici, on utilise le mot clé `self` pour assigner les attributs a l'objet actuel `p1` oou `p_nomades`.\n",
    "\n",
    "> **Note**: Les attributs `self.lat` et `self.lng` sont maintenant des attributs de la classe, même s'il ne sont pas définis dans la classe. Possibilité de les utilisé dans les autres fonction de classe (comme dans `print_point()`)."
   ]
  },
  {
   "cell_type": "code",
   "execution_count": 10,
   "id": "795aa253",
   "metadata": {
    "slideshow": {
     "slide_type": "slide"
    }
   },
   "outputs": [
    {
     "name": "stdout",
     "output_type": "stream",
     "text": [
      "Point: (49.19103, 6.13562)\n",
      "<class 'list'>\n",
      "[Point: (49.19103, 6.13562), Point: (49.19103, 6.13562), Point: (49.19103, 6.13562), Point: (49.19103, 6.13562)]\n",
      "Point: (49.19103, 6.13562)\n"
     ]
    }
   ],
   "source": [
    "class GeoPointStr:\n",
    "    def __init__(self, lat=0, lng=0):\n",
    "        self.lat = lat\n",
    "        self.lng = lng\n",
    "    \n",
    "    def __repr__(self):\n",
    "        return f\"Point: ({self.lat}, {self.lng})\"\n",
    "    \n",
    "    def __str__(self):\n",
    "        return self.__repr__()\n",
    "\n",
    "ps1 = GeoPointStr(49.19103, 6.13562)\n",
    "ps = str(ps1)\n",
    "print(ps1)\n",
    "\n",
    "l = [GeoPointStr(49.19103, 6.13562), GeoPointStr(49.19103, 6.13562), GeoPointStr(49.19103, 6.13562), GeoPointStr(49.19103, 6.13562)]\n",
    "print(type(l))\n",
    "print(l)\n",
    "\n",
    "print(ps1.__str__())\n"
   ]
  },
  {
   "cell_type": "markdown",
   "id": "c4e2323e",
   "metadata": {
    "slideshow": {
     "slide_type": "slide"
    }
   },
   "source": [
    "# Python POO - Héritage\n",
    "\n",
    "L'héritage est un mécanisme qui permet de créer une nouvelle classe à partir d'une classe existante. La nouvelle classe hérite des attributs et des méthodes de la classe existante. On appelle la classe existante la classe mère ou la super-classe et la nouvelle classe la classe enfant ou la sous-classe."
   ]
  },
  {
   "cell_type": "markdown",
   "id": "8fc7b1f1",
   "metadata": {
    "slideshow": {
     "slide_type": "slide"
    }
   },
   "source": [
    "## Définition\n",
    "\n",
    "Pour définir une classe enfant, on place le nom de la classe mère entre parenthèses après le nom de la classe enfant.\n",
    "\n",
    "```python\n",
    "# define a superclass\n",
    "class SuperClass:\n",
    "    # attributes and method definition\n",
    "\n",
    "# inheritance\n",
    "class Subclass(SuperClass):\n",
    "    # attributes and method of super_class\n",
    "    # attributes and method of sub_class\n",
    "```"
   ]
  },
  {
   "cell_type": "markdown",
   "id": "2e9bf4aa",
   "metadata": {
    "slideshow": {
     "slide_type": "slide"
    }
   },
   "source": [
    "### Exemple 1: Animal et chien"
   ]
  },
  {
   "cell_type": "code",
   "execution_count": 6,
   "id": "57303852",
   "metadata": {},
   "outputs": [
    {
     "name": "stdout",
     "output_type": "stream",
     "text": [
      "Woof\n",
      "Try to make some noise\n"
     ]
    }
   ],
   "source": [
    "class Animal:\n",
    "    # attribute and method of the parent class\n",
    "    __name = \"\"\n",
    "    def eat(self):\n",
    "        print(\"I can eat\")\n",
    "    def talk(self):\n",
    "        print(\"Try to make some noise\")\n",
    "\n",
    "class Dog(Animal):\n",
    "    # new method in subclass\n",
    "    def walk(self):\n",
    "        print(\"I love going to the park\")\n",
    "    def talk(self):\n",
    "        print(\"Woof\")\n",
    "        \n",
    "class Cat(Animal):\n",
    "    def climb(self):\n",
    "        print(\"I like climbing trees\")\n",
    "\n",
    "Max = Dog()\n",
    "Max.talk()\n",
    "\n",
    "felix = Cat()\n",
    "felix.talk()"
   ]
  },
  {
   "cell_type": "markdown",
   "id": "424bba27",
   "metadata": {
    "slideshow": {
     "slide_type": "slide"
    }
   },
   "source": [
    "## is-a (est-un) relationship\n",
    "\n",
    "L'héritage est utilisé pour modéliser une relation \"est-un\". De ce fait, on procède a un héritage seulement s'il y a une relation \"est-un\" entre la classe mère et la classe enfant.\n",
    "\n",
    "- Un chien est un animal\n",
    "- Une voiture est un véhicule\n",
    "- Un carré est un rectangle\n",
    "- Une pommme est un fruit"
   ]
  },
  {
   "cell_type": "markdown",
   "id": "78f3104e",
   "metadata": {
    "slideshow": {
     "slide_type": "slide"
    }
   },
   "source": [
    "## has-a (a-un) relationship\n",
    "\n",
    "L'héritage n'est pas utilisé pour modéliser une relation \"a-un\". la realtion \"a-un\" est modélisée par la composition. On parle de composition lorsqu'un objet contient un autre objet.\n",
    "\n",
    "- Un ordinateur a un processeur\n",
    "- Un ordinateur a un disque dur\n",
    "- Un ordinateur a une carte graphique\n",
    "\n",
    "Ici, le processeur est un objet qui est attribut de l'objet ordinateur. On parle de composition."
   ]
  },
  {
   "cell_type": "markdown",
   "id": "e39bc632",
   "metadata": {
    "slideshow": {
     "slide_type": "slide"
    }
   },
   "source": [
    "### Exemple 2: Polygone et triangle\n",
    "\n",
    "Un polygone est une figure géométrique fermée plane d'au moin 3 cotés. On peut donc définir la classe `Polygon`:"
   ]
  },
  {
   "cell_type": "code",
   "execution_count": 8,
   "id": "71484fd4",
   "metadata": {},
   "outputs": [],
   "source": [
    "class Polygon:\n",
    "    def __init__(self, nb_of_sides):\n",
    "        self.n = nb_of_sides\n",
    "        self.sides = [0 for i in range(nb_of_sides)]\n",
    "    def inputSides(self):\n",
    "        self.sides = [float(input(\"Enter side \"+str(i+1)+\" : \")) for i in range(self.n)]\n",
    "    def dispSides(self):\n",
    "        for i in range(self.n):\n",
    "            print(\"Side\",i+1,\"is\",self.sides[i])\n",
    "    def info(self):\n",
    "        print(\"I'm a polygon\")\n",
    "        \n",
    "    def __repr__(self):\n",
    "        return f\"Polygone of {self.n} sides\"\n",
    "    def __str__(self):\n",
    "        return self.__repr__()"
   ]
  },
  {
   "cell_type": "markdown",
   "id": "e3cdf684",
   "metadata": {
    "slideshow": {
     "slide_type": "-"
    }
   },
   "source": [
    "Cette classe, a un atribut de classe `n` qui represente le nombre de côtés du polygone, ainsi qu'un attribut d'instance `sides` qui est une liste des longueurs des côtés du polygone."
   ]
  },
  {
   "cell_type": "markdown",
   "id": "0047e26c",
   "metadata": {
    "slideshow": {
     "slide_type": "slide"
    }
   },
   "source": [
    "Un `Triangle` est un polygone de 3 côtés. On peut donc définir la classe `Triangle` qui hérite de la classe `Polygon`. Grâce à l'héritage, la classe `Triangle` hérite de l'attribut de classe `n` et de l'attribut d'instance `sides` de la classe `Polygon`. On a pas besoin de les redéfinir (**Code reusability**) dans la classe `Triangle`.\n",
    "\n",
    "La classe `Triangle` peut être définie comme suit :"
   ]
  },
  {
   "cell_type": "code",
   "execution_count": 118,
   "id": "23464196",
   "metadata": {
    "slideshow": {
     "slide_type": "slide"
    }
   },
   "outputs": [],
   "source": [
    "class Rectangle(Polygon):\n",
    "    def __init__(self):\n",
    "        Polygon.__init__(self, 2)\n",
    "\n",
    "    def findArea(self):\n",
    "        super().inputSides()\n",
    "        a, b = self.sides\n",
    "        return a*b\n",
    "    def info(self, parent=False):\n",
    "        if parent:\n",
    "            super().info()\n",
    "        else:\n",
    "            print(\"I'm a Rectangle\")\n",
    "\n",
    "\n",
    "class Square(Rectangle):\n",
    "    def __init__(self):\n",
    "        Polygon.__init__(self, 1)\n",
    "    def findArea(self):\n",
    "        return self.sides[0]**2"
   ]
  },
  {
   "cell_type": "markdown",
   "id": "12898f71",
   "metadata": {},
   "source": [
    "Nous avons définis la classe Triangle qui hérites de la classe Polygon. Le constructeur de la classe Triangle, appelle le constructeur de la classe Polygon pour initialiser les attributs de la classe Triangle. On peut accéder aux attributs/méthodes de la classe Polygon grâce au mot clé `super`. Il est nécéssaire ici d'appeler la classe parente, car on spécifie le nombre de coté du Triangle."
   ]
  },
  {
   "cell_type": "code",
   "execution_count": null,
   "id": "a2ad3815",
   "metadata": {
    "slideshow": {
     "slide_type": "slide"
    }
   },
   "outputs": [],
   "source": [
    "t = Square()\n",
    "t.inputSides()\n",
    "t.dispSides()\n",
    "\n",
    "print(t.findArea())\n",
    "t.info(parent=True)\n",
    "\n",
    "print(t)"
   ]
  },
  {
   "cell_type": "markdown",
   "id": "ce66e41c",
   "metadata": {
    "slideshow": {
     "slide_type": "slide"
    }
   },
   "source": [
    "## Method overriding\n",
    "\n",
    "Lors de l'héritage, il est possible de redéfinir les méthodes de la classe parente dans la classe enfant. On parle de `method overriding`. Cela permet de modifier le comportement d'une méthode héritée."
   ]
  },
  {
   "cell_type": "code",
   "execution_count": null,
   "id": "dcd82aa9",
   "metadata": {},
   "outputs": [],
   "source": [
    "class Animal:\n",
    "    # attributes and method of the parent class\n",
    "    name = \"\"\n",
    "    \n",
    "    def eat(self):\n",
    "        print(\"I can eat\")\n",
    "\n",
    "# inherit from Animal\n",
    "class Dog(Animal):\n",
    "    # override eat() method\n",
    "    def eat(self):\n",
    "        print(\"I like to eat bones\")\n",
    "\n",
    "# create an object of the subclass\n",
    "labrador = Dog()\n",
    "\n",
    "# call the eat() method on the labrador object\n",
    "labrador.eat()"
   ]
  },
  {
   "cell_type": "markdown",
   "id": "210ea778",
   "metadata": {
    "slideshow": {
     "slide_type": "slide"
    }
   },
   "source": [
    "## Le mot clé super\n",
    "\n",
    "Si on a besoin d'utiliser une méthode de la classe parente, on peut utiliser le mot clé `super`. Ce mot clé désigne la classe parente."
   ]
  },
  {
   "cell_type": "code",
   "execution_count": 9,
   "id": "7ce52bd3",
   "metadata": {},
   "outputs": [
    {
     "name": "stdout",
     "output_type": "stream",
     "text": [
      "I like to eat bones\n",
      "I can eat\n"
     ]
    }
   ],
   "source": [
    "class Animal:\n",
    "    name = \"\"\n",
    "    \n",
    "    def eat(self):\n",
    "        print(\"I can eat\")\n",
    "\n",
    "# inherit from Animal\n",
    "class Dog(Animal):\n",
    "    def possibilities(self):\n",
    "        super().eat()\n",
    "        \n",
    "    # override eat() method\n",
    "    def eat(self):\n",
    "        # call the eat() method of the superclass using super()\n",
    "        print(\"I like to eat bones\")\n",
    "\n",
    "# create an object of the subclass\n",
    "labrador = Dog()\n",
    "labrador.eat()\n",
    "labrador.possibilities()"
   ]
  },
  {
   "cell_type": "markdown",
   "id": "7f417dd4",
   "metadata": {
    "slideshow": {
     "slide_type": "slide"
    }
   },
   "source": [
    "## Conclusion Héritage\n",
    "\n",
    "L'héritage est un mécanisme qui permet de créer une nouvelle classe à partir d'une classe existante. La nouvelle classe hérite des attributs et des méthodes de la classe existante. On appelle la classe existante la classe mère ou la super-classe et la nouvelle classe la classe enfant ou la sous-classe.\n",
    "\n",
    "- L'héritage est utilisé pour modéliser une relation \"est-un\".\n",
    "- L'hériage permet de réutiliser le code existant (classe parente)."
   ]
  },
  {
   "cell_type": "markdown",
   "id": "7ceb599d",
   "metadata": {
    "slideshow": {
     "slide_type": "slide"
    }
   },
   "source": [
    "# Python POO - Héritage multiple\n",
    "\n",
    "En python, une classe peut hériter de plusieurs classes. On parle d'héritage multiple. Pour définir une classe qui hérite de plusieurs classes, on place les noms des classes mères entre parenthèses après le nom de la classe enfant.\n",
    "\n",
    "```python\n",
    "class sub_class(super_class1, super_class2, ...):\n",
    "    # attributes and method of super_class1\n",
    "    # attributes and method of super_class2\n",
    "    # attributes and method of sub_class\n",
    "```"
   ]
  },
  {
   "cell_type": "markdown",
   "id": "e6e7ad51",
   "metadata": {
    "slideshow": {
     "slide_type": "slide"
    }
   },
   "source": [
    "## Exemple 1: chien, animal et mammifère\n",
    "\n",
    "Une Chauve-souris est un animal à ailes et un mammifère. On peut donc définir les classes `WingedAnimal` et `Mammal` et la classe `Bat` qui hérite de ces deux classes."
   ]
  },
  {
   "cell_type": "code",
   "execution_count": 8,
   "id": "794ba5e6",
   "metadata": {
    "slideshow": {
     "slide_type": "slide"
    }
   },
   "outputs": [],
   "source": [
    "class WingedAnimal:\n",
    "    def __init__(self, species):\n",
    "        self.species = species\n",
    "\n",
    "    def fly(self):\n",
    "        print('{} flies'.format(self.species))\n",
    "\n",
    "class Mammal:\n",
    "    def __init__(self, species):\n",
    "        self.species = species\n",
    "\n",
    "    def feed_young_with_milk(self):\n",
    "        print('{} feeds young with milk'.format(self.species))\n",
    "    \n",
    "    def fly(self):\n",
    "        print('can\\'t fly')\n",
    "\n",
    "class Bat(Mammal, WingedAnimal):\n",
    "    def __init__(self):\n",
    "        Mammal.__init__(self, \"Bat\")\n",
    "        WingedAnimal.__init__(self, \"Bat\")"
   ]
  },
  {
   "cell_type": "code",
   "execution_count": null,
   "id": "6a5e4854",
   "metadata": {},
   "outputs": [],
   "source": [
    "b1 = Bat()\n",
    "b1.fly()\n",
    "b1.feed_young_with_milk()\n"
   ]
  },
  {
   "cell_type": "markdown",
   "id": "b9352e58",
   "metadata": {
    "slideshow": {
     "slide_type": "slide"
    }
   },
   "source": [
    "# Python POO - Multi-level inheritance\n",
    "\n",
    "En python, une classe peut hériter d'une classe qui hérite elle-même d'une autre classe. On parle d'héritage multi-niveau.\n",
    "\n",
    "```python\n",
    "class SuperClass:\n",
    "    # Super class code here\n",
    "\n",
    "class DerivedClass1(SuperClass):\n",
    "    # Derived class 1 code here\n",
    "\n",
    "class DerivedClass2(DerivedClass1):\n",
    "    # Derived class 2 code here\n",
    "```"
   ]
  },
  {
   "cell_type": "markdown",
   "id": "2fa68036",
   "metadata": {
    "slideshow": {
     "slide_type": "slide"
    }
   },
   "source": [
    "![\"POO multi-level inheritance\"](../../../../nomades_python_programming_langugage/cours/jupyter/imgs/python-multilevel-inheritance.png)\n",
    "[Source](https://www.programiz.com/python-programming/multiple-inheritance)"
   ]
  },
  {
   "cell_type": "code",
   "execution_count": null,
   "id": "1225ec8d",
   "metadata": {
    "slideshow": {
     "slide_type": "slide"
    }
   },
   "outputs": [],
   "source": [
    "class Rectangle(Polygon):\n",
    "    def __init__(self):\n",
    "        Polygon.__init__(self,2)\n",
    "        print(\"Rectangle created\")\n",
    "\n",
    "    def findArea(self):\n",
    "        a, b = self.sides\n",
    "        area = a * b\n",
    "        print('The area of the rectangle is %0.2f' %area)\n",
    "    \n",
    "    def info(self):\n",
    "        print(\"This is a rectangle\")\n",
    "\n",
    "class Square(Rectangle):\n",
    "    def __init__(self):\n",
    "        Polygon.__init__(self,1)\n",
    "\n",
    "    def findArea(self):\n",
    "        print('The area of the square is %0.2f' %(self.sides[0]**2))\n",
    "\n",
    "# Creating an instance of the Square class\n",
    "s = Square()\n",
    "# Prompting the user to enter the side of the square\n",
    "s.inputSides()\n",
    "# Displaying the sides of the square\n",
    "s.dispSides()\n",
    "# Calculating and printing the area of the square\n",
    "s.info()"
   ]
  },
  {
   "cell_type": "code",
   "execution_count": null,
   "id": "b5abe427",
   "metadata": {
    "slideshow": {
     "slide_type": "slide"
    }
   },
   "outputs": [],
   "source": [
    "print(s.__class__.__bases__)\n",
    "print(s.__class__.__bases__[0].__bases__[0].__bases__)\n",
    "r = Rectangle()\n",
    "print(isinstance(r, Square))\n",
    "print(type(s) == Rectangle)\n",
    "print(issubclass(Rectangle, Polygon))"
   ]
  },
  {
   "cell_type": "markdown",
   "id": "fef58436",
   "metadata": {
    "slideshow": {
     "slide_type": "slide"
    }
   },
   "source": [
    "# Python POO - MRO (Method Resolution Order)\n",
    "\n",
    "Lorsqu'une classe hérite de plusieurs classes, il est possible que les classes mères héritent elles-mêmes d'autres classes. On parle d'héritage multiple. Dans ce cas, il faut définir l'ordre dans lequel les méthodes des classes mères sont appelées. Cet ordre est appelé l'ordre de résolution des méthodes (MRO).\n",
    "\n",
    "La règle est simple, la méthode appellée sera, la première méthode trouvée dans la liste des classes mères. Cette liste est définie par l'ordre dans lequel les classes mères sont passées lors de la définition de la classe enfant. Si deux classes mère sont au même niveau dans la hiérarchie, c'est la première qui est appelée (celle de gauche)."
   ]
  },
  {
   "cell_type": "markdown",
   "id": "477aadd4",
   "metadata": {
    "slideshow": {
     "slide_type": "slide"
    }
   },
   "source": [
    "## Heritage simple\n",
    "\n",
    "![\"MRO simple\"](../../../../nomades_python_programming_langugage/cours/jupyter/imgs/mro_ab.png)\n",
    "[Source](https://www.educative.io/answers/what-is-mro-in-python)"
   ]
  },
  {
   "cell_type": "code",
   "execution_count": null,
   "id": "00245bc1",
   "metadata": {
    "slideshow": {
     "slide_type": "slide"
    }
   },
   "outputs": [],
   "source": [
    "class A:\n",
    "  def method(self):\n",
    "    print(\"A.method() called\")\n",
    "\n",
    "class B(A):\n",
    "  def method(self):\n",
    "    print(\"B.method() called\")\n",
    "\n",
    "b = B()\n",
    "b.method()"
   ]
  },
  {
   "cell_type": "markdown",
   "id": "bc28e5a9",
   "metadata": {
    "slideshow": {
     "slide_type": "fragment"
    }
   },
   "source": [
    "Ici, le cas est simple, car car `B` `override` la méthode `method` du coup il appel son instance de la methode `method`\n",
    "\n",
    "> **Note**: le MRO ici est : `B` -> `A` -> `Object`"
   ]
  },
  {
   "cell_type": "markdown",
   "id": "dba2f430",
   "metadata": {
    "slideshow": {
     "slide_type": "slide"
    }
   },
   "source": [
    "## Heritage multiple\n",
    "\n",
    "![\"MRO multiple\"](../../../../nomades_python_programming_langugage/cours/jupyter/imgs/mro_abc.png)\n",
    "[Source](https://www.educative.io/answers/what-is-mro-in-python)"
   ]
  },
  {
   "cell_type": "code",
   "execution_count": null,
   "id": "784dc4c2",
   "metadata": {
    "slideshow": {
     "slide_type": "slide"
    }
   },
   "outputs": [],
   "source": [
    "class A:\n",
    "  def method(self):\n",
    "    print(\"A.method() called\")\n",
    "\n",
    "class B:\n",
    "  def method(self):\n",
    "    print(\"B.method() called\")\n",
    "\n",
    "class C(A, B):\n",
    "    def method(self):\n",
    "        print(\"C.method() called\")\n",
    "\n",
    "c = C()\n",
    "c.method()"
   ]
  },
  {
   "cell_type": "markdown",
   "id": "2fd87c42",
   "metadata": {
    "slideshow": {
     "slide_type": "fragment"
    }
   },
   "source": [
    "Ici, la classe `C` hérite de la classe A et de la classe `B`. La fonction n'est pas définie dans `C` du coup elle va regarder dans `A` puis dans `B` et enfin dans `object`. Car `A` est définie avant `B` dans la classe `C`.\n",
    "\n",
    "> **Note**: le MRO ici est : `C` -> `A` -> `B` -> `Object`"
   ]
  },
  {
   "cell_type": "markdown",
   "id": "5c78f0a6",
   "metadata": {
    "slideshow": {
     "slide_type": "slide"
    }
   },
   "source": [
    "## Heritage Tricky\n",
    "\n",
    "![\"MRO tricky\"](../../../../nomades_python_programming_langugage/cours/jupyter/imgs/mro_abcd.png)\n",
    "[Source](https://www.educative.io/answers/what-is-mro-in-python)"
   ]
  },
  {
   "cell_type": "code",
   "execution_count": null,
   "id": "858114a5",
   "metadata": {
    "slideshow": {
     "slide_type": "slide"
    }
   },
   "outputs": [],
   "source": [
    "class A:\n",
    "  def method(self):\n",
    "    print(\"A.method() called\")\n",
    "class B:\n",
    "  def method(self):\n",
    "    print(\"B.method() called\")\n",
    "\n",
    "class C(A, B):\n",
    "  pass\n",
    "\n",
    "class D(C, B):\n",
    "  pass\n",
    "\n",
    "d = D()\n",
    "d.method()"
   ]
  },
  {
   "cell_type": "markdown",
   "id": "fb7a4e5d",
   "metadata": {
    "slideshow": {
     "slide_type": "fragment"
    }
   },
   "source": [
    "Malgré le fait qu'ici `D`est directement connecté avec `B`, `C`est d'abord définis dans `D` du coup il va chercher dans `C`. Comme `C`ne contient pas la méthode, on va regarder dans les parents de `C` on aura donc `A` qui lui contient la fonction.\n",
    "\n",
    "> **Note**: le MRO ici est : `D` -> (`C` -> `A` -> `B`) -> `B` -> `Object`"
   ]
  },
  {
   "cell_type": "markdown",
   "id": "ce9f190c",
   "metadata": {
    "slideshow": {
     "slide_type": "slide"
    }
   },
   "source": [
    "# Python POO - Polymorphisme\n",
    "\n",
    "Le polymorphisme est un mécanisme qui permet de traiter de la même façon des objets de types différents mais liés. Le polymorphisme est un des trois piliers de la programmation orientée objet avec l'encapsulation et l'héritage."
   ]
  },
  {
   "cell_type": "markdown",
   "id": "461f561a",
   "metadata": {
    "slideshow": {
     "slide_type": "slide"
    }
   },
   "source": [
    "## exemple 1: Garage\n",
    "\n",
    "On aimerais stocker dans un garage privé des véhicules privés et non publics. Voicis comment on pourrait gérer ca grace au polymorphisme."
   ]
  },
  {
   "cell_type": "code",
   "execution_count": 41,
   "id": "08903279",
   "metadata": {
    "slideshow": {
     "slide_type": "slide"
    }
   },
   "outputs": [],
   "source": [
    "class PrivateVehicle:\n",
    "    def __init__(self, brand, model, color):\n",
    "        self.brand = brand\n",
    "        self.model = model\n",
    "        self.color = color\n",
    "\n",
    "    def display(self):\n",
    "        print(\"Brand:\", self.brand)\n",
    "        print(\"Model:\", self.model)\n",
    "        print(\"Color:\", self.color)\n",
    "\n",
    "class Car(PrivateVehicle):\n",
    "    def __init__(self, brand, model, color, doors):\n",
    "        PrivateVehicle.__init__(self, brand, model, color)\n",
    "        self.doors = doors\n",
    "\n",
    "    def display(self):\n",
    "        PrivateVehicle.display(self)\n",
    "        print(\"Doors:\", self.doors)\n",
    "class golf_cart(Car):\n",
    "    pass\n",
    "\n",
    "class Motorcycle(PrivateVehicle):\n",
    "    def __init__(self, brand, model, color, seats):\n",
    "        PrivateVehicle.__init__(self, brand, model, color)\n",
    "        self.seats = seats\n",
    "\n",
    "    def display(self):\n",
    "        super().display()\n",
    "        print(\"Seats:\", self.seats)\n",
    "\n"
   ]
  },
  {
   "cell_type": "code",
   "execution_count": 42,
   "id": "816ea577",
   "metadata": {
    "slideshow": {
     "slide_type": "slide"
    }
   },
   "outputs": [],
   "source": [
    "class PublicVehicles:\n",
    "    def __init__(self, year, color):\n",
    "        self.year = year\n",
    "        self.color = color\n",
    "\n",
    "    def display(self):\n",
    "        print(\"Year:\", self.year)\n",
    "        print(\"Color:\", self.color)\n",
    "\n",
    "class Autobus(PublicVehicles):\n",
    "    def __init__(self, year, color, seats):\n",
    "        PublicVehicles.__init__(self, year, color)\n",
    "        self.seats = seats\n",
    "\n",
    "    def display(self):\n",
    "        PublicVehicles.display(self)\n",
    "        print(\"Seats:\", self.seats)\n",
    "\n",
    "class Taxi(PublicVehicles):\n",
    "    def __init__(self, year, color, busy):\n",
    "        PublicVehicles.__init__(self, year, color)\n",
    "        self.busy = busy\n",
    "\n",
    "    def display(self):\n",
    "        PublicVehicles.display(self)\n",
    "        print(\"Busy:\", self.busy)"
   ]
  },
  {
   "cell_type": "code",
   "execution_count": 47,
   "id": "e4f5a372",
   "metadata": {
    "slideshow": {
     "slide_type": "slide"
    }
   },
   "outputs": [],
   "source": [
    "class PrivateGarage:\n",
    "    def __init__(self):\n",
    "        self.vehicles = []\n",
    "\n",
    "    def add_vehicle(self, vehicle):\n",
    "        if isinstance(vehicle, PrivateVehicle):\n",
    "            self.vehicles.append(vehicle)\n",
    "\n",
    "    def display(self):\n",
    "        for vehicle in self.vehicles:\n",
    "            print(type(vehicle))\n",
    "            vehicle.display()"
   ]
  },
  {
   "cell_type": "code",
   "execution_count": null,
   "id": "f6cf40d4",
   "metadata": {
    "slideshow": {
     "slide_type": "slide"
    }
   },
   "outputs": [],
   "source": [
    "c1 = Car(\"Peugeot\", \"308\", \"blue\", 5)\n",
    "m1 = Motorcycle(\"Triumph\", \"Speed Triple\", \"white\", 2)\n",
    "a1 = Autobus(2015, \"Orange\", 50)\n",
    "t1 = Taxi(2018, \"black\", True)\n",
    "cg = golf_cart(\"1\", \"3\", \"green\", 0)\n",
    "\n",
    "g = PrivateGarage()\n",
    "g.add_vehicle(c1)\n",
    "g.add_vehicle(m1)\n",
    "g.add_vehicle(a1)\n",
    "g.add_vehicle(t1)\n",
    "g.add_vehicle(cg)\n",
    "\n",
    "g.display()"
   ]
  },
  {
   "cell_type": "markdown",
   "id": "6c41667a",
   "metadata": {
    "slideshow": {
     "slide_type": "slide"
    }
   },
   "source": [
    "# Python POO - Encapsulation\n",
    "\n",
    "L'encapsulation est un mécanisme qui permet de regrouper des données et les traitements qui s'y appliquent en une seule entité. Cette entité est appelée classe. L'encapsulation permet de cacher les données et de protéger l'intégrité des données en empêchant leur accès direct."
   ]
  },
  {
   "cell_type": "markdown",
   "id": "5e2b27aa",
   "metadata": {
    "slideshow": {
     "slide_type": "slide"
    }
   },
   "source": [
    "\n",
    "## Getters et setters\n",
    "\n",
    "Les getters et les setters sont des méthodes qui permettent d'accéder aux attributs d'un objet. Les getters permettent d'accéder aux attributs et les setters permettent de modifier les attributs."
   ]
  },
  {
   "cell_type": "code",
   "execution_count": 56,
   "id": "9343f317",
   "metadata": {
    "slideshow": {
     "slide_type": "slide"
    }
   },
   "outputs": [],
   "source": [
    "class Point:\n",
    "    def __init__(self, x, y):\n",
    "        self.__x = x\n",
    "        self.__y = y\n",
    "    \n",
    "    # getter method\n",
    "    def get_x(self):\n",
    "        return int(self.__x)\n",
    "\n",
    "    def get_y(self):\n",
    "        return self.__y\n",
    "    \n",
    "    # setter method\n",
    "    def set_x(self, x):\n",
    "        if not isinstance(x, (int, float)):\n",
    "            raise TypeError(\"x must be a number\")\n",
    "        if x < 0:\n",
    "            raise ValueError(\"x must be positive\")\n",
    "        self.__x = x\n",
    "    \n",
    "    def set_y(self, y):\n",
    "        if y < 0:\n",
    "            raise ValueError(\"x must be positive\")\n",
    "        if not isinstance(y, (int, float)):\n",
    "            raise TypeError(\"x must be a number\")\n",
    "        self.__y = y"
   ]
  },
  {
   "cell_type": "code",
   "execution_count": null,
   "id": "9d1bec40",
   "metadata": {
    "slideshow": {
     "slide_type": "slide"
    }
   },
   "outputs": [],
   "source": [
    "p1 = Point(5, 6)\n",
    "print(p1.get_x())\n",
    "p1.set_x(-3)\n",
    "print(p1.get_x())"
   ]
  },
  {
   "cell_type": "markdown",
   "id": "684f12e8",
   "metadata": {
    "slideshow": {
     "slide_type": "slide"
    }
   },
   "source": [
    "# Python POO - Annotations\n",
    "\n",
    "Les annotations de classes permettent de définir des comportements différents sur certaines methods de classes."
   ]
  },
  {
   "cell_type": "markdown",
   "id": "48daddf5",
   "metadata": {
    "slideshow": {
     "slide_type": "slide"
    }
   },
   "source": [
    "## Annotations - @staticmethod\n",
    "\n",
    "- Le décorateur @staticmethod est utilisé pour définir une méthode statique dans une classe.\n",
    "- Une méthode statique est une méthode qui n'a pas de référence implicite à l'instance de la classe (pas de premier argument self).\n",
    "- Elle peut être appelée à partir de la classe elle-même, sans nécessiter une instance de cette classe.\n",
    "- Une méthode statique est souvent utilisée pour des fonctionnalités qui sont indépendantes de toute instance ou de la classe elle-même.\n",
    "\n",
    "```python\n",
    "class Point:\n",
    "    def __init__(self, x, y):\n",
    "        self.x = x\n",
    "        self.y = y\n",
    "\n",
    "    @staticmethod\n",
    "    def distance(p1, p2):\n",
    "        return math.sqrt((p1.x - p2.x) ** 2 + (p1.y - p2.y) ** 2)\n",
    "```"
   ]
  },
  {
   "cell_type": "code",
   "execution_count": null,
   "id": "6119df1c",
   "metadata": {
    "slideshow": {
     "slide_type": "slide"
    }
   },
   "outputs": [],
   "source": [
    "class Point2D():\n",
    "    def __init__(self, x, y):\n",
    "        self.x = x\n",
    "        self.y = y\n",
    "    \n",
    "    @staticmethod\n",
    "    def point_distance2(p1, p2):\n",
    "        return ((p1.x-p2.x)**2 + (p1.y-p2.y)**2)**(1/2)\n",
    "        \n",
    "p1 = Point2D(0, 5)\n",
    "p2 = Point2D(5, 15)\n",
    "\n",
    "print(Point2D.point_distance2(p1, p2))"
   ]
  },
  {
   "cell_type": "markdown",
   "id": "012a1258",
   "metadata": {
    "slideshow": {
     "slide_type": "slide"
    }
   },
   "source": [
    "## Annotations - @classmethod\n",
    "\n",
    "- Le décorateur @classmethod est utilisé pour définir une méthode de classe dans une classe.\n",
    "- Une méthode de classe prend comme premier argument la classe elle-même, conventionnellement appelé cls.\n",
    "- Elle peut être appelée à partir de la classe elle-même, sans nécessiter une instance de cette classe.\n",
    "- Une méthode de classe est souvent utilisée pour effectuer des opérations qui concernent la classe dans son ensemble.\n",
    "\n",
    "```python\n",
    "class Point:\n",
    "    def __init__(self, x, y):\n",
    "        self.x = x\n",
    "        self.y = y\n",
    "\n",
    "    @classmethod\n",
    "    def from_tuple(cls, t):\n",
    "        return cls(t[0], t[1])\n",
    "```"
   ]
  },
  {
   "cell_type": "markdown",
   "id": "613806f9",
   "metadata": {
    "slideshow": {
     "slide_type": "slide"
    }
   },
   "source": [
    "## Annotations - @property\n",
    "\n",
    "- Le décorateur @property est utilisé pour définir une méthode comme une propriété d'une classe.\n",
    "- Il permet d'accéder à la méthode comme si elle était un attribut de la classe, sans nécessiter d'appel explicite.\n",
    "- Une propriété peut être utilisée pour obtenir (getter) ou définir (setter) la valeur d'un attribut, ou pour effectuer des opérations supplémentaires lors de l'accès à un attribut."
   ]
  },
  {
   "cell_type": "code",
   "execution_count": null,
   "id": "6cd4d6c5",
   "metadata": {
    "slideshow": {
     "slide_type": "slide"
    }
   },
   "outputs": [],
   "source": [
    "class Point:\n",
    "    def __init__(self, x, y):\n",
    "        self.x = x\n",
    "        self.y = y\n",
    "    \n",
    "    def calc(self):\n",
    "        return self.distance_from_origin * 5\n",
    "\n",
    "    @property\n",
    "    def distance_from_origin(self):\n",
    "        import math\n",
    "        return math.sqrt(self.x ** 2 + self.y ** 2)\n",
    "\n",
    "    @distance_from_origin.setter\n",
    "    def distance_from_origin(self, d):\n",
    "        ratio = d / self.distance_from_origin\n",
    "        self.x *= ratio\n",
    "        self.y *= ratio\n",
    "\n",
    "    @distance_from_origin.deleter\n",
    "    def distance_from_origin(self):\n",
    "        self.x = 0\n",
    "        self.y = 0\n",
    "\n",
    "p = Point(3, 4)\n",
    "print(p.x, p.y)\n",
    "print(p.distance_from_origin)\n",
    "p.distance_from_origin = 2\n",
    "print(p.x, p.y)\n",
    "print(p.calc())"
   ]
  },
  {
   "cell_type": "markdown",
   "id": "f96c6daa",
   "metadata": {
    "slideshow": {
     "slide_type": "slide"
    }
   },
   "source": [
    "## Annotations - @abstractmethod\n",
    "\n",
    "- Le décorateur @abstractmethod est utilisé pour définir une méthode abstraite dans une classe abstraite.\n",
    "- Une méthode abstraite est une méthode qui doit être implémentée dans les classes dérivées, mais qui n'a pas d'implémentation concrète dans la classe abstraite.\n",
    "- Elle sert de contrat pour les sous-classes et garantit que toutes les sous-classes fournissent une implémentation de cette méthode.\n",
    "- Une classe abstraite est déclarée en utilisant le module abc (Abstract Base Classes)."
   ]
  },
  {
   "cell_type": "code",
   "execution_count": null,
   "id": "f2b62a0f",
   "metadata": {
    "slideshow": {
     "slide_type": "slide"
    }
   },
   "outputs": [],
   "source": [
    "from abc import ABC, abstractmethod\n",
    "\n",
    "class Shape(ABC):\n",
    "    @abstractmethod\n",
    "    def area(self):\n",
    "        pass\n",
    "\n",
    "class Rectangle(Shape):\n",
    "    def __init__(self, width, height):\n",
    "        self.width = width\n",
    "        self.height = height\n",
    "    def area(self):\n",
    "        return self.width * self.height\n",
    "    \n",
    "class Circle(Shape):\n",
    "    def __init__(self, radius):\n",
    "        self.r = radius\n",
    "    def area(self):\n",
    "        return 3.1415*self.r**2\n",
    "        \n",
    "r = Rectangle(2,3)\n",
    "print(r.area())\n",
    "c = Circle(10)\n",
    "print(c.area())"
   ]
  },
  {
   "cell_type": "markdown",
   "id": "cc41f3f3",
   "metadata": {
    "slideshow": {
     "slide_type": "slide"
    }
   },
   "source": [
    "## Annotations - @dataclass\n",
    "\n",
    "- Le décorateur @dataclass est utilisé pour créer rapidement une classe de données (data class) en Python.\n",
    "- Il génère automatiquement des méthodes spéciales telles que __init__, __repr__, __eq__, etc., à partir des annotations de type des attributs de classe.\n",
    "- Les classes de données sont principalement utilisées pour stocker des données et fournissent une implémentation prédéfinie pour les méthodes spéciales.\n",
    "- Le module dataclasses est requis pour utiliser ce décorateur, qui est disponible à partir de Python 3.7."
   ]
  },
  {
   "cell_type": "code",
   "execution_count": null,
   "id": "d0e1052b",
   "metadata": {
    "slideshow": {
     "slide_type": "slide"
    }
   },
   "outputs": [],
   "source": [
    "from dataclasses import dataclass\n",
    "\n",
    "@dataclass\n",
    "class Point():\n",
    "    x\n",
    "    y\n",
    "    \n",
    "p1 = Point()\n",
    "print(p1)"
   ]
  },
  {
   "cell_type": "markdown",
   "id": "afba349f",
   "metadata": {
    "slideshow": {
     "slide_type": "slide"
    }
   },
   "source": [
    "\n",
    "\n",
    "# Python POO - Operator Overloading\n",
    "\n",
    "L'overloading d'opérateur est un mécanisme qui permet de redéfinir le comportement des opérateurs (+, -, *, /, <, >, ==, !=, etc.) pour les objets d'une classe. On parle aussi de surcharge d'opérateur."
   ]
  },
  {
   "cell_type": "markdown",
   "id": "8f37eaa0",
   "metadata": {
    "slideshow": {
     "slide_type": "slide"
    }
   },
   "source": [
    "## Magic functions\n",
    "\n",
    "Les magic functions en python sont les fonctions qui commencnet et terminent par deux underscores`__x__`. Elles sont appelées automatiquement par python dans certaines situations. Par exemple, la fonction `__init__()` est appelée automatiquement lors de la création d'un objet.\n",
    "\n",
    "Python utilise les magic function lorqu'un operateur est appliqué, une magic function est appelée. Par exemple, lorsqu'on applique l'opérateur `+` à deux objets, la fonction `__add__()` est appelée."
   ]
  },
  {
   "cell_type": "code",
   "execution_count": null,
   "id": "890e74e4",
   "metadata": {},
   "outputs": [],
   "source": [
    "x = 10\n",
    "\n",
    "print(x + 5.0)\n",
    "print(float(x).__add__(float(5)))"
   ]
  },
  {
   "cell_type": "markdown",
   "id": "128b5bd7",
   "metadata": {
    "slideshow": {
     "slide_type": "slide"
    }
   },
   "source": [
    "### Quelque magic functions\n",
    "\n",
    "- `__init__()` : appelée lors de la création d'un objet\n",
    "- `__str__()` : appelée lors de l'appel de la fonction `str()`\n",
    "- `__len__()` : appelée lors de l'appel de la fonction `len()`\n",
    "- `__add__()` : appelée lors de l'opération `+`"
   ]
  },
  {
   "cell_type": "markdown",
   "id": "e80dcace",
   "metadata": {},
   "source": [
    "#### exemple 1: + operator overloading\n",
    "\n",
    "On peut définir une classe `Point` qui représente un point dans un plan. On peut définir l'opérateur `+` pour ajouter deux points. Pour cela, on définit la méthode `__add__()` qui prend comme paramètre deux points et qui retourne un nouveau point dont les coordonnées sont la somme des coordonnées des deux points."
   ]
  },
  {
   "cell_type": "code",
   "execution_count": null,
   "id": "a434a32a",
   "metadata": {
    "slideshow": {
     "slide_type": "slide"
    }
   },
   "outputs": [],
   "source": [
    "class Point:\n",
    "    def __init__(self, x=0, y=0):\n",
    "        self.x = x\n",
    "        self.y = y\n",
    "    def __str__(self):\n",
    "        return \"Point({0}, {1})\".format(self.x, self.y)\n",
    "    @staticmethod\n",
    "    def add(p1, p2):\n",
    "        x = p1.x + p2.x\n",
    "        y = p1.y + p2.y\n",
    "        return Point(x, y)\n",
    "    def __add__(p1, p2):\n",
    "        x = p1.x + p2.x\n",
    "        y = p1.y + p2.y\n",
    "        return Point(x, y)\n",
    "    def __mul__(p1, p2):\n",
    "        x = p1.x * p2.x\n",
    "        y = p1.y * p2.y\n",
    "        return Point(x, y)\n",
    "    \n",
    "p1 = Point(1, 2)\n",
    "p2 = Point(2, 3)\n",
    "p3 = Point(5, 10)\n",
    "#Point.add(Point.dd(p1,p2), p3)\n",
    "print(p1)\n",
    "print(p3+p1*p2)"
   ]
  },
  {
   "cell_type": "markdown",
   "id": "14892641",
   "metadata": {},
   "source": [
    "Ici, on a définis la méthode `__add__()` qui permet d'ajouter deux points. Cette méthode prend comme paramètre un point `other`. Elle retourne un nouveau point dont les coordonnées sont la somme des coordonnées de ses propres points `self` et des points de `other`."
   ]
  },
  {
   "cell_type": "markdown",
   "id": "749931b7",
   "metadata": {
    "slideshow": {
     "slide_type": "slide"
    }
   },
   "source": [
    "### list of operators and their magic functions\n",
    "\n",
    "| Operateur | Expression | Magic function |\n",
    "| --------- | ---------- | -------------- |\n",
    "| Addition | p1 + p2 | p1.\\__add__(p2) |\n",
    "| Soustraction | p1 - p2 | p1.\\__sub__(p2) |\n",
    "| Multiplication | p1 * p2 | p1.\\__mul__(p2) |\n",
    "| Puissance | p1 ** p2 | p1.\\__pow__(p2) |\n",
    "| Division | p1 / p2 | p1.\\__truediv__(p2) |\n",
    "| Floor division | p1 // p2 | p1.__floordiv__(p2) |\n",
    "| Modulo | p1 % p2 | p1.__mod__(p2) |\n",
    "| Bitwise left shift | p1 << p2 | p1.__lshift__(p2) |\n",
    "| Bitwise right shift | p1 >> p2 | p1.__rshift__(p2) |\n",
    "| Bitwise AND | p1 & p2 | p1.__and__(p2) |\n",
    "| Bitwise OR | p1 \\| p2 | p1.__or__(p2) |\n",
    "| Bitwise XOR | p1 ^ p2 | p1.__xor__(p2) |\n",
    "| Bitwise NOT | ~p1 | p1.__invert__() |"
   ]
  },
  {
   "cell_type": "markdown",
   "id": "15a0cb84",
   "metadata": {
    "slideshow": {
     "slide_type": "slide"
    }
   },
   "source": [
    "## Overloading comparison operators\n",
    "\n",
    "On peut définir les opérateurs de comparaison pour comparer deux points. Pour cela, on définit les méthodes `__lt__()`, `__le__()`, `__eq__()`, `__ne__()`, `__gt__()` et `__ge__()`."
   ]
  },
  {
   "cell_type": "code",
   "execution_count": null,
   "id": "893098ab",
   "metadata": {
    "scrolled": true,
    "slideshow": {
     "slide_type": "slide"
    }
   },
   "outputs": [],
   "source": [
    "class Person:\n",
    "    def __init__(self, name, age):\n",
    "        self.name = name\n",
    "        self.age = age\n",
    "\n",
    "    # overload < operator\n",
    "    def __lt__(self, other):\n",
    "        if type(other) != Person:\n",
    "            raise ValueError(\"Persons can be compared only with Person class\")\n",
    "        return self.age < other.age\n",
    "    \n",
    "    def younger(self, p2):\n",
    "        return self.age < p2.age\n",
    "\n",
    "p1 = Person(\"Alice\", 20)\n",
    "p2 = Person(\"Bob\", 30)\n",
    "\n",
    "print(p1 < 34)\n",
    "\n"
   ]
  },
  {
   "cell_type": "markdown",
   "id": "822f5e25",
   "metadata": {},
   "source": [
    "> **Note**: Ici, nous avons de comparer les `Person`en fonction de leur age."
   ]
  },
  {
   "cell_type": "markdown",
   "id": "878e71bd",
   "metadata": {
    "slideshow": {
     "slide_type": "slide"
    }
   },
   "source": [
    "### list of comparison operators and their magic functions\n",
    "\n",
    "| Operateur | Expression | Magic function |\n",
    "| --------- | ---------- | -------------- |\n",
    "| Plus petit que | p1 < p2 | p1.__lt__(p2) |\n",
    "| Plus petit ou égal à | p1 <= p2 | p1.__le__(p2) |\n",
    "| Égal à | p1 == p2 | p1.__eq__(p2) |\n",
    "| Différent de | p1 != p2 | p1.__ne__(p2) |\n",
    "| Plus grand que | p1 > p2 | p1.__gt__(p2) |\n",
    "| Plus grand ou égal à | p1 >= p2 | p1.__ge__(p2) |"
   ]
  },
  {
   "cell_type": "markdown",
   "id": "976061a3",
   "metadata": {
    "slideshow": {
     "slide_type": "slide"
    }
   },
   "source": [
    "## Overloading unary operators\n",
    "\n",
    "On peut définir les opérateurs unaire `-` et `+` pour changer le signe des coordonnées d'un point. Pour cela, on définit les méthodes `__neg__()` et `__pos__()`.\n",
    "\n",
    "### list of unary operators and their magic functions\n",
    "\n",
    "| Operateur | Expression | Magic function |\n",
    "| --------- | ---------- | -------------- |\n",
    "| Moins unaire | -p1 | p1.__neg__() |\n",
    "| Plus unaire | +p1 | p1.__pos__() |"
   ]
  }
 ],
 "metadata": {
  "celltoolbar": "Slideshow",
  "kernelspec": {
   "display_name": "Python 3 (ipykernel)",
   "language": "python",
   "name": "python3"
  },
  "language_info": {
   "codemirror_mode": {
    "name": "ipython",
    "version": 3
   },
   "file_extension": ".py",
   "mimetype": "text/x-python",
   "name": "python",
   "nbconvert_exporter": "python",
   "pygments_lexer": "ipython3",
   "version": "3.13.5"
  }
 },
 "nbformat": 4,
 "nbformat_minor": 5
}
