{
 "cells": [
  {
   "cell_type": "markdown",
   "id": "b4b59683",
   "metadata": {},
   "source": [
    "#Corrigé des Exercices Python : Variables et Littéraux"
   ]
  },
  {
   "cell_type": "markdown",
   "id": "0fd3bebc",
   "metadata": {},
   "source": [
    "## Assignation de variables"
   ]
  },
  {
   "cell_type": "markdown",
   "id": "ed2df4c4",
   "metadata": {},
   "source": [
    "**Exercice :** Crée une variable `nom` qui contient ton prénom et affiche-la."
   ]
  },
  {
   "cell_type": "code",
   "execution_count": null,
   "id": "ea85dd9f",
   "metadata": {},
   "outputs": [],
   "source": [
    "nom = \"Alice\"\n",
    "print(nom)"
   ]
  },
  {
   "cell_type": "markdown",
   "id": "8fca2c1c",
   "metadata": {},
   "source": [
    "**Exercice :** Crée deux variables `age` et `ville`, puis affiche une phrase complète en utilisant ces variables."
   ]
  },
  {
   "cell_type": "code",
   "execution_count": null,
   "id": "6761be99",
   "metadata": {},
   "outputs": [],
   "source": [
    "age = 25\n",
    "ville = \"Paris\"\n",
    "nom = \"Alice\"\n",
    "print(f\"Je m'appelle {nom}, j'ai {age} ans et j'habite à {ville}.\")"
   ]
  },
  {
   "cell_type": "markdown",
   "id": "b8fa0eca",
   "metadata": {},
   "source": [
    "## Changement de valeur d'une variable"
   ]
  },
  {
   "cell_type": "markdown",
   "id": "b89f1516",
   "metadata": {},
   "source": [
    "**Exercice :** Déclare une variable `couleur` avec la valeur `'rouge'`, puis change-la pour `'bleu'`."
   ]
  },
  {
   "cell_type": "code",
   "execution_count": null,
   "id": "b2cd0013",
   "metadata": {},
   "outputs": [],
   "source": [
    "couleur = \"rouge\"\n",
    "print(couleur)\n",
    "couleur = \"bleu\"\n",
    "print(couleur)"
   ]
  },
  {
   "cell_type": "markdown",
   "id": "08705a26",
   "metadata": {},
   "source": [
    "**Exercice :** Affiche la valeur de `couleur` avant et après le changement."
   ]
  },
  {
   "cell_type": "code",
   "execution_count": null,
   "id": "074360cf",
   "metadata": {},
   "outputs": [],
   "source": [
    "# Affiche déjà fait ci-dessus"
   ]
  },
  {
   "cell_type": "markdown",
   "id": "abf2fb05",
   "metadata": {},
   "source": [
    "## Assignation multiple"
   ]
  },
  {
   "cell_type": "markdown",
   "id": "b10442bb",
   "metadata": {},
   "source": [
    "**Exercice :** Assigne les valeurs `10`, `20`, `30` à trois variables `a, b, c` en une seule ligne."
   ]
  },
  {
   "cell_type": "code",
   "execution_count": null,
   "id": "cdeecd10",
   "metadata": {},
   "outputs": [],
   "source": [
    "a, b, c = 10, 20, 30\n",
    "print(a, b, c)"
   ]
  },
  {
   "cell_type": "markdown",
   "id": "a5962d44",
   "metadata": {},
   "source": [
    "**Exercice :** Échange les valeurs de deux variables (`x` et `y`) sans utiliser de variable temporaire."
   ]
  },
  {
   "cell_type": "code",
   "execution_count": null,
   "id": "fac03d1b",
   "metadata": {},
   "outputs": [],
   "source": [
    "x, y = 5, 10\n",
    "x, y = y, x\n",
    "print(x, y)"
   ]
  },
  {
   "cell_type": "markdown",
   "id": "14e6d4ac",
   "metadata": {},
   "source": [
    "## Règles pour nommer les variables"
   ]
  },
  {
   "cell_type": "markdown",
   "id": "76d5ae0f",
   "metadata": {},
   "source": [
    "**Exercice :** Corrige les erreurs dans les noms de variables suivants :\n",
    "```python\n",
    "2age = 25\n",
    "nom-complet = \"Alice\"\n",
    "ma ville = \"Paris\"\n",
    "```"
   ]
  },
  {
   "cell_type": "code",
   "execution_count": null,
   "id": "bc2e5cd9",
   "metadata": {},
   "outputs": [],
   "source": [
    "age2 = 25\n",
    "nom_complet = \"Alice\"\n",
    "ma_ville = \"Paris\""
   ]
  },
  {
   "cell_type": "markdown",
   "id": "47927fba",
   "metadata": {},
   "source": [
    "**Exercice :** Propose trois bons exemples de noms de variables valides."
   ]
  },
  {
   "cell_type": "code",
   "execution_count": null,
   "id": "05cec792",
   "metadata": {},
   "outputs": [],
   "source": [
    "# Exemples valides : compteur, temperature_max, userName"
   ]
  },
  {
   "cell_type": "markdown",
   "id": "23aaa368",
   "metadata": {},
   "source": [
    "## Constantes en Python"
   ]
  },
  {
   "cell_type": "markdown",
   "id": "d90acf28",
   "metadata": {},
   "source": [
    "**Exercice :** Déclare une constante `PI = 3.14159` et utilise-la pour calculer la circonférence d’un cercle de rayon 5."
   ]
  },
  {
   "cell_type": "code",
   "execution_count": null,
   "id": "435b8988",
   "metadata": {},
   "outputs": [],
   "source": [
    "PI = 3.14159\n",
    "rayon = 5\n",
    "circonference = 2 * PI * rayon\n",
    "print(circonference)"
   ]
  },
  {
   "cell_type": "markdown",
   "id": "42e14511",
   "metadata": {},
   "source": [
    "**Exercice :** Explique dans un commentaire pourquoi on ne doit pas modifier une constante même si Python le permet."
   ]
  },
  {
   "cell_type": "code",
   "execution_count": null,
   "id": "f9e606e3",
   "metadata": {},
   "outputs": [],
   "source": [
    "# Même si on peut écrire PI = 3, on ne doit pas car PI représente une constante mathématique."
   ]
  },
  {
   "cell_type": "markdown",
   "id": "59e11f2d",
   "metadata": {},
   "source": [
    "## Literals numériques"
   ]
  },
  {
   "cell_type": "markdown",
   "id": "af75cbec",
   "metadata": {},
   "source": [
    "**Exercice :** Déclare un entier, un nombre flottant et un nombre complexe."
   ]
  },
  {
   "cell_type": "code",
   "execution_count": null,
   "id": "fd35112f",
   "metadata": {},
   "outputs": [],
   "source": [
    "entier = 42\n",
    "flottant = 3.14\n",
    "complexe = 2 + 3j"
   ]
  },
  {
   "cell_type": "markdown",
   "id": "a13ca070",
   "metadata": {},
   "source": [
    "**Exercice :** Affiche le type (`type(...)`) de chacun."
   ]
  },
  {
   "cell_type": "code",
   "execution_count": null,
   "id": "a1ae21f9",
   "metadata": {},
   "outputs": [],
   "source": [
    "print(type(entier))\n",
    "print(type(flottant))\n",
    "print(type(complexe))"
   ]
  },
  {
   "cell_type": "markdown",
   "id": "d938c150",
   "metadata": {},
   "source": [
    "## Literals booléens"
   ]
  },
  {
   "cell_type": "markdown",
   "id": "50bbfc94",
   "metadata": {},
   "source": [
    "**Exercice :** Crée une variable `est_connecte = True` et une variable `a_achete = False`."
   ]
  },
  {
   "cell_type": "code",
   "execution_count": null,
   "id": "e69d286f",
   "metadata": {},
   "outputs": [],
   "source": [
    "est_connecte = True\n",
    "a_achete = False"
   ]
  },
  {
   "cell_type": "markdown",
   "id": "7d671b03",
   "metadata": {},
   "source": [
    "**Exercice :** Écris une condition qui affiche `'Bienvenue'` seulement si `est_connecte` est vrai."
   ]
  },
  {
   "cell_type": "code",
   "execution_count": null,
   "id": "ae6dca4e",
   "metadata": {},
   "outputs": [],
   "source": [
    "if est_connecte:\n",
    "    print(\"Bienvenue\")"
   ]
  },
  {
   "cell_type": "markdown",
   "id": "57a3ba79",
   "metadata": {},
   "source": [
    "## String et char literals"
   ]
  },
  {
   "cell_type": "markdown",
   "id": "3ec79d12",
   "metadata": {},
   "source": [
    "**Exercice :** Stocke ton prénom dans une variable et affiche la première lettre."
   ]
  },
  {
   "cell_type": "code",
   "execution_count": null,
   "id": "69cfa016",
   "metadata": {},
   "outputs": [],
   "source": [
    "prenom = \"Alice\"\n",
    "print(prenom[0])"
   ]
  },
  {
   "cell_type": "markdown",
   "id": "68deaa0f",
   "metadata": {},
   "source": [
    "**Exercice :** Crée une phrase qui inclut à la fois des guillemets simples et doubles."
   ]
  },
  {
   "cell_type": "code",
   "execution_count": null,
   "id": "d1bc965e",
   "metadata": {},
   "outputs": [],
   "source": [
    "phrase = 'Elle a dit : \"Bonjour\"'\n",
    "print(phrase)"
   ]
  },
  {
   "cell_type": "markdown",
   "id": "828c040d",
   "metadata": {},
   "source": [
    "## Literals spéciaux"
   ]
  },
  {
   "cell_type": "markdown",
   "id": "0f0dd161",
   "metadata": {},
   "source": [
    "**Exercice :** Assigne `None` à une variable `resultat` et affiche-la."
   ]
  },
  {
   "cell_type": "code",
   "execution_count": null,
   "id": "0a636da1",
   "metadata": {},
   "outputs": [],
   "source": [
    "resultat = None\n",
    "print(resultat)"
   ]
  },
  {
   "cell_type": "markdown",
   "id": "f8774b63",
   "metadata": {},
   "source": [
    "**Exercice :** Explique dans un commentaire dans quel cas `None` peut être utile."
   ]
  },
  {
   "cell_type": "code",
   "execution_count": null,
   "id": "31644ea2",
   "metadata": {},
   "outputs": [],
   "source": [
    "# None est utile pour indiquer l'absence de valeur ou un résultat encore inconnu."
   ]
  },
  {
   "cell_type": "markdown",
   "id": "cc337def",
   "metadata": {},
   "source": [
    "## Literals collections"
   ]
  },
  {
   "cell_type": "markdown",
   "id": "0bef7b38",
   "metadata": {},
   "source": [
    "**Exercice :** Crée une **liste** de 3 fruits et affiche le deuxième élément."
   ]
  },
  {
   "cell_type": "code",
   "execution_count": null,
   "id": "065d7903",
   "metadata": {},
   "outputs": [],
   "source": [
    "fruits = [\"pomme\", \"banane\", \"cerise\"]\n",
    "print(fruits[1])"
   ]
  },
  {
   "cell_type": "markdown",
   "id": "effec0b3",
   "metadata": {},
   "source": [
    "**Exercice :** Crée un **tuple** de 3 couleurs et montre qu’il est immuable (essaie de changer une valeur)."
   ]
  },
  {
   "cell_type": "code",
   "execution_count": null,
   "id": "98a5532e",
   "metadata": {},
   "outputs": [],
   "source": [
    "couleurs = (\"rouge\", \"vert\", \"bleu\")\n",
    "# couleurs[0] = \"jaune\" # Erreur car tuple immuable"
   ]
  },
  {
   "cell_type": "markdown",
   "id": "6e8610f3",
   "metadata": {},
   "source": [
    "**Exercice :** Crée un **dictionnaire** qui associe un prénom à un âge, puis affiche l’âge en utilisant la clé."
   ]
  },
  {
   "cell_type": "code",
   "execution_count": null,
   "id": "87bb7451",
   "metadata": {},
   "outputs": [],
   "source": [
    "ages = {\"Alice\": 25, \"Bob\": 30}\n",
    "print(ages[\"Alice\"])"
   ]
  },
  {
   "cell_type": "markdown",
   "id": "4378fcc9",
   "metadata": {},
   "source": [
    "**Exercice :** Crée un **ensemble (set)** de nombres avec des doublons et montre que les doublons disparaissent."
   ]
  },
  {
   "cell_type": "code",
   "execution_count": null,
   "id": "0fd1963e",
   "metadata": {},
   "outputs": [],
   "source": [
    "nombres = {1, 2, 2, 3, 3, 4}\n",
    "print(nombres)"
   ]
  }
 ],
 "metadata": {},
 "nbformat": 4,
 "nbformat_minor": 5
}
