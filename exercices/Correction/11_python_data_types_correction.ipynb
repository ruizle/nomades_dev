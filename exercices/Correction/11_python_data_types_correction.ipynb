{
 "cells": [
  {
   "cell_type": "markdown",
   "id": "81ee75d2",
   "metadata": {},
   "source": [
    "# Corrigé des Exercices Python : Types de données"
   ]
  },
  {
   "cell_type": "markdown",
   "id": "679fdd51",
   "metadata": {},
   "source": [
    "## Types de données numériques (Numeric)"
   ]
  },
  {
   "cell_type": "markdown",
   "id": "83a8fbc2",
   "metadata": {},
   "source": [
    "**Exercice :** Déclare trois variables : `num_int` avec une valeur entière de ton choix, `num_float` avec un nombre décimal, et `num_complex` avec un nombre complexe. Affiche leur valeur et leur type en utilisant la fonction `type()`."
   ]
  },
  {
   "cell_type": "code",
   "execution_count": 3,
   "id": "8ee233e4",
   "metadata": {},
   "outputs": [
    {
     "name": "stdout",
     "output_type": "stream",
     "text": [
      "42 est de type <class 'int'>\n",
      "3.14 est de type <class 'float'>\n",
      "(2+5j) est de type <class 'complex'>\n"
     ]
    }
   ],
   "source": [
    "num_int = 42\n",
    "num_float = 3.14\n",
    "num_complex = 2 + 5j\n",
    "\n",
    "print(f'{num_int} est de type {type(num_int)}')\n",
    "print(f'{num_float} est de type {type(num_float)}')\n",
    "print(f'{num_complex} est de type {type(num_complex)}')"
   ]
  },
  {
   "cell_type": "markdown",
   "id": "359cfd02",
   "metadata": {},
   "source": [
    "**Exercice :** Calcule le résultat de l'opération `10 + 5.5` et affiche son type. Explique pourquoi le résultat a ce type."
   ]
  },
  {
   "cell_type": "code",
   "execution_count": 4,
   "id": "55126ffb",
   "metadata": {},
   "outputs": [
    {
     "name": "stdout",
     "output_type": "stream",
     "text": [
      "Le résultat est 15.5 et son type est <class 'float'>\n"
     ]
    }
   ],
   "source": [
    "resultat = 10 + 5.5\n",
    "print(f'Le résultat est {resultat} et son type est {type(resultat)}')\n",
    "# Le résultat est un float car Python effectue une conversion implicite de l'entier (int) vers le flottant (float) pour éviter la perte de données."
   ]
  },
  {
   "cell_type": "markdown",
   "id": "61bb11ba",
   "metadata": {},
   "source": [
    "## Type de données chaîne de caractères (String)"
   ]
  },
  {
   "cell_type": "markdown",
   "id": "eb14b3a6",
   "metadata": {},
   "source": [
    "**Exercice :** Crée une variable `prenom` contenant ton prénom et une variable `nom` contenant ton nom de famille. Affiche une phrase complète en utilisant ces deux variables. Par exemple : 'Mon nom complet est ...'."
   ]
  },
  {
   "cell_type": "code",
   "execution_count": 5,
   "id": "47e83fd9",
   "metadata": {},
   "outputs": [
    {
     "name": "stdout",
     "output_type": "stream",
     "text": [
      "Mon nom complet est Alice Martin.\n"
     ]
    }
   ],
   "source": [
    "prenom = 'Alice'\n",
    "nom = 'Martin'\n",
    "print(f'Mon nom complet est {prenom} {nom}.')"
   ]
  },
  {
   "cell_type": "markdown",
   "id": "617397da",
   "metadata": {},
   "source": [
    "**Exercice :** Écris une chaîne de caractères qui contient à la fois des guillemets doubles et simples. Affiche-la."
   ]
  },
  {
   "cell_type": "code",
   "execution_count": 6,
   "id": "ab1d6660",
   "metadata": {},
   "outputs": [
    {
     "name": "stdout",
     "output_type": "stream",
     "text": [
      "Ceci est une phrase avec des \"guillemets doubles\" et des 'guillemets simples'.\n"
     ]
    }
   ],
   "source": [
    "print('Ceci est une phrase avec des \"guillemets doubles\" et des \\'guillemets simples\\'.')"
   ]
  },
  {
   "cell_type": "markdown",
   "id": "c8e7dc9a",
   "metadata": {},
   "source": [
    "## Types de données de séquence (Sequence)"
   ]
  },
  {
   "cell_type": "markdown",
   "id": "b67d8697",
   "metadata": {},
   "source": [
    "**Exercice :** Crée une liste nommée `fruits` contenant 'pomme', 'banane', et 'cerise'. Affiche le deuxième élément de la liste et change le premier élément par 'orange', puis affiche la liste entière."
   ]
  },
  {
   "cell_type": "code",
   "execution_count": 7,
   "id": "ec5df93b",
   "metadata": {},
   "outputs": [
    {
     "name": "stdout",
     "output_type": "stream",
     "text": [
      "banane\n",
      "['orange', 'banane', 'cerise']\n"
     ]
    }
   ],
   "source": [
    "fruits = ['pomme', 'banane', 'cerise']\n",
    "print(fruits[1])\n",
    "fruits[0] = 'orange'\n",
    "print(fruits)"
   ]
  },
  {
   "cell_type": "markdown",
   "id": "ffc6855f",
   "metadata": {},
   "source": [
    "**Exercice :** Crée un tuple nommé `coordonnees` avec les valeurs `(10, 20)`. Essaie de changer le premier élément par 15 et explique ce qui se passe."
   ]
  },
  {
   "cell_type": "code",
   "execution_count": 8,
   "id": "17523cfd",
   "metadata": {},
   "outputs": [],
   "source": [
    "coordonnees = (10, 20)\n",
    "# coordonnees[0] = 15 # Cette ligne va générer une erreur car les tuples sont immuables (ne peuvent pas être modifiés)."
   ]
  },
  {
   "cell_type": "markdown",
   "id": "521089bd",
   "metadata": {},
   "source": [
    "## Type de données Set"
   ]
  },
  {
   "cell_type": "markdown",
   "id": "b6bc2c46",
   "metadata": {},
   "source": [
    "**Exercice :** Crée un set nommé `numeros` contenant les valeurs `1, 2, 3, 2, 4, 1`. Affiche le set et explique pourquoi certaines valeurs ont disparu."
   ]
  },
  {
   "cell_type": "code",
   "execution_count": 9,
   "id": "8d2898fc",
   "metadata": {},
   "outputs": [
    {
     "name": "stdout",
     "output_type": "stream",
     "text": [
      "{1, 2, 3, 4}\n"
     ]
    }
   ],
   "source": [
    "numeros = {1, 2, 3, 2, 4, 1}\n",
    "print(numeros)\n",
    "# Les doublons ont été automatiquement supprimés car les sets ne peuvent contenir que des éléments uniques."
   ]
  },
  {
   "cell_type": "markdown",
   "id": "12e02377",
   "metadata": {},
   "source": [
    "**Exercice :** Vérifie si le nombre 3 est présent dans ton set `numeros` et affiche le résultat."
   ]
  },
  {
   "cell_type": "code",
   "execution_count": 10,
   "id": "42c90b50",
   "metadata": {},
   "outputs": [
    {
     "name": "stdout",
     "output_type": "stream",
     "text": [
      "True\n"
     ]
    }
   ],
   "source": [
    "numeros = {1, 2, 3, 4}\n",
    "print(3 in numeros)"
   ]
  },
  {
   "cell_type": "markdown",
   "id": "21849d19",
   "metadata": {},
   "source": [
    "## Type de données Dictionnaire (Dictionary)"
   ]
  },
  {
   "cell_type": "markdown",
   "id": "93894de2",
   "metadata": {},
   "source": [
    "**Exercice :** Crée un dictionnaire nommé `personne` avec les clés 'nom' et 'age'. Associe ton nom à la clé 'nom' et ton âge à la clé 'age'. Affiche l'âge en utilisant la clé."
   ]
  },
  {
   "cell_type": "code",
   "execution_count": 11,
   "id": "bf3d0636",
   "metadata": {},
   "outputs": [
    {
     "name": "stdout",
     "output_type": "stream",
     "text": [
      "30\n"
     ]
    }
   ],
   "source": [
    "personne = {'nom': 'Alice', 'age': 30}\n",
    "print(personne['age'])"
   ]
  },
  {
   "cell_type": "markdown",
   "id": "84de72d1",
   "metadata": {},
   "source": [
    "**Exercice :** Modifie l'âge dans le dictionnaire `personne` et ajoute une nouvelle clé 'ville' avec ta ville de résidence. Affiche le dictionnaire complet."
   ]
  },
  {
   "cell_type": "code",
   "execution_count": 12,
   "id": "fb374612",
   "metadata": {},
   "outputs": [
    {
     "name": "stdout",
     "output_type": "stream",
     "text": [
      "{'nom': 'Alice', 'age': 31, 'ville': 'Paris'}\n"
     ]
    }
   ],
   "source": [
    "personne = {'nom': 'Alice', 'age': 30}\n",
    "personne['age'] = 31\n",
    "personne['ville'] = 'Paris'\n",
    "print(personne)"
   ]
  },
  {
   "cell_type": "markdown",
   "id": "50bea6fd",
   "metadata": {},
   "source": [
    "## Conversion de types (Type Conversion)"
   ]
  },
  {
   "cell_type": "markdown",
   "id": "43d450f7",
   "metadata": {},
   "source": [
    "**Exercice :** Déclare une variable `num_str` contenant la chaîne de caractères `'123'`. Convertis cette chaîne en un entier et stocke le résultat dans une nouvelle variable `num_int`. Affiche les deux variables et leurs types."
   ]
  },
  {
   "cell_type": "code",
   "execution_count": 13,
   "id": "c55ea6ad",
   "metadata": {},
   "outputs": [
    {
     "name": "stdout",
     "output_type": "stream",
     "text": [
      "num_str: 123 (<class 'str'>)\n",
      "num_int: 123 (<class 'int'>)\n"
     ]
    }
   ],
   "source": [
    "num_str = '123'\n",
    "num_int = int(num_str)\n",
    "print(f'num_str: {num_str} ({type(num_str)})')\n",
    "print(f'num_int: {num_int} ({type(num_int)})')"
   ]
  },
  {
   "cell_type": "markdown",
   "id": "117e22ff",
   "metadata": {},
   "source": [
    "**Exercice :** Écris un code qui additionne un entier `100` avec un flottant `2.5`. Affiche le résultat et son type. Explique le processus de conversion de type qui a eu lieu."
   ]
  },
  {
   "cell_type": "code",
   "execution_count": 14,
   "id": "ca78994b",
   "metadata": {},
   "outputs": [
    {
     "name": "stdout",
     "output_type": "stream",
     "text": [
      "Le résultat est 102.5 et son type est <class 'float'>\n"
     ]
    }
   ],
   "source": [
    "resultat = 100 + 2.5\n",
    "print(f'Le résultat est {resultat} et son type est {type(resultat)}')\n",
    "# Python a converti l'entier 100 en flottant 100.0 (conversion implicite) avant d'effectuer l'addition, car le flottant est considéré comme un type de données supérieur pour éviter la perte d'information."
   ]
  }
 ],
 "metadata": {
  "kernelspec": {
   "display_name": "nomades_PPL",
   "language": "python",
   "name": "python3"
  },
  "language_info": {
   "codemirror_mode": {
    "name": "ipython",
    "version": 3
   },
   "file_extension": ".py",
   "mimetype": "text/x-python",
   "name": "python",
   "nbconvert_exporter": "python",
   "pygments_lexer": "ipython3",
   "version": "3.11.13"
  }
 },
 "nbformat": 4,
 "nbformat_minor": 5
}
