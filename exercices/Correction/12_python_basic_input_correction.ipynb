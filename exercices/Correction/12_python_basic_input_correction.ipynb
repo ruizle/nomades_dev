{
 "cells": [
  {
   "cell_type": "markdown",
   "id": "e1dcbee6",
   "metadata": {},
   "source": [
    "# Corrigé des Exercices Python : Entrées et Sorties Basiques"
   ]
  },
  {
   "cell_type": "markdown",
   "id": "e1c232c3",
   "metadata": {},
   "source": [
    "## La fonction print()"
   ]
  },
  {
   "cell_type": "markdown",
   "id": "d5253b0c",
   "metadata": {},
   "source": [
    "**Exercice :** Affiche ton prénom et ton nom de famille sur deux lignes distinctes en utilisant deux appels à la fonction `print()`."
   ]
  },
  {
   "cell_type": "code",
   "execution_count": null,
   "id": "75b058da",
   "metadata": {},
   "outputs": [],
   "source": [
    "print('John')\n",
    "print('Doe')"
   ]
  },
  {
   "cell_type": "markdown",
   "id": "b6d277c9",
   "metadata": {},
   "source": [
    "**Exercice :** Affiche ton prénom et ton nom de famille sur une seule ligne, en utilisant un seul appel à la fonction `print()`."
   ]
  },
  {
   "cell_type": "code",
   "execution_count": null,
   "id": "e3092df1",
   "metadata": {},
   "outputs": [],
   "source": [
    "print('John', 'Doe')"
   ]
  },
  {
   "cell_type": "markdown",
   "id": "a18642ca",
   "metadata": {},
   "source": [
    "**Exercice :** Crée deux variables, `age` et `ville`, et assigne-leur ton âge et ta ville. Utilise `print()` pour afficher une phrase qui inclut ces deux variables."
   ]
  },
  {
   "cell_type": "code",
   "execution_count": null,
   "id": "2467105d",
   "metadata": {},
   "outputs": [],
   "source": [
    "age = 25\n",
    "ville = 'Paris'\n",
    "print(f'Tu as {age} ans et tu vis à {ville}.')"
   ]
  },
  {
   "cell_type": "markdown",
   "id": "cf41d7f8",
   "metadata": {},
   "source": [
    "**Exercice :** Affiche les nombres de 1 à 5 sur une seule ligne, séparés par des tirets, en utilisant le paramètre `sep` de la fonction `print()`."
   ]
  },
  {
   "cell_type": "code",
   "execution_count": null,
   "id": "6ecb8eba",
   "metadata": {},
   "outputs": [],
   "source": [
    "print(1, 2, 3, 4, 5, sep='-')"
   ]
  },
  {
   "cell_type": "markdown",
   "id": "47596055",
   "metadata": {},
   "source": [
    "## La fonction input()"
   ]
  },
  {
   "cell_type": "markdown",
   "id": "ca47925c",
   "metadata": {},
   "source": [
    "**Exercice :** Crée une variable `nom` qui stocke le nom entré par l'utilisateur à l'aide de la fonction `input()`. Affiche un message de bienvenue personnalisé."
   ]
  },
  {
   "cell_type": "code",
   "execution_count": null,
   "id": "adad55dd",
   "metadata": {},
   "outputs": [],
   "source": [
    "nom = input('Entre ton nom : ')\n",
    "print(f'Salut, {nom} !')"
   ]
  },
  {
   "cell_type": "markdown",
   "id": "2d87e2a9",
   "metadata": {},
   "source": [
    "**Exercice :** Demande à l'utilisateur d'entrer son âge. Affiche un message qui inclut son âge. Affiche aussi le type de la variable `age` et explique le résultat."
   ]
  },
  {
   "cell_type": "code",
   "execution_count": null,
   "id": "b97cf41c",
   "metadata": {},
   "outputs": [],
   "source": [
    "age_str = input('Entre ton âge : ')\n",
    "print(f'Tu as {age_str} ans.')\n",
    "print(f'Le type de la variable est : {type(age_str)}')\n",
    "# La fonction input() retourne toujours une chaîne de caractères, d'où le type 'str'."
   ]
  },
  {
   "cell_type": "markdown",
   "id": "374b1276",
   "metadata": {},
   "source": [
    "## Conversion de types avec input()"
   ]
  },
  {
   "cell_type": "markdown",
   "id": "b99f58e4",
   "metadata": {},
   "source": [
    "**Exercice :** Demande à l'utilisateur d'entrer deux nombres. Calcule la somme de ces deux nombres et affiche le résultat. N'oublie pas de convertir les entrées en nombres entiers ou flottants pour que l'addition fonctionne correctement."
   ]
  },
  {
   "cell_type": "code",
   "execution_count": null,
   "id": "24dd1858",
   "metadata": {},
   "outputs": [],
   "source": [
    "num1_str = input('Entre le premier nombre : ')\n",
    "num2_str = input('Entre le deuxième nombre : ')\n",
    "\n",
    "num1 = float(num1_str)\n",
    "num2 = float(num2_str)\n",
    "\n",
    "print(f'La somme est : {num1 + num2}')"
   ]
  },
  {
   "cell_type": "markdown",
   "id": "c6886ed6",
   "metadata": {},
   "source": [
    "**Exercice :** Demande à l'utilisateur d'entrer son année de naissance. Calcule son âge et affiche le résultat. Explique la conversion de type que tu as utilisée."
   ]
  },
  {
   "cell_type": "code",
   "execution_count": null,
   "id": "a867e258",
   "metadata": {},
   "outputs": [],
   "source": [
    "annee_naissance_str = input('Entre ton année de naissance : ')\n",
    "\n",
    "annee_actuelle = 2025\n",
    "age = annee_actuelle - int(annee_naissance_str)\n",
    "\n",
    "print(f'Tu as {age} ans.')\n",
    "# La fonction input() renvoie une chaîne de caractères, donc on a utilisé int() pour la convertir en un nombre entier afin de pouvoir effectuer la soustraction."
   ]
  },
  {
   "cell_type": "markdown",
   "id": "77f87116",
   "metadata": {},
   "source": [
    "## Formatage de chaînes de caractères (f-strings)"
   ]
  },
  {
   "cell_type": "markdown",
   "id": "497604e1",
   "metadata": {},
   "source": [
    "**Exercice :** Crée une variable `fruit` avec la valeur 'pomme' et une variable `nombre` avec la valeur 5. Utilise une f-string pour afficher 'J'ai 5 pommes.'"
   ]
  },
  {
   "cell_type": "code",
   "execution_count": null,
   "id": "cb7f0a7f",
   "metadata": {},
   "outputs": [],
   "source": [
    "fruit = 'pomme'\n",
    "nombre = 5\n",
    "print(f\"J'ai {nombre} {fruit}s.\")"
   ]
  },
  {
   "cell_type": "markdown",
   "id": "08b7519a",
   "metadata": {},
   "source": [
    "**Exercice :** Crée un flottant avec beaucoup de décimales (par exemple `3.14159265`). Utilise une f-string pour l'afficher avec seulement deux décimales."
   ]
  },
  {
   "cell_type": "code",
   "execution_count": null,
   "id": "22dc8d59",
   "metadata": {},
   "outputs": [],
   "source": [
    "pi = 3.14159265\n",
    "print(f'{pi:.2f}')"
   ]
  }
 ],
 "metadata": {},
 "nbformat": 4,
 "nbformat_minor": 5
}
