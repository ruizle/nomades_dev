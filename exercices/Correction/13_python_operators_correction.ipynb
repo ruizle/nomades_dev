{
 "cells": [
  {
   "cell_type": "markdown",
   "id": "8bda6daa",
   "metadata": {},
   "source": [
    "# Corrigé des Exercices Python : Opérateurs"
   ]
  },
  {
   "cell_type": "markdown",
   "id": "1de709ba",
   "metadata": {},
   "source": [
    "## Opérateurs Arithmétiques"
   ]
  },
  {
   "cell_type": "markdown",
   "id": "0739db69",
   "metadata": {},
   "source": [
    "**Exercice :** Déclare deux variables, `a = 15` et `b = 4`. Calcule et affiche les résultats de l'addition, de la soustraction, de la multiplication, de la division, du modulo et de la division entière. Affiche également `a` à la puissance `b`."
   ]
  },
  {
   "cell_type": "code",
   "execution_count": null,
   "id": "a1f08dd9",
   "metadata": {},
   "outputs": [],
   "source": [
    "a = 15\n",
    "b = 4\n",
    "print(f'Addition: {a + b}')\n",
    "print(f'Soustraction: {a - b}')\n",
    "print(f'Multiplication: {a * b}')\n",
    "print(f'Division: {a / b}')\n",
    "print(f'Modulo: {a % b}')\n",
    "print(f'Division entière: {a // b}')\n",
    "print(f'Puissance: {a ** b}')"
   ]
  },
  {
   "cell_type": "markdown",
   "id": "60273498",
   "metadata": {},
   "source": [
    "**Exercice :** Calcule le résultat de `(2 + 3) * 5` et affiche-le. Puis, calcule le résultat de `2 + 3 * 5` et explique la différence."
   ]
  },
  {
   "cell_type": "code",
   "execution_count": null,
   "id": "29f986c0",
   "metadata": {},
   "outputs": [],
   "source": [
    "print((2 + 3) * 5)  # Les parenthèses forcent l'addition avant la multiplication\n",
    "print(2 + 3 * 5)    # La multiplication a une priorité plus élevée que l'addition"
   ]
  },
  {
   "cell_type": "markdown",
   "id": "80685dca",
   "metadata": {},
   "source": [
    "## Opérateurs de Comparaison"
   ]
  },
  {
   "cell_type": "markdown",
   "id": "a9d45a20",
   "metadata": {},
   "source": [
    "**Exercice :** Déclare deux variables : `x = 10` et `y = 12`. Écris une expression pour chaque opérateur de comparaison (==, !=, >, <, >=, <=) qui compare `x` et `y`, et affiche le résultat (True ou False)."
   ]
  },
  {
   "cell_type": "code",
   "execution_count": null,
   "id": "747f7d27",
   "metadata": {},
   "outputs": [],
   "source": [
    "x = 10\n",
    "y = 12\n",
    "print(f'Égal à: {x == y}')\n",
    "print(f'Différent de: {x != y}')\n",
    "print(f'Plus grand que: {x > y}')\n",
    "print(f'Plus petit que: {x < y}')\n",
    "print(f'Plus grand ou égal à: {x >= y}')\n",
    "print(f'Plus petit ou égal à: {x <= y}')"
   ]
  },
  {
   "cell_type": "markdown",
   "id": "72d1f56a",
   "metadata": {},
   "source": [
    "**Exercice :** Vérifie si la chaîne de caractères `'python'` est égale à `'Python'` et affiche le résultat."
   ]
  },
  {
   "cell_type": "code",
   "execution_count": null,
   "id": "9859423c",
   "metadata": {},
   "outputs": [],
   "source": [
    "print('python' == 'Python')\n",
    "# Le résultat est False car Python est sensible à la casse (majuscules/minuscules)."
   ]
  },
  {
   "cell_type": "markdown",
   "id": "3704dfa9",
   "metadata": {},
   "source": [
    "## Opérateurs Logiques"
   ]
  },
  {
   "cell_type": "markdown",
   "id": "cf94343b",
   "metadata": {},
   "source": [
    "**Exercice :** Déclare deux variables booléennes : `a = True` et `b = False`. Utilise les opérateurs logiques `and`, `or` et `not` avec ces variables et affiche les résultats."
   ]
  },
  {
   "cell_type": "code",
   "execution_count": null,
   "id": "2afa3c1d",
   "metadata": {},
   "outputs": [],
   "source": [
    "a = True\n",
    "b = False\n",
    "print(f'a and b: {a and b}')\n",
    "print(f'a or b: {a or b}')\n",
    "print(f'not a: {not a}')"
   ]
  },
  {
   "cell_type": "markdown",
   "id": "5d220985",
   "metadata": {},
   "source": [
    "**Exercice :** Écris un code qui vérifie si un nombre `n` est compris entre 10 et 20 (inclus) et affiche `True` ou `False`."
   ]
  },
  {
   "cell_type": "code",
   "execution_count": null,
   "id": "70a768b3",
   "metadata": {},
   "outputs": [],
   "source": [
    "n = 15  # ou un autre nombre à tester\n",
    "print(n >= 10 and n <= 20)"
   ]
  },
  {
   "cell_type": "markdown",
   "id": "40808e68",
   "metadata": {},
   "source": [
    "## Opérateurs d'Assignation"
   ]
  },
  {
   "cell_type": "markdown",
   "id": "d49c5949",
   "metadata": {},
   "source": [
    "**Exercice :** Crée une variable `compteur` et assigne-lui la valeur 5. Utilise les opérateurs d'assignation pour ajouter 3, soustraire 2, multiplier par 4 et diviser par 2.5. Affiche le résultat après chaque opération."
   ]
  },
  {
   "cell_type": "code",
   "execution_count": null,
   "id": "d0692341",
   "metadata": {},
   "outputs": [],
   "source": [
    "compteur = 5\n",
    "compteur += 3\n",
    "print(f'Après += 3: {compteur}')\n",
    "compteur -= 2\n",
    "print(f'Après -= 2: {compteur}')\n",
    "compteur *= 4\n",
    "print(f'Après *= 4: {compteur}')\n",
    "compteur /= 2.5\n",
    "print(f'Après /= 2.5: {compteur}')"
   ]
  },
  {
   "cell_type": "markdown",
   "id": "4f4caa64",
   "metadata": {},
   "source": [
    "**Exercice :** Crée une chaîne de caractères `message = 'Salut '`. Utilise l'opérateur d'assignation pour y ajouter ton prénom et affiche le résultat."
   ]
  },
  {
   "cell_type": "code",
   "execution_count": null,
   "id": "28ee52e6",
   "metadata": {},
   "outputs": [],
   "source": [
    "message = 'Salut '\n",
    "message += 'Alice'\n",
    "print(message)"
   ]
  },
  {
   "cell_type": "markdown",
   "id": "83821b4d",
   "metadata": {},
   "source": [
    "## Opérateurs d'Identité et d'Appartenance"
   ]
  },
  {
   "cell_type": "markdown",
   "id": "cc9b6547",
   "metadata": {},
   "source": [
    "**Exercice :** Déclare deux variables : `liste1 = [1, 2, 3]` et `liste2 = [1, 2, 3]`. Utilise l'opérateur `is` pour vérifier si `liste1` et `liste2` sont le même objet et explique le résultat."
   ]
  },
  {
   "cell_type": "code",
   "execution_count": null,
   "id": "c544d75a",
   "metadata": {},
   "outputs": [],
   "source": [
    "liste1 = [1, 2, 3]\n",
    "liste2 = [1, 2, 3]\n",
    "print(f'liste1 is liste2: {liste1 is liste2}')\n",
    "# Le résultat est False car même si les listes ont le même contenu, ce sont deux objets distincts en mémoire."
   ]
  },
  {
   "cell_type": "markdown",
   "id": "78dfd016",
   "metadata": {},
   "source": [
    "**Exercice :** Crée une liste de fruits et utilise l'opérateur `in` pour vérifier si la 'banane' est dans la liste. Utilise `not in` pour vérifier si 'ananas' n'est pas dans la liste."
   ]
  },
  {
   "cell_type": "code",
   "execution_count": null,
   "id": "85bbcfcf",
   "metadata": {},
   "outputs": [],
   "source": [
    "fruits = ['pomme', 'banane', 'cerise']\n",
    "print('banane' in fruits)\n",
    "print('ananas' not in fruits)"
   ]
  }
 ],
 "metadata": {},
 "nbformat": 4,
 "nbformat_minor": 5
}
