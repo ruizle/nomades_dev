{
 "cells": [
  {
   "cell_type": "markdown",
   "id": "74b76683",
   "metadata": {},
   "source": [
    "# Corrigé des Exercices Python : Namespace et Scope"
   ]
  },
  {
   "cell_type": "markdown",
   "id": "99298ae2",
   "metadata": {},
   "source": [
    "## Portée locale et globale"
   ]
  },
  {
   "cell_type": "markdown",
   "id": "d2c86351",
   "metadata": {},
   "source": [
    "**Exercice :** Crée une variable `langage = 'Python'` en dehors d'une fonction. À l'intérieur d'une fonction nommée `afficher_langage()`, essaie d'afficher cette variable. Appelle la fonction et explique pourquoi cela fonctionne."
   ]
  },
  {
   "cell_type": "code",
   "execution_count": null,
   "id": "1f89b4f0",
   "metadata": {},
   "outputs": [],
   "source": [
    "langage = 'Python'\n",
    "\n",
    "def afficher_langage():\n",
    "    print(langage)\n",
    "\n",
    "afficher_langage()\n",
    "\n",
    "# Cela fonctionne car une fonction peut accéder aux variables de la portée globale (Espace de noms Global) si elle ne les modifie pas."
   ]
  },
  {
   "cell_type": "markdown",
   "id": "656d0f89",
   "metadata": {},
   "source": [
    "**Exercice :** Dans la fonction `modifier_langage()`, essaie de modifier la variable globale `langage` sans utiliser le mot-clé `global`. Appelle la fonction, puis affiche la variable `langage` et explique le résultat."
   ]
  },
  {
   "cell_type": "code",
   "execution_count": null,
   "id": "21a3709b",
   "metadata": {},
   "outputs": [],
   "source": [
    "langage = 'Python'\n",
    "\n",
    "def modifier_langage():\n",
    "    langage = 'Java'\n",
    "    print(f'Dans la fonction: {langage}')\n",
    "\n",
    "modifier_langage()\n",
    "print(f'En dehors de la fonction: {langage}')\n",
    "\n",
    "# La variable globale n'a pas été modifiée car une nouvelle variable locale a été créée à l'intérieur de la fonction, avec le même nom, mais dans un espace de noms différent."
   ]
  },
  {
   "cell_type": "markdown",
   "id": "e9f5cb6e",
   "metadata": {},
   "source": [
    "**Exercice :** Corrige l'exercice précédent en utilisant le mot-clé `global` pour que la modification à l'intérieur de la fonction affecte la variable globale."
   ]
  },
  {
   "cell_type": "code",
   "execution_count": null,
   "id": "a015024b",
   "metadata": {},
   "outputs": [],
   "source": [
    "langage = 'Python'\n",
    "\n",
    "def modifier_langage_global():\n",
    "    global langage\n",
    "    langage = 'Java'\n",
    "    print(f'Dans la fonction: {langage}')\n",
    "\n",
    "modifier_langage_global()\n",
    "print(f'En dehors de la fonction: {langage}')\n",
    "\n",
    "# Le mot-clé global permet à la fonction de modifier la variable dans l'espace de noms global, au lieu de créer une nouvelle variable locale."
   ]
  },
  {
   "cell_type": "markdown",
   "id": "9d78a91b",
   "metadata": {},
   "source": [
    "## Portée imbriquée et mot-clé nonlocal"
   ]
  },
  {
   "cell_type": "markdown",
   "id": "afa1c350",
   "metadata": {},
   "source": [
    "**Exercice :** Définis une fonction `exterieure()` qui contient une variable `message = 'Salut'`. À l'intérieur, définis une fonction `interieure()` qui tente d'afficher `message` et de le modifier en `'Bonjour'`. Appelle `interieure()` depuis `exterieure()`. Prédis le résultat et explique ce qui se passe."
   ]
  },
  {
   "cell_type": "code",
   "execution_count": null,
   "id": "941141cd",
   "metadata": {},
   "outputs": [],
   "source": [
    "def exterieure():\n",
    "    message = 'Salut'\n",
    "    def interieure():\n",
    "        # Cette ligne va générer une erreur car on essaie de modifier une variable non locale sans le mot-clé nonlocal.\n",
    "        # message = 'Bonjour'\n",
    "        print(message)\n",
    "    interieure()\n",
    "\n",
    "exterieure()"
   ]
  },
  {
   "cell_type": "markdown",
   "id": "f82e11ba",
   "metadata": {},
   "source": [
    "**Exercice :** Corrige le code de l'exercice précédent en utilisant le mot-clé `nonlocal` pour modifier la variable `message` de la fonction `exterieure()` depuis la fonction `interieure()`. Affiche le message après l'appel de `interieure()` et explique le résultat."
   ]
  },
  {
   "cell_type": "code",
   "execution_count": null,
   "id": "ae213d0f",
   "metadata": {},
   "outputs": [],
   "source": [
    "def exterieure():\n",
    "    message = 'Salut'\n",
    "    print(f'Message avant: {message}')\n",
    "    def interieure():\n",
    "        nonlocal message\n",
    "        message = 'Bonjour'\n",
    "        print(f'Message dans la fonction: {message}')\n",
    "    \n",
    "    interieure()\n",
    "    print(f'Message après: {message}')\n",
    "\n",
    "exterieure()\n",
    "\n",
    "# Le mot-clé nonlocal permet de modifier la variable de la fonction parente (exterieure)."
   ]
  },
  {
   "cell_type": "markdown",
   "id": "deb047fb",
   "metadata": {},
   "source": [
    "## Différence entre portée et espace de noms"
   ]
  },
  {
   "cell_type": "markdown",
   "id": "5232a53b",
   "metadata": {},
   "source": [
    "**Exercice :** Crée un petit programme avec une variable globale, une variable dans une fonction et une variable dans une boucle. Affiche chaque variable à différents endroits de ton code pour illustrer leur portée."
   ]
  },
  {
   "cell_type": "code",
   "execution_count": null,
   "id": "385724e6",
   "metadata": {},
   "outputs": [],
   "source": [
    "x_global = 10\n",
    "\n",
    "def ma_fonction():\n",
    "    x_local = 20\n",
    "    print(f'Variable locale dans la fonction: {x_local}')\n",
    "\n",
    "ma_fonction()\n",
    "print(f'Variable globale en dehors de la fonction: {x_global}')\n",
    "\n",
    "# Tenter d'afficher la variable locale en dehors de la fonction générera une erreur: NameError."
   ]
  },
  {
   "cell_type": "markdown",
   "id": "0a5b5d09",
   "metadata": {},
   "source": [
    "**Exercice :** Dans un programme simple, déclare une variable locale à une fonction et une variable globale. Utilise le mot-clé `globals()` pour afficher toutes les variables globales, et `locals()` pour afficher les variables locales à l'intérieur de la fonction. Compare les deux affichages et explique la différence."
   ]
  },
  {
   "cell_type": "code",
   "execution_count": null,
   "id": "a25681cd",
   "metadata": {},
   "outputs": [],
   "source": [
    "x_global = 10\n",
    "\n",
    "def ma_fonction():\n",
    "    x_local = 20\n",
    "    print('Variables locales (locals()):', locals())\n",
    "    print('Variables globales (globals()):', globals())\n",
    "\n",
    "ma_fonction()\n",
    "\n",
    "# globals() affiche un dictionnaire de toutes les variables et fonctions accessibles globalement, tandis que locals() affiche celles de la portée actuelle (ici, la fonction)."
   ]
  }
 ],
 "metadata": {},
 "nbformat": 4,
 "nbformat_minor": 5
}
