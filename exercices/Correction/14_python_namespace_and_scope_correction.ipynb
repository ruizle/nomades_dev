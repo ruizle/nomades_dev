{
 "cells": [
  {
   "cell_type": "markdown",
   "id": "74b76683",
   "metadata": {},
   "source": [
    "# Corrigé des Exercices Python : Namespace et Scope"
   ]
  },
  {
   "cell_type": "markdown",
   "id": "99298ae2",
   "metadata": {},
   "source": [
    "## Portée locale et globale"
   ]
  },
  {
   "cell_type": "markdown",
   "id": "d2c86351",
   "metadata": {},
   "source": [
    "**Exercice :** Crée une variable `langage = 'Python'` en dehors d'une fonction. À l'intérieur d'une fonction nommée `afficher_langage()`, essaie d'afficher cette variable. Appelle la fonction et explique pourquoi cela fonctionne."
   ]
  },
  {
   "cell_type": "code",
   "execution_count": 1,
   "id": "1f89b4f0",
   "metadata": {},
   "outputs": [
    {
     "name": "stdout",
     "output_type": "stream",
     "text": [
      "Python\n"
     ]
    }
   ],
   "source": [
    "langage = 'Python'\n",
    "\n",
    "def afficher_langage():\n",
    "    print(langage)\n",
    "\n",
    "afficher_langage()\n",
    "\n",
    "# Cela fonctionne car une fonction peut accéder aux variables de la portée globale (Espace de noms Global) si elle ne les modifie pas."
   ]
  },
  {
   "cell_type": "markdown",
   "id": "656d0f89",
   "metadata": {},
   "source": [
    "**Exercice :** Dans la fonction `modifier_langage()`, essaie de modifier la variable globale `langage` sans utiliser le mot-clé `global`. Appelle la fonction, puis affiche la variable `langage` et explique le résultat."
   ]
  },
  {
   "cell_type": "code",
   "execution_count": 2,
   "id": "21a3709b",
   "metadata": {},
   "outputs": [
    {
     "name": "stdout",
     "output_type": "stream",
     "text": [
      "Dans la fonction: Java\n",
      "En dehors de la fonction: Python\n"
     ]
    }
   ],
   "source": [
    "langage = 'Python'\n",
    "\n",
    "def modifier_langage():\n",
    "    langage = 'Java'\n",
    "    print(f'Dans la fonction: {langage}')\n",
    "\n",
    "modifier_langage()\n",
    "print(f'En dehors de la fonction: {langage}')\n",
    "\n",
    "# La variable globale n'a pas été modifiée car une nouvelle variable locale a été créée à l'intérieur de la fonction, avec le même nom, mais dans un espace de noms différent."
   ]
  },
  {
   "cell_type": "markdown",
   "id": "e9f5cb6e",
   "metadata": {},
   "source": [
    "**Exercice :** Corrige l'exercice précédent en utilisant le mot-clé `global` pour que la modification à l'intérieur de la fonction affecte la variable globale."
   ]
  },
  {
   "cell_type": "code",
   "execution_count": 3,
   "id": "a015024b",
   "metadata": {},
   "outputs": [
    {
     "name": "stdout",
     "output_type": "stream",
     "text": [
      "Dans la fonction: Java\n",
      "En dehors de la fonction: Java\n"
     ]
    }
   ],
   "source": [
    "langage = 'Python'\n",
    "\n",
    "def modifier_langage_global():\n",
    "    global langage\n",
    "    langage = 'Java'\n",
    "    print(f'Dans la fonction: {langage}')\n",
    "\n",
    "modifier_langage_global()\n",
    "print(f'En dehors de la fonction: {langage}')\n",
    "\n",
    "# Le mot-clé global permet à la fonction de modifier la variable dans l'espace de noms global, au lieu de créer une nouvelle variable locale."
   ]
  },
  {
   "cell_type": "markdown",
   "id": "9d78a91b",
   "metadata": {},
   "source": [
    "## Portée imbriquée et mot-clé nonlocal"
   ]
  },
  {
   "cell_type": "markdown",
   "id": "afa1c350",
   "metadata": {},
   "source": [
    "**Exercice :** Définis une fonction `exterieure()` qui contient une variable `message = 'Salut'`. À l'intérieur, définis une fonction `interieure()` qui tente d'afficher `message` et de le modifier en `'Bonjour'`. Appelle `interieure()` depuis `exterieure()`. Prédis le résultat et explique ce qui se passe."
   ]
  },
  {
   "cell_type": "code",
   "execution_count": 4,
   "id": "941141cd",
   "metadata": {},
   "outputs": [
    {
     "name": "stdout",
     "output_type": "stream",
     "text": [
      "Salut\n"
     ]
    }
   ],
   "source": [
    "def exterieure():\n",
    "    message = 'Salut'\n",
    "    def interieure():\n",
    "        # Cette ligne va générer une erreur car on essaie de modifier une variable non locale sans le mot-clé nonlocal.\n",
    "        # message = 'Bonjour'\n",
    "        print(message)\n",
    "    interieure()\n",
    "\n",
    "exterieure()"
   ]
  },
  {
   "cell_type": "markdown",
   "id": "f82e11ba",
   "metadata": {},
   "source": [
    "**Exercice :** Corrige le code de l'exercice précédent en utilisant le mot-clé `nonlocal` pour modifier la variable `message` de la fonction `exterieure()` depuis la fonction `interieure()`. Affiche le message après l'appel de `interieure()` et explique le résultat."
   ]
  },
  {
   "cell_type": "code",
   "execution_count": 5,
   "id": "ae213d0f",
   "metadata": {},
   "outputs": [
    {
     "name": "stdout",
     "output_type": "stream",
     "text": [
      "Message avant: Salut\n",
      "Message dans la fonction: Bonjour\n",
      "Message après: Bonjour\n"
     ]
    }
   ],
   "source": [
    "def exterieure():\n",
    "    message = 'Salut'\n",
    "    print(f'Message avant: {message}')\n",
    "    def interieure():\n",
    "        nonlocal message\n",
    "        message = 'Bonjour'\n",
    "        print(f'Message dans la fonction: {message}')\n",
    "    \n",
    "    interieure()\n",
    "    print(f'Message après: {message}')\n",
    "\n",
    "exterieure()\n",
    "\n",
    "# Le mot-clé nonlocal permet de modifier la variable de la fonction parente (exterieure)."
   ]
  },
  {
   "cell_type": "markdown",
   "id": "deb047fb",
   "metadata": {},
   "source": [
    "## Différence entre portée et espace de noms"
   ]
  },
  {
   "cell_type": "markdown",
   "id": "5232a53b",
   "metadata": {},
   "source": [
    "**Exercice :** Crée un petit programme avec une variable globale, une variable dans une fonction et une variable dans une boucle. Affiche chaque variable à différents endroits de ton code pour illustrer leur portée."
   ]
  },
  {
   "cell_type": "code",
   "execution_count": 6,
   "id": "385724e6",
   "metadata": {},
   "outputs": [
    {
     "name": "stdout",
     "output_type": "stream",
     "text": [
      "Variable locale dans la fonction: 20\n",
      "Variable globale en dehors de la fonction: 10\n"
     ]
    }
   ],
   "source": [
    "x_global = 10\n",
    "\n",
    "def ma_fonction():\n",
    "    x_local = 20\n",
    "    print(f'Variable locale dans la fonction: {x_local}')\n",
    "\n",
    "ma_fonction()\n",
    "print(f'Variable globale en dehors de la fonction: {x_global}')\n",
    "\n",
    "# Tenter d'afficher la variable locale en dehors de la fonction générera une erreur: NameError."
   ]
  },
  {
   "cell_type": "markdown",
   "id": "0a5b5d09",
   "metadata": {},
   "source": [
    "**Exercice :** Dans un programme simple, déclare une variable locale à une fonction et une variable globale. Utilise le mot-clé `globals()` pour afficher toutes les variables globales, et `locals()` pour afficher les variables locales à l'intérieur de la fonction. Compare les deux affichages et explique la différence."
   ]
  },
  {
   "cell_type": "code",
   "execution_count": 7,
   "id": "a25681cd",
   "metadata": {},
   "outputs": [
    {
     "name": "stdout",
     "output_type": "stream",
     "text": [
      "Variables locales (locals()): {'x_local': 20}\n",
      "Variables globales (globals()): {'__name__': '__main__', '__doc__': 'Automatically created module for IPython interactive environment', '__package__': None, '__loader__': None, '__spec__': None, '__builtin__': <module 'builtins' (built-in)>, '__builtins__': <module 'builtins' (built-in)>, '_ih': ['', \"langage = 'Python'\\n\\ndef afficher_langage():\\n    print(langage)\\n\\nafficher_langage()\\n\\n# Cela fonctionne car une fonction peut accéder aux variables de la portée globale (Espace de noms Global) si elle ne les modifie pas.\", \"langage = 'Python'\\n\\ndef modifier_langage():\\n    langage = 'Java'\\n    print(f'Dans la fonction: {langage}')\\n\\nmodifier_langage()\\nprint(f'En dehors de la fonction: {langage}')\\n\\n# La variable globale n'a pas été modifiée car une nouvelle variable locale a été créée à l'intérieur de la fonction, avec le même nom, mais dans un espace de noms différent.\", \"langage = 'Python'\\n\\ndef modifier_langage_global():\\n    global langage\\n    langage = 'Java'\\n    print(f'Dans la fonction: {langage}')\\n\\nmodifier_langage_global()\\nprint(f'En dehors de la fonction: {langage}')\\n\\n# Le mot-clé global permet à la fonction de modifier la variable dans l'espace de noms global, au lieu de créer une nouvelle variable locale.\", \"def exterieure():\\n    message = 'Salut'\\n    def interieure():\\n        # Cette ligne va générer une erreur car on essaie de modifier une variable non locale sans le mot-clé nonlocal.\\n        # message = 'Bonjour'\\n        print(message)\\n    interieure()\\n\\nexterieure()\", \"def exterieure():\\n    message = 'Salut'\\n    print(f'Message avant: {message}')\\n    def interieure():\\n        nonlocal message\\n        message = 'Bonjour'\\n        print(f'Message dans la fonction: {message}')\\n\\n    interieure()\\n    print(f'Message après: {message}')\\n\\nexterieure()\\n\\n# Le mot-clé nonlocal permet de modifier la variable de la fonction parente (exterieure).\", \"x_global = 10\\n\\ndef ma_fonction():\\n    x_local = 20\\n    print(f'Variable locale dans la fonction: {x_local}')\\n\\nma_fonction()\\nprint(f'Variable globale en dehors de la fonction: {x_global}')\\n\\n# Tenter d'afficher la variable locale en dehors de la fonction générera une erreur: NameError.\", \"x_global = 10\\n\\ndef ma_fonction():\\n    x_local = 20\\n    print('Variables locales (locals()):', locals())\\n    print('Variables globales (globals()):', globals())\\n\\nma_fonction()\\n\\n# globals() affiche un dictionnaire de toutes les variables et fonctions accessibles globalement, tandis que locals() affiche celles de la portée actuelle (ici, la fonction).\"], '_oh': {}, '_dh': [PosixPath('/Users/nomades2020-3/Desktop/ruizle/nomades_dev/exercices/Correction')], 'In': ['', \"langage = 'Python'\\n\\ndef afficher_langage():\\n    print(langage)\\n\\nafficher_langage()\\n\\n# Cela fonctionne car une fonction peut accéder aux variables de la portée globale (Espace de noms Global) si elle ne les modifie pas.\", \"langage = 'Python'\\n\\ndef modifier_langage():\\n    langage = 'Java'\\n    print(f'Dans la fonction: {langage}')\\n\\nmodifier_langage()\\nprint(f'En dehors de la fonction: {langage}')\\n\\n# La variable globale n'a pas été modifiée car une nouvelle variable locale a été créée à l'intérieur de la fonction, avec le même nom, mais dans un espace de noms différent.\", \"langage = 'Python'\\n\\ndef modifier_langage_global():\\n    global langage\\n    langage = 'Java'\\n    print(f'Dans la fonction: {langage}')\\n\\nmodifier_langage_global()\\nprint(f'En dehors de la fonction: {langage}')\\n\\n# Le mot-clé global permet à la fonction de modifier la variable dans l'espace de noms global, au lieu de créer une nouvelle variable locale.\", \"def exterieure():\\n    message = 'Salut'\\n    def interieure():\\n        # Cette ligne va générer une erreur car on essaie de modifier une variable non locale sans le mot-clé nonlocal.\\n        # message = 'Bonjour'\\n        print(message)\\n    interieure()\\n\\nexterieure()\", \"def exterieure():\\n    message = 'Salut'\\n    print(f'Message avant: {message}')\\n    def interieure():\\n        nonlocal message\\n        message = 'Bonjour'\\n        print(f'Message dans la fonction: {message}')\\n\\n    interieure()\\n    print(f'Message après: {message}')\\n\\nexterieure()\\n\\n# Le mot-clé nonlocal permet de modifier la variable de la fonction parente (exterieure).\", \"x_global = 10\\n\\ndef ma_fonction():\\n    x_local = 20\\n    print(f'Variable locale dans la fonction: {x_local}')\\n\\nma_fonction()\\nprint(f'Variable globale en dehors de la fonction: {x_global}')\\n\\n# Tenter d'afficher la variable locale en dehors de la fonction générera une erreur: NameError.\", \"x_global = 10\\n\\ndef ma_fonction():\\n    x_local = 20\\n    print('Variables locales (locals()):', locals())\\n    print('Variables globales (globals()):', globals())\\n\\nma_fonction()\\n\\n# globals() affiche un dictionnaire de toutes les variables et fonctions accessibles globalement, tandis que locals() affiche celles de la portée actuelle (ici, la fonction).\"], 'Out': {}, 'get_ipython': <bound method InteractiveShell.get_ipython of <ipykernel.zmqshell.ZMQInteractiveShell object at 0x105ecaa10>>, 'exit': <IPython.core.autocall.ZMQExitAutocall object at 0x105ecf390>, 'quit': <IPython.core.autocall.ZMQExitAutocall object at 0x105ecf390>, 'open': <function open at 0x104bb80e0>, '_': '', '__': '', '___': '', '__vsc_ipynb_file__': '/Users/nomades2020-3/Desktop/ruizle/nomades_dev/exercices/Correction/14_python_namespace_and_scope_correction.ipynb', '_i': \"x_global = 10\\n\\ndef ma_fonction():\\n    x_local = 20\\n    print(f'Variable locale dans la fonction: {x_local}')\\n\\nma_fonction()\\nprint(f'Variable globale en dehors de la fonction: {x_global}')\\n\\n# Tenter d'afficher la variable locale en dehors de la fonction générera une erreur: NameError.\", '_ii': \"def exterieure():\\n    message = 'Salut'\\n    print(f'Message avant: {message}')\\n    def interieure():\\n        nonlocal message\\n        message = 'Bonjour'\\n        print(f'Message dans la fonction: {message}')\\n    \\n    interieure()\\n    print(f'Message après: {message}')\\n\\nexterieure()\\n\\n# Le mot-clé nonlocal permet de modifier la variable de la fonction parente (exterieure).\", '_iii': \"def exterieure():\\n    message = 'Salut'\\n    def interieure():\\n        # Cette ligne va générer une erreur car on essaie de modifier une variable non locale sans le mot-clé nonlocal.\\n        # message = 'Bonjour'\\n        print(message)\\n    interieure()\\n\\nexterieure()\", '_i1': \"langage = 'Python'\\n\\ndef afficher_langage():\\n    print(langage)\\n\\nafficher_langage()\\n\\n# Cela fonctionne car une fonction peut accéder aux variables de la portée globale (Espace de noms Global) si elle ne les modifie pas.\", 'langage': 'Java', 'afficher_langage': <function afficher_langage at 0x1090bd9e0>, '_i2': \"langage = 'Python'\\n\\ndef modifier_langage():\\n    langage = 'Java'\\n    print(f'Dans la fonction: {langage}')\\n\\nmodifier_langage()\\nprint(f'En dehors de la fonction: {langage}')\\n\\n# La variable globale n'a pas été modifiée car une nouvelle variable locale a été créée à l'intérieur de la fonction, avec le même nom, mais dans un espace de noms différent.\", 'modifier_langage': <function modifier_langage at 0x105efeca0>, '_i3': \"langage = 'Python'\\n\\ndef modifier_langage_global():\\n    global langage\\n    langage = 'Java'\\n    print(f'Dans la fonction: {langage}')\\n\\nmodifier_langage_global()\\nprint(f'En dehors de la fonction: {langage}')\\n\\n# Le mot-clé global permet à la fonction de modifier la variable dans l'espace de noms global, au lieu de créer une nouvelle variable locale.\", 'modifier_langage_global': <function modifier_langage_global at 0x105efe5c0>, '_i4': \"def exterieure():\\n    message = 'Salut'\\n    def interieure():\\n        # Cette ligne va générer une erreur car on essaie de modifier une variable non locale sans le mot-clé nonlocal.\\n        # message = 'Bonjour'\\n        print(message)\\n    interieure()\\n\\nexterieure()\", 'exterieure': <function exterieure at 0x105efe660>, '_i5': \"def exterieure():\\n    message = 'Salut'\\n    print(f'Message avant: {message}')\\n    def interieure():\\n        nonlocal message\\n        message = 'Bonjour'\\n        print(f'Message dans la fonction: {message}')\\n    \\n    interieure()\\n    print(f'Message après: {message}')\\n\\nexterieure()\\n\\n# Le mot-clé nonlocal permet de modifier la variable de la fonction parente (exterieure).\", '_i6': \"x_global = 10\\n\\ndef ma_fonction():\\n    x_local = 20\\n    print(f'Variable locale dans la fonction: {x_local}')\\n\\nma_fonction()\\nprint(f'Variable globale en dehors de la fonction: {x_global}')\\n\\n# Tenter d'afficher la variable locale en dehors de la fonction générera une erreur: NameError.\", 'x_global': 10, 'ma_fonction': <function ma_fonction at 0x1090bd580>, '_i7': \"x_global = 10\\n\\ndef ma_fonction():\\n    x_local = 20\\n    print('Variables locales (locals()):', locals())\\n    print('Variables globales (globals()):', globals())\\n\\nma_fonction()\\n\\n# globals() affiche un dictionnaire de toutes les variables et fonctions accessibles globalement, tandis que locals() affiche celles de la portée actuelle (ici, la fonction).\"}\n"
     ]
    }
   ],
   "source": [
    "x_global = 10\n",
    "\n",
    "def ma_fonction():\n",
    "    x_local = 20\n",
    "    print('Variables locales (locals()):', locals())\n",
    "    print('Variables globales (globals()):', globals())\n",
    "\n",
    "ma_fonction()\n",
    "\n",
    "# globals() affiche un dictionnaire de toutes les variables et fonctions accessibles globalement, tandis que locals() affiche celles de la portée actuelle (ici, la fonction)."
   ]
  }
 ],
 "metadata": {
  "kernelspec": {
   "display_name": "nomades_PPL",
   "language": "python",
   "name": "python3"
  },
  "language_info": {
   "codemirror_mode": {
    "name": "ipython",
    "version": 3
   },
   "file_extension": ".py",
   "mimetype": "text/x-python",
   "name": "python",
   "nbconvert_exporter": "python",
   "pygments_lexer": "ipython3",
   "version": "3.11.13"
  }
 },
 "nbformat": 4,
 "nbformat_minor": 5
}
