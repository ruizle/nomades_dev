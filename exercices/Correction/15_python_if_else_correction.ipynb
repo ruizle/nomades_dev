{
 "cells": [
  {
   "cell_type": "markdown",
   "id": "fdc2dacd",
   "metadata": {},
   "source": [
    "# Corrigé des Exercices Python : Instructions `if` et `else`"
   ]
  },
  {
   "cell_type": "markdown",
   "id": "fbaa4e39",
   "metadata": {},
   "source": [
    "## Instruction `if`"
   ]
  },
  {
   "cell_type": "markdown",
   "id": "c6f56038",
   "metadata": {},
   "source": [
    "**Exercice :** Crée une variable `age` et assigne-lui ton âge. Écris une instruction `if` pour vérifier si ton âge est supérieur ou égal à 18. Si c'est le cas, affiche 'Tu es majeur.'"
   ]
  },
  {
   "cell_type": "code",
   "execution_count": null,
   "id": "54e8455e",
   "metadata": {},
   "outputs": [],
   "source": [
    "age = 25\n",
    "\n",
    "if age >= 18:\n",
    "    print('Tu es majeur.')"
   ]
  },
  {
   "cell_type": "markdown",
   "id": "f2266e8a",
   "metadata": {},
   "source": [
    "**Exercice :** Demande à l'utilisateur d'entrer un nombre. Écris un programme qui affiche 'C'est un nombre positif.' si le nombre est supérieur à 0."
   ]
  },
  {
   "cell_type": "code",
   "execution_count": null,
   "id": "d6aaf79d",
   "metadata": {},
   "outputs": [],
   "source": [
    "nombre_str = input('Entre un nombre: ')\n",
    "nombre = int(nombre_str)\n",
    "\n",
    "if nombre > 0:\n",
    "    print('C\\'est un nombre positif.')"
   ]
  },
  {
   "cell_type": "markdown",
   "id": "be020469",
   "metadata": {},
   "source": [
    "## Instruction `if...else`"
   ]
  },
  {
   "cell_type": "markdown",
   "id": "2be9909d",
   "metadata": {},
   "source": [
    "**Exercice :** Crée une variable `temperature` et assigne-lui 25. Utilise une instruction `if...else` pour afficher 'Il fait chaud.' si la température est supérieure à 20, sinon affiche 'Il fait frais.'"
   ]
  },
  {
   "cell_type": "code",
   "execution_count": null,
   "id": "4bfd9c29",
   "metadata": {},
   "outputs": [],
   "source": [
    "temperature = 25\n",
    "\n",
    "if temperature > 20:\n",
    "    print('Il fait chaud.')\n",
    "else:\n",
    "    print('Il fait frais.')"
   ]
  },
  {
   "cell_type": "markdown",
   "id": "7db44f1d",
   "metadata": {},
   "source": [
    "**Exercice :** Demande à l'utilisateur d'entrer un mot de passe. Si le mot de passe est 'secret123', affiche 'Accès autorisé.', sinon affiche 'Mot de passe incorrect.'"
   ]
  },
  {
   "cell_type": "code",
   "execution_count": null,
   "id": "1d042c4e",
   "metadata": {},
   "outputs": [],
   "source": [
    "mot_de_passe = input('Entre le mot de passe: ')\n",
    "\n",
    "if mot_de_passe == 'secret123':\n",
    "    print('Accès autorisé.')\n",
    "else:\n",
    "    print('Mot de passe incorrect.')"
   ]
  },
  {
   "cell_type": "markdown",
   "id": "5e2e17b0",
   "metadata": {},
   "source": [
    "## Instruction `if...elif...else`"
   ]
  },
  {
   "cell_type": "markdown",
   "id": "29978e29",
   "metadata": {},
   "source": [
    "**Exercice :** Crée une variable `note` et assigne-lui une valeur entre 0 et 100. Utilise une instruction `if...elif...else` pour afficher 'Excellent' si la note est supérieure à 90, 'Bien' si elle est entre 70 et 90, et 'Suffisant' si elle est inférieure à 70."
   ]
  },
  {
   "cell_type": "code",
   "execution_count": null,
   "id": "54aad05b",
   "metadata": {},
   "outputs": [],
   "source": [
    "note = 85\n",
    "\n",
    "if note > 90:\n",
    "    print('Excellent')\n",
    "elif note >= 70:\n",
    "    print('Bien')\n",
    "else:\n",
    "    print('Suffisant')"
   ]
  },
  {
   "cell_type": "markdown",
   "id": "d48cc6ad",
   "metadata": {},
   "source": [
    "**Exercice :** Demande à l'utilisateur d'entrer un chiffre. Affiche 'C'est un chiffre pair.' si le chiffre est pair (modulo 2 est égal à 0), et 'C'est un chiffre impair.' si le chiffre est impair."
   ]
  },
  {
   "cell_type": "code",
   "execution_count": null,
   "id": "356d6d22",
   "metadata": {},
   "outputs": [],
   "source": [
    "nombre_str = input('Entre un chiffre: ')\n",
    "nombre = int(nombre_str)\n",
    "\n",
    "if nombre % 2 == 0:\n",
    "    print('C\\'est un chiffre pair.')\n",
    "else:\n",
    "    print('C\\'est un chiffre impair.')"
   ]
  },
  {
   "cell_type": "markdown",
   "id": "cff8c986",
   "metadata": {},
   "source": [
    "## Instructions `if` imbriquées"
   ]
  },
  {
   "cell_type": "markdown",
   "id": "357fb3bc",
   "metadata": {},
   "source": [
    "**Exercice :** Crée deux variables : `utilisateur_actif = True` et `a_le_droit = True`. Utilise des instructions `if` imbriquées pour vérifier d'abord si l'utilisateur est actif, puis s'il a le droit d'accéder. Si les deux conditions sont vraies, affiche 'Accès complet autorisé.'"
   ]
  },
  {
   "cell_type": "code",
   "execution_count": null,
   "id": "a9db8417",
   "metadata": {},
   "outputs": [],
   "source": [
    "utilisateur_actif = True\n",
    "a_le_droit = True\n",
    "\n",
    "if utilisateur_actif:\n",
    "    if a_le_droit:\n",
    "        print('Accès complet autorisé.')"
   ]
  },
  {
   "cell_type": "markdown",
   "id": "51ca319c",
   "metadata": {},
   "source": [
    "**Exercice :** Écris un programme qui demande à l'utilisateur de saisir son âge et s'il a un permis de conduire. Utilise des instructions `if` imbriquées pour vérifier si la personne a plus de 18 ans ET un permis de conduire. Si c'est le cas, affiche 'Tu peux conduire.' Sinon, donne un message pertinent."
   ]
  },
  {
   "cell_type": "code",
   "execution_count": null,
   "id": "5146e3e3",
   "metadata": {},
   "outputs": [],
   "source": [
    "age_str = input('Quel est ton âge? ')\n",
    "age = int(age_str)\n",
    "\n",
    "permis = input('As-tu un permis de conduire? (oui/non) ').lower()\n",
    "\n",
    "if age >= 18:\n",
    "    if permis == 'oui':\n",
    "        print('Tu peux conduire.')\n",
    "    else:\n",
    "        print('Tu es majeur, mais tu n\\'as pas de permis.')\n",
    "else:\n",
    "    print('Tu n\\'as pas l\\'âge de conduire.')"
   ]
  }
 ],
 "metadata": {},
 "nbformat": 4,
 "nbformat_minor": 5
}
