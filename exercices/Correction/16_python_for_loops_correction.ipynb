{
 "cells": [
  {
   "cell_type": "markdown",
   "id": "bcc96e2c",
   "metadata": {},
   "source": [
    "# Corrigé des Exercices Python : Boucles `for`"
   ]
  },
  {
   "cell_type": "markdown",
   "id": "f0b4f511",
   "metadata": {},
   "source": [
    "## Boucle `for` simple"
   ]
  },
  {
   "cell_type": "markdown",
   "id": "f05c0a65",
   "metadata": {},
   "source": [
    "**Exercice :** Crée une liste de tes 3 fruits préférés. Utilise une boucle `for` pour afficher chaque fruit de la liste."
   ]
  },
  {
   "cell_type": "code",
   "execution_count": null,
   "id": "96d88214",
   "metadata": {},
   "outputs": [],
   "source": [
    "fruits = ['pomme', 'banane', 'cerise']\n",
    "\n",
    "for fruit in fruits:\n",
    "    print(fruit)"
   ]
  },
  {
   "cell_type": "markdown",
   "id": "e1738a7f",
   "metadata": {},
   "source": [
    "**Exercice :** Écris un programme qui calcule la somme des nombres de 1 à 10 en utilisant une boucle `for` et la fonction `range()`."
   ]
  },
  {
   "cell_type": "code",
   "execution_count": null,
   "id": "4c6e65c1",
   "metadata": {},
   "outputs": [],
   "source": [
    "somme = 0\n",
    "for nombre in range(1, 11):\n",
    "    somme += nombre\n",
    "print(f'La somme des nombres de 1 à 10 est : {somme}')"
   ]
  },
  {
   "cell_type": "markdown",
   "id": "a336e4b3",
   "metadata": {},
   "source": [
    "## Boucle `for` avec `enumerate()`"
   ]
  },
  {
   "cell_type": "markdown",
   "id": "e873e43f",
   "metadata": {},
   "source": [
    "**Exercice :** Crée une liste de noms d'animaux. Utilise `enumerate()` dans une boucle `for` pour afficher chaque nom d'animal avec son index, par exemple 'Animal 1 : chat'."
   ]
  },
  {
   "cell_type": "code",
   "execution_count": null,
   "id": "fc59647a",
   "metadata": {},
   "outputs": [],
   "source": [
    "animaux = ['chat', 'chien', 'poisson']\n",
    "\n",
    "for index, animal in enumerate(animaux):\n",
    "    print(f'Animal {index + 1} : {animal}')"
   ]
  },
  {
   "cell_type": "markdown",
   "id": "14b7646c",
   "metadata": {},
   "source": [
    "**Exercice :** Parcours la liste de tes fruits préférés et utilise `enumerate()` pour trouver et afficher l'index du fruit 'banane'."
   ]
  },
  {
   "cell_type": "code",
   "execution_count": null,
   "id": "b50c292a",
   "metadata": {},
   "outputs": [],
   "source": [
    "fruits_preferes = ['mangue', 'kiwi', 'banane', 'ananas']\n",
    "\n",
    "for index, fruit in enumerate(fruits_preferes):\n",
    "    if fruit == 'banane':\n",
    "        print(f'La banane est à l\\'index {index}')"
   ]
  },
  {
   "cell_type": "markdown",
   "id": "4ea1f453",
   "metadata": {},
   "source": [
    "## Instructions `break` et `continue`"
   ]
  },
  {
   "cell_type": "markdown",
   "id": "097f6aa1",
   "metadata": {},
   "source": [
    "**Exercice :** Écris une boucle `for` qui parcourt les nombres de 1 à 10. Utilise l'instruction `break` pour arrêter la boucle lorsque le nombre 7 est atteint."
   ]
  },
  {
   "cell_type": "code",
   "execution_count": null,
   "id": "a4dbeea5",
   "metadata": {},
   "outputs": [],
   "source": [
    "for i in range(1, 11):\n",
    "    if i == 7:\n",
    "        break\n",
    "    print(i)"
   ]
  },
  {
   "cell_type": "markdown",
   "id": "86d8ace5",
   "metadata": {},
   "source": [
    "**Exercice :** Écris une boucle `for` qui parcourt les nombres de 1 à 10. Utilise l'instruction `continue` pour sauter l'affichage du nombre 5."
   ]
  },
  {
   "cell_type": "code",
   "execution_count": null,
   "id": "c27a4e1b",
   "metadata": {},
   "outputs": [],
   "source": [
    "for i in range(1, 11):\n",
    "    if i == 5:\n",
    "        continue\n",
    "    print(i)"
   ]
  },
  {
   "cell_type": "markdown",
   "id": "66e14be4",
   "metadata": {},
   "source": [
    "## Boucle `for` avec `else`"
   ]
  },
  {
   "cell_type": "markdown",
   "id": "8c036bad",
   "metadata": {},
   "source": [
    "**Exercice :** Crée une liste de nombres. Écris une boucle `for` qui parcourt la liste et affiche chaque nombre. Ajoute une clause `else` qui s'exécute lorsque la boucle est terminée. Explique pourquoi le `else` ne s'exécute pas si la boucle est interrompue par un `break`."
   ]
  },
  {
   "cell_type": "code",
   "execution_count": null,
   "id": "ee5d9a37",
   "metadata": {},
   "outputs": [],
   "source": [
    "nombres = [1, 2, 3]\n",
    "\n",
    "for nombre in nombres:\n",
    "    print(nombre)\n",
    "else:\n",
    "    print('La boucle est terminée sans interruption.')\n",
    "\n",
    "# Note: La clause `else` ne s'exécute que si la boucle se termine naturellement, c'est-à-dire sans être interrompue par un `break`."
   ]
  }
 ],
 "metadata": {},
 "nbformat": 4,
 "nbformat_minor": 5
}
