{
 "cells": [
  {
   "cell_type": "markdown",
   "id": "bd2d77ab",
   "metadata": {},
   "source": [
    "# Corrigé des Exercices Python : Boucles `while`"
   ]
  },
  {
   "cell_type": "markdown",
   "id": "de1e643d",
   "metadata": {},
   "source": [
    "## Boucle `while` simple"
   ]
  },
  {
   "cell_type": "markdown",
   "id": "bf6f7f17",
   "metadata": {},
   "source": [
    "**Exercice :** Crée une variable `compteur` initialisée à 0. Utilise une boucle `while` pour afficher la valeur du compteur tant qu'il est inférieur à 5. N'oublie pas d'incrémenter le compteur à chaque itération."
   ]
  },
  {
   "cell_type": "code",
   "execution_count": null,
   "id": "70c991fd",
   "metadata": {},
   "outputs": [],
   "source": [
    "compteur = 0\n",
    "while compteur < 5:\n",
    "    print(compteur)\n",
    "    compteur += 1"
   ]
  },
  {
   "cell_type": "markdown",
   "id": "c7f555f8",
   "metadata": {},
   "source": [
    "**Exercice :** Écris un programme qui demande à l'utilisateur un nombre. Utilise une boucle `while` pour continuer à demander un nombre tant que l'utilisateur n'entre pas le nombre 7."
   ]
  },
  {
   "cell_type": "code",
   "execution_count": null,
   "id": "5fad5e04",
   "metadata": {},
   "outputs": [],
   "source": [
    "nombre = 0\n",
    "while nombre != 7:\n",
    "    nombre_str = input('Entre un nombre : ')\n",
    "    nombre = int(nombre_str)\n",
    "print('Bravo, tu as trouvé le nombre 7 !')"
   ]
  },
  {
   "cell_type": "markdown",
   "id": "a5e41c65",
   "metadata": {},
   "source": [
    "## Boucle `while` avec `break`"
   ]
  },
  {
   "cell_type": "markdown",
   "id": "24a13806",
   "metadata": {},
   "source": [
    "**Exercice :** Crée un programme avec une boucle `while` infinie (en utilisant `while True`). Demande à l'utilisateur d'entrer un mot. Utilise l'instruction `break` pour sortir de la boucle si le mot entré est 'stop'."
   ]
  },
  {
   "cell_type": "code",
   "execution_count": null,
   "id": "74a816af",
   "metadata": {},
   "outputs": [],
   "source": [
    "while True:\n",
    "    mot = input('Entre un mot : ')\n",
    "    if mot == 'stop':\n",
    "        break\n",
    "    print(f'Le mot entré est : {mot}')"
   ]
  },
  {
   "cell_type": "markdown",
   "id": "f9b4fde4",
   "metadata": {},
   "source": [
    "## Boucle `while` avec `continue`"
   ]
  },
  {
   "cell_type": "markdown",
   "id": "33a4f036",
   "metadata": {},
   "source": [
    "**Exercice :** Écris un programme qui utilise une boucle `while` pour afficher les nombres de 1 à 10. Utilise l'instruction `continue` pour sauter l'affichage des nombres 3 et 7."
   ]
  },
  {
   "cell_type": "code",
   "execution_count": null,
   "id": "fbd1a056",
   "metadata": {},
   "outputs": [],
   "source": [
    "compteur = 0\n",
    "while compteur < 10:\n",
    "    compteur += 1\n",
    "    if compteur == 3 or compteur == 7:\n",
    "        continue\n",
    "    print(compteur)"
   ]
  },
  {
   "cell_type": "markdown",
   "id": "ecba66c8",
   "metadata": {},
   "source": [
    "## Boucle `while` avec `else`"
   ]
  },
  {
   "cell_type": "markdown",
   "id": "2732a6c4",
   "metadata": {},
   "source": [
    "**Exercice :** Crée une variable `nombre_restant` initialisée à 3. Utilise une boucle `while` pour décrémenter cette variable jusqu'à 0 et afficher un message à chaque itération. Ajoute une clause `else` qui s'exécute lorsque la boucle est terminée."
   ]
  },
  {
   "cell_type": "code",
   "execution_count": null,
   "id": "831cd8c9",
   "metadata": {},
   "outputs": [],
   "source": [
    "nombre_restant = 3\n",
    "\n",
    "while nombre_restant > 0:\n",
    "    print(f'Il reste {nombre_restant} secondes.')\n",
    "    nombre_restant -= 1\n",
    "else:\n",
    "    print('Le compte à rebours est terminé !')"
   ]
  }
 ],
 "metadata": {},
 "nbformat": 4,
 "nbformat_minor": 5
}
