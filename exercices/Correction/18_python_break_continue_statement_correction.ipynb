{
 "cells": [
  {
   "cell_type": "markdown",
   "id": "327f5291",
   "metadata": {},
   "source": [
    "# Corrigé des Exercices Python : Instructions `break` et `continue`"
   ]
  },
  {
   "cell_type": "markdown",
   "id": "8ad17c03",
   "metadata": {},
   "source": [
    "## L'instruction `break`"
   ]
  },
  {
   "cell_type": "markdown",
   "id": "8091390f",
   "metadata": {},
   "source": [
    "**Exercice :** Crée une boucle `for` qui itère sur les nombres de 1 à 10. Affiche chaque nombre, mais arrête la boucle dès que le nombre est supérieur à 5 en utilisant `break`."
   ]
  },
  {
   "cell_type": "code",
   "execution_count": 1,
   "id": "a514fe12",
   "metadata": {},
   "outputs": [
    {
     "name": "stdout",
     "output_type": "stream",
     "text": [
      "1\n",
      "2\n",
      "3\n",
      "4\n",
      "5\n",
      "6\n"
     ]
    }
   ],
   "source": [
    "for i in range(1, 11):\n",
    "    print(i)\n",
    "    if i > 5:\n",
    "        break"
   ]
  },
  {
   "cell_type": "markdown",
   "id": "c5213685",
   "metadata": {},
   "source": [
    "**Exercice :** Écris une boucle `while` qui demande continuellement à l'utilisateur d'entrer un nombre. Arrête la boucle avec `break` si l'utilisateur entre le nombre 0."
   ]
  },
  {
   "cell_type": "code",
   "execution_count": 2,
   "id": "2a4b9790",
   "metadata": {},
   "outputs": [
    {
     "name": "stdout",
     "output_type": "stream",
     "text": [
      "Tu as entré : 5\n",
      "Tu as entré : 5\n"
     ]
    }
   ],
   "source": [
    "while True:\n",
    "    nombre_str = input('Entre un nombre (0 pour arrêter) : ')\n",
    "    nombre = int(nombre_str)\n",
    "    if nombre == 0:\n",
    "        break\n",
    "    print(f'Tu as entré : {nombre}')"
   ]
  },
  {
   "cell_type": "markdown",
   "id": "71535e15",
   "metadata": {},
   "source": [
    "## L'instruction `continue`"
   ]
  },
  {
   "cell_type": "markdown",
   "id": "a31766db",
   "metadata": {},
   "source": [
    "**Exercice :** Crée une boucle `for` qui parcourt les nombres de 1 à 10. Utilise `continue` pour ne pas afficher les nombres pairs (2, 4, 6, 8, 10)."
   ]
  },
  {
   "cell_type": "code",
   "execution_count": 3,
   "id": "897803c1",
   "metadata": {},
   "outputs": [
    {
     "name": "stdout",
     "output_type": "stream",
     "text": [
      "1\n",
      "3\n",
      "5\n",
      "7\n",
      "9\n"
     ]
    }
   ],
   "source": [
    "for i in range(1, 11):\n",
    "    if i % 2 == 0:\n",
    "        continue\n",
    "    print(i)"
   ]
  },
  {
   "cell_type": "markdown",
   "id": "c290c9c0",
   "metadata": {},
   "source": [
    "**Exercice :** Écris une boucle `while` qui compte de 1 à 10. Affiche chaque nombre, mais utilise `continue` pour sauter l'itération si le nombre est un multiple de 3 (3, 6, 9)."
   ]
  },
  {
   "cell_type": "code",
   "execution_count": 4,
   "id": "24747391",
   "metadata": {},
   "outputs": [
    {
     "name": "stdout",
     "output_type": "stream",
     "text": [
      "1\n",
      "2\n",
      "4\n",
      "5\n",
      "7\n",
      "8\n",
      "10\n"
     ]
    }
   ],
   "source": [
    "compteur = 0\n",
    "while compteur < 10:\n",
    "    compteur += 1\n",
    "    if compteur % 3 == 0:\n",
    "        continue\n",
    "    print(compteur)"
   ]
  }
 ],
 "metadata": {
  "kernelspec": {
   "display_name": "nomades_PPL",
   "language": "python",
   "name": "python3"
  },
  "language_info": {
   "codemirror_mode": {
    "name": "ipython",
    "version": 3
   },
   "file_extension": ".py",
   "mimetype": "text/x-python",
   "name": "python",
   "nbconvert_exporter": "python",
   "pygments_lexer": "ipython3",
   "version": "3.11.13"
  }
 },
 "nbformat": 4,
 "nbformat_minor": 5
}
