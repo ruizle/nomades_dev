{
 "cells": [
  {
   "cell_type": "markdown",
   "id": "e9e674c1",
   "metadata": {},
   "source": [
    "# Corrigé des Exercices Python : Instruction `pass`"
   ]
  },
  {
   "cell_type": "markdown",
   "id": "e23c0465",
   "metadata": {},
   "source": [
    "## L'instruction `pass` dans les boucles et les conditions"
   ]
  },
  {
   "cell_type": "markdown",
   "id": "f46d0bf9",
   "metadata": {},
   "source": [
    "**Exercice :** Écris un programme qui vérifie si un nombre `x` est pair. Si c'est le cas, ne fais rien, mais utilise l'instruction `pass` pour éviter une erreur d'indentation. Dans la clause `else`, affiche 'Le nombre est impair.'."
   ]
  },
  {
   "cell_type": "code",
   "execution_count": null,
   "id": "b7b6628a",
   "metadata": {},
   "outputs": [],
   "source": [
    "x = 10\n",
    "\n",
    "if x % 2 == 0:\n",
    "    pass  # On ne fait rien car le nombre est pair\n",
    "else:\n",
    "    print('Le nombre est impair.')"
   ]
  },
  {
   "cell_type": "markdown",
   "id": "610081e0",
   "metadata": {},
   "source": [
    "**Exercice :** Crée une boucle `for` qui parcourt les nombres de 1 à 5. N'ajoute pas de code à l'intérieur de la boucle pour le moment, mais utilise l'instruction `pass` pour que le programme s'exécute sans erreur."
   ]
  },
  {
   "cell_type": "code",
   "execution_count": null,
   "id": "7eaf3128",
   "metadata": {},
   "outputs": [],
   "source": [
    "for i in range(1, 6):\n",
    "    pass  # Cette boucle est un placeholder et ne fait rien\n",
    "print('La boucle est terminée.')"
   ]
  },
  {
   "cell_type": "markdown",
   "id": "d12f396a",
   "metadata": {},
   "source": [
    "## L'instruction `pass` dans les fonctions"
   ]
  },
  {
   "cell_type": "markdown",
   "id": "31ef07d7",
   "metadata": {},
   "source": [
    "**Exercice :** Déclare une fonction nommée `prochaine_fonction()` qui n'a pas encore de contenu. Utilise l'instruction `pass` à l'intérieur de la fonction pour la définir sans qu'elle ne fasse rien. Appelle ensuite la fonction."
   ]
  },
  {
   "cell_type": "code",
   "execution_count": null,
   "id": "92f8e580",
   "metadata": {},
   "outputs": [],
   "source": [
    "def prochaine_fonction():\n",
    "    pass  # L'implémentation viendra plus tard\n",
    "\n",
    "prochaine_fonction()"
   ]
  },
  {
   "cell_type": "markdown",
   "id": "ca5112d0",
   "metadata": {},
   "source": [
    "## Différence entre `pass` et les commentaires"
   ]
  },
  {
   "cell_type": "markdown",
   "id": "3cf99d7b",
   "metadata": {},
   "source": [
    "**Exercice :** Écris une courte explication sur la différence entre le mot-clé `pass` et un commentaire en Python."
   ]
  },
  {
   "cell_type": "code",
   "execution_count": null,
   "id": "83f47959",
   "metadata": {},
   "outputs": [],
   "source": [
    "**Explication**\n",
    "\n",
    "Un **commentaire** est une annotation pour les humains, totalement ignorée par l'interpréteur Python. Si tu le laisses seul dans un bloc de code (comme une boucle `for` ou une instruction `if`), l'interpréteur s'attend à ce qu'une instruction valide suive, ce qui peut provoquer une erreur d'indentation.\n",
    "\n",
    "L'instruction **`pass`** est une instruction vide. Elle est reconnue par l'interpréteur Python comme un code valide qui ne fait rien. Elle est utilisée spécifiquement pour indiquer qu'un bloc de code est intentionnellement vide et que tu l'implémenteras plus tard."
   ]
  }
 ],
 "metadata": {},
 "nbformat": 4,
 "nbformat_minor": 5
}
