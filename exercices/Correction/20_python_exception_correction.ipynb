{
 "cells": [
  {
   "metadata": {},
   "cell_type": "markdown",
   "source": [
    "# Exercice Capstone – Company Sales\n",
    "\n",
    "## Objectifs Exceptions\n",
    "- Gérer les erreurs classiques avec `try / except / else / finally`.\n",
    "- Écrire des messages **ciblés** (pas de `except Exception` global).\n",
    "- Rendre le pipeline robuste : lecture CSV → agrégations → export.\n",
    "\n",
    "---"
   ],
   "id": "a60b3d3dc04487e3"
  },
  {
   "metadata": {},
   "cell_type": "markdown",
   "source": "### Imports & chemins",
   "id": "5ad027e8a9339162"
  },
  {
   "metadata": {
    "ExecuteTime": {
     "end_time": "2025-08-27T07:40:03.254972Z",
     "start_time": "2025-08-27T07:40:03.248441Z"
    }
   },
   "cell_type": "code",
   "source": [
    "from pathlib import Path\n",
    "import csv\n",
    "\n",
    "# TODO: définir les chemins des fichiers\n",
    "SALES_FILE = Path(\"./files/sales_data.csv\")\n",
    "EMPLOYEES_FILE = Path(\"./files/employee_data.csv\")\n",
    "REPORT_FILE = Path(\"./files/report.csv\")\n",
    "\n",
    "print(\"Files existants:\")\n",
    "print(\"- Sales_data.csv:\", SALES_FILE.exists())\n",
    "print(\"- Employee_data.csv:\", EMPLOYEES_FILE.exists())\n",
    "\n",
    "class EmptyOrNoHeaderCSVError(Exception):\n",
    "    \"\"\"Erreur personnalisée pour CSV vide ou sans header.\"\"\"\n",
    "    pass\n"
   ],
   "id": "22a5c9869b079161",
   "outputs": [
    {
     "name": "stdout",
     "output_type": "stream",
     "text": [
      "Files existants:\n",
      "- Sales_data.csv: True\n",
      "- Employee_data.csv: True\n"
     ]
    }
   ],
   "execution_count": 3
  },
  {
   "metadata": {},
   "cell_type": "markdown",
   "source": "### Lecture des CSV",
   "id": "3074198a4a78a7e7"
  },
  {
   "metadata": {
    "ExecuteTime": {
     "end_time": "2025-08-27T07:40:05.638808Z",
     "start_time": "2025-08-27T07:40:05.626200Z"
    }
   },
   "cell_type": "code",
   "source": [
    "# TODO: implémenter une fonction read_csv_rows(path: Path) -> list[dict]\n",
    "# Utiliser csv.DictReader\n",
    "def read_csv_rows(path: Path) -> list[dict]:\n",
    "    \"\"\"\n",
    "    Lecture simple d'un CSV en liste de dictionnaires avec validations:\n",
    "    - existence du fichier\n",
    "    - présence des en-têtes\n",
    "    - présence d'au moins une ligne de données\n",
    "    Lève : FileNotFoundError, EmptyOrNoHeaderCSVError\n",
    "    :param path: Path\n",
    "    :return: List[dict]\n",
    "    \"\"\"\n",
    "    if not path.exists():\n",
    "        raise FileNotFoundError(f\"Le fichier {path} n'existe pas.\")\n",
    "\n",
    "    with open(path, encoding='utf-8') as file:\n",
    "        reader = csv.DictReader(file)\n",
    "        rows = list(reader)\n",
    "\n",
    "        if not reader.fieldnames:\n",
    "            raise EmptyOrNoHeaderCSVError(f\"Le fichier {path} n'a pas d'en-têtes.\")\n",
    "        if not rows:\n",
    "            raise EmptyOrNoHeaderCSVError(f\"Le fichier {path} est vide ou n'a pas de données.\")\n",
    "        return rows\n",
    "\n",
    "sales_rows = read_csv_rows(SALES_FILE)\n",
    "employee_rows = read_csv_rows(EMPLOYEES_FILE)\n",
    "\n",
    "print(\"Exemples de lignes:\")\n",
    "len(sales_rows), len(employee_rows)"
   ],
   "id": "682f71862fcb855d",
   "outputs": [
    {
     "name": "stdout",
     "output_type": "stream",
     "text": [
      "Exemples de lignes:\n"
     ]
    },
    {
     "data": {
      "text/plain": [
       "(100, 10)"
      ]
     },
     "execution_count": 4,
     "metadata": {},
     "output_type": "execute_result"
    }
   ],
   "execution_count": 4
  },
  {
   "metadata": {},
   "cell_type": "markdown",
   "source": "### Ventes par employé",
   "id": "b777292af002efbb"
  },
  {
   "metadata": {
    "ExecuteTime": {
     "end_time": "2025-08-27T07:42:35.596133Z",
     "start_time": "2025-08-27T07:42:35.565323Z"
    }
   },
   "cell_type": "code",
   "source": [
    "# TODO: implémenter aggregate_sales_by_employee(rows: list[dict]) -> dict[str, float]\n",
    "# Agréger les montants par employee_id\n",
    "def aggregate_sales_by_employee(rows: list[dict]) -> dict[str, float]:\n",
    "    \"\"\"\n",
    "    Agrège les montants des ventes par employé.\n",
    "    Colonnes attendues ( casse exacte ): EmployeeID, Amount\n",
    "    Léve KeyError si les colonnes sont manquantes, ValueError si montant invalide.\n",
    "    :param rows: list[dict]\n",
    "    :return: dict[str, float]\n",
    "    \"\"\"\n",
    "    totals: dict[str, float] = {}\n",
    "    print(\"Colonnes des ventes:\", rows[0].keys())\n",
    "    print(\"Nombre de lignes de ventes:\", len(rows[0].values()))\n",
    "\n",
    "    for row in rows:\n",
    "        try:\n",
    "            emp_id = row[\"employee_id\"]\n",
    "            amount = float(row['Amount'])\n",
    "        except KeyError as e:\n",
    "             KeyError(f\"Colonne manquante dans les données de vente: {e}\")\n",
    "        except ValueError:\n",
    "            raise ValueError(f\"Montant invalide pour l'employé {emp_id}: {row['Amount']}\")\n",
    "        totals[emp_id] = totals.get(emp_id, 0.0) + amount\n",
    "\n",
    "    return totals\n",
    "\n",
    "sales_by_employee = aggregate_sales_by_employee(sales_rows)\n",
    "print(\"Exemple de ventes par employé:\", list(sales_by_employee.items())[:5])\n"
   ],
   "id": "de7de135c0724373",
   "outputs": [
    {
     "name": "stdout",
     "output_type": "stream",
     "text": [
      "Colonnes des ventes: dict_keys(['SalesID', 'Date', 'Amount', 'EmployeeID'])\n",
      "Nombre de lignes de ventes: 4\n"
     ]
    },
    {
     "ename": "AttributeError",
     "evalue": "'KeyError' object has no attribute 'items'",
     "output_type": "error",
     "traceback": [
      "\u001B[0;31m---------------------------------------------------------------------------\u001B[0m",
      "\u001B[0;31mAttributeError\u001B[0m                            Traceback (most recent call last)",
      "Cell \u001B[0;32mIn[6], line 28\u001B[0m\n\u001B[1;32m     25\u001B[0m     \u001B[38;5;28;01mreturn\u001B[39;00m totals\n\u001B[1;32m     27\u001B[0m sales_by_employee \u001B[38;5;241m=\u001B[39m aggregate_sales_by_employee(sales_rows)\n\u001B[0;32m---> 28\u001B[0m \u001B[38;5;28mprint\u001B[39m(\u001B[38;5;124m\"\u001B[39m\u001B[38;5;124mExemple de ventes par employé:\u001B[39m\u001B[38;5;124m\"\u001B[39m, \u001B[38;5;28mlist\u001B[39m(sales_by_employee\u001B[38;5;241m.\u001B[39mitems())[:\u001B[38;5;241m5\u001B[39m])\n",
      "\u001B[0;31mAttributeError\u001B[0m: 'KeyError' object has no attribute 'items'"
     ]
    }
   ],
   "execution_count": 6
  },
  {
   "metadata": {},
   "cell_type": "markdown",
   "source": "### Index employé → département",
   "id": "52b73382f8a36bc7"
  },
  {
   "metadata": {
    "ExecuteTime": {
     "end_time": "2025-08-26T13:19:42.871469Z",
     "start_time": "2025-08-26T13:19:42.863963Z"
    }
   },
   "cell_type": "code",
   "source": [
    "# TODO: implémenter build_employee_department_index(rows: list[dict]) -> dict[str, str]\n",
    "# Construire un dictionnaire {employee_id: department}\n",
    "def build_employee_department_index(rows: list[dict]) -> dict[str, str]:\n",
    "    \"\"\"\n",
    "    Construit un index employee_id -> department (lecture simple)\n",
    "    :param rows: list[dict]\n",
    "    :return: dict[str, str]\n",
    "    \"\"\"\n",
    "    idx: dict[str, str] = {}\n",
    "\n",
    "    for row in rows:\n",
    "        try:\n",
    "            idx[row[\"EmployeeID\"]] = row[\"Department\"]\n",
    "        except KeyError as e:\n",
    "            raise KeyError(f\"Colonne manquante dans les données des employés: {e}\")\n",
    "    return idx\n",
    "\n",
    "emp_to_dept = build_employee_department_index(employee_rows)\n",
    "list(emp_to_dept.items())[:5]"
   ],
   "id": "2f85c040da0494d",
   "outputs": [
    {
     "data": {
      "text/plain": [
       "[('1', 'Sales'),\n",
       " ('2', 'Operations'),\n",
       " ('3', 'Customer Service'),\n",
       " ('4', 'Operations'),\n",
       " ('5', 'Finance')]"
      ]
     },
     "execution_count": 4,
     "metadata": {},
     "output_type": "execute_result"
    }
   ],
   "execution_count": 4
  },
  {
   "metadata": {},
   "cell_type": "markdown",
   "source": "### Ventes par département",
   "id": "b1325bcb663e3a94"
  },
  {
   "metadata": {
    "ExecuteTime": {
     "end_time": "2025-08-26T13:21:52.702332Z",
     "start_time": "2025-08-26T13:21:52.695473Z"
    }
   },
   "cell_type": "code",
   "source": [
    "# TODO: implémenter aggregate_sales_by_department(sales_by_emp: dict[str, float], emp_to_dept: dict[str, str]) -> dict[str, float]\n",
    "# Agréger les ventes par département\n",
    "def aggregate_sales_by_department(sales_by_employee: dict[str, float], emp_to_dept: dict[str, str]) -> dict[str, float]:\n",
    "    \"\"\"\n",
    "    Jointure simple employee_id -> department, puis agrégation par department.\n",
    "    Employées sans department sont ignorées, les ignorés (comptabilisés).\n",
    "    :param sales_by_employee: dict[str, float]\n",
    "    :param emp_to_dept: dict[str, str]\n",
    "    :return: dict[str, float]\n",
    "    \"\"\"\n",
    "    totals: dict[str, float] = {}\n",
    "    skipped = 0\n",
    "\n",
    "    for emp_id, total in sales_by_employee.items():\n",
    "        dep = emp_to_dept.get(emp_id)\n",
    "        if dep is None:\n",
    "            skipped += 1\n",
    "            continue  # Employée sans département, on ignore\n",
    "        totals[dep] = totals.get(dep, 0.0) + total\n",
    "\n",
    "    if skipped:\n",
    "        print(f\"Attention: {skipped} employés sans département ont été ignorés.\")\n",
    "    return totals\n",
    "\n",
    "sales_by_department = aggregate_sales_by_department(sales_by_employee, emp_to_dept)\n",
    "sales_by_department"
   ],
   "id": "4f01a900308008e3",
   "outputs": [
    {
     "data": {
      "text/plain": [
       "{'Customer Service': 197261.0,\n",
       " 'Operations': 104549.0,\n",
       " 'Sales': 57520.0,\n",
       " 'Finance': 123519.0,\n",
       " 'IT': 78752.0}"
      ]
     },
     "execution_count": 5,
     "metadata": {},
     "output_type": "execute_result"
    }
   ],
   "execution_count": 5
  },
  {
   "metadata": {},
   "cell_type": "markdown",
   "source": "### Écriture du rapport",
   "id": "c6a615b45355646"
  },
  {
   "metadata": {},
   "cell_type": "code",
   "source": [
    "# TODO: implémenter write_report(path: Path, dept_totals: dict[str, float])\n",
    "# Écrire un CSV department,total_sales\n",
    "def write_report(path: Path, dept_totals: dict[str, float]) -> None:\n",
    "    \"\"\"\n",
    "    Écrit un rapport CSV simple department, total_sales (formatée à 2 décimales)\n",
    "    :param path: Path\n",
    "    :param dept_totals: dict[str, float]\n",
    "    \"\"\"\n",
    "    with open(path, 'w', encoding='utf-8', newline='') as file:\n",
    "        writer = csv.writer(file)\n",
    "        writer.writerow([\"department\", \"total_sales\"])\n",
    "        for dept, total in dept_totals.items():\n",
    "            writer.writerow([dept, f\"{total:.2f}\"])  # Formatage à 2 décimales\n",
    "\n",
    "write_report(REPORT_FILE, sales_by_department)\n",
    "REPORT_FILE.resolve()"
   ],
   "id": "48c47368bb46a965",
   "outputs": [],
   "execution_count": null
  },
  {
   "metadata": {},
   "cell_type": "markdown",
   "source": "### Vérifications",
   "id": "725dafdff6044d3c"
  },
  {
   "metadata": {
    "ExecuteTime": {
     "end_time": "2025-08-26T13:25:10.400637Z",
     "start_time": "2025-08-26T13:25:10.395952Z"
    }
   },
   "cell_type": "code",
   "source": [
    "# TODO: vérifier que report.csv existe et contient au moins un header + 1 ligne\n",
    "if REPORT_FILE.exists():\n",
    "    with open(REPORT_FILE, encoding='utf-8') as file:\n",
    "        lines = file.readlines()\n",
    "    assert len(lines) >= 2, \"Le fichier report.csv ne contient pas de données\"\n",
    "else:\n",
    "    print(\"Le fichier report.csv n'existe pas\")"
   ],
   "id": "4166c5b366ff950a",
   "outputs": [
    {
     "name": "stdout",
     "output_type": "stream",
     "text": [
      "Le fichier report.csv n'existe pas\n"
     ]
    }
   ],
   "execution_count": 6
  },
  {
   "metadata": {},
   "cell_type": "markdown",
   "source": [
    "## Bonus\n",
    "- Trier les départements par ventes décroissantes.\n",
    "- Sauvegarder dans un fichier `report_sorted.csv`.\n",
    "- (Optionnel) Si matplotlib est installé, tracer un bar chart des ventes.\n"
   ],
   "id": "69213588355ad55b"
  },
  {
   "metadata": {},
   "cell_type": "code",
   "source": [
    "# Bonus : trier par ventes décroissantes et écrire report_sorted.csv\n",
    "def sorted_totals_desc(deps_totals: dict[str, float]) -> list[tuple[str, float]]:\n",
    "    \"\"\"\n",
    "    Trie les départements par ventes décroissantes.\n",
    "    :param deps_totals: dict[str, float]\n",
    "    :return: list[tuple[str, float]]\n",
    "    \"\"\"\n",
    "    return sorted(deps_totals.items(), key=lambda item: item[1], reverse=True)\n",
    "\n",
    "sorted_depts = sorted_totals_desc(sales_by_department)\n",
    "\n",
    "REPORT_SORTED_FILE = Path(\"./files/report_sorted.csv\")\n",
    "with open(REPORT_SORTED_FILE, 'w', encoding='utf-8', newline='') as file:\n",
    "    writer = csv.writer(file)\n",
    "    writer.writerow([\"department\", \"total_sales\"])\n",
    "    for dept, total in sorted_depts:\n",
    "        writer.writerow([dept, f\"{total:.2f}\"])  # Formatage à 2 décimales\n",
    "\n",
    "print(\"Rapport trié : \", REPORT_SORTED_FILE.resolve())\n",
    "sorted_depts[:5]  # Top 5 départements"
   ],
   "id": "c9000291d2e73b7f",
   "outputs": [],
   "execution_count": null
  }
 ],
 "metadata": {
  "kernelspec": {
   "display_name": "Python 3",
   "language": "python",
   "name": "python3"
  },
  "language_info": {
   "codemirror_mode": {
    "name": "ipython",
    "version": 2
   },
   "file_extension": ".py",
   "mimetype": "text/x-python",
   "name": "python",
   "nbconvert_exporter": "python",
   "pygments_lexer": "ipython2",
   "version": "2.7.6"
  }
 },
 "nbformat": 4,
 "nbformat_minor": 5
}
