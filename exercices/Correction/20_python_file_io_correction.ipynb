{
 "cells": [
  {
   "cell_type": "markdown",
   "id": "a60b3d3dc04487e3",
   "metadata": {},
   "source": [
    "# Exercice Capstone – Company Sales\n",
    "\n",
    "## Objectifs\n",
    "- Lire deux CSV : `sales_data.csv` et `employee_data.csv`.\n",
    "- Calculer les ventes **par employé** puis **par département**.\n",
    "- Générer un rapport `report.csv` contenant `department,total_sales`.\n",
    "\n",
    "---\n",
    "\n",
    "### Consignes\n",
    "1. Lire le fichier `sales_data.csv` et agréger les ventes par employé.\n",
    "2. Lire le fichier `employee_data.csv` et créer un dictionnaire `employee_id → department`.\n",
    "3. Associer ventes et départements, puis agréger les ventes par département.\n",
    "4. Écrire un fichier `report.csv` contenant `department,total_sales`.\n",
    "5. (Bonus) Trier les départements par ventes décroissantes et écrire `report_sorted.csv`.\n",
    "\n",
    "⚠️ La gestion des erreurs sera traitée **dans la séance suivante (Exceptions)**."
   ]
  },
  {
   "cell_type": "markdown",
   "id": "5ad027e8a9339162",
   "metadata": {},
   "source": [
    "### Imports & chemins"
   ]
  },
  {
   "cell_type": "code",
   "execution_count": 4,
   "id": "22a5c9869b079161",
   "metadata": {
    "ExecuteTime": {
     "end_time": "2025-08-26T07:27:12.022615Z",
     "start_time": "2025-08-26T07:27:12.016494Z"
    }
   },
   "outputs": [
    {
     "name": "stdout",
     "output_type": "stream",
     "text": [
      "Files existants:\n",
      "- sales_data.csv: True\n",
      "- employee_data.csv: True\n"
     ]
    }
   ],
   "source": [
    "from pathlib import Path\n",
    "import csv\n",
    "\n",
    "# TODO: définir les chemins des fichiers\n",
    "SALES_FILE = Path(\"./files/sales_data.csv\")\n",
    "EMPLOYEES_FILE = Path(\"./files/employee_data.csv\")\n",
    "REPORT_FILE = Path(\"./files/report.csv\")\n",
    "\n",
    "print(\"Files existants:\")\n",
    "print(\"- sales_data.csv:\", SALES_FILE.exists())\n",
    "print(\"- employee_data.csv:\", EMPLOYEES_FILE.exists())\n"
   ]
  },
  {
   "cell_type": "markdown",
   "id": "3074198a4a78a7e7",
   "metadata": {},
   "source": [
    "### Lecture des CSV"
   ]
  },
  {
   "cell_type": "code",
   "execution_count": 5,
   "id": "682f71862fcb855d",
   "metadata": {
    "ExecuteTime": {
     "end_time": "2025-08-26T07:28:38.263712Z",
     "start_time": "2025-08-26T07:28:38.253211Z"
    }
   },
   "outputs": [
    {
     "name": "stdout",
     "output_type": "stream",
     "text": [
      "Exemples de lignes:\n"
     ]
    },
    {
     "data": {
      "text/plain": [
       "(100, 10)"
      ]
     },
     "execution_count": 5,
     "metadata": {},
     "output_type": "execute_result"
    }
   ],
   "source": [
    "# TODO: implémenter une fonction read_csv_rows(path: Path) -> list[dict]\n",
    "# Utiliser csv.DictReader\n",
    "def read_csv_rows(path: Path) -> list[dict]:\n",
    "    \"\"\"\n",
    "    Lecture simple d'un CSV en liste de dictionnaires (suppose les données sont valides).\n",
    "    :param path: Path\n",
    "    :return: List[dict]\n",
    "    \"\"\"\n",
    "    with open(path, encoding='utf-8') as file:\n",
    "        reader = csv.DictReader(file)\n",
    "        return list(reader)\n",
    "\n",
    "sales_rows = read_csv_rows(SALES_FILE)\n",
    "employee_rows = read_csv_rows(EMPLOYEES_FILE)\n",
    "\n",
    "print(\"Exemples de lignes:\")\n",
    "len(sales_rows), len(employee_rows)"
   ]
  },
  {
   "cell_type": "markdown",
   "id": "b777292af002efbb",
   "metadata": {},
   "source": [
    "### Ventes par employé"
   ]
  },
  {
   "cell_type": "code",
   "execution_count": 17,
   "id": "de7de135c0724373",
   "metadata": {},
   "outputs": [
    {
     "name": "stdout",
     "output_type": "stream",
     "text": [
      "sales_by_employee (type= <class 'dict'> )= {'6': 64656.0, '4': 49941.0, '2': 54608.0, '1': 57520.0, '3': 84839.0, '5': 62173.0, '7': 46096.0, '8': 61346.0, '10': 32656.0, '9': 47766.0}\n",
      "Exemple de ventes par employé: [('6', 64656.0), ('4', 49941.0), ('2', 54608.0), ('1', 57520.0), ('3', 84839.0)]\n"
     ]
    }
   ],
   "source": [
    "# TODO: implémenter aggregate_sales_by_employee(rows: list[dict]) -> dict[str, float]\n",
    "# Agréger les montants par employee_id\n",
    "def aggregate_sales_by_employee(rows: list[dict]) -> dict[str, float]:\n",
    "    \"\"\"\n",
    "    Agrège les montants des ventes par employé, employee_id (lecture simple)\n",
    "    :param rows: list[dict]\n",
    "    :return: dict[str, float]\n",
    "    \"\"\"\n",
    "    totals: dict[str, float] = {}\n",
    "\n",
    "    for row in rows:\n",
    "        emp_id = row[\"EmployeeID\"]\n",
    "        amount = float(row['Amount'])\n",
    "        totals[emp_id] = totals.get(emp_id, 0.0) + amount\n",
    "\n",
    "    return totals\n",
    "\n",
    "# print(\"Colonnes des ventes:\", sales_rows[0].keys())\n",
    "\n",
    "sales_by_employee = aggregate_sales_by_employee(sales_rows)\n",
    "print(\"sales_by_employee (type=\",type(sales_by_employee),\")=\",sales_by_employee)\n",
    "# Exemples\n",
    "print(\"Exemple de ventes par employé:\", list(sales_by_employee.items())[:5])"
   ]
  },
  {
   "cell_type": "markdown",
   "id": "52b73382f8a36bc7",
   "metadata": {},
   "source": [
    "### Index employé → département"
   ]
  },
  {
   "cell_type": "code",
   "execution_count": 7,
   "id": "2f85c040da0494d",
   "metadata": {},
   "outputs": [
    {
     "data": {
      "text/plain": [
       "[('1', 'Sales'),\n",
       " ('2', 'Operations'),\n",
       " ('3', 'Customer Service'),\n",
       " ('4', 'Operations'),\n",
       " ('5', 'Finance')]"
      ]
     },
     "execution_count": 7,
     "metadata": {},
     "output_type": "execute_result"
    }
   ],
   "source": [
    "# TODO: implémenter build_employee_department_index(rows: list[dict]) -> dict[str, str]\n",
    "# Construire un dictionnaire {employee_id: department}\n",
    "def build_employee_department_index(rows: list[dict]) -> dict[str, str]:\n",
    "    \"\"\"\n",
    "    Construit un index employee_id -> department (lecture simple)\n",
    "    :param rows: list[dict]\n",
    "    :return: dict[str, str]\n",
    "    \"\"\"\n",
    "    idx: dict[str, str] = {}\n",
    "\n",
    "    for row in rows:\n",
    "        idx[row[\"EmployeeID\"]] = row[\"Department\"]\n",
    "    return idx\n",
    "\n",
    "emp_to_dept = build_employee_department_index(employee_rows)\n",
    "list(emp_to_dept.items())[:5]"
   ]
  },
  {
   "cell_type": "markdown",
   "id": "b1325bcb663e3a94",
   "metadata": {},
   "source": [
    "### Ventes par département"
   ]
  },
  {
   "cell_type": "code",
   "execution_count": null,
   "id": "4f01a900308008e3",
   "metadata": {},
   "outputs": [
    {
     "data": {
      "text/plain": [
       "{'Customer Service': 197261.0,\n",
       " 'Operations': 104549.0,\n",
       " 'Sales': 57520.0,\n",
       " 'Finance': 123519.0,\n",
       " 'IT': 78752.0}"
      ]
     },
     "execution_count": 8,
     "metadata": {},
     "output_type": "execute_result"
    }
   ],
   "source": [
    "# TODO: implémenter aggregate_sales_by_department(sales_by_emp: dict[str, float], emp_to_dept: dict[str, str]) -> dict[str, float]\n",
    "# Agréger les ventes par département\n",
    "def aggregate_sales_by_department(sales_by_employee: dict[str, float], emp_to_dept: dict[str, str]) -> dict[str, float]:\n",
    "    \"\"\"\n",
    "    Jointure simple employee_id -> department, puis agrégation par department.\n",
    "    Employées sans department sont ignorées, dans cette version simple.\n",
    "    :param sales_by_employee: dict[str, float]\n",
    "    :param emp_to_dept: dict[str, str]\n",
    "    :return: dict[str, float]\n",
    "    \"\"\"\n",
    "    totals: dict[str, float] = {}\n",
    "\n",
    "    for emp_id, total in sales_by_employee.items():\n",
    "        dept = emp_to_dept.get(emp_id)\n",
    "        if dept is None:\n",
    "            continue  # Employée sans département, on ignore\n",
    "        totals[dept] = totals.get(dept, 0.0) + total\n",
    "    return totals\n",
    "\n",
    "sales_by_department = aggregate_sales_by_department(sales_by_employee, emp_to_dept)\n",
    "sales_by_department"
   ]
  },
  {
   "cell_type": "markdown",
   "id": "c6a615b45355646",
   "metadata": {},
   "source": [
    "### Écriture du rapport"
   ]
  },
  {
   "cell_type": "code",
   "execution_count": 9,
   "id": "48c47368bb46a965",
   "metadata": {},
   "outputs": [
    {
     "data": {
      "text/plain": [
       "WindowsPath('C:/Users/L - E Ruiz/Git/nomades_dev/exercices/Correction/files/report.csv')"
      ]
     },
     "execution_count": 9,
     "metadata": {},
     "output_type": "execute_result"
    }
   ],
   "source": [
    "# TODO: implémenter write_report(path: Path, dept_totals: dict[str, float])\n",
    "# Écrire un CSV department,total_sales\n",
    "def write_report(path: Path, dept_totals: dict[str, float]) -> None:\n",
    "    \"\"\"\n",
    "    Écrit un rapport CSV simple department, total_sales (formatée à 2 décimales)\n",
    "    :param path: Path\n",
    "    :param dept_totals: dict[str, float]\n",
    "    \"\"\"\n",
    "    with open(path, 'w', encoding='utf-8', newline='') as file:\n",
    "        writer = csv.writer(file)\n",
    "        writer.writerow([\"department\", \"total_sales\"])\n",
    "        for dept, total in dept_totals.items():\n",
    "            writer.writerow([dept, f\"{total:.2f}\"])  # Formatage à 2 décimales\n",
    "\n",
    "write_report(REPORT_FILE, sales_by_department)\n",
    "REPORT_FILE.resolve()"
   ]
  },
  {
   "cell_type": "markdown",
   "id": "725dafdff6044d3c",
   "metadata": {},
   "source": [
    "### Vérifications"
   ]
  },
  {
   "cell_type": "code",
   "execution_count": null,
   "id": "4166c5b366ff950a",
   "metadata": {},
   "outputs": [
    {
     "name": "stdout",
     "output_type": "stream",
     "text": [
      "report.csv contient 5 lignes de données\n"
     ]
    }
   ],
   "source": [
    "# TODO: vérifier que report.csv existe et contient au moins un header + 1 ligne\n",
    "assert REPORT_FILE.exists(), \"Le fichier report.csv n'existe pas\"\n",
    "\n",
    "with open(REPORT_FILE, encoding='utf-8') as file:\n",
    "    lines = file.readlines()\n",
    "\n",
    "assert len(lines) >= 2, \"Le fichier report.csv ne contient pas de données\"\n",
    "print(\"report.csv contient\", len(lines)-1, \"lignes de données\")"
   ]
  },
  {
   "cell_type": "markdown",
   "id": "69213588355ad55b",
   "metadata": {},
   "source": [
    "## Bonus\n",
    "- Trier les départements par ventes décroissantes.\n",
    "- Sauvegarder dans un fichier `report_sorted.csv`.\n",
    "- (Optionnel) Si matplotlib est installé, tracer un bar chart des ventes.\n"
   ]
  },
  {
   "cell_type": "code",
   "execution_count": 11,
   "id": "c9000291d2e73b7f",
   "metadata": {},
   "outputs": [
    {
     "name": "stdout",
     "output_type": "stream",
     "text": [
      "Rapport trié :  C:\\Users\\L - E Ruiz\\Git\\nomades_dev\\exercices\\Correction\\files\\report_sorted.csv\n"
     ]
    },
    {
     "data": {
      "text/plain": [
       "[('Customer Service', 197261.0),\n",
       " ('Finance', 123519.0),\n",
       " ('Operations', 104549.0),\n",
       " ('IT', 78752.0),\n",
       " ('Sales', 57520.0)]"
      ]
     },
     "execution_count": 11,
     "metadata": {},
     "output_type": "execute_result"
    }
   ],
   "source": [
    "# Bonus : trier par ventes décroissantes et écrire report_sorted.csv\n",
    "def sorted_totals_desc(deps_totals: dict[str, float]) -> list[tuple[str, float]]:\n",
    "    \"\"\"\n",
    "    Trie les départements par ventes décroissantes.\n",
    "    :param deps_totals: dict[str, float]\n",
    "    :return: list[tuple[str, float]]\n",
    "    \"\"\"\n",
    "    return sorted(deps_totals.items(), key=lambda item: item[1], reverse=True)\n",
    "\n",
    "sorted_depts = sorted_totals_desc(sales_by_department)\n",
    "\n",
    "REPORT_SORTED_FILE = Path(\"./files/report_sorted.csv\")\n",
    "with open(REPORT_SORTED_FILE, 'w', encoding='utf-8', newline='') as file:\n",
    "    writer = csv.writer(file)\n",
    "    writer.writerow([\"department\", \"total_sales\"])\n",
    "    for dept, total in sorted_depts:\n",
    "        writer.writerow([dept, f\"{total:.2f}\"])  # Formatage à 2 décimales\n",
    "\n",
    "print(\"Rapport trié : \", REPORT_SORTED_FILE.resolve())\n",
    "sorted_depts[:5]  # Top 5 départements"
   ]
  }
 ],
 "metadata": {
  "kernelspec": {
   "display_name": "nomades_PPL",
   "language": "python",
   "name": "python3"
  },
  "language_info": {
   "codemirror_mode": {
    "name": "ipython",
    "version": 3
   },
   "file_extension": ".py",
   "mimetype": "text/x-python",
   "name": "python",
   "nbconvert_exporter": "python",
   "pygments_lexer": "ipython3",
   "version": "3.11.13"
  }
 },
 "nbformat": 4,
 "nbformat_minor": 5
}
