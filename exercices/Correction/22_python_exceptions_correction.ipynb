{
 "cells": [
  {
   "metadata": {},
   "cell_type": "markdown",
   "source": [
    "# Exceptions\n",
    "\n",
    "Objectifs\n",
    "- Gérer les erreurs classiques en Python avec `try/except/(else/finally)`.\n",
    "- Écrire des messages d'erreur clairs et *ciblés* (pas de `except Exception` global).\n",
    "\n",
    "Exos :\n",
    "1) Division sécurisée `safe_divide(a, b)`\n",
    "2) Lecture fichier inexistant `read_text_file(path)`"
   ],
   "id": "96eac8aac3d34b50"
  },
  {
   "metadata": {},
   "cell_type": "markdown",
   "source": [
    "## Exercice 1 — Division sécurisée\n",
    "\n",
    "Écrire une fonction `safe_divide(a, b)` qui :\n",
    "- retourne `a / b` si possible\n",
    "- retourne `None` (ou un message) si `b == 0`\n",
    "- ne doit pas crasher sur une erreur simple"
   ],
   "id": "70639166407cabbc"
  },
  {
   "metadata": {
    "ExecuteTime": {
     "end_time": "2025-08-26T13:03:55.912904Z",
     "start_time": "2025-08-26T13:03:55.906375Z"
    }
   },
   "cell_type": "code",
   "source": [
    "# TODO: implémenter safe_divide(a, b) -> float | None\n",
    "def safe_divide(a: float, b: float) -> float | None:\n",
    "    try:\n",
    "        result = a / b\n",
    "    except ZeroDivisionError:\n",
    "        return None\n",
    "    except TypeError:\n",
    "        return None\n",
    "    else:\n",
    "        return result\n",
    "\n",
    "# TODO: tests simples\n",
    "print(safe_divide(10, 2))   # attendu: 5.0\n",
    "print(safe_divide(10, 0))   # attendu: None\n"
   ],
   "id": "a6a4331b3ca01baa",
   "outputs": [
    {
     "name": "stdout",
     "output_type": "stream",
     "text": [
      "5.0\n",
      "None\n"
     ]
    }
   ],
   "execution_count": 1
  },
  {
   "metadata": {},
   "cell_type": "markdown",
   "source": [
    "## Exercice 2 — Lecture fichier inexistant\n",
    "\n",
    "Écrire une fonction `read_text_file(path)` qui :\n",
    "- ouvre un fichier texte et renvoie son contenu\n",
    "- si le fichier n'existe pas → retourne `None` au lieu de crasher\n",
    "- utiliser `with open(..., encoding=\"utf-8\")`"
   ],
   "id": "c20b7ddc0305c073"
  },
  {
   "metadata": {
    "ExecuteTime": {
     "end_time": "2025-08-26T13:04:01.649940Z",
     "start_time": "2025-08-26T13:04:01.643018Z"
    }
   },
   "cell_type": "code",
   "source": [
    "from pathlib import Path\n",
    "\n",
    "# TODO: implémenter read_text_file(path: Path) -> str | None\n",
    "def read_text_file(path: Path):\n",
    "    # TODO\n",
    "    try:\n",
    "        with open(path, encoding=\"utf-8\") as file:\n",
    "            content = file.read()\n",
    "    except FileNotFoundError:\n",
    "        return None\n",
    "    else:\n",
    "        return content\n",
    "    finally:\n",
    "        print(\"done\")\n",
    "\n",
    "\n",
    "# TODO: tests\n",
    "print(read_text_file(Path(\"fichier_qui_n_existe_pas.txt\")))  # attendu: None\n",
    "Path(\"demo.txt\").write_text(\"hello\", encoding=\"utf-8\")\n",
    "print(read_text_file(Path(\"demo.txt\")))  # attendu: \"hello\""
   ],
   "id": "a0afb843626aaa0",
   "outputs": [
    {
     "name": "stdout",
     "output_type": "stream",
     "text": [
      "done\n",
      "None\n",
      "done\n",
      "hello\n"
     ]
    }
   ],
   "execution_count": 2
  },
  {
   "metadata": {},
   "cell_type": "markdown",
   "source": [
    "## Mini-challenge (optionnel)\n",
    "\n",
    "- Améliorer `safe_divide` pour accepter aussi des **str** en entrée :\n",
    "  - convertir en float si possible\n",
    "  - sinon retourner None\n",
    "- Dans `read_text_file`, ajouter un `finally` qui affiche `\"done\"` à chaque appel.\n"
   ],
   "id": "c4b072a50677c6ff"
  },
  {
   "metadata": {},
   "cell_type": "code",
   "outputs": [],
   "execution_count": null,
   "source": "",
   "id": "184503eb564c6a7a"
  },
  {
   "metadata": {
    "ExecuteTime": {
     "end_time": "2025-08-26T13:04:29.575639Z",
     "start_time": "2025-08-26T13:04:28.989093Z"
    }
   },
   "cell_type": "code",
   "source": [
    "class CustomError(Exception):\n",
    "    value = \"Ceci est une erreur personnalisée.\"\n",
    "    def __init__(self, message=value):\n",
    "        self.message = message\n",
    "        super().__init__(self.message)\n",
    "    def __str__(self):\n",
    "        return f\"CustomError: {self.message}\"\n",
    "\n",
    "    def cracher_erreur(self):\n",
    "        raise CustomError(self.value)\n",
    "\n",
    "    def cracher_custom_error(self):\n",
    "        return CustomError(self.value)\n",
    "\n",
    "    try:\n",
    "        raise CustomError(\"Une erreur personnalisée s'est produite.\")\n",
    "    except CustomError:\n",
    "        print(\"CustomError attrapée\")"
   ],
   "id": "20cc7d895b5eb223",
   "outputs": [
    {
     "ename": "NameError",
     "evalue": "name 'CustomError' is not defined",
     "output_type": "error",
     "traceback": [
      "\u001B[0;31m---------------------------------------------------------------------------\u001B[0m",
      "\u001B[0;31mNameError\u001B[0m                                 Traceback (most recent call last)",
      "Cell \u001B[0;32mIn[3], line 16\u001B[0m, in \u001B[0;36mCustomError\u001B[0;34m()\u001B[0m\n\u001B[1;32m     15\u001B[0m \u001B[38;5;28;01mtry\u001B[39;00m:\n\u001B[0;32m---> 16\u001B[0m     \u001B[38;5;28;01mraise\u001B[39;00m CustomError(\u001B[38;5;124m\"\u001B[39m\u001B[38;5;124mUne erreur personnalisée s\u001B[39m\u001B[38;5;124m'\u001B[39m\u001B[38;5;124mest produite.\u001B[39m\u001B[38;5;124m\"\u001B[39m)\n\u001B[1;32m     17\u001B[0m \u001B[38;5;28;01mexcept\u001B[39;00m CustomError:\n",
      "\u001B[0;31mNameError\u001B[0m: name 'CustomError' is not defined",
      "\nDuring handling of the above exception, another exception occurred:\n",
      "\u001B[0;31mNameError\u001B[0m                                 Traceback (most recent call last)",
      "Cell \u001B[0;32mIn[3], line 1\u001B[0m\n\u001B[0;32m----> 1\u001B[0m \u001B[38;5;28;01mclass\u001B[39;00m \u001B[38;5;21;01mCustomError\u001B[39;00m(\u001B[38;5;167;01mException\u001B[39;00m):\n\u001B[1;32m      2\u001B[0m     value \u001B[38;5;241m=\u001B[39m \u001B[38;5;124m\"\u001B[39m\u001B[38;5;124mCeci est une erreur personnalisée.\u001B[39m\u001B[38;5;124m\"\u001B[39m\n\u001B[1;32m      3\u001B[0m     \u001B[38;5;28;01mdef\u001B[39;00m \u001B[38;5;21m__init__\u001B[39m(\u001B[38;5;28mself\u001B[39m, message\u001B[38;5;241m=\u001B[39mvalue):\n",
      "Cell \u001B[0;32mIn[3], line 17\u001B[0m, in \u001B[0;36mCustomError\u001B[0;34m()\u001B[0m\n\u001B[1;32m     15\u001B[0m \u001B[38;5;28;01mtry\u001B[39;00m:\n\u001B[1;32m     16\u001B[0m     \u001B[38;5;28;01mraise\u001B[39;00m CustomError(\u001B[38;5;124m\"\u001B[39m\u001B[38;5;124mUne erreur personnalisée s\u001B[39m\u001B[38;5;124m'\u001B[39m\u001B[38;5;124mest produite.\u001B[39m\u001B[38;5;124m\"\u001B[39m)\n\u001B[0;32m---> 17\u001B[0m \u001B[38;5;28;01mexcept\u001B[39;00m CustomError:\n\u001B[1;32m     18\u001B[0m     \u001B[38;5;28mprint\u001B[39m(\u001B[38;5;124m\"\u001B[39m\u001B[38;5;124mCustomError attrapée\u001B[39m\u001B[38;5;124m\"\u001B[39m)\n",
      "\u001B[0;31mNameError\u001B[0m: name 'CustomError' is not defined"
     ]
    }
   ],
   "execution_count": 3
  },
  {
   "metadata": {
    "ExecuteTime": {
     "end_time": "2025-08-26T13:04:32.857833Z",
     "start_time": "2025-08-26T13:04:32.840737Z"
    }
   },
   "cell_type": "code",
   "source": [
    "import CustomError as ce\n",
    "\n",
    "def cracher_custom_error():\n",
    "    error = ce.value\n",
    "    raise ce.cracher_custom_error()\n"
   ],
   "id": "673cb5fa739ce55f",
   "outputs": [
    {
     "ename": "ModuleNotFoundError",
     "evalue": "No module named 'CustomError'",
     "output_type": "error",
     "traceback": [
      "\u001B[0;31m---------------------------------------------------------------------------\u001B[0m",
      "\u001B[0;31mModuleNotFoundError\u001B[0m                       Traceback (most recent call last)",
      "Cell \u001B[0;32mIn[4], line 1\u001B[0m\n\u001B[0;32m----> 1\u001B[0m \u001B[38;5;28;01mimport\u001B[39;00m \u001B[38;5;21;01mCustomError\u001B[39;00m \u001B[38;5;28;01mas\u001B[39;00m \u001B[38;5;21;01mce\u001B[39;00m\n\u001B[1;32m      3\u001B[0m \u001B[38;5;28;01mdef\u001B[39;00m \u001B[38;5;21mcracher_custom_error\u001B[39m():\n\u001B[1;32m      4\u001B[0m     error \u001B[38;5;241m=\u001B[39m ce\u001B[38;5;241m.\u001B[39mvalue\n",
      "\u001B[0;31mModuleNotFoundError\u001B[0m: No module named 'CustomError'"
     ]
    }
   ],
   "execution_count": 4
  },
  {
   "metadata": {},
   "cell_type": "code",
   "outputs": [],
   "execution_count": null,
   "source": "",
   "id": "f54e9a61ccbd3788"
  }
 ],
 "metadata": {
  "kernelspec": {
   "display_name": "Python 3",
   "language": "python",
   "name": "python3"
  },
  "language_info": {
   "codemirror_mode": {
    "name": "ipython",
    "version": 2
   },
   "file_extension": ".py",
   "mimetype": "text/x-python",
   "name": "python",
   "nbconvert_exporter": "python",
   "pygments_lexer": "ipython2",
   "version": "2.7.6"
  }
 },
 "nbformat": 4,
 "nbformat_minor": 5
}
