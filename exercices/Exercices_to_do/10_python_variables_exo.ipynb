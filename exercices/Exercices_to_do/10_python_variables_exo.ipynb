{
 "cells": [
  {
   "cell_type": "markdown",
   "id": "8463d7ff",
   "metadata": {},
   "source": [
    "# Exercices Python : Variables et Littéraux"
   ]
  },
  {
   "cell_type": "markdown",
   "id": "15dfb55e",
   "metadata": {},
   "source": [
    "## Assignation de variables"
   ]
  },
  {
   "cell_type": "markdown",
   "id": "89fe0a4c",
   "metadata": {},
   "source": [
    "**Exercice :** Crée une variable `nom` qui contient ton prénom et affiche-la."
   ]
  },
  {
   "cell_type": "code",
   "execution_count": null,
   "id": "e41f4398",
   "metadata": {},
   "outputs": [],
   "source": []
  },
  {
   "cell_type": "markdown",
   "id": "037a2aba",
   "metadata": {},
   "source": [
    "**Exercice :** Crée deux variables `age` et `ville`, puis affiche une phrase complète en utilisant ces variables."
   ]
  },
  {
   "cell_type": "code",
   "execution_count": null,
   "id": "bc00c217",
   "metadata": {},
   "outputs": [],
   "source": []
  },
  {
   "cell_type": "markdown",
   "id": "197031e1",
   "metadata": {},
   "source": [
    "## Changement de valeur d'une variable"
   ]
  },
  {
   "cell_type": "markdown",
   "id": "31242ed6",
   "metadata": {},
   "source": [
    "**Exercice :** Déclare une variable `couleur` avec la valeur `'rouge'`, puis change-la pour `'bleu'`."
   ]
  },
  {
   "cell_type": "code",
   "execution_count": null,
   "id": "e449e4e7",
   "metadata": {},
   "outputs": [],
   "source": []
  },
  {
   "cell_type": "markdown",
   "id": "3d327cb3",
   "metadata": {},
   "source": [
    "**Exercice :** Affiche la valeur de `couleur` avant et après le changement."
   ]
  },
  {
   "cell_type": "code",
   "execution_count": null,
   "id": "1681bfc0",
   "metadata": {},
   "outputs": [],
   "source": []
  },
  {
   "cell_type": "markdown",
   "id": "d50a1c37",
   "metadata": {},
   "source": [
    "## Assignation multiple"
   ]
  },
  {
   "cell_type": "markdown",
   "id": "7c28b1b0",
   "metadata": {},
   "source": [
    "**Exercice :** Assigne les valeurs `10`, `20`, `30` à trois variables `a, b, c` en une seule ligne."
   ]
  },
  {
   "cell_type": "code",
   "execution_count": null,
   "id": "3c3ca02e",
   "metadata": {},
   "outputs": [],
   "source": []
  },
  {
   "cell_type": "markdown",
   "id": "1a978d44",
   "metadata": {},
   "source": [
    "**Exercice :** Échange les valeurs de deux variables (`x` et `y`) sans utiliser de variable temporaire."
   ]
  },
  {
   "cell_type": "code",
   "execution_count": null,
   "id": "36c1d118",
   "metadata": {},
   "outputs": [],
   "source": []
  },
  {
   "cell_type": "markdown",
   "id": "40a8540e",
   "metadata": {},
   "source": [
    "## Règles pour nommer les variables"
   ]
  },
  {
   "cell_type": "markdown",
   "id": "8b166587",
   "metadata": {},
   "source": [
    "**Exercice :** Corrige les erreurs dans les noms de variables suivants :\n",
    "```python\n",
    "2age = 25\n",
    "nom-complet = \"Alice\"\n",
    "ma ville = \"Paris\"\n",
    "```"
   ]
  },
  {
   "cell_type": "code",
   "execution_count": null,
   "id": "33b95347",
   "metadata": {},
   "outputs": [],
   "source": []
  },
  {
   "cell_type": "markdown",
   "id": "5e2c0f82",
   "metadata": {},
   "source": [
    "**Exercice :** Propose trois bons exemples de noms de variables valides."
   ]
  },
  {
   "cell_type": "code",
   "execution_count": null,
   "id": "5d79dc37",
   "metadata": {},
   "outputs": [],
   "source": []
  },
  {
   "cell_type": "markdown",
   "id": "0f66da1e",
   "metadata": {},
   "source": [
    "## Constantes en Python"
   ]
  },
  {
   "cell_type": "markdown",
   "id": "5ada3e25",
   "metadata": {},
   "source": [
    "**Exercice :** Déclare une constante `PI = 3.14159` et utilise-la pour calculer la circonférence d’un cercle de rayon 5."
   ]
  },
  {
   "cell_type": "code",
   "execution_count": null,
   "id": "08930060",
   "metadata": {},
   "outputs": [],
   "source": []
  },
  {
   "cell_type": "markdown",
   "id": "b5cdc065",
   "metadata": {},
   "source": [
    "**Exercice :** Explique dans un commentaire pourquoi on ne doit pas modifier une constante même si Python le permet."
   ]
  },
  {
   "cell_type": "code",
   "execution_count": null,
   "id": "e6d1cf57",
   "metadata": {},
   "outputs": [],
   "source": []
  },
  {
   "cell_type": "markdown",
   "id": "480de918",
   "metadata": {},
   "source": [
    "## Literals numériques"
   ]
  },
  {
   "cell_type": "markdown",
   "id": "f13763a8",
   "metadata": {},
   "source": [
    "**Exercice :** Déclare un entier, un nombre flottant et un nombre complexe."
   ]
  },
  {
   "cell_type": "code",
   "execution_count": null,
   "id": "fd1b6dde",
   "metadata": {},
   "outputs": [],
   "source": []
  },
  {
   "cell_type": "markdown",
   "id": "3341a472",
   "metadata": {},
   "source": [
    "**Exercice :** Affiche le type (`type(...)`) de chacun."
   ]
  },
  {
   "cell_type": "code",
   "execution_count": null,
   "id": "98874969",
   "metadata": {},
   "outputs": [],
   "source": []
  },
  {
   "cell_type": "markdown",
   "id": "1c1afd03",
   "metadata": {},
   "source": [
    "## Literals booléens"
   ]
  },
  {
   "cell_type": "markdown",
   "id": "99477d8c",
   "metadata": {},
   "source": [
    "**Exercice :** Crée une variable `est_connecte = True` et une variable `a_achete = False`."
   ]
  },
  {
   "cell_type": "code",
   "execution_count": null,
   "id": "a3e5890a",
   "metadata": {},
   "outputs": [],
   "source": []
  },
  {
   "cell_type": "markdown",
   "id": "15c0cb28",
   "metadata": {},
   "source": [
    "**Exercice :** Écris une condition qui affiche `'Bienvenue'` seulement si `est_connecte` est vrai."
   ]
  },
  {
   "cell_type": "code",
   "execution_count": null,
   "id": "ed0dabd4",
   "metadata": {},
   "outputs": [],
   "source": []
  },
  {
   "cell_type": "markdown",
   "id": "b99b4268",
   "metadata": {},
   "source": [
    "## String et char literals"
   ]
  },
  {
   "cell_type": "markdown",
   "id": "cd4c1881",
   "metadata": {},
   "source": [
    "**Exercice :** Stocke ton prénom dans une variable et affiche la première lettre."
   ]
  },
  {
   "cell_type": "code",
   "execution_count": null,
   "id": "5a1fc7de",
   "metadata": {},
   "outputs": [],
   "source": []
  },
  {
   "cell_type": "markdown",
   "id": "1de316fe",
   "metadata": {},
   "source": [
    "**Exercice :** Crée une phrase qui inclut à la fois des guillemets simples et doubles."
   ]
  },
  {
   "cell_type": "code",
   "execution_count": null,
   "id": "0b5628cd",
   "metadata": {},
   "outputs": [],
   "source": []
  },
  {
   "cell_type": "markdown",
   "id": "eaf671bb",
   "metadata": {},
   "source": [
    "## Literals spéciaux"
   ]
  },
  {
   "cell_type": "markdown",
   "id": "968abeba",
   "metadata": {},
   "source": [
    "**Exercice :** Assigne `None` à une variable `resultat` et affiche-la."
   ]
  },
  {
   "cell_type": "code",
   "execution_count": null,
   "id": "703eefad",
   "metadata": {},
   "outputs": [],
   "source": []
  },
  {
   "cell_type": "markdown",
   "id": "5a8349b1",
   "metadata": {},
   "source": [
    "**Exercice :** Explique dans un commentaire dans quel cas `None` peut être utile."
   ]
  },
  {
   "cell_type": "code",
   "execution_count": null,
   "id": "3423558c",
   "metadata": {},
   "outputs": [],
   "source": []
  },
  {
   "cell_type": "markdown",
   "id": "f1ad1607",
   "metadata": {},
   "source": [
    "## Literals collections"
   ]
  },
  {
   "cell_type": "markdown",
   "id": "c44ae643",
   "metadata": {},
   "source": [
    "**Exercice :** Crée une **liste** de 3 fruits et affiche le deuxième élément."
   ]
  },
  {
   "cell_type": "code",
   "execution_count": null,
   "id": "785aca41",
   "metadata": {},
   "outputs": [],
   "source": []
  },
  {
   "cell_type": "markdown",
   "id": "431113ce",
   "metadata": {},
   "source": [
    "**Exercice :** Crée un **tuple** de 3 couleurs et montre qu’il est immuable (essaie de changer une valeur)."
   ]
  },
  {
   "cell_type": "code",
   "execution_count": null,
   "id": "56a33f1e",
   "metadata": {},
   "outputs": [],
   "source": []
  },
  {
   "cell_type": "markdown",
   "id": "f5238282",
   "metadata": {},
   "source": [
    "**Exercice :** Crée un **dictionnaire** qui associe un prénom à un âge, puis affiche l’âge en utilisant la clé."
   ]
  },
  {
   "cell_type": "code",
   "execution_count": null,
   "id": "68cb3c93",
   "metadata": {},
   "outputs": [],
   "source": []
  },
  {
   "cell_type": "markdown",
   "id": "2b035b45",
   "metadata": {},
   "source": [
    "**Exercice :** Crée un **ensemble (set)** de nombres avec des doublons et montre que les doublons disparaissent."
   ]
  },
  {
   "cell_type": "code",
   "execution_count": null,
   "id": "f6e7f223",
   "metadata": {},
   "outputs": [],
   "source": []
  }
 ],
 "metadata": {},
 "nbformat": 4,
 "nbformat_minor": 5
}
