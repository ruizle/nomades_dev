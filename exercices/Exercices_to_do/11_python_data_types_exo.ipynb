{
 "cells": [
  {
   "cell_type": "markdown",
   "id": "9f56686f",
   "metadata": {},
   "source": [
    "# Exercices Python : Types de données"
   ]
  },
  {
   "cell_type": "markdown",
   "id": "a0b37464",
   "metadata": {},
   "source": [
    "## Types de données numériques (Numeric)"
   ]
  },
  {
   "cell_type": "markdown",
   "id": "f1401d1f",
   "metadata": {},
   "source": [
    "**Exercice :** Déclare trois variables : `num_int` avec une valeur entière de ton choix, `num_float` avec un nombre décimal, et `num_complex` avec un nombre complexe. Affiche leur valeur et leur type en utilisant la fonction `type()`."
   ]
  },
  {
   "cell_type": "code",
   "execution_count": null,
   "id": "f4bfa536",
   "metadata": {},
   "outputs": [],
   "source": []
  },
  {
   "cell_type": "markdown",
   "id": "f544752f",
   "metadata": {},
   "source": [
    "**Exercice :** Calcule le résultat de l'opération `10 + 5.5` et affiche son type. Explique pourquoi le résultat a ce type."
   ]
  },
  {
   "cell_type": "code",
   "execution_count": null,
   "id": "43afccd9",
   "metadata": {},
   "outputs": [],
   "source": []
  },
  {
   "cell_type": "markdown",
   "id": "abc38899",
   "metadata": {},
   "source": [
    "## Type de données chaîne de caractères (String)"
   ]
  },
  {
   "cell_type": "markdown",
   "id": "66bd5782",
   "metadata": {},
   "source": [
    "**Exercice :** Crée une variable `prenom` contenant ton prénom et une variable `nom` contenant ton nom de famille. Affiche une phrase complète en utilisant ces deux variables. Par exemple : 'Mon nom complet est ...'."
   ]
  },
  {
   "cell_type": "code",
   "execution_count": null,
   "id": "5ee0bc17",
   "metadata": {},
   "outputs": [],
   "source": []
  },
  {
   "cell_type": "markdown",
   "id": "4516e6b3",
   "metadata": {},
   "source": [
    "**Exercice :** Écris une chaîne de caractères qui contient à la fois des guillemets doubles et simples. Affiche-la."
   ]
  },
  {
   "cell_type": "code",
   "execution_count": null,
   "id": "5bb57895",
   "metadata": {},
   "outputs": [],
   "source": []
  },
  {
   "cell_type": "markdown",
   "id": "24ca858a",
   "metadata": {},
   "source": [
    "## Types de données de séquence (Sequence)"
   ]
  },
  {
   "cell_type": "markdown",
   "id": "fa827395",
   "metadata": {},
   "source": [
    "**Exercice :** Crée une liste nommée `fruits` contenant 'pomme', 'banane', et 'cerise'. Affiche le deuxième élément de la liste et change le premier élément par 'orange', puis affiche la liste entière."
   ]
  },
  {
   "cell_type": "code",
   "execution_count": null,
   "id": "8dbd0675",
   "metadata": {},
   "outputs": [],
   "source": []
  },
  {
   "cell_type": "markdown",
   "id": "6c433d5d",
   "metadata": {},
   "source": [
    "**Exercice :** Crée un tuple nommé `coordonnees` avec les valeurs `(10, 20)`. Essaie de changer le premier élément par 15 et explique ce qui se passe."
   ]
  },
  {
   "cell_type": "code",
   "execution_count": null,
   "id": "498e56e0",
   "metadata": {},
   "outputs": [],
   "source": []
  },
  {
   "cell_type": "markdown",
   "id": "3e1daa1c",
   "metadata": {},
   "source": [
    "## Type de données Set"
   ]
  },
  {
   "cell_type": "markdown",
   "id": "66c225d9",
   "metadata": {},
   "source": [
    "**Exercice :** Crée un set nommé `numeros` contenant les valeurs `1, 2, 3, 2, 4, 1`. Affiche le set et explique pourquoi certaines valeurs ont disparu."
   ]
  },
  {
   "cell_type": "code",
   "execution_count": null,
   "id": "f79c4ca3",
   "metadata": {},
   "outputs": [],
   "source": []
  },
  {
   "cell_type": "markdown",
   "id": "07ad4f4e",
   "metadata": {},
   "source": [
    "**Exercice :** Vérifie si le nombre 3 est présent dans ton set `numeros` et affiche le résultat."
   ]
  },
  {
   "cell_type": "code",
   "execution_count": null,
   "id": "8544a175",
   "metadata": {},
   "outputs": [],
   "source": []
  },
  {
   "cell_type": "markdown",
   "id": "7f744a9d",
   "metadata": {},
   "source": [
    "## Type de données Dictionnaire (Dictionary)"
   ]
  },
  {
   "cell_type": "markdown",
   "id": "6e27a294",
   "metadata": {},
   "source": [
    "**Exercice :** Crée un dictionnaire nommé `personne` avec les clés 'nom' et 'age'. Associe ton nom à la clé 'nom' et ton âge à la clé 'age'. Affiche l'âge en utilisant la clé."
   ]
  },
  {
   "cell_type": "code",
   "execution_count": null,
   "id": "0abfbb61",
   "metadata": {},
   "outputs": [],
   "source": []
  },
  {
   "cell_type": "markdown",
   "id": "6cabd293",
   "metadata": {},
   "source": [
    "**Exercice :** Modifie l'âge dans le dictionnaire `personne` et ajoute une nouvelle clé 'ville' avec ta ville de résidence. Affiche le dictionnaire complet."
   ]
  },
  {
   "cell_type": "code",
   "execution_count": null,
   "id": "2588ba70",
   "metadata": {},
   "outputs": [],
   "source": []
  },
  {
   "cell_type": "markdown",
   "id": "ed29440d",
   "metadata": {},
   "source": [
    "## Conversion de types (Type Conversion)"
   ]
  },
  {
   "cell_type": "markdown",
   "id": "ba9c9a96",
   "metadata": {},
   "source": [
    "**Exercice :** Déclare une variable `num_str` contenant la chaîne de caractères `'123'`. Convertis cette chaîne en un entier et stocke le résultat dans une nouvelle variable `num_int`. Affiche les deux variables et leurs types."
   ]
  },
  {
   "cell_type": "code",
   "execution_count": null,
   "id": "26d3b81e",
   "metadata": {},
   "outputs": [],
   "source": []
  },
  {
   "cell_type": "markdown",
   "id": "64dbc274",
   "metadata": {},
   "source": [
    "**Exercice :** Écris un code qui additionne un entier `100` avec un flottant `2.5`. Affiche le résultat et son type. Explique le processus de conversion de type qui a eu lieu."
   ]
  },
  {
   "cell_type": "code",
   "execution_count": null,
   "id": "11f7a70a",
   "metadata": {},
   "outputs": [],
   "source": []
  }
 ],
 "metadata": {},
 "nbformat": 4,
 "nbformat_minor": 5
}
