{
 "cells": [
  {
   "cell_type": "markdown",
   "id": "9f56686f",
   "metadata": {},
   "source": [
    "# Exercices Python : Types de données"
   ]
  },
  {
   "cell_type": "markdown",
   "id": "a0b37464",
   "metadata": {},
   "source": [
    "## Types de données numériques (Numeric)"
   ]
  },
  {
   "cell_type": "markdown",
   "id": "f1401d1f",
   "metadata": {},
   "source": [
    "**Exercice :** Déclare trois variables : `num_int` avec une valeur entière de ton choix, `num_float` avec un nombre décimal, et `num_complex` avec un nombre complexe. Affiche leur valeur et leur type en utilisant la fonction `type()`."
   ]
  },
  {
   "cell_type": "code",
   "execution_count": null,
   "id": "f4bfa536",
   "metadata": {},
   "outputs": [],
   "source": [
    "num_int = 57\n",
    "num_float = 14.7\n",
    "num_complex = 2+3j\n",
    "print(\"num_int=\",num_int,\" de type :\", type(num_int))\n",
    "print(\"num_float=\",num_int,\" de type :\", type(num_int))\n",
    "print(\"num_complex=\",num_complex,\" de type :\", type(num_complex))"
   ]
  },
  {
   "cell_type": "markdown",
   "id": "f544752f",
   "metadata": {},
   "source": [
    "**Exercice :** Calcule le résultat de l'opération `10 + 5.5` et affiche son type. Explique pourquoi le résultat a ce type."
   ]
  },
  {
   "cell_type": "code",
   "execution_count": null,
   "id": "43afccd9",
   "metadata": {},
   "outputs": [
    {
     "name": "stdout",
     "output_type": "stream",
     "text": [
      "<class 'float'>\n"
     ]
    }
   ],
   "source": [
    "print(type(10 + 5.5))"
   ]
  },
  {
   "cell_type": "markdown",
   "id": "abc38899",
   "metadata": {},
   "source": [
    "## Type de données chaîne de caractères (String)"
   ]
  },
  {
   "cell_type": "markdown",
   "id": "66bd5782",
   "metadata": {},
   "source": [
    "**Exercice :** Crée une variable `prenom` contenant ton prénom et une variable `nom` contenant ton nom de famille. Affiche une phrase complète en utilisant ces deux variables. Par exemple : 'Mon nom complet est ...'."
   ]
  },
  {
   "cell_type": "code",
   "execution_count": 2,
   "id": "5ee0bc17",
   "metadata": {},
   "outputs": [
    {
     "name": "stdout",
     "output_type": "stream",
     "text": [
      "Mon nom complet est Luis-Eduardo Ruiz\n"
     ]
    }
   ],
   "source": [
    "prenom = \"Luis-Eduardo\"\n",
    "nom = \"Ruiz\"\n",
    "print(\"Mon nom complet est\", prenom, nom)"
   ]
  },
  {
   "cell_type": "markdown",
   "id": "4516e6b3",
   "metadata": {},
   "source": [
    "**Exercice :** Écris une chaîne de caractères qui contient à la fois des guillemets doubles et simples. Affiche-la."
   ]
  },
  {
   "cell_type": "code",
   "execution_count": 5,
   "id": "5bb57895",
   "metadata": {},
   "outputs": [
    {
     "name": "stdout",
     "output_type": "stream",
     "text": [
      "C'est une phrase avec des super-\"guillemets\" comme il faut.\n"
     ]
    }
   ],
   "source": [
    "chaine = \"C'est une phrase avec des super-\\\"guillemets\\\" comme il faut.\"\n",
    "print(chaine)"
   ]
  },
  {
   "cell_type": "markdown",
   "id": "24ca858a",
   "metadata": {},
   "source": [
    "## Types de données de séquence (Sequence)"
   ]
  },
  {
   "cell_type": "markdown",
   "id": "fa827395",
   "metadata": {},
   "source": [
    "**Exercice :** Crée une liste nommée `fruits` contenant 'pomme', 'banane', et 'cerise'. Affiche le deuxième élément de la liste et change le premier élément par 'orange', puis affiche la liste entière."
   ]
  },
  {
   "cell_type": "code",
   "execution_count": 6,
   "id": "8dbd0675",
   "metadata": {},
   "outputs": [
    {
     "name": "stdout",
     "output_type": "stream",
     "text": [
      "2ème élément : banane\n",
      "Liste des fruits : ['orange', 'banane', 'cerise']\n"
     ]
    }
   ],
   "source": [
    "fruits=['pomme', 'banane', 'cerise']\n",
    "print(\"2ème élément :\", fruits[1])\n",
    "fruits[0] = 'orange'\n",
    "print(\"Liste des fruits :\", fruits)"
   ]
  },
  {
   "cell_type": "markdown",
   "id": "6c433d5d",
   "metadata": {},
   "source": [
    "**Exercice :** Crée un tuple nommé `coordonnees` avec les valeurs `(10, 20)`. Essaie de changer le premier élément par 15 et explique ce qui se passe."
   ]
  },
  {
   "cell_type": "code",
   "execution_count": 7,
   "id": "498e56e0",
   "metadata": {},
   "outputs": [
    {
     "ename": "TypeError",
     "evalue": "'tuple' object does not support item assignment",
     "output_type": "error",
     "traceback": [
      "\u001b[31m---------------------------------------------------------------------------\u001b[39m",
      "\u001b[31mTypeError\u001b[39m                                 Traceback (most recent call last)",
      "\u001b[36mCell\u001b[39m\u001b[36m \u001b[39m\u001b[32mIn[7]\u001b[39m\u001b[32m, line 2\u001b[39m\n\u001b[32m      1\u001b[39m coordonnees = (\u001b[32m10\u001b[39m, \u001b[32m20\u001b[39m)\n\u001b[32m----> \u001b[39m\u001b[32m2\u001b[39m coordonnees[\u001b[32m0\u001b[39m] = \u001b[32m15\u001b[39m\n",
      "\u001b[31mTypeError\u001b[39m: 'tuple' object does not support item assignment"
     ]
    }
   ],
   "source": [
    "coordonnees = (10, 20)\n",
    "coordonnees[0] = 15"
   ]
  },
  {
   "cell_type": "markdown",
   "id": "3e1daa1c",
   "metadata": {},
   "source": [
    "## Type de données Set"
   ]
  },
  {
   "cell_type": "markdown",
   "id": "66c225d9",
   "metadata": {},
   "source": [
    "**Exercice :** Crée un set nommé `numeros` contenant les valeurs `1, 2, 3, 2, 4, 1`. Affiche le set et explique pourquoi certaines valeurs ont disparu."
   ]
  },
  {
   "cell_type": "code",
   "execution_count": 8,
   "id": "f79c4ca3",
   "metadata": {},
   "outputs": [
    {
     "name": "stdout",
     "output_type": "stream",
     "text": [
      "{1, 2, 3, 4}\n"
     ]
    }
   ],
   "source": [
    "numeros = {1, 2, 3, 2, 4, 1}\n",
    "print(numeros)"
   ]
  },
  {
   "cell_type": "markdown",
   "id": "07ad4f4e",
   "metadata": {},
   "source": [
    "**Exercice :** Vérifie si le nombre 3 est présent dans ton set `numeros` et affiche le résultat."
   ]
  },
  {
   "cell_type": "code",
   "execution_count": 9,
   "id": "8544a175",
   "metadata": {},
   "outputs": [
    {
     "data": {
      "text/plain": [
       "True"
      ]
     },
     "execution_count": 9,
     "metadata": {},
     "output_type": "execute_result"
    }
   ],
   "source": [
    "3 in numeros"
   ]
  },
  {
   "cell_type": "markdown",
   "id": "7f744a9d",
   "metadata": {},
   "source": [
    "## Type de données Dictionnaire (Dictionary)"
   ]
  },
  {
   "cell_type": "markdown",
   "id": "6e27a294",
   "metadata": {},
   "source": [
    "**Exercice :** Crée un dictionnaire nommé `personne` avec les clés 'nom' et 'age'. Associe ton nom à la clé 'nom' et ton âge à la clé 'age'. Affiche l'âge en utilisant la clé."
   ]
  },
  {
   "cell_type": "code",
   "execution_count": 14,
   "id": "0abfbb61",
   "metadata": {},
   "outputs": [
    {
     "name": "stdout",
     "output_type": "stream",
     "text": [
      "57\n"
     ]
    }
   ],
   "source": [
    "personne = {'nom':\"Ruiz\", 'age':57}\n",
    "print(personne['age'])"
   ]
  },
  {
   "cell_type": "markdown",
   "id": "6cabd293",
   "metadata": {},
   "source": [
    "**Exercice :** Modifie l'âge dans le dictionnaire `personne` et ajoute une nouvelle clé 'ville' avec ta ville de résidence. Affiche le dictionnaire complet."
   ]
  },
  {
   "cell_type": "code",
   "execution_count": 18,
   "id": "2588ba70",
   "metadata": {},
   "outputs": [
    {
     "name": "stdout",
     "output_type": "stream",
     "text": [
      "{'nom': 'Ruiz', 'age': 65, 'ville': 'Genève'}\n"
     ]
    }
   ],
   "source": [
    "personne['age'] = 65\n",
    "personne['ville']=\"Genève\"\n",
    "print(personne)"
   ]
  },
  {
   "cell_type": "markdown",
   "id": "ed29440d",
   "metadata": {},
   "source": [
    "## Conversion de types (Type Conversion)"
   ]
  },
  {
   "cell_type": "markdown",
   "id": "ba9c9a96",
   "metadata": {},
   "source": [
    "**Exercice :** Déclare une variable `num_str` contenant la chaîne de caractères `'123'`. Convertis cette chaîne en un entier et stocke le résultat dans une nouvelle variable `num_int`. Affiche les deux variables et leurs types."
   ]
  },
  {
   "cell_type": "code",
   "execution_count": 22,
   "id": "26d3b81e",
   "metadata": {},
   "outputs": [
    {
     "name": "stdout",
     "output_type": "stream",
     "text": [
      "num_str= 0123\n",
      "num_int= 123\n"
     ]
    }
   ],
   "source": [
    "num_str = '0123'\n",
    "num_int = int(num_str)\n",
    "print(\"num_str=\", num_str)\n",
    "print(\"num_int=\", num_int)"
   ]
  },
  {
   "cell_type": "markdown",
   "id": "64dbc274",
   "metadata": {},
   "source": [
    "**Exercice :** Écris un code qui additionne un entier `100` avec un flottant `2.5`. Affiche le résultat et son type. Explique le processus de conversion de type qui a eu lieu."
   ]
  },
  {
   "cell_type": "code",
   "execution_count": 24,
   "id": "11f7a70a",
   "metadata": {},
   "outputs": [
    {
     "name": "stdout",
     "output_type": "stream",
     "text": [
      "nb_sum= 102.5 de type : <class 'float'>\n"
     ]
    }
   ],
   "source": [
    "nb_sum = 100 + 2.5\n",
    "print(\"nb_sum=\", nb_sum, \"de type :\", type(nb_sum))"
   ]
  }
 ],
 "metadata": {
  "kernelspec": {
   "display_name": "nomades_PPL",
   "language": "python",
   "name": "python3"
  },
  "language_info": {
   "codemirror_mode": {
    "name": "ipython",
    "version": 3
   },
   "file_extension": ".py",
   "mimetype": "text/x-python",
   "name": "python",
   "nbconvert_exporter": "python",
   "pygments_lexer": "ipython3",
   "version": "3.11.13"
  }
 },
 "nbformat": 4,
 "nbformat_minor": 5
}
