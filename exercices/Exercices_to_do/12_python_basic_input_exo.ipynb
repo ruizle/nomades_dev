{
 "cells": [
  {
   "cell_type": "markdown",
   "id": "be655178",
   "metadata": {},
   "source": [
    "# Exercices Python : Entrées et Sorties Basiques"
   ]
  },
  {
   "cell_type": "markdown",
   "id": "b1075387",
   "metadata": {},
   "source": [
    "## La fonction print()"
   ]
  },
  {
   "cell_type": "markdown",
   "id": "b9773d37",
   "metadata": {},
   "source": [
    "**Exercice :** Affiche ton prénom et ton nom de famille sur deux lignes distinctes en utilisant deux appels à la fonction `print()`."
   ]
  },
  {
   "cell_type": "code",
   "execution_count": null,
   "id": "ce5f3e51",
   "metadata": {},
   "outputs": [],
   "source": []
  },
  {
   "cell_type": "markdown",
   "id": "a7caa7c5",
   "metadata": {},
   "source": [
    "**Exercice :** Affiche ton prénom et ton nom de famille sur une seule ligne, en utilisant un seul appel à la fonction `print()`."
   ]
  },
  {
   "cell_type": "code",
   "execution_count": null,
   "id": "0032f1be",
   "metadata": {},
   "outputs": [],
   "source": []
  },
  {
   "cell_type": "markdown",
   "id": "68c51236",
   "metadata": {},
   "source": [
    "**Exercice :** Crée deux variables, `age` et `ville`, et assigne-leur ton âge et ta ville. Utilise `print()` pour afficher une phrase qui inclut ces deux variables."
   ]
  },
  {
   "cell_type": "code",
   "execution_count": null,
   "id": "42538db3",
   "metadata": {},
   "outputs": [],
   "source": []
  },
  {
   "cell_type": "markdown",
   "id": "fb615873",
   "metadata": {},
   "source": [
    "**Exercice :** Affiche les nombres de 1 à 5 sur une seule ligne, séparés par des tirets, en utilisant le paramètre `sep` de la fonction `print()`."
   ]
  },
  {
   "cell_type": "code",
   "execution_count": null,
   "id": "c692fb77",
   "metadata": {},
   "outputs": [],
   "source": []
  },
  {
   "cell_type": "markdown",
   "id": "94a85acc",
   "metadata": {},
   "source": [
    "## La fonction input()"
   ]
  },
  {
   "cell_type": "markdown",
   "id": "d377f7dd",
   "metadata": {},
   "source": [
    "**Exercice :** Crée une variable `nom` qui stocke le nom entré par l'utilisateur à l'aide de la fonction `input()`. Affiche un message de bienvenue personnalisé."
   ]
  },
  {
   "cell_type": "code",
   "execution_count": null,
   "id": "a24f7386",
   "metadata": {},
   "outputs": [],
   "source": []
  },
  {
   "cell_type": "markdown",
   "id": "72bd0454",
   "metadata": {},
   "source": [
    "**Exercice :** Demande à l'utilisateur d'entrer son âge. Affiche un message qui inclut son âge. Affiche aussi le type de la variable `age` et explique le résultat."
   ]
  },
  {
   "cell_type": "code",
   "execution_count": null,
   "id": "049b08e4",
   "metadata": {},
   "outputs": [],
   "source": []
  },
  {
   "cell_type": "markdown",
   "id": "3592f85c",
   "metadata": {},
   "source": [
    "## Conversion de types avec input()"
   ]
  },
  {
   "cell_type": "markdown",
   "id": "2770cbd0",
   "metadata": {},
   "source": [
    "**Exercice :** Demande à l'utilisateur d'entrer deux nombres. Calcule la somme de ces deux nombres et affiche le résultat. N'oublie pas de convertir les entrées en nombres entiers ou flottants pour que l'addition fonctionne correctement."
   ]
  },
  {
   "cell_type": "code",
   "execution_count": null,
   "id": "802dad9d",
   "metadata": {},
   "outputs": [],
   "source": []
  },
  {
   "cell_type": "markdown",
   "id": "9ea205ff",
   "metadata": {},
   "source": [
    "**Exercice :** Demande à l'utilisateur d'entrer son année de naissance. Calcule son âge et affiche le résultat. Explique la conversion de type que tu as utilisée."
   ]
  },
  {
   "cell_type": "code",
   "execution_count": null,
   "id": "eadeaf11",
   "metadata": {},
   "outputs": [],
   "source": []
  },
  {
   "cell_type": "markdown",
   "id": "64627ff2",
   "metadata": {},
   "source": [
    "## Formatage de chaînes de caractères (f-strings)"
   ]
  },
  {
   "cell_type": "markdown",
   "id": "189306ef",
   "metadata": {},
   "source": [
    "**Exercice :** Crée une variable `fruit` avec la valeur 'pomme' et une variable `nombre` avec la valeur 5. Utilise une f-string pour afficher 'J'ai 5 pommes.'"
   ]
  },
  {
   "cell_type": "code",
   "execution_count": null,
   "id": "8e001bda",
   "metadata": {},
   "outputs": [],
   "source": []
  },
  {
   "cell_type": "markdown",
   "id": "4966d123",
   "metadata": {},
   "source": [
    "**Exercice :** Crée un flottant avec beaucoup de décimales (par exemple `3.14159265`). Utilise une f-string pour l'afficher avec seulement deux décimales."
   ]
  },
  {
   "cell_type": "code",
   "execution_count": null,
   "id": "72666125",
   "metadata": {},
   "outputs": [],
   "source": []
  }
 ],
 "metadata": {},
 "nbformat": 4,
 "nbformat_minor": 5
}
