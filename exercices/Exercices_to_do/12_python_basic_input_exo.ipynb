{
 "cells": [
  {
   "cell_type": "markdown",
   "id": "be655178",
   "metadata": {},
   "source": [
    "# Exercices Python : Entrées et Sorties Basiques"
   ]
  },
  {
   "cell_type": "markdown",
   "id": "b1075387",
   "metadata": {},
   "source": [
    "## La fonction print()"
   ]
  },
  {
   "cell_type": "markdown",
   "id": "b9773d37",
   "metadata": {},
   "source": [
    "**Exercice :** Affiche ton prénom et ton nom de famille sur deux lignes distinctes en utilisant deux appels à la fonction `print()`."
   ]
  },
  {
   "cell_type": "code",
   "execution_count": 3,
   "id": "ce5f3e51",
   "metadata": {},
   "outputs": [
    {
     "name": "stdout",
     "output_type": "stream",
     "text": [
      "Luis-Eduardo\n",
      "RUIZ\n"
     ]
    }
   ],
   "source": [
    "print(\"Luis-Eduardo\")\n",
    "print(\"RUIZ\")"
   ]
  },
  {
   "cell_type": "markdown",
   "id": "a7caa7c5",
   "metadata": {},
   "source": [
    "**Exercice :** Affiche ton prénom et ton nom de famille sur une seule ligne, en utilisant un seul appel à la fonction `print()`."
   ]
  },
  {
   "cell_type": "code",
   "execution_count": 4,
   "id": "0032f1be",
   "metadata": {},
   "outputs": [
    {
     "name": "stdout",
     "output_type": "stream",
     "text": [
      "Luis-Eduardo RUIZ\n"
     ]
    }
   ],
   "source": [
    "print(\"Luis-Eduardo\",\"RUIZ\")"
   ]
  },
  {
   "cell_type": "markdown",
   "id": "68c51236",
   "metadata": {},
   "source": [
    "**Exercice :** Crée deux variables, `age` et `ville`, et assigne-leur ton âge et ta ville. Utilise `print()` pour afficher une phrase qui inclut ces deux variables."
   ]
  },
  {
   "cell_type": "code",
   "execution_count": 6,
   "id": "42538db3",
   "metadata": {},
   "outputs": [
    {
     "name": "stdout",
     "output_type": "stream",
     "text": [
      "J'ai 57 ans et j'habite à Genève\n"
     ]
    }
   ],
   "source": [
    "age = 57\n",
    "ville = 'Genève'\n",
    "\n",
    "print(f\"J'ai {age} ans et j'habite à {ville}\")\n"
   ]
  },
  {
   "cell_type": "markdown",
   "id": "fb615873",
   "metadata": {},
   "source": [
    "**Exercice :** Affiche les nombres de 1 à 5 sur une seule ligne, séparés par des tirets, en utilisant le paramètre `sep` de la fonction `print()`."
   ]
  },
  {
   "cell_type": "code",
   "execution_count": 8,
   "id": "c692fb77",
   "metadata": {},
   "outputs": [
    {
     "name": "stdout",
     "output_type": "stream",
     "text": [
      "1-15\n"
     ]
    }
   ],
   "source": [
    "print(1,15,sep='-')"
   ]
  },
  {
   "cell_type": "markdown",
   "id": "94a85acc",
   "metadata": {},
   "source": [
    "## La fonction input()"
   ]
  },
  {
   "cell_type": "markdown",
   "id": "d377f7dd",
   "metadata": {},
   "source": [
    "**Exercice :** Crée une variable `nom` qui stocke le nom entré par l'utilisateur à l'aide de la fonction `input()`. Affiche un message de bienvenue personnalisé."
   ]
  },
  {
   "cell_type": "code",
   "execution_count": null,
   "id": "a24f7386",
   "metadata": {},
   "outputs": [
    {
     "name": "stdout",
     "output_type": "stream",
     "text": [
      "Bienvenue Toto\n"
     ]
    }
   ],
   "source": [
    "nom = input(\"Quel est votre nom ?\")\n",
    "print(\"Bienvenue\", nom)"
   ]
  },
  {
   "cell_type": "markdown",
   "id": "72bd0454",
   "metadata": {},
   "source": [
    "**Exercice :** Demande à l'utilisateur d'entrer son âge. Affiche un message qui inclut son âge. Affiche aussi le type de la variable `age` et explique le résultat."
   ]
  },
  {
   "cell_type": "code",
   "execution_count": null,
   "id": "049b08e4",
   "metadata": {},
   "outputs": [
    {
     "name": "stdout",
     "output_type": "stream",
     "text": [
      "Vous avez donc 45 ans.\n"
     ]
    }
   ],
   "source": [
    "age = input(\"Quel est votre âge ?\")\n",
    "print(\"Vous avez donc\",age,\"ans.\")"
   ]
  },
  {
   "cell_type": "markdown",
   "id": "3592f85c",
   "metadata": {},
   "source": [
    "## Conversion de types avec input()"
   ]
  },
  {
   "cell_type": "markdown",
   "id": "2770cbd0",
   "metadata": {},
   "source": [
    "**Exercice :** Demande à l'utilisateur d'entrer deux nombres. Calcule la somme de ces deux nombres et affiche le résultat. N'oublie pas de convertir les entrées en nombres entiers ou flottants pour que l'addition fonctionne correctement."
   ]
  },
  {
   "cell_type": "code",
   "execution_count": 19,
   "id": "802dad9d",
   "metadata": {},
   "outputs": [
    {
     "name": "stdout",
     "output_type": "stream",
     "text": [
      "La somme donne : 10.0\n"
     ]
    }
   ],
   "source": [
    "nb_1 = float(input(\"Entrez un 1er nombre :\"))\n",
    "nb_2 = float(input(\"Entrez un 2e nombre :\"))\n",
    "print(\"La somme donne :\", nb_1 + nb_2)"
   ]
  },
  {
   "cell_type": "markdown",
   "id": "9ea205ff",
   "metadata": {},
   "source": [
    "**Exercice :** Demande à l'utilisateur d'entrer son année de naissance. Calcule son âge et affiche le résultat. Explique la conversion de type que tu as utilisée."
   ]
  },
  {
   "cell_type": "code",
   "execution_count": 30,
   "id": "eadeaf11",
   "metadata": {},
   "outputs": [
    {
     "name": "stdout",
     "output_type": "stream",
     "text": [
      "vous avez donc 57 ans.\n"
     ]
    }
   ],
   "source": [
    "annee_courante = 2025\n",
    "annee_naissance = int(input(\"Quelle est votre année de naissance ?\"))\n",
    "print(\"vous avez donc\", annee_courante - annee_naissance, \"ans.\")"
   ]
  },
  {
   "cell_type": "markdown",
   "id": "64627ff2",
   "metadata": {},
   "source": [
    "## Formatage de chaînes de caractères (f-strings)"
   ]
  },
  {
   "cell_type": "markdown",
   "id": "189306ef",
   "metadata": {},
   "source": [
    "**Exercice :** Crée une variable `fruit` avec la valeur 'pomme' et une variable `nombre` avec la valeur 5. Utilise une f-string pour afficher 'J'ai 5 pommes.'"
   ]
  },
  {
   "cell_type": "code",
   "execution_count": 32,
   "id": "8e001bda",
   "metadata": {},
   "outputs": [
    {
     "name": "stdout",
     "output_type": "stream",
     "text": [
      "J'ai 5 pommes\n"
     ]
    }
   ],
   "source": [
    "fruits = 'pomme'\n",
    "nombre = 5\n",
    "print(f\"J'ai {nombre} {fruits}s\")"
   ]
  },
  {
   "cell_type": "markdown",
   "id": "4966d123",
   "metadata": {},
   "source": [
    "**Exercice :** Crée un flottant avec beaucoup de décimales (par exemple `3.14159265`). Utilise une f-string pour l'afficher avec seulement deux décimales."
   ]
  },
  {
   "cell_type": "code",
   "execution_count": 40,
   "id": "72666125",
   "metadata": {},
   "outputs": [
    {
     "name": "stdout",
     "output_type": "stream",
     "text": [
      "nb_float = 3.14\n"
     ]
    }
   ],
   "source": [
    "nb_float = 3.141578578478\n",
    "print(f\"nb_float = {nb_float:.2f}\")"
   ]
  }
 ],
 "metadata": {
  "kernelspec": {
   "display_name": "nomades_PPL",
   "language": "python",
   "name": "python3"
  },
  "language_info": {
   "codemirror_mode": {
    "name": "ipython",
    "version": 3
   },
   "file_extension": ".py",
   "mimetype": "text/x-python",
   "name": "python",
   "nbconvert_exporter": "python",
   "pygments_lexer": "ipython3",
   "version": "3.11.13"
  }
 },
 "nbformat": 4,
 "nbformat_minor": 5
}
