{
 "cells": [
  {
   "cell_type": "markdown",
   "id": "aab6c4f0",
   "metadata": {},
   "source": [
    "# Exercices Python : Opérateurs"
   ]
  },
  {
   "cell_type": "markdown",
   "id": "6ee5abc4",
   "metadata": {},
   "source": [
    "## Opérateurs Arithmétiques"
   ]
  },
  {
   "cell_type": "markdown",
   "id": "5d1513e4",
   "metadata": {},
   "source": [
    "**Exercice :** Déclare deux variables, `a = 15` et `b = 4`. Calcule et affiche les résultats de l'addition, de la soustraction, de la multiplication, de la division, du modulo et de la division entière. Affiche également `a` à la puissance `b`."
   ]
  },
  {
   "cell_type": "code",
   "execution_count": 39,
   "id": "a1ab165b",
   "metadata": {},
   "outputs": [
    {
     "name": "stdout",
     "output_type": "stream",
     "text": [
      "a=15 +  b=4 = 19\n",
      "a=15 -  b=4 = 11\n",
      "a=15 *  b=4 = 60\n",
      "a=15 /  b=4 = 3.75\n",
      "a=15 // b=4 = 3\n",
      "a=15 %  b=4 = 3\n",
      "a=15 ** b=4 = 50625\n"
     ]
    }
   ],
   "source": [
    "a = 15\n",
    "b = 4\n",
    "print(f\"a={a} +  b={b} = {a+b}\")\n",
    "print(f\"a={a} -  b={b} = {a-b}\")\n",
    "print(f\"a={a} *  b={b} = {a*b}\")\n",
    "print(f\"a={a} /  b={b} = {a/b}\")\n",
    "print(f\"a={a} // b={b} = {a//b}\")\n",
    "print(f\"a={a} %  b={b} = {a%b}\")\n",
    "print(f\"a={a} ** b={b} = {a**b}\")"
   ]
  },
  {
   "cell_type": "markdown",
   "id": "887b530d",
   "metadata": {},
   "source": [
    "**Exercice :** Calcule le résultat de `(2 + 3) * 5` et affiche-le. Puis, calcule le résultat de `2 + 3 * 5` et explique la différence."
   ]
  },
  {
   "cell_type": "code",
   "execution_count": 40,
   "id": "e29dd91d",
   "metadata": {},
   "outputs": [
    {
     "name": "stdout",
     "output_type": "stream",
     "text": [
      "(2 + 3) * 5 = 25\n",
      "2 + 3 * 5 = 17\n"
     ]
    }
   ],
   "source": [
    "print(\"(2 + 3) * 5 =\", (2 + 3) * 5)\n",
    "print(\"2 + 3 * 5 =\", 2 + 3 * 5)\n",
    "# La multiplication (et la division) se fait avant l'addition (et la soustraction)"
   ]
  },
  {
   "cell_type": "markdown",
   "id": "e84f05ce",
   "metadata": {},
   "source": [
    "## Opérateurs de Comparaison"
   ]
  },
  {
   "cell_type": "markdown",
   "id": "36facb5b",
   "metadata": {},
   "source": [
    "**Exercice :** Déclare deux variables : `x = 10` et `y = 12`. Écris une expression pour chaque opérateur de comparaison (==, !=, >, <, >=, <=) qui compare `x` et `y`, et affiche le résultat (True ou False)."
   ]
  },
  {
   "cell_type": "code",
   "execution_count": 41,
   "id": "ac410f56",
   "metadata": {},
   "outputs": [
    {
     "name": "stdout",
     "output_type": "stream",
     "text": [
      "x == y :  False\n",
      "x != y :  True\n",
      "x  > y :  False\n",
      "x  < y :  True\n",
      "x >= y :  False\n",
      "x <= y :  True\n"
     ]
    }
   ],
   "source": [
    "x = 10\n",
    "y = 12\n",
    "\n",
    "print(\"x == y : \", x == y)\n",
    "print(\"x != y : \", x != y)\n",
    "print(\"x  > y : \", x > y)\n",
    "print(\"x  < y : \", x < y)\n",
    "print(\"x >= y : \", x >= y)\n",
    "print(\"x <= y : \", x <= y)"
   ]
  },
  {
   "cell_type": "markdown",
   "id": "3798fb55",
   "metadata": {},
   "source": [
    "**Exercice :** Vérifie si la chaîne de caractères `'python'` est égale à `'Python'` et affiche le résultat."
   ]
  },
  {
   "cell_type": "code",
   "execution_count": 42,
   "id": "0e62029a",
   "metadata": {},
   "outputs": [
    {
     "name": "stdout",
     "output_type": "stream",
     "text": [
      "False\n"
     ]
    }
   ],
   "source": [
    "print('python' == 'Python')"
   ]
  },
  {
   "cell_type": "markdown",
   "id": "acedfa4a",
   "metadata": {},
   "source": [
    "## Opérateurs Logiques"
   ]
  },
  {
   "cell_type": "markdown",
   "id": "25567661",
   "metadata": {},
   "source": [
    "**Exercice :** Déclare deux variables booléennes : `a = True` et `b = False`. Utilise les opérateurs logiques `and`, `or` et `not` avec ces variables et affiche les résultats."
   ]
  },
  {
   "cell_type": "code",
   "execution_count": 43,
   "id": "2f649325",
   "metadata": {},
   "outputs": [
    {
     "name": "stdout",
     "output_type": "stream",
     "text": [
      "a and b :  False\n",
      "a or b :  True\n"
     ]
    }
   ],
   "source": [
    "a = True\n",
    "b = False\n",
    "\n",
    "print(\"a and b : \", (a and b))\n",
    "print(\"a or b : \", a or b)\n",
    "#print(\"a not b : \", a not b)"
   ]
  },
  {
   "cell_type": "markdown",
   "id": "0cce2238",
   "metadata": {},
   "source": [
    "**Exercice :** Écris un code qui vérifie si un nombre `n` est compris entre 10 et 20 (inclus) et affiche `True` ou `False`."
   ]
  },
  {
   "cell_type": "code",
   "execution_count": 44,
   "id": "9e3d0c67",
   "metadata": {},
   "outputs": [
    {
     "name": "stdout",
     "output_type": "stream",
     "text": [
      "n >= 10 and n <= 20 =  True\n"
     ]
    }
   ],
   "source": [
    "n = 14\n",
    "print(\"n >= 10 and n <= 20 = \", n >= 10 and n <= 20)"
   ]
  },
  {
   "cell_type": "markdown",
   "id": "bc90101b",
   "metadata": {},
   "source": [
    "## Opérateurs d'Assignation"
   ]
  },
  {
   "cell_type": "markdown",
   "id": "db654167",
   "metadata": {},
   "source": [
    "**Exercice :** Crée une variable `compteur` et assigne-lui la valeur 5. Utilise les opérateurs d'assignation pour ajouter 3, soustraire 2, multiplier par 4 et diviser par 2.5. Affiche le résultat après chaque opération."
   ]
  },
  {
   "cell_type": "code",
   "execution_count": 45,
   "id": "9ca48f11",
   "metadata": {},
   "outputs": [
    {
     "name": "stdout",
     "output_type": "stream",
     "text": [
      "compteur= 5\n",
      "compteur= 8\n",
      "compteur= 6\n",
      "compteur= 24\n",
      "compteur= 24\n"
     ]
    }
   ],
   "source": [
    "compteur = 5\n",
    "print(\"compteur=\", compteur)\n",
    "compteur += 3\n",
    "print(\"compteur=\", compteur)\n",
    "compteur -= 2\n",
    "print(\"compteur=\", compteur)\n",
    "compteur *= 4\n",
    "print(\"compteur=\", compteur)\n",
    "compteur / 2.5\n",
    "print(\"compteur=\", compteur)"
   ]
  },
  {
   "cell_type": "markdown",
   "id": "faa0b918",
   "metadata": {},
   "source": [
    "**Exercice :** Crée une chaîne de caractères `message = 'Salut '`. Utilise l'opérateur d'assignation pour y ajouter ton prénom et affiche le résultat."
   ]
  },
  {
   "cell_type": "code",
   "execution_count": 46,
   "id": "6d0dca56",
   "metadata": {},
   "outputs": [
    {
     "name": "stdout",
     "output_type": "stream",
     "text": [
      "message= Salut Luis-Eduardo\n"
     ]
    }
   ],
   "source": [
    "message = \"Salut \"\n",
    "message += \"Luis-Eduardo\"\n",
    "print(\"message=\", message)"
   ]
  },
  {
   "cell_type": "markdown",
   "id": "2bb757db",
   "metadata": {},
   "source": [
    "## Opérateurs d'Identité et d'Appartenance"
   ]
  },
  {
   "cell_type": "markdown",
   "id": "968d0336",
   "metadata": {},
   "source": [
    "**Exercice :** Déclare deux variables : `liste1 = [1, 2, 3]` et `liste2 = [1, 2, 3]`. Utilise l'opérateur `is` pour vérifier si `liste1` et `liste2` sont le même objet et explique le résultat."
   ]
  },
  {
   "cell_type": "code",
   "execution_count": 47,
   "id": "e0f46353",
   "metadata": {},
   "outputs": [
    {
     "name": "stdout",
     "output_type": "stream",
     "text": [
      "liste1 is liste2 : False\n"
     ]
    }
   ],
   "source": [
    "liste1 = [1, 2, 3]\n",
    "liste2 = [1, 2, 3]\n",
    "print(\"liste1 is liste2 :\", liste1 is liste2)"
   ]
  },
  {
   "cell_type": "markdown",
   "id": "cba6114c",
   "metadata": {},
   "source": [
    "**Exercice :** Crée une liste de fruits et utilise l'opérateur `in` pour vérifier si la 'banane' est dans la liste. Utilise `not in` pour vérifier si 'ananas' n'est pas dans la liste."
   ]
  },
  {
   "cell_type": "code",
   "execution_count": 48,
   "id": "f9340de3",
   "metadata": {},
   "outputs": [
    {
     "name": "stdout",
     "output_type": "stream",
     "text": [
      "'ananas' not in fruits : True\n"
     ]
    }
   ],
   "source": [
    "fruits = ['pomme', 'poire', 'banane']\n",
    "print(\"'ananas' not in fruits :\", 'ananas' not in fruits)"
   ]
  }
 ],
 "metadata": {
  "kernelspec": {
   "display_name": "nomades_PPL",
   "language": "python",
   "name": "python3"
  },
  "language_info": {
   "codemirror_mode": {
    "name": "ipython",
    "version": 3
   },
   "file_extension": ".py",
   "mimetype": "text/x-python",
   "name": "python",
   "nbconvert_exporter": "python",
   "pygments_lexer": "ipython3",
   "version": "3.11.13"
  }
 },
 "nbformat": 4,
 "nbformat_minor": 5
}
