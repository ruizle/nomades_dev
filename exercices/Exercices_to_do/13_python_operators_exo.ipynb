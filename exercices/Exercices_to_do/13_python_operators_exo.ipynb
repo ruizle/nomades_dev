{
 "cells": [
  {
   "cell_type": "markdown",
   "id": "aab6c4f0",
   "metadata": {},
   "source": [
    "# Exercices Python : Opérateurs"
   ]
  },
  {
   "cell_type": "markdown",
   "id": "6ee5abc4",
   "metadata": {},
   "source": [
    "## Opérateurs Arithmétiques"
   ]
  },
  {
   "cell_type": "markdown",
   "id": "5d1513e4",
   "metadata": {},
   "source": [
    "**Exercice :** Déclare deux variables, `a = 15` et `b = 4`. Calcule et affiche les résultats de l'addition, de la soustraction, de la multiplication, de la division, du modulo et de la division entière. Affiche également `a` à la puissance `b`."
   ]
  },
  {
   "cell_type": "code",
   "execution_count": null,
   "id": "a1ab165b",
   "metadata": {},
   "outputs": [],
   "source": []
  },
  {
   "cell_type": "markdown",
   "id": "887b530d",
   "metadata": {},
   "source": [
    "**Exercice :** Calcule le résultat de `(2 + 3) * 5` et affiche-le. Puis, calcule le résultat de `2 + 3 * 5` et explique la différence."
   ]
  },
  {
   "cell_type": "code",
   "execution_count": null,
   "id": "e29dd91d",
   "metadata": {},
   "outputs": [],
   "source": []
  },
  {
   "cell_type": "markdown",
   "id": "e84f05ce",
   "metadata": {},
   "source": [
    "## Opérateurs de Comparaison"
   ]
  },
  {
   "cell_type": "markdown",
   "id": "36facb5b",
   "metadata": {},
   "source": [
    "**Exercice :** Déclare deux variables : `x = 10` et `y = 12`. Écris une expression pour chaque opérateur de comparaison (==, !=, >, <, >=, <=) qui compare `x` et `y`, et affiche le résultat (True ou False)."
   ]
  },
  {
   "cell_type": "code",
   "execution_count": null,
   "id": "ac410f56",
   "metadata": {},
   "outputs": [],
   "source": []
  },
  {
   "cell_type": "markdown",
   "id": "3798fb55",
   "metadata": {},
   "source": [
    "**Exercice :** Vérifie si la chaîne de caractères `'python'` est égale à `'Python'` et affiche le résultat."
   ]
  },
  {
   "cell_type": "code",
   "execution_count": null,
   "id": "0e62029a",
   "metadata": {},
   "outputs": [],
   "source": []
  },
  {
   "cell_type": "markdown",
   "id": "acedfa4a",
   "metadata": {},
   "source": [
    "## Opérateurs Logiques"
   ]
  },
  {
   "cell_type": "markdown",
   "id": "25567661",
   "metadata": {},
   "source": [
    "**Exercice :** Déclare deux variables booléennes : `a = True` et `b = False`. Utilise les opérateurs logiques `and`, `or` et `not` avec ces variables et affiche les résultats."
   ]
  },
  {
   "cell_type": "code",
   "execution_count": null,
   "id": "2f649325",
   "metadata": {},
   "outputs": [],
   "source": []
  },
  {
   "cell_type": "markdown",
   "id": "0cce2238",
   "metadata": {},
   "source": [
    "**Exercice :** Écris un code qui vérifie si un nombre `n` est compris entre 10 et 20 (inclus) et affiche `True` ou `False`."
   ]
  },
  {
   "cell_type": "code",
   "execution_count": null,
   "id": "9e3d0c67",
   "metadata": {},
   "outputs": [],
   "source": []
  },
  {
   "cell_type": "markdown",
   "id": "bc90101b",
   "metadata": {},
   "source": [
    "## Opérateurs d'Assignation"
   ]
  },
  {
   "cell_type": "markdown",
   "id": "db654167",
   "metadata": {},
   "source": [
    "**Exercice :** Crée une variable `compteur` et assigne-lui la valeur 5. Utilise les opérateurs d'assignation pour ajouter 3, soustraire 2, multiplier par 4 et diviser par 2.5. Affiche le résultat après chaque opération."
   ]
  },
  {
   "cell_type": "code",
   "execution_count": null,
   "id": "9ca48f11",
   "metadata": {},
   "outputs": [],
   "source": []
  },
  {
   "cell_type": "markdown",
   "id": "faa0b918",
   "metadata": {},
   "source": [
    "**Exercice :** Crée une chaîne de caractères `message = 'Salut '`. Utilise l'opérateur d'assignation pour y ajouter ton prénom et affiche le résultat."
   ]
  },
  {
   "cell_type": "code",
   "execution_count": null,
   "id": "6d0dca56",
   "metadata": {},
   "outputs": [],
   "source": []
  },
  {
   "cell_type": "markdown",
   "id": "2bb757db",
   "metadata": {},
   "source": [
    "## Opérateurs d'Identité et d'Appartenance"
   ]
  },
  {
   "cell_type": "markdown",
   "id": "968d0336",
   "metadata": {},
   "source": [
    "**Exercice :** Déclare deux variables : `liste1 = [1, 2, 3]` et `liste2 = [1, 2, 3]`. Utilise l'opérateur `is` pour vérifier si `liste1` et `liste2` sont le même objet et explique le résultat."
   ]
  },
  {
   "cell_type": "code",
   "execution_count": null,
   "id": "e0f46353",
   "metadata": {},
   "outputs": [],
   "source": []
  },
  {
   "cell_type": "markdown",
   "id": "cba6114c",
   "metadata": {},
   "source": [
    "**Exercice :** Crée une liste de fruits et utilise l'opérateur `in` pour vérifier si la 'banane' est dans la liste. Utilise `not in` pour vérifier si 'ananas' n'est pas dans la liste."
   ]
  },
  {
   "cell_type": "code",
   "execution_count": null,
   "id": "f9340de3",
   "metadata": {},
   "outputs": [],
   "source": []
  }
 ],
 "metadata": {},
 "nbformat": 4,
 "nbformat_minor": 5
}
