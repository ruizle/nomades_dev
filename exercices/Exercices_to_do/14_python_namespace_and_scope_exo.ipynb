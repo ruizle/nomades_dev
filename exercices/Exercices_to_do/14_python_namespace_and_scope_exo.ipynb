{
 "cells": [
  {
   "cell_type": "markdown",
   "id": "ef680de8",
   "metadata": {},
   "source": [
    "# Exercices Python : Namespace et Scope"
   ]
  },
  {
   "cell_type": "markdown",
   "id": "ac717409",
   "metadata": {},
   "source": [
    "## Portée locale et globale"
   ]
  },
  {
   "cell_type": "markdown",
   "id": "3820d2cd",
   "metadata": {},
   "source": [
    "**Exercice :** Crée une variable `langage = 'Python'` en dehors d'une fonction. À l'intérieur d'une fonction nommée `afficher_langage()`, essaie d'afficher cette variable. Appelle la fonction et explique pourquoi cela fonctionne."
   ]
  },
  {
   "cell_type": "code",
   "execution_count": null,
   "id": "901722cc",
   "metadata": {},
   "outputs": [],
   "source": [
    "langage = 'Python'\n",
    "\n",
    "def afficher_langage():\n",
    "    # Écris ton code ici pour afficher la variable `langage`.\n",
    "    pass\n",
    "\n",
    "afficher_langage()"
   ]
  },
  {
   "cell_type": "markdown",
   "id": "8f96c970",
   "metadata": {},
   "source": [
    "**Exercice :** Dans la fonction `modifier_langage()`, essaie de modifier la variable globale `langage` sans utiliser le mot-clé `global`. Appelle la fonction, puis affiche la variable `langage` et explique le résultat."
   ]
  },
  {
   "cell_type": "code",
   "execution_count": null,
   "id": "4377882e",
   "metadata": {},
   "outputs": [],
   "source": [
    "langage = 'Python'\n",
    "\n",
    "def modifier_langage():\n",
    "    # Écris ton code ici pour modifier la variable globale `langage`.\n",
    "    pass\n",
    "\n",
    "modifier_langage()\n",
    "print(f'En dehors de la fonction: {langage}')"
   ]
  },
  {
   "cell_type": "markdown",
   "id": "da964221",
   "metadata": {},
   "source": [
    "**Exercice :** Corrige l'exercice précédent en utilisant le mot-clé `global` pour que la modification à l'intérieur de la fonction affecte la variable globale."
   ]
  },
  {
   "cell_type": "code",
   "execution_count": null,
   "id": "94eefc07",
   "metadata": {},
   "outputs": [],
   "source": [
    "langage = 'Python'\n",
    "\n",
    "def modifier_langage_global():\n",
    "    # Écris ton code ici en utilisant `global` pour modifier la variable `langage`.\n",
    "    pass\n",
    "\n",
    "modifier_langage_global()\n",
    "print(f'En dehors de la fonction: {langage}')"
   ]
  },
  {
   "cell_type": "markdown",
   "id": "c5128c09",
   "metadata": {},
   "source": [
    "## Portée imbriquée et mot-clé nonlocal"
   ]
  },
  {
   "cell_type": "markdown",
   "id": "afb924b0",
   "metadata": {},
   "source": [
    "**Exercice :** Définis une fonction `exterieure()` qui contient une variable `message = 'Salut'`. À l'intérieur, définis une fonction `interieure()` qui tente d'afficher `message` et de le modifier en `'Bonjour'`. Appelle `interieure()` depuis `exterieure()`. Prédis le résultat et explique ce qui se passe."
   ]
  },
  {
   "cell_type": "code",
   "execution_count": null,
   "id": "025f49bb",
   "metadata": {},
   "outputs": [],
   "source": [
    "def exterieure():\n",
    "    message = 'Salut'\n",
    "    def interieure():\n",
    "        # Écris ton code ici pour afficher et modifier la variable `message`.\n",
    "        pass\n",
    "    interieure()"
   ]
  },
  {
   "cell_type": "markdown",
   "id": "e05e1d02",
   "metadata": {},
   "source": [
    "**Exercice :** Corrige le code de l'exercice précédent en utilisant le mot-clé `nonlocal` pour modifier la variable `message` de la fonction `exterieure()` depuis la fonction `interieure()`. Affiche le message après l'appel de `interieure()` et explique le résultat."
   ]
  },
  {
   "cell_type": "code",
   "execution_count": null,
   "id": "195804d5",
   "metadata": {},
   "outputs": [],
   "source": [
    "def exterieure():\n",
    "    message = 'Salut'\n",
    "    def interieure():\n",
    "        # Écris ton code ici en utilisant `nonlocal` pour modifier `message`.\n",
    "        pass\n",
    "    interieure()"
   ]
  },
  {
   "cell_type": "markdown",
   "id": "dfa924af",
   "metadata": {},
   "source": [
    "## Différence entre portée et espace de noms"
   ]
  },
  {
   "cell_type": "markdown",
   "id": "a6bd749a",
   "metadata": {},
   "source": [
    "**Exercice :** Crée un petit programme avec une variable globale, une variable dans une fonction et une variable dans une boucle. Affiche chaque variable à différents endroits de ton code pour illustrer leur portée."
   ]
  },
  {
   "cell_type": "code",
   "execution_count": null,
   "id": "163b5705",
   "metadata": {},
   "outputs": [],
   "source": [
    "\n"
   ]
  },
  {
   "cell_type": "markdown",
   "id": "d34c0172",
   "metadata": {},
   "source": [
    "**Exercice :** Dans un programme simple, déclare une variable locale à une fonction et une variable globale. Utilise le mot-clé `globals()` pour afficher toutes les variables globales, et `locals()` pour afficher les variables locales à l'intérieur de la fonction. Compare les deux affichages et explique la différence."
   ]
  },
  {
   "cell_type": "code",
   "execution_count": null,
   "id": "52219581",
   "metadata": {},
   "outputs": [],
   "source": [
    "x_global = 10\n",
    "\n",
    "def ma_fonction():\n",
    "    # Écris ton code ici pour afficher les variables avec `globals()` et `locals()`\n",
    "    pass\n",
    "\n",
    "ma_fonction()"
   ]
  }
 ],
 "metadata": {
  "language_info": {
   "name": "python"
  }
 },
 "nbformat": 4,
 "nbformat_minor": 5
}
