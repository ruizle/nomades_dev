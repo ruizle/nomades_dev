{
 "cells": [
  {
   "cell_type": "markdown",
   "id": "b137288b",
   "metadata": {},
   "source": [
    "# Exercices Python : Instructions `if` et `else`"
   ]
  },
  {
   "cell_type": "markdown",
   "id": "82e94dc0",
   "metadata": {},
   "source": [
    "## Instruction `if`"
   ]
  },
  {
   "cell_type": "markdown",
   "id": "fca3d42c",
   "metadata": {},
   "source": [
    "**Exercice :** Crée une variable `age` et assigne-lui ton âge. Écris une instruction `if` pour vérifier si ton âge est supérieur ou égal à 18. Si c'est le cas, affiche 'Tu es majeur.'"
   ]
  },
  {
   "cell_type": "code",
   "execution_count": 11,
   "id": "56ba9ba9",
   "metadata": {},
   "outputs": [
    {
     "name": "stdout",
     "output_type": "stream",
     "text": [
      "Tu es majeur.\n"
     ]
    }
   ],
   "source": [
    "# age = input(\"Quel est ton âge ?\")\n",
    "age = 57\n",
    "if age  >= 18:\n",
    "    print(\"Tu es majeur.\")"
   ]
  },
  {
   "cell_type": "markdown",
   "id": "044851b1",
   "metadata": {},
   "source": [
    "**Exercice :** Demande à l'utilisateur d'entrer un nombre. Écris un programme qui affiche 'C'est un nombre positif.' si le nombre est supérieur à 0."
   ]
  },
  {
   "cell_type": "code",
   "execution_count": 12,
   "id": "ccd8b8eb",
   "metadata": {},
   "outputs": [
    {
     "name": "stdout",
     "output_type": "stream",
     "text": [
      "C'est un nombre positif.\n"
     ]
    }
   ],
   "source": [
    "# nombre = input(\"Entre un nombre :\")\n",
    "nombre = 843\n",
    "# if nombre > 0: print(\"C'est un nombre positif.\");print(\"Test\")\n",
    "if nombre > 0:\n",
    "    print(\"C'est un nombre positif.\")"
   ]
  },
  {
   "cell_type": "markdown",
   "id": "d57ede2e",
   "metadata": {},
   "source": [
    "## Instruction `if...else`"
   ]
  },
  {
   "cell_type": "markdown",
   "id": "15cd163f",
   "metadata": {},
   "source": [
    "**Exercice :** Crée une variable `temperature` et assigne-lui 25. Utilise une instruction `if...else` pour afficher 'Il fait chaud.' si la température est supérieure à 20, sinon affiche 'Il fait frais.'"
   ]
  },
  {
   "cell_type": "code",
   "execution_count": 14,
   "id": "b8b9a97f",
   "metadata": {},
   "outputs": [
    {
     "name": "stdout",
     "output_type": "stream",
     "text": [
      "Il fait chaud\n"
     ]
    }
   ],
   "source": [
    "temperature = 25\n",
    "if  temperature > 20:\n",
    "    print(\"Il fait chaud\")\n",
    "else:\n",
    "    print(\"Il fait froid\")"
   ]
  },
  {
   "cell_type": "markdown",
   "id": "46f4e6f6",
   "metadata": {},
   "source": [
    "**Exercice :** Demande à l'utilisateur d'entrer un mot de passe. Si le mot de passe est 'secret123', affiche 'Accès autorisé.', sinon affiche 'Mot de passe incorrect.'"
   ]
  },
  {
   "cell_type": "code",
   "execution_count": null,
   "id": "47590c3e",
   "metadata": {},
   "outputs": [
    {
     "ename": "SyntaxError",
     "evalue": "cannot assign to expression here. Maybe you meant '==' instead of '='? (1190438510.py, line 2)",
     "output_type": "error",
     "traceback": [
      "  \u001b[36mCell\u001b[39m\u001b[36m \u001b[39m\u001b[32mIn[18]\u001b[39m\u001b[32m, line 2\u001b[39m\n\u001b[31m    \u001b[39m\u001b[31mmot-de-passe = \"Secret\"\u001b[39m\n    ^\n\u001b[31mSyntaxError\u001b[39m\u001b[31m:\u001b[39m cannot assign to expression here. Maybe you meant '==' instead of '='?\n"
     ]
    }
   ],
   "source": [
    "mot_de_passe = \"Secret\"\n",
    "if mot_de_passe == 'secret123':\n",
    "    print(\"Access autorisé\")\n",
    "else:\n",
    "    print(\"Mot de passe incorrect\")"
   ]
  },
  {
   "cell_type": "markdown",
   "id": "43596947",
   "metadata": {},
   "source": [
    "## Instruction `if...elif...else`"
   ]
  },
  {
   "cell_type": "markdown",
   "id": "19f1a985",
   "metadata": {},
   "source": [
    "**Exercice :** Crée une variable `note` et assigne-lui une valeur entre 0 et 100. Utilise une instruction `if...elif...else` pour afficher 'Excellent' si la note est supérieure à 90, 'Bien' si elle est entre 70 et 90, et 'Suffisant' si elle est inférieure à 70."
   ]
  },
  {
   "cell_type": "code",
   "execution_count": 24,
   "id": "f4a09dbe",
   "metadata": {},
   "outputs": [
    {
     "name": "stdout",
     "output_type": "stream",
     "text": [
      "Excellent\n"
     ]
    }
   ],
   "source": [
    "note = 97\n",
    "if note > 90:\n",
    "    print (\"Excellent\")\n",
    "elif note >= 70: \n",
    "    print(\"Bien\")\n",
    "else:\n",
    "    print(\"suffisant\")"
   ]
  },
  {
   "cell_type": "markdown",
   "id": "e612093f",
   "metadata": {},
   "source": [
    "**Exercice :** Demande à l'utilisateur d'entrer un chiffre. Affiche 'C'est un chiffre pair.' si le chiffre est pair (modulo 2 est égal à 0), et 'C'est un chiffre impair.' si le chiffre est impair."
   ]
  },
  {
   "cell_type": "code",
   "execution_count": 27,
   "id": "04d47c16",
   "metadata": {},
   "outputs": [
    {
     "name": "stdout",
     "output_type": "stream",
     "text": [
      "pair\n"
     ]
    }
   ],
   "source": [
    "# chiffre = input(\"Entrez un chiffre :\")\n",
    "chiffre = 8\n",
    "if chiffre % 2 == 0:\n",
    "    print(\"pair\")\n",
    "else:\n",
    "    print(\"impair\")"
   ]
  },
  {
   "cell_type": "markdown",
   "id": "fd3e8ed9",
   "metadata": {},
   "source": [
    "## Instructions `if` imbriquées"
   ]
  },
  {
   "cell_type": "markdown",
   "id": "7d1aa1a6",
   "metadata": {},
   "source": [
    "**Exercice :** Crée deux variables : `utilisateur_actif = True` et `a_le_droit = True`. Utilise des instructions `if` imbriquées pour vérifier d'abord si l'utilisateur est actif, puis s'il a le droit d'accéder. Si les deux conditions sont vraies, affiche 'Accès complet autorisé.'"
   ]
  },
  {
   "cell_type": "code",
   "execution_count": null,
   "id": "21b6acb3",
   "metadata": {},
   "outputs": [],
   "source": [
    "utilisateur_actif = True\n",
    "a_le_droit = True\n",
    "if "
   ]
  },
  {
   "cell_type": "markdown",
   "id": "9385deb6",
   "metadata": {},
   "source": [
    "**Exercice :** Écris un programme qui demande à l'utilisateur de saisir son âge et s'il a un permis de conduire. Utilise des instructions `if` imbriquées pour vérifier si la personne a plus de 18 ans ET un permis de conduire. Si c'est le cas, affiche 'Tu peux conduire.' Sinon, donne un message pertinent."
   ]
  },
  {
   "cell_type": "code",
   "execution_count": null,
   "id": "d726a754",
   "metadata": {},
   "outputs": [],
   "source": []
  }
 ],
 "metadata": {
  "kernelspec": {
   "display_name": "nomades_PPL",
   "language": "python",
   "name": "python3"
  },
  "language_info": {
   "codemirror_mode": {
    "name": "ipython",
    "version": 3
   },
   "file_extension": ".py",
   "mimetype": "text/x-python",
   "name": "python",
   "nbconvert_exporter": "python",
   "pygments_lexer": "ipython3",
   "version": "3.11.13"
  }
 },
 "nbformat": 4,
 "nbformat_minor": 5
}
