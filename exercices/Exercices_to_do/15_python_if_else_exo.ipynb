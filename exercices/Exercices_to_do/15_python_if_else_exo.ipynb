{
 "cells": [
  {
   "cell_type": "markdown",
   "id": "b137288b",
   "metadata": {},
   "source": [
    "# Exercices Python : Instructions `if` et `else`"
   ]
  },
  {
   "cell_type": "markdown",
   "id": "82e94dc0",
   "metadata": {},
   "source": [
    "## Instruction `if`"
   ]
  },
  {
   "cell_type": "markdown",
   "id": "fca3d42c",
   "metadata": {},
   "source": [
    "**Exercice :** Crée une variable `age` et assigne-lui ton âge. Écris une instruction `if` pour vérifier si ton âge est supérieur ou égal à 18. Si c'est le cas, affiche 'Tu es majeur.'"
   ]
  },
  {
   "cell_type": "code",
   "execution_count": null,
   "id": "56ba9ba9",
   "metadata": {},
   "outputs": [
    {
     "name": "stdout",
     "output_type": "stream",
     "text": [
      "Tu es majeur.\n"
     ]
    }
   ],
   "source": [
    "age = 57 # input(\"Quel est ton âge ?\")\n",
    "\n",
    "if age  >= 18:\n",
    "    print(\"Tu es majeur.\")"
   ]
  },
  {
   "cell_type": "markdown",
   "id": "044851b1",
   "metadata": {},
   "source": [
    "**Exercice :** Demande à l'utilisateur d'entrer un nombre. Écris un programme qui affiche 'C'est un nombre positif.' si le nombre est supérieur à 0."
   ]
  },
  {
   "cell_type": "code",
   "execution_count": null,
   "id": "ccd8b8eb",
   "metadata": {},
   "outputs": [
    {
     "name": "stdout",
     "output_type": "stream",
     "text": [
      "C'est un nombre positif.\n"
     ]
    }
   ],
   "source": [
    "nombre = 843 # input(\"Entre un nombre :\")\n",
    "# if nombre > 0: print(\"C'est un nombre positif.\");print(\"Test\")\n",
    "\n",
    "if nombre > 0:\n",
    "    print(\"C'est un nombre positif.\")"
   ]
  },
  {
   "cell_type": "markdown",
   "id": "d57ede2e",
   "metadata": {},
   "source": [
    "## Instruction `if...else`"
   ]
  },
  {
   "cell_type": "markdown",
   "id": "15cd163f",
   "metadata": {},
   "source": [
    "**Exercice :** Crée une variable `temperature` et assigne-lui 25. Utilise une instruction `if...else` pour afficher 'Il fait chaud.' si la température est supérieure à 20, sinon affiche 'Il fait frais.'"
   ]
  },
  {
   "cell_type": "code",
   "execution_count": null,
   "id": "b8b9a97f",
   "metadata": {},
   "outputs": [
    {
     "name": "stdout",
     "output_type": "stream",
     "text": [
      "Il fait chaud.\n"
     ]
    }
   ],
   "source": [
    "temperature = 25\n",
    "\n",
    "if  temperature > 20:\n",
    "    print(\"Il fait chaud.\")\n",
    "else:\n",
    "    print(\"Il fait frais.\")"
   ]
  },
  {
   "cell_type": "markdown",
   "id": "46f4e6f6",
   "metadata": {},
   "source": [
    "**Exercice :** Demande à l'utilisateur d'entrer un mot de passe. Si le mot de passe est 'secret123', affiche 'Accès autorisé.', sinon affiche 'Mot de passe incorrect.'"
   ]
  },
  {
   "cell_type": "code",
   "execution_count": null,
   "id": "47590c3e",
   "metadata": {},
   "outputs": [
    {
     "name": "stdout",
     "output_type": "stream",
     "text": [
      "Mot de passe incorrect.\n"
     ]
    }
   ],
   "source": [
    "mot_de_passe = \"Secret\"\n",
    "\n",
    "if mot_de_passe == 'secret123':\n",
    "    print(\"Accès autorisé.\")\n",
    "else:\n",
    "    print(\"Mot de passe incorrect.\")"
   ]
  },
  {
   "cell_type": "markdown",
   "id": "43596947",
   "metadata": {},
   "source": [
    "## Instruction `if...elif...else`"
   ]
  },
  {
   "cell_type": "markdown",
   "id": "19f1a985",
   "metadata": {},
   "source": [
    "**Exercice :** Crée une variable `note` et assigne-lui une valeur entre 0 et 100. Utilise une instruction `if...elif...else` pour afficher 'Excellent' si la note est supérieure à 90, 'Bien' si elle est entre 70 et 90, et 'Suffisant' si elle est inférieure à 70."
   ]
  },
  {
   "cell_type": "code",
   "execution_count": null,
   "id": "f4a09dbe",
   "metadata": {},
   "outputs": [
    {
     "name": "stdout",
     "output_type": "stream",
     "text": [
      "Excellent\n"
     ]
    }
   ],
   "source": [
    "note = 97\n",
    "\n",
    "if note > 90:\n",
    "    print (\"Excellent\")\n",
    "elif note >= 70: \n",
    "    print(\"Bien\")\n",
    "else:\n",
    "    print(\"suffisant\")"
   ]
  },
  {
   "cell_type": "markdown",
   "id": "e612093f",
   "metadata": {},
   "source": [
    "**Exercice :** Demande à l'utilisateur d'entrer un chiffre. Affiche 'C'est un chiffre pair.' si le chiffre est pair (modulo 2 est égal à 0), et 'C'est un chiffre impair.' si le chiffre est impair."
   ]
  },
  {
   "cell_type": "code",
   "execution_count": 2,
   "id": "04d47c16",
   "metadata": {},
   "outputs": [
    {
     "name": "stdout",
     "output_type": "stream",
     "text": [
      "C'est un chiffre impair.\n"
     ]
    }
   ],
   "source": [
    "chiffre_str = '9' # input(\"Entrez un chiffre :\")\n",
    "chiffre = int(chiffre_str)\n",
    "\n",
    "if chiffre % 2 == 0:\n",
    "    print(\"C'est un chiffre pair.\")\n",
    "else:\n",
    "    print(\"C'est un chiffre impair.\")"
   ]
  },
  {
   "cell_type": "markdown",
   "id": "fd3e8ed9",
   "metadata": {},
   "source": [
    "## Instructions `if` imbriquées"
   ]
  },
  {
   "cell_type": "markdown",
   "id": "7d1aa1a6",
   "metadata": {},
   "source": [
    "**Exercice :** Crée deux variables : `utilisateur_actif = True` et `a_le_droit = True`. Utilise des instructions `if` imbriquées pour vérifier d'abord si l'utilisateur est actif, puis s'il a le droit d'accéder. Si les deux conditions sont vraies, affiche 'Accès complet autorisé.'"
   ]
  },
  {
   "cell_type": "code",
   "execution_count": null,
   "id": "21b6acb3",
   "metadata": {},
   "outputs": [
    {
     "name": "stdout",
     "output_type": "stream",
     "text": [
      "Accès complet autorisé.\n"
     ]
    }
   ],
   "source": [
    "utilisateur_actif = True\n",
    "a_le_droit = True\n",
    "\n",
    "if utilisateur_actif: \n",
    "    if a_le_droit:\n",
    "        print(\"Accès complet autorisé.\")"
   ]
  },
  {
   "cell_type": "markdown",
   "id": "9385deb6",
   "metadata": {},
   "source": [
    "**Exercice :** Écris un programme qui demande à l'utilisateur de saisir son âge et s'il a un permis de conduire. Utilise des instructions `if` imbriquées pour vérifier si la personne a au moins 18 ans ET un permis de conduire. Si c'est le cas, affiche 'Tu peux conduire.' Sinon, donne un message pertinent."
   ]
  },
  {
   "cell_type": "code",
   "execution_count": 5,
   "id": "d726a754",
   "metadata": {},
   "outputs": [
    {
     "name": "stdout",
     "output_type": "stream",
     "text": [
      "Tu peux conduire.\n"
     ]
    }
   ],
   "source": [
    "age_str = '18' # input(\"Quel est ton âge ?\")\n",
    "age = int(age_str)\n",
    "\n",
    "yn_str = 'o' # input(\"As-tu le permis de conduire ? (o/n)\").lower()\n",
    "if yn_str == 'o':\n",
    "    yn_permis_conduire = True\n",
    "else:\n",
    "    yn_permis_conduire = False\n",
    "\n",
    "if age >= 18:\n",
    "    if yn_permis_conduire:\n",
    "        print(\"Tu peux conduire.\")\n",
    "    else:\n",
    "        print(\"Tu as plus de 18 ans, mais tu ne peux conduire.\")\n",
    "else:\n",
    "    print(\"Tu n'as pas l'âge de conduire.\")"
   ]
  }
 ],
 "metadata": {
  "kernelspec": {
   "display_name": "nomades_PPL",
   "language": "python",
   "name": "python3"
  },
  "language_info": {
   "codemirror_mode": {
    "name": "ipython",
    "version": 3
   },
   "file_extension": ".py",
   "mimetype": "text/x-python",
   "name": "python",
   "nbconvert_exporter": "python",
   "pygments_lexer": "ipython3",
   "version": "3.11.13"
  }
 },
 "nbformat": 4,
 "nbformat_minor": 5
}
