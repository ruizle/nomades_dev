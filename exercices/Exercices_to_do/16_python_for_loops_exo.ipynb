{
 "cells": [
  {
   "cell_type": "markdown",
   "id": "f6f092a6",
   "metadata": {},
   "source": [
    "# Exercices Python : Boucles `for`"
   ]
  },
  {
   "cell_type": "markdown",
   "id": "77d07dbb",
   "metadata": {},
   "source": [
    "## Boucle `for` simple"
   ]
  },
  {
   "cell_type": "markdown",
   "id": "e8b2596a",
   "metadata": {},
   "source": [
    "**Exercice :** Crée une liste de tes 3 fruits préférés. Utilise une boucle `for` pour afficher chaque fruit de la liste."
   ]
  },
  {
   "cell_type": "code",
   "execution_count": 1,
   "id": "84074ab6",
   "metadata": {},
   "outputs": [
    {
     "name": "stdout",
     "output_type": "stream",
     "text": [
      "pomme\n",
      "poire\n",
      "banane\n"
     ]
    }
   ],
   "source": [
    "fruits = ['pomme', 'poire', 'banane']\n",
    "for fruit in fruits:\n",
    "    print(fruit)"
   ]
  },
  {
   "cell_type": "markdown",
   "id": "f2e9be68",
   "metadata": {},
   "source": [
    "**Exercice :** Écris un programme qui calcule la somme des nombres de 1 à 10 en utilisant une boucle `for` et la fonction `range()`."
   ]
  },
  {
   "cell_type": "code",
   "execution_count": 1,
   "id": "ec77ddc0",
   "metadata": {},
   "outputs": [
    {
     "name": "stdout",
     "output_type": "stream",
     "text": [
      "range(0, 10)\n",
      "Somme 55\n"
     ]
    }
   ],
   "source": [
    "somme = 0\n",
    "print(range(10))  # Donne une liste de nombres de 0 à 9 !   \n",
    "# Si range(1,11) la liste de nombres de 1 à 10 !   \n",
    "\n",
    "for nb in range(10+1):\n",
    "# somme += nb\n",
    "   somme += nb\n",
    "print(\"Somme\",somme) "
   ]
  },
  {
   "cell_type": "markdown",
   "id": "16b5f398",
   "metadata": {},
   "source": [
    "## Boucle `for` avec `enumerate()`"
   ]
  },
  {
   "cell_type": "markdown",
   "id": "254fa1e5",
   "metadata": {},
   "source": [
    "**Exercice :** Crée une liste de noms d'animaux. Utilise `enumerate()` dans une boucle `for` pour afficher chaque nom d'animal avec son index, par exemple 'Animal 1 : chat'."
   ]
  },
  {
   "cell_type": "code",
   "execution_count": null,
   "id": "964fe07f",
   "metadata": {},
   "outputs": [
    {
     "name": "stdout",
     "output_type": "stream",
     "text": [
      "Animal  0 : chat\n",
      "Animal  1 : chien\n",
      "Animal  2 : fourmi\n"
     ]
    }
   ],
   "source": [
    "animaux = ['chat', 'chien', 'fourmi']\n",
    "\n",
    "for idx, animal in enumerate(animaux):\n",
    "    print(\"Animal \",idx, \":\",animal)"
   ]
  },
  {
   "cell_type": "markdown",
   "id": "16731030",
   "metadata": {},
   "source": [
    "**Exercice :** Parcours la liste de tes fruits préférés et utilise `enumerate()` pour trouver et afficher l'index du fruit 'banane'."
   ]
  },
  {
   "cell_type": "code",
   "execution_count": null,
   "id": "35b0aaf0",
   "metadata": {},
   "outputs": [
    {
     "name": "stdout",
     "output_type": "stream",
     "text": [
      "idx=3, fruit=banane\n"
     ]
    }
   ],
   "source": [
    "fruits = ['pomme', 'poire', 'figue', 'banane']\n",
    "\n",
    "for idx, fruit in enumerate(fruits):\n",
    "    if fruit == 'banane':\n",
    "        print(f\"idx={idx}, fruit={fruit}\") "
   ]
  },
  {
   "cell_type": "markdown",
   "id": "fbbdad4f",
   "metadata": {},
   "source": [
    "## Instructions `break` et `continue`"
   ]
  },
  {
   "cell_type": "markdown",
   "id": "25c89695",
   "metadata": {},
   "source": [
    "**Exercice :** Écris une boucle `for` qui parcourt les nombres de 1 à 10. Utilise l'instruction `break` pour arrêter la boucle lorsque le nombre 7 est atteint."
   ]
  },
  {
   "cell_type": "code",
   "execution_count": 6,
   "id": "eb5db127",
   "metadata": {},
   "outputs": [
    {
     "name": "stdout",
     "output_type": "stream",
     "text": [
      "(if) idx=0\n",
      "(if) idx=1\n",
      "(if) idx=2\n",
      "(if) idx=3\n",
      "(if) idx=4\n",
      "(if) idx=5\n",
      "(if) idx=6\n",
      "(ext) nb=7, idx=6\n"
     ]
    }
   ],
   "source": [
    "nb= 0\n",
    "\n",
    "for idx in range(10):\n",
    "    print(f\"(if) idx={idx}\")\n",
    "    nb = idx + 1\n",
    "    if nb == 7:\n",
    "        break\n",
    "else:\n",
    "    print(f\"(else) nb={nb}, idx={idx}\")\n",
    "print(f\"(ext) nb={nb}, idx={idx}\")"
   ]
  },
  {
   "cell_type": "markdown",
   "id": "397740f3",
   "metadata": {},
   "source": [
    "**Exercice :** Écris une boucle `for` qui parcourt les nombres de 1 à 10. Utilise l'instruction `continue` pour sauter l'affichage du nombre 5."
   ]
  },
  {
   "cell_type": "code",
   "execution_count": null,
   "id": "ab84e6bd",
   "metadata": {},
   "outputs": [
    {
     "name": "stdout",
     "output_type": "stream",
     "text": [
      "nombre= 1\n",
      "nombre= 2\n",
      "nombre= 3\n",
      "nombre= 4\n",
      "nombre= 6\n",
      "nombre= 7\n",
      "nombre= 8\n",
      "nombre= 9\n",
      "nombre= 10\n"
     ]
    }
   ],
   "source": [
    "nombres = range (1,11)  # De 1 à 10\n",
    "\n",
    "for nombre in nombres:\n",
    "    if nombre == 5:\n",
    "        continue\n",
    "    print(\"nombre=\",nombre)"
   ]
  },
  {
   "cell_type": "markdown",
   "id": "4b42b77d",
   "metadata": {},
   "source": [
    "## Boucle `for` avec `else`"
   ]
  },
  {
   "cell_type": "markdown",
   "id": "0b45bd2f",
   "metadata": {},
   "source": [
    "**Exercice :** Crée une liste de nombres. Écris une boucle `for` qui parcourt la liste et affiche chaque nombre. Ajoute une clause `else` qui s'exécute lorsque la boucle est terminée. Explique pourquoi le `else` ne s'exécute pas si la boucle est interrompue par un `break`."
   ]
  },
  {
   "cell_type": "code",
   "execution_count": null,
   "id": "8bac788d",
   "metadata": {},
   "outputs": [
    {
     "name": "stdout",
     "output_type": "stream",
     "text": [
      "nombre= 1\n",
      "nombre= 2\n"
     ]
    }
   ],
   "source": [
    "nombres = [1, 2, 5, 8]\n",
    "\n",
    "for nombre in nombres:\n",
    "    if nombre == 5:\n",
    "        break\n",
    "    print(\"nombre=\",nombre)\n",
    "else:\n",
    "    print(\"Sortie de boucle sans interruption.\")"
   ]
  }
 ],
 "metadata": {
  "kernelspec": {
   "display_name": "nomades_PPL",
   "language": "python",
   "name": "python3"
  },
  "language_info": {
   "codemirror_mode": {
    "name": "ipython",
    "version": 3
   },
   "file_extension": ".py",
   "mimetype": "text/x-python",
   "name": "python",
   "nbconvert_exporter": "python",
   "pygments_lexer": "ipython3",
   "version": "3.11.13"
  }
 },
 "nbformat": 4,
 "nbformat_minor": 5
}
