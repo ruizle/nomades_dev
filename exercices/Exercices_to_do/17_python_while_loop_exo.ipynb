{
 "cells": [
  {
   "cell_type": "markdown",
   "id": "ce74ce6a",
   "metadata": {},
   "source": [
    "# Exercices Python : Boucles `while`"
   ]
  },
  {
   "cell_type": "markdown",
   "id": "22572b6a",
   "metadata": {},
   "source": [
    "## Boucle `while` simple"
   ]
  },
  {
   "cell_type": "markdown",
   "id": "ea9a86ac",
   "metadata": {},
   "source": [
    "**Exercice :** Crée une variable `compteur` initialisée à 0. Utilise une boucle `while` pour afficher la valeur du compteur tant qu'il est inférieur à 5. N'oublie pas d'incrémenter le compteur à chaque itération."
   ]
  },
  {
   "cell_type": "code",
   "execution_count": 1,
   "id": "9bf85490",
   "metadata": {},
   "outputs": [
    {
     "name": "stdout",
     "output_type": "stream",
     "text": [
      "compteur= 0\n",
      "compteur= 1\n",
      "compteur= 2\n",
      "compteur= 3\n",
      "compteur= 4\n"
     ]
    }
   ],
   "source": [
    "compteur = 0\n",
    "\n",
    "while compteur < 5:\n",
    "    print(\"compteur=\",compteur)\n",
    "    compteur += 1"
   ]
  },
  {
   "cell_type": "markdown",
   "id": "0650e196",
   "metadata": {},
   "source": [
    "**Exercice :** Écris un programme qui demande à l'utilisateur un nombre. Utilise une boucle `while` pour continuer à demander un nombre tant que l'utilisateur n'entre pas le nombre 7."
   ]
  },
  {
   "cell_type": "code",
   "execution_count": null,
   "id": "04a59f73",
   "metadata": {},
   "outputs": [
    {
     "ename": "SyntaxError",
     "evalue": "invalid syntax (844026128.py, line 1)",
     "output_type": "error",
     "traceback": [
      "  \u001b[36mCell\u001b[39m\u001b[36m \u001b[39m\u001b[32mIn[2]\u001b[39m\u001b[32m, line 1\u001b[39m\n\u001b[31m    \u001b[39m\u001b[31mnombre_int = int(input(\"Entrez un nombre (de 0 à 9)\" :))\u001b[39m\n                                                         ^\n\u001b[31mSyntaxError\u001b[39m\u001b[31m:\u001b[39m invalid syntax\n"
     ]
    }
   ],
   "source": [
    "nombre_int = int(input(\"Entrez un nombre (de 0 à 9) :\"))\n",
    "\n",
    "while nombre_int != 7:\n",
    "    print(\"Ce n'est pas le nombre attendu !\")\n",
    "    nombre_int = int(input(\"Entrez un autre nombre (de 0 à 9) :\"))\n",
    "\n",
    "print(\"Bravo, tu as trouvé le nombre.\")"
   ]
  },
  {
   "cell_type": "markdown",
   "id": "8c3b349c",
   "metadata": {},
   "source": [
    "## Boucle `while` avec `break`"
   ]
  },
  {
   "cell_type": "markdown",
   "id": "518a52e0",
   "metadata": {},
   "source": [
    "**Exercice :** Crée un programme avec une boucle `while` infinie (en utilisant `while True`). Demande à l'utilisateur d'entrer un mot. Utilise l'instruction `break` pour sortir de la boucle si le mot entré est 'stop'."
   ]
  },
  {
   "cell_type": "code",
   "execution_count": null,
   "id": "545ff75a",
   "metadata": {},
   "outputs": [],
   "source": [
    "while True:   # True est toujours vrai !\n",
    "    mot = input(\"Entrez un mot : \")\n",
    "    if mot == 'stop':\n",
    "        break"
   ]
  },
  {
   "cell_type": "markdown",
   "id": "1d3e8acc",
   "metadata": {},
   "source": [
    "## Boucle `while` avec `continue`"
   ]
  },
  {
   "cell_type": "markdown",
   "id": "fbfe779b",
   "metadata": {},
   "source": [
    "**Exercice :** Écris un programme qui utilise une boucle `while` pour afficher les nombres de 1 à 10. Utilise l'instruction `continue` pour sauter l'affichage des nombres 3 et 7."
   ]
  },
  {
   "cell_type": "code",
   "execution_count": null,
   "id": "b53b577f",
   "metadata": {},
   "outputs": [
    {
     "name": "stdout",
     "output_type": "stream",
     "text": [
      "nombre 1\n",
      "nombre 2\n",
      "nombre 4\n",
      "nombre 5\n",
      "nombre 6\n",
      "nombre 8\n",
      "nombre 9\n",
      "nombre 10\n"
     ]
    }
   ],
   "source": [
    "nombre = 1\n",
    "\n",
    "while nombre <= 10:\n",
    "    if nombre not in (3 , 7):\n",
    "        print(\"nombre\", nombre)\n",
    "    nombre += 1   # incrémenter de 1\n"
   ]
  },
  {
   "cell_type": "markdown",
   "id": "a8e7a7d6",
   "metadata": {},
   "source": [
    "## Boucle `while` avec `else`"
   ]
  },
  {
   "cell_type": "markdown",
   "id": "43989a35",
   "metadata": {},
   "source": [
    "**Exercice :** Crée une variable `nombre_restant` initialisée à 3. Utilise une boucle `while` pour décrémenter cette variable jusqu'à 0 et afficher un message à chaque itération. Ajoute une clause `else` qui s'exécute lorsque la boucle est terminée."
   ]
  },
  {
   "cell_type": "code",
   "execution_count": null,
   "id": "45d90db9",
   "metadata": {},
   "outputs": [
    {
     "name": "stdout",
     "output_type": "stream",
     "text": [
      "Salut nombre_restant= 3\n",
      "Salut nombre_restant= 2\n",
      "Salut nombre_restant= 1\n",
      "Sortie du while ok\n",
      "Sortie\n"
     ]
    }
   ],
   "source": [
    "nombre_restant = 3\n",
    "\n",
    "while nombre_restant > 0:\n",
    "    print(\"Salut\", \"nombre_restant=\", nombre_restant)\n",
    "    nombre_restant -= 1     # Décrémenter de 1\n",
    "else:\n",
    "    print(\"Sortie du while ok\")\n",
    "print(\"Sortie\")"
   ]
  }
 ],
 "metadata": {
  "kernelspec": {
   "display_name": "nomades_PPL",
   "language": "python",
   "name": "python3"
  },
  "language_info": {
   "codemirror_mode": {
    "name": "ipython",
    "version": 3
   },
   "file_extension": ".py",
   "mimetype": "text/x-python",
   "name": "python",
   "nbconvert_exporter": "python",
   "pygments_lexer": "ipython3",
   "version": "3.11.13"
  }
 },
 "nbformat": 4,
 "nbformat_minor": 5
}
