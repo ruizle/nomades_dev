{
 "cells": [
  {
   "cell_type": "markdown",
   "id": "ce74ce6a",
   "metadata": {},
   "source": [
    "# Exercices Python : Boucles `while`"
   ]
  },
  {
   "cell_type": "markdown",
   "id": "22572b6a",
   "metadata": {},
   "source": [
    "## Boucle `while` simple"
   ]
  },
  {
   "cell_type": "markdown",
   "id": "ea9a86ac",
   "metadata": {},
   "source": [
    "**Exercice :** Crée une variable `compteur` initialisée à 0. Utilise une boucle `while` pour afficher la valeur du compteur tant qu'il est inférieur à 5. N'oublie pas d'incrémenter le compteur à chaque itération."
   ]
  },
  {
   "cell_type": "code",
   "execution_count": null,
   "id": "9bf85490",
   "metadata": {},
   "outputs": [],
   "source": []
  },
  {
   "cell_type": "markdown",
   "id": "0650e196",
   "metadata": {},
   "source": [
    "**Exercice :** Écris un programme qui demande à l'utilisateur un nombre. Utilise une boucle `while` pour continuer à demander un nombre tant que l'utilisateur n'entre pas le nombre 7."
   ]
  },
  {
   "cell_type": "code",
   "execution_count": null,
   "id": "04a59f73",
   "metadata": {},
   "outputs": [],
   "source": []
  },
  {
   "cell_type": "markdown",
   "id": "8c3b349c",
   "metadata": {},
   "source": [
    "## Boucle `while` avec `break`"
   ]
  },
  {
   "cell_type": "markdown",
   "id": "518a52e0",
   "metadata": {},
   "source": [
    "**Exercice :** Crée un programme avec une boucle `while` infinie (en utilisant `while True`). Demande à l'utilisateur d'entrer un mot. Utilise l'instruction `break` pour sortir de la boucle si le mot entré est 'stop'."
   ]
  },
  {
   "cell_type": "code",
   "execution_count": null,
   "id": "545ff75a",
   "metadata": {},
   "outputs": [],
   "source": []
  },
  {
   "cell_type": "markdown",
   "id": "1d3e8acc",
   "metadata": {},
   "source": [
    "## Boucle `while` avec `continue`"
   ]
  },
  {
   "cell_type": "markdown",
   "id": "fbfe779b",
   "metadata": {},
   "source": [
    "**Exercice :** Écris un programme qui utilise une boucle `while` pour afficher les nombres de 1 à 10. Utilise l'instruction `continue` pour sauter l'affichage des nombres 3 et 7."
   ]
  },
  {
   "cell_type": "code",
   "execution_count": null,
   "id": "b53b577f",
   "metadata": {},
   "outputs": [],
   "source": []
  },
  {
   "cell_type": "markdown",
   "id": "a8e7a7d6",
   "metadata": {},
   "source": [
    "## Boucle `while` avec `else`"
   ]
  },
  {
   "cell_type": "markdown",
   "id": "43989a35",
   "metadata": {},
   "source": [
    "**Exercice :** Crée une variable `nombre_restant` initialisée à 3. Utilise une boucle `while` pour décrémenter cette variable jusqu'à 0 et afficher un message à chaque itération. Ajoute une clause `else` qui s'exécute lorsque la boucle est terminée."
   ]
  },
  {
   "cell_type": "code",
   "execution_count": null,
   "id": "45d90db9",
   "metadata": {},
   "outputs": [],
   "source": []
  }
 ],
 "metadata": {
  "language_info": {
   "name": "python"
  }
 },
 "nbformat": 4,
 "nbformat_minor": 5
}
