{
 "cells": [
  {
   "cell_type": "markdown",
   "id": "1f2a8957",
   "metadata": {},
   "source": [
    "# Exercices Python : Instructions `break` et `continue`"
   ]
  },
  {
   "cell_type": "markdown",
   "id": "d5b61e01",
   "metadata": {},
   "source": [
    "## L'instruction `break`"
   ]
  },
  {
   "cell_type": "markdown",
   "id": "6d61423f",
   "metadata": {},
   "source": [
    "**Exercice :** Crée une boucle `for` qui itère sur les nombres de 1 à 10. Affiche chaque nombre, mais arrête la boucle dès que le nombre est supérieur à 5 en utilisant `break`."
   ]
  },
  {
   "cell_type": "code",
   "execution_count": null,
   "id": "cb5befd4",
   "metadata": {},
   "outputs": [
    {
     "name": "stdout",
     "output_type": "stream",
     "text": [
      "nb= 1\n",
      "nb= 2\n",
      "nb= 3\n",
      "nb= 4\n",
      "nb= 5\n",
      "nb= 6\n"
     ]
    }
   ],
   "source": [
    "for nb in range(1,11):\n",
    "    print(\"nb=\",nb)\n",
    "    if nb > 5:\n",
    "        break"
   ]
  },
  {
   "cell_type": "markdown",
   "id": "a2da57bb",
   "metadata": {},
   "source": [
    "**Exercice :** Écris une boucle `while` qui demande continuellement à l'utilisateur d'entrer un nombre. Arrête la boucle avec `break` si l'utilisateur entre le nombre 0."
   ]
  },
  {
   "cell_type": "code",
   "execution_count": 5,
   "id": "ff1fef65",
   "metadata": {},
   "outputs": [],
   "source": [
    "while True:\n",
    "    nb = int(input(\"Entrez un nombre :\"))\n",
    "    if nb == 0:\n",
    "        break"
   ]
  },
  {
   "cell_type": "markdown",
   "id": "1a53b529",
   "metadata": {},
   "source": [
    "## L'instruction `continue`"
   ]
  },
  {
   "cell_type": "markdown",
   "id": "58cba10d",
   "metadata": {},
   "source": [
    "**Exercice :** Crée une boucle `for` qui parcourt les nombres de 1 à 10. Utilise `continue` pour ne pas afficher les nombres pairs (2, 4, 6, 8, 10)."
   ]
  },
  {
   "cell_type": "code",
   "execution_count": null,
   "id": "ae503d7d",
   "metadata": {},
   "outputs": [
    {
     "name": "stdout",
     "output_type": "stream",
     "text": [
      "nb= 1\n",
      "nb= 3\n",
      "nb= 5\n",
      "nb= 7\n",
      "nb= 9\n"
     ]
    }
   ],
   "source": [
    "for nb in range(1,11):\n",
    "    if nb % 2 == 0:   # Reste de la division (=modulo) \n",
    "        continue\n",
    "    print(\"nb=\",nb)"
   ]
  },
  {
   "cell_type": "markdown",
   "id": "46d0f18d",
   "metadata": {},
   "source": [
    "**Exercice :** Écris une boucle `while` qui compte de 1 à 10. Affiche chaque nombre, mais utilise `continue` pour sauter l'itération si le nombre est un multiple de 3 (3, 6, 9)."
   ]
  },
  {
   "cell_type": "code",
   "execution_count": 10,
   "id": "07d02a5f",
   "metadata": {},
   "outputs": [
    {
     "name": "stdout",
     "output_type": "stream",
     "text": [
      "nb= 1\n",
      "nb= 2\n",
      "nb= 4\n",
      "nb= 5\n",
      "nb= 7\n",
      "nb= 8\n",
      "nb= 10\n"
     ]
    }
   ],
   "source": [
    "nb=0\n",
    "while nb < 10:\n",
    "    nb += 1\n",
    "    if nb % 3 == 0:\n",
    "        continue\n",
    "    print(\"nb=\",nb)"
   ]
  }
 ],
 "metadata": {
  "kernelspec": {
   "display_name": "nomades_PPL",
   "language": "python",
   "name": "python3"
  },
  "language_info": {
   "codemirror_mode": {
    "name": "ipython",
    "version": 3
   },
   "file_extension": ".py",
   "mimetype": "text/x-python",
   "name": "python",
   "nbconvert_exporter": "python",
   "pygments_lexer": "ipython3",
   "version": "3.11.13"
  }
 },
 "nbformat": 4,
 "nbformat_minor": 5
}
