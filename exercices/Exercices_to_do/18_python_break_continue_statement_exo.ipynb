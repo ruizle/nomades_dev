{
 "cells": [
  {
   "cell_type": "markdown",
   "id": "1f2a8957",
   "metadata": {},
   "source": [
    "# Exercices Python : Instructions `break` et `continue`"
   ]
  },
  {
   "cell_type": "markdown",
   "id": "d5b61e01",
   "metadata": {},
   "source": [
    "## L'instruction `break`"
   ]
  },
  {
   "cell_type": "markdown",
   "id": "6d61423f",
   "metadata": {},
   "source": [
    "**Exercice :** Crée une boucle `for` qui itère sur les nombres de 1 à 10. Affiche chaque nombre, mais arrête la boucle dès que le nombre est supérieur à 5 en utilisant `break`."
   ]
  },
  {
   "cell_type": "code",
   "execution_count": null,
   "id": "cb5befd4",
   "metadata": {},
   "outputs": [],
   "source": []
  },
  {
   "cell_type": "markdown",
   "id": "a2da57bb",
   "metadata": {},
   "source": [
    "**Exercice :** Écris une boucle `while` qui demande continuellement à l'utilisateur d'entrer un nombre. Arrête la boucle avec `break` si l'utilisateur entre le nombre 0."
   ]
  },
  {
   "cell_type": "code",
   "execution_count": null,
   "id": "ff1fef65",
   "metadata": {},
   "outputs": [],
   "source": []
  },
  {
   "cell_type": "markdown",
   "id": "1a53b529",
   "metadata": {},
   "source": [
    "## L'instruction `continue`"
   ]
  },
  {
   "cell_type": "markdown",
   "id": "58cba10d",
   "metadata": {},
   "source": [
    "**Exercice :** Crée une boucle `for` qui parcourt les nombres de 1 à 10. Utilise `continue` pour ne pas afficher les nombres pairs (2, 4, 6, 8, 10)."
   ]
  },
  {
   "cell_type": "code",
   "execution_count": null,
   "id": "ae503d7d",
   "metadata": {},
   "outputs": [],
   "source": []
  },
  {
   "cell_type": "markdown",
   "id": "46d0f18d",
   "metadata": {},
   "source": [
    "**Exercice :** Écris une boucle `while` qui compte de 1 à 10. Affiche chaque nombre, mais utilise `continue` pour sauter l'itération si le nombre est un multiple de 3 (3, 6, 9)."
   ]
  },
  {
   "cell_type": "code",
   "execution_count": null,
   "id": "07d02a5f",
   "metadata": {},
   "outputs": [],
   "source": []
  }
 ],
 "metadata": {
  "language_info": {
   "name": "python"
  }
 },
 "nbformat": 4,
 "nbformat_minor": 5
}
