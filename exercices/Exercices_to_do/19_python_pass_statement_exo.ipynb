{
 "cells": [
  {
   "cell_type": "markdown",
   "id": "85a2225d",
   "metadata": {},
   "source": [
    "# Exercices Python : Instruction `pass`"
   ]
  },
  {
   "cell_type": "markdown",
   "id": "e856fe0d",
   "metadata": {},
   "source": [
    "## L'instruction `pass` dans les boucles et les conditions"
   ]
  },
  {
   "cell_type": "markdown",
   "id": "2a71d974",
   "metadata": {},
   "source": [
    "**Exercice :** Écris un programme qui vérifie si un nombre `x` est pair. Si c'est le cas, ne fais rien, mais utilise l'instruction `pass` pour éviter une erreur d'indentation. Dans la clause `else`, affiche 'Le nombre est impair.'."
   ]
  },
  {
   "cell_type": "code",
   "execution_count": 1,
   "id": "5745772a",
   "metadata": {},
   "outputs": [],
   "source": [
    "x = 10\n",
    "\n",
    "if x % 2 == 0:\n",
    "    pass"
   ]
  },
  {
   "cell_type": "markdown",
   "id": "edf56c49",
   "metadata": {},
   "source": [
    "**Exercice :** Crée une boucle `for` qui parcourt les nombres de 1 à 5. N'ajoute pas de code à l'intérieur de la boucle pour le moment, mais utilise l'instruction `pass` pour que le programme s'exécute sans erreur."
   ]
  },
  {
   "cell_type": "code",
   "execution_count": null,
   "id": "432fcbcf",
   "metadata": {},
   "outputs": [],
   "source": [
    "for nb in range(1,5+1):\n",
    "    pass"
   ]
  },
  {
   "cell_type": "markdown",
   "id": "6ee0cc4a",
   "metadata": {},
   "source": [
    "## L'instruction `pass` dans les fonctions"
   ]
  },
  {
   "cell_type": "markdown",
   "id": "617f47bc",
   "metadata": {},
   "source": [
    "**Exercice :** Déclare une fonction nommée `prochaine_fonction()` qui n'a pas encore de contenu. Utilise l'instruction `pass` à l'intérieur de la fonction pour la définir sans qu'elle ne fasse rien. Appelle ensuite la fonction."
   ]
  },
  {
   "cell_type": "code",
   "execution_count": 3,
   "id": "57ac8832",
   "metadata": {},
   "outputs": [],
   "source": [
    "def prochaine_fonction():\n",
    "    # Écris ton code ici pour définir la fonction sans contenu\n",
    "    pass\n",
    "\n",
    "# Appelle la fonction ici\n",
    "prochaine_fonction()"
   ]
  },
  {
   "cell_type": "markdown",
   "id": "bd41008d",
   "metadata": {},
   "source": [
    "## Différence entre `pass` et les commentaires"
   ]
  },
  {
   "cell_type": "markdown",
   "id": "a33b725e",
   "metadata": {},
   "source": [
    "**Exercice :** Écris une courte explication sur la différence entre le mot-clé `pass` et un commentaire en Python."
   ]
  },
  {
   "cell_type": "code",
   "execution_count": null,
   "id": "ca04e8f0",
   "metadata": {},
   "outputs": [],
   "source": [
    "# Écris ton explication ici dans un bloc de texte (markdown)\n",
    "# 'pass' c'est un NOP - No Operation\n",
    "# Un commentaire est simplement ignoré."
   ]
  }
 ],
 "metadata": {
  "kernelspec": {
   "display_name": "nomades_PPL",
   "language": "python",
   "name": "python3"
  },
  "language_info": {
   "codemirror_mode": {
    "name": "ipython",
    "version": 3
   },
   "file_extension": ".py",
   "mimetype": "text/x-python",
   "name": "python",
   "nbconvert_exporter": "python",
   "pygments_lexer": "ipython3",
   "version": "3.11.13"
  }
 },
 "nbformat": 4,
 "nbformat_minor": 5
}
