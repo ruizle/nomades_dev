{
 "cells": [
  {
   "cell_type": "markdown",
   "id": "a60b3d3dc04487e3",
   "metadata": {},
   "source": [
    "# Exercice Capstone – Company Sales\n",
    "\n",
    "## Objectifs\n",
    "- Lire deux CSV : `sales_data.csv` et `employee_data.csv`.\n",
    "- Calculer les ventes **par employé** puis **par département**.\n",
    "- Générer un rapport `report.csv` contenant `department,total_sales`.\n",
    "\n",
    "---\n",
    "\n",
    "### Consignes\n",
    "1. Lire le fichier `sales_data.csv` et agréger les ventes par employé.\n",
    "2. Lire le fichier `employee_data.csv` et créer un dictionnaire `employee_id → department`.\n",
    "3. Associer ventes et départements, puis agréger les ventes par département.\n",
    "4. Écrire un fichier `report.csv` contenant `department,total_sales`.\n",
    "5. (Bonus) Trier les départements par ventes décroissantes et écrire `report_sorted.csv`.\n",
    "\n",
    "⚠️ La gestion des erreurs sera traitée **dans la séance suivante (Exceptions)**."
   ]
  },
  {
   "cell_type": "markdown",
   "id": "5ad027e8a9339162",
   "metadata": {},
   "source": [
    "### Imports & chemins"
   ]
  },
  {
   "cell_type": "code",
   "execution_count": 4,
   "id": "22a5c9869b079161",
   "metadata": {
    "ExecuteTime": {
     "end_time": "2025-08-24T16:41:03.696821Z",
     "start_time": "2025-08-24T16:41:03.693152Z"
    }
   },
   "outputs": [],
   "source": [
    "from pathlib import Path\n",
    "import csv\n",
    "\n",
    "# TODO: définir les chemins des fichiers\n",
    "SALES_FILE = Path(\"./files/sales_data.csv\")\n",
    "EMPLOYEES_FILE = Path(\"./files/employee_data.csv\")\n",
    "REPORT_FILE = Path(\"./files/report.csv\")\n",
    "\n",
    "# Ce sont des chemins relatif, cela devrait fonctionner !"
   ]
  },
  {
   "cell_type": "markdown",
   "id": "3074198a4a78a7e7",
   "metadata": {},
   "source": [
    "### Lecture des CSV"
   ]
  },
  {
   "cell_type": "code",
   "execution_count": 31,
   "id": "682f71862fcb855d",
   "metadata": {},
   "outputs": [
    {
     "name": "stdout",
     "output_type": "stream",
     "text": [
      "[{'SalesID': '1', 'Date': '2023-10-28', 'Amount': '7121', 'EmployeeID': '6'}, {'SalesID': '2', 'Date': '2023-08-08', 'Amount': '4595', 'EmployeeID': '4'}, {'SalesID': '3', 'Date': '2023-04-28', 'Amount': '5826', 'EmployeeID': '2'}, {'SalesID': '4', 'Date': '2023-11-01', 'Amount': '6631', 'EmployeeID': '1'}, {'SalesID': '5', 'Date': '2023-06-22', 'Amount': '8408', 'EmployeeID': '1'}, {'SalesID': '6', 'Date': '2023-02-08', 'Amount': '6964', 'EmployeeID': '3'}, {'SalesID': '7', 'Date': '2023-05-04', 'Amount': '2591', 'EmployeeID': '5'}, {'SalesID': '8', 'Date': '2023-03-03', 'Amount': '5511', 'EmployeeID': '2'}, {'SalesID': '9', 'Date': '2023-10-17', 'Amount': '6924', 'EmployeeID': '5'}, {'SalesID': '10', 'Date': '2023-05-11', 'Amount': '2592', 'EmployeeID': '3'}, {'SalesID': '11', 'Date': '2023-01-11', 'Amount': '5828', 'EmployeeID': '3'}, {'SalesID': '12', 'Date': '2023-08-31', 'Amount': '5024', 'EmployeeID': '2'}, {'SalesID': '13', 'Date': '2023-10-19', 'Amount': '7142', 'EmployeeID': '2'}, {'SalesID': '14', 'Date': '2023-05-31', 'Amount': '2990', 'EmployeeID': '7'}, {'SalesID': '15', 'Date': '2023-12-21', 'Amount': '8962', 'EmployeeID': '1'}, {'SalesID': '16', 'Date': '2023-10-24', 'Amount': '1334', 'EmployeeID': '8'}, {'SalesID': '17', 'Date': '2023-05-29', 'Amount': '1555', 'EmployeeID': '10'}, {'SalesID': '18', 'Date': '2023-01-13', 'Amount': '3455', 'EmployeeID': '9'}, {'SalesID': '19', 'Date': '2023-01-04', 'Amount': '3841', 'EmployeeID': '4'}, {'SalesID': '20', 'Date': '2023-02-14', 'Amount': '4488', 'EmployeeID': '1'}, {'SalesID': '21', 'Date': '2023-05-31', 'Amount': '4816', 'EmployeeID': '3'}, {'SalesID': '22', 'Date': '2023-10-02', 'Amount': '2955', 'EmployeeID': '9'}, {'SalesID': '23', 'Date': '2023-07-11', 'Amount': '8569', 'EmployeeID': '8'}, {'SalesID': '24', 'Date': '2023-11-14', 'Amount': '7209', 'EmployeeID': '10'}, {'SalesID': '25', 'Date': '2023-10-30', 'Amount': '9001', 'EmployeeID': '7'}, {'SalesID': '26', 'Date': '2023-02-14', 'Amount': '3924', 'EmployeeID': '2'}, {'SalesID': '27', 'Date': '2023-04-10', 'Amount': '8528', 'EmployeeID': '2'}, {'SalesID': '28', 'Date': '2023-03-13', 'Amount': '6349', 'EmployeeID': '10'}, {'SalesID': '29', 'Date': '2023-09-18', 'Amount': '9235', 'EmployeeID': '9'}, {'SalesID': '30', 'Date': '2023-12-18', 'Amount': '7282', 'EmployeeID': '3'}, {'SalesID': '31', 'Date': '2023-03-26', 'Amount': '3944', 'EmployeeID': '2'}, {'SalesID': '32', 'Date': '2023-04-07', 'Amount': '7367', 'EmployeeID': '6'}, {'SalesID': '33', 'Date': '2023-09-20', 'Amount': '8365', 'EmployeeID': '5'}, {'SalesID': '34', 'Date': '2023-04-12', 'Amount': '9618', 'EmployeeID': '7'}, {'SalesID': '35', 'Date': '2023-05-15', 'Amount': '9569', 'EmployeeID': '9'}, {'SalesID': '36', 'Date': '2023-07-22', 'Amount': '4108', 'EmployeeID': '4'}, {'SalesID': '37', 'Date': '2023-12-12', 'Amount': '2137', 'EmployeeID': '7'}, {'SalesID': '38', 'Date': '2023-12-28', 'Amount': '1609', 'EmployeeID': '4'}, {'SalesID': '39', 'Date': '2023-06-08', 'Amount': '8750', 'EmployeeID': '5'}, {'SalesID': '40', 'Date': '2023-01-18', 'Amount': '7407', 'EmployeeID': '8'}, {'SalesID': '41', 'Date': '2023-05-15', 'Amount': '4414', 'EmployeeID': '9'}, {'SalesID': '42', 'Date': '2023-05-28', 'Amount': '6653', 'EmployeeID': '3'}, {'SalesID': '43', 'Date': '2023-02-01', 'Amount': '2026', 'EmployeeID': '4'}, {'SalesID': '44', 'Date': '2023-03-30', 'Amount': '7868', 'EmployeeID': '1'}, {'SalesID': '45', 'Date': '2023-12-17', 'Amount': '8175', 'EmployeeID': '3'}, {'SalesID': '46', 'Date': '2023-12-08', 'Amount': '6903', 'EmployeeID': '2'}, {'SalesID': '47', 'Date': '2023-11-18', 'Amount': '1815', 'EmployeeID': '6'}, {'SalesID': '48', 'Date': '2023-06-29', 'Amount': '5299', 'EmployeeID': '9'}, {'SalesID': '49', 'Date': '2023-08-19', 'Amount': '9405', 'EmployeeID': '5'}, {'SalesID': '50', 'Date': '2023-12-14', 'Amount': '7433', 'EmployeeID': '8'}, {'SalesID': '51', 'Date': '2023-10-21', 'Amount': '8685', 'EmployeeID': '8'}, {'SalesID': '52', 'Date': '2023-09-25', 'Amount': '7725', 'EmployeeID': '6'}, {'SalesID': '53', 'Date': '2023-10-28', 'Amount': '7362', 'EmployeeID': '4'}, {'SalesID': '54', 'Date': '2023-05-04', 'Amount': '2351', 'EmployeeID': '6'}, {'SalesID': '55', 'Date': '2023-11-16', 'Amount': '2487', 'EmployeeID': '9'}, {'SalesID': '56', 'Date': '2023-06-04', 'Amount': '9360', 'EmployeeID': '4'}, {'SalesID': '57', 'Date': '2023-12-30', 'Amount': '1202', 'EmployeeID': '9'}, {'SalesID': '58', 'Date': '2023-03-04', 'Amount': '3149', 'EmployeeID': '6'}, {'SalesID': '59', 'Date': '2023-05-31', 'Amount': '1999', 'EmployeeID': '4'}, {'SalesID': '60', 'Date': '2023-07-28', 'Amount': '8862', 'EmployeeID': '1'}, {'SalesID': '61', 'Date': '2023-09-05', 'Amount': '2246', 'EmployeeID': '6'}, {'SalesID': '62', 'Date': '2023-02-03', 'Amount': '1678', 'EmployeeID': '5'}, {'SalesID': '63', 'Date': '2023-07-05', 'Amount': '7322', 'EmployeeID': '3'}, {'SalesID': '64', 'Date': '2023-11-01', 'Amount': '1237', 'EmployeeID': '1'}, {'SalesID': '65', 'Date': '2023-07-05', 'Amount': '8851', 'EmployeeID': '5'}, {'SalesID': '66', 'Date': '2023-10-26', 'Amount': '3364', 'EmployeeID': '2'}, {'SalesID': '67', 'Date': '2023-07-07', 'Amount': '3070', 'EmployeeID': '3'}, {'SalesID': '68', 'Date': '2023-01-13', 'Amount': '5846', 'EmployeeID': '10'}, {'SalesID': '69', 'Date': '2023-04-26', 'Amount': '6163', 'EmployeeID': '4'}, {'SalesID': '70', 'Date': '2023-07-30', 'Amount': '4149', 'EmployeeID': '4'}, {'SalesID': '71', 'Date': '2023-04-09', 'Amount': '2376', 'EmployeeID': '1'}, {'SalesID': '72', 'Date': '2023-09-09', 'Amount': '3866', 'EmployeeID': '3'}, {'SalesID': '73', 'Date': '2023-01-28', 'Amount': '1226', 'EmployeeID': '7'}, {'SalesID': '74', 'Date': '2023-06-06', 'Amount': '3893', 'EmployeeID': '10'}, {'SalesID': '75', 'Date': '2023-03-14', 'Amount': '6754', 'EmployeeID': '6'}, {'SalesID': '76', 'Date': '2023-05-03', 'Amount': '6698', 'EmployeeID': '10'}, {'SalesID': '77', 'Date': '2023-03-21', 'Amount': '1851', 'EmployeeID': '9'}, {'SalesID': '78', 'Date': '2023-06-07', 'Amount': '6796', 'EmployeeID': '6'}, {'SalesID': '79', 'Date': '2023-07-30', 'Amount': '2591', 'EmployeeID': '7'}, {'SalesID': '80', 'Date': '2023-07-12', 'Amount': '8406', 'EmployeeID': '3'}, {'SalesID': '81', 'Date': '2023-04-25', 'Amount': '1106', 'EmployeeID': '10'}, {'SalesID': '82', 'Date': '2023-06-30', 'Amount': '7299', 'EmployeeID': '9'}, {'SalesID': '83', 'Date': '2023-03-29', 'Amount': '5822', 'EmployeeID': '6'}, {'SalesID': '84', 'Date': '2023-07-26', 'Amount': '9671', 'EmployeeID': '8'}, {'SalesID': '85', 'Date': '2023-08-05', 'Amount': '3053', 'EmployeeID': '3'}, {'SalesID': '86', 'Date': '2023-10-08', 'Amount': '9505', 'EmployeeID': '8'}, {'SalesID': '87', 'Date': '2023-02-22', 'Amount': '8152', 'EmployeeID': '3'}, {'SalesID': '88', 'Date': '2023-01-28', 'Amount': '3648', 'EmployeeID': '6'}, {'SalesID': '89', 'Date': '2023-06-13', 'Amount': '8742', 'EmployeeID': '8'}, {'SalesID': '90', 'Date': '2023-01-29', 'Amount': '4533', 'EmployeeID': '5'}, {'SalesID': '91', 'Date': '2023-11-18', 'Amount': '9616', 'EmployeeID': '5'}, {'SalesID': '92', 'Date': '2023-10-08', 'Amount': '9705', 'EmployeeID': '7'}, {'SalesID': '93', 'Date': '2023-11-16', 'Amount': '8828', 'EmployeeID': '7'}, {'SalesID': '94', 'Date': '2023-10-15', 'Amount': '9862', 'EmployeeID': '6'}, {'SalesID': '95', 'Date': '2023-08-08', 'Amount': '4442', 'EmployeeID': '2'}, {'SalesID': '96', 'Date': '2023-01-07', 'Amount': '8688', 'EmployeeID': '1'}, {'SalesID': '97', 'Date': '2023-01-22', 'Amount': '4729', 'EmployeeID': '4'}, {'SalesID': '98', 'Date': '2023-10-13', 'Amount': '5943', 'EmployeeID': '3'}, {'SalesID': '99', 'Date': '2023-12-15', 'Amount': '2717', 'EmployeeID': '3'}, {'SalesID': '100', 'Date': '2023-01-05', 'Amount': '1460', 'EmployeeID': '5'}]\n",
      "[{'EmployeeID': '1', 'Name': 'Sophia Hall', 'Department': 'Sales', 'Salary': '5441'}, {'EmployeeID': '2', 'Name': 'John Hall', 'Department': 'Operations', 'Salary': '3193'}, {'EmployeeID': '3', 'Name': 'John Clark', 'Department': 'Customer Service', 'Salary': '6715'}, {'EmployeeID': '4', 'Name': 'Daniel Lee', 'Department': 'Operations', 'Salary': '5251'}, {'EmployeeID': '5', 'Name': 'Sophia Smith', 'Department': 'Finance', 'Salary': '7712'}, {'EmployeeID': '6', 'Name': 'Sophia Johnson', 'Department': 'Customer Service', 'Salary': '6238'}, {'EmployeeID': '7', 'Name': 'Charlie Johnson', 'Department': 'IT', 'Salary': '7008'}, {'EmployeeID': '8', 'Name': 'Jacob Lee', 'Department': 'Finance', 'Salary': '3875'}, {'EmployeeID': '9', 'Name': 'Emma Smith', 'Department': 'Customer Service', 'Salary': '4224'}, {'EmployeeID': '10', 'Name': 'Sophia Brown', 'Department': 'IT', 'Salary': '6528'}]\n"
     ]
    }
   ],
   "source": [
    "# TODO: implémenter une fonction read_csv_rows(path: Path) -> list[dict]\n",
    "# Utiliser csv.DictReader\n",
    "def read_csv_rows(path_file: Path) -> list[dict]:\n",
    "    ''' En entrée un fichier csv. En sortie une lise contenant un dict par élément '''\n",
    "    list_dict = []\n",
    "    with open(path_file, mode='r') as file:\n",
    "        buffer = csv.DictReader(file, delimiter=',')\n",
    "        # print(\"buffer=\",buffer)\n",
    "        for row in buffer:\n",
    "            # print(\"row=\",row)\n",
    "            list_dict.append(row)\n",
    "    return list_dict\n",
    "\n",
    "# Main\n",
    "sales_list = read_csv_rows(SALES_FILE)\n",
    "print(sales_list)\n",
    "\n",
    "employee_list = read_csv_rows(EMPLOYEES_FILE)\n",
    "print(employee_list)"
   ]
  },
  {
   "cell_type": "markdown",
   "id": "b777292af002efbb",
   "metadata": {},
   "source": [
    "### Ventes par employé"
   ]
  },
  {
   "cell_type": "code",
   "execution_count": null,
   "id": "de7de135c0724373",
   "metadata": {},
   "outputs": [],
   "source": [
    "# TODO: implémenter aggregate_sales_by_employee(rows: list[dict]) -> dict[str, float]\n",
    "# Agréger les montants par employee_id               Ou pour un employee_id  donné ?\n",
    "def aggregate_sales_by_employee(rows: list[dict]) -> dict[str, float]:\n",
    "    ventes_employee = {}\n",
    "    for row in rows:\n",
    "        print(\"row=\",row)\n",
    "        print(\"EmployeeID=\",row['EmployeeID'], \"Amount=\", row['Amount'])\n",
    "        # employee_id = row['EmployeeID']\n",
    "        ventes_employee = row['EmployeeID']\n",
    "        ventes_employee ['EmployeeID'] += int(row['Amount'])\n",
    "    return ventes_employee\n",
    "\n",
    "#print(aggregate_sales_by_employee(sales_list))\n",
    "#print(employee_list)"
   ]
  },
  {
   "cell_type": "markdown",
   "id": "52b73382f8a36bc7",
   "metadata": {},
   "source": [
    "### Index employé → département"
   ]
  },
  {
   "cell_type": "code",
   "execution_count": null,
   "id": "2f85c040da0494d",
   "metadata": {},
   "outputs": [],
   "source": [
    "# TODO: implémenter build_employee_department_index(rows: list[dict]) -> dict[str, str]\n",
    "# Construire un dictionnaire {employee_id: department}\n"
   ]
  },
  {
   "cell_type": "markdown",
   "id": "b1325bcb663e3a94",
   "metadata": {},
   "source": [
    "### Ventes par département"
   ]
  },
  {
   "cell_type": "code",
   "execution_count": null,
   "id": "4f01a900308008e3",
   "metadata": {},
   "outputs": [],
   "source": [
    "# TODO: implémenter aggregate_sales_by_department(sales_by_emp: dict[str, float], emp_to_dept: dict[str, str]) -> dict[str, float]\n",
    "# Agréger les ventes par département"
   ]
  },
  {
   "cell_type": "markdown",
   "id": "c6a615b45355646",
   "metadata": {},
   "source": [
    "### Écriture du rapport"
   ]
  },
  {
   "cell_type": "code",
   "execution_count": null,
   "id": "48c47368bb46a965",
   "metadata": {},
   "outputs": [],
   "source": [
    "# TODO: implémenter write_report(path: Path, dept_totals: dict[str, float])\n",
    "# Écrire un CSV department,total_sales\n"
   ]
  },
  {
   "cell_type": "markdown",
   "id": "725dafdff6044d3c",
   "metadata": {},
   "source": [
    "### Vérifications"
   ]
  },
  {
   "cell_type": "code",
   "execution_count": null,
   "id": "4166c5b366ff950a",
   "metadata": {},
   "outputs": [],
   "source": [
    "# TODO: vérifier que report.csv existe et contient au moins un header + 1 ligne\n"
   ]
  },
  {
   "cell_type": "markdown",
   "id": "69213588355ad55b",
   "metadata": {},
   "source": [
    "## Bonus\n",
    "- Trier les départements par ventes décroissantes.\n",
    "- Sauvegarder dans un fichier `report_sorted.csv`.\n",
    "- (Optionnel) Si matplotlib est installé, tracer un bar chart des ventes.\n"
   ]
  }
 ],
 "metadata": {
  "kernelspec": {
   "display_name": "nomades_PPL",
   "language": "python",
   "name": "python3"
  },
  "language_info": {
   "codemirror_mode": {
    "name": "ipython",
    "version": 3
   },
   "file_extension": ".py",
   "mimetype": "text/x-python",
   "name": "python",
   "nbconvert_exporter": "python",
   "pygments_lexer": "ipython3",
   "version": "3.11.13"
  }
 },
 "nbformat": 4,
 "nbformat_minor": 5
}
