{
 "cells": [
  {
   "cell_type": "markdown",
   "id": "96eac8aac3d34b50",
   "metadata": {},
   "source": [
    "# Exceptions\n",
    "\n",
    "Objectifs\n",
    "- Gérer les erreurs classiques en Python avec `try/except/(else/finally)`.\n",
    "- Écrire des messages d'erreur clairs et *ciblés* (pas de `except Exception` global).\n",
    "\n",
    "Exos :\n",
    "1) Division sécurisée `safe_divide(a, b)`\n",
    "2) Lecture fichier inexistant `read_text_file(path)`"
   ]
  },
  {
   "cell_type": "markdown",
   "id": "70639166407cabbc",
   "metadata": {},
   "source": [
    "## Exercice 1 — Division sécurisée\n",
    "\n",
    "Écrire une fonction `safe_divide(a, b)` qui :\n",
    "- retourne `a / b` si possible\n",
    "- retourne `None` (ou un message) si `b == 0`\n",
    "- ne doit pas crasher sur une erreur simple"
   ]
  },
  {
   "cell_type": "code",
   "execution_count": null,
   "id": "7b7fcd46",
   "metadata": {},
   "outputs": [
    {
     "ename": "SyntaxError",
     "evalue": "invalid syntax (1332337581.py, line 3)",
     "output_type": "error",
     "traceback": [
      "  \u001b[36mCell\u001b[39m\u001b[36m \u001b[39m\u001b[32mIn[10]\u001b[39m\u001b[32m, line 3\u001b[39m\n\u001b[31m    \u001b[39m\u001b[31mdef safe_divide(a: float, b: float): -> float | None\u001b[39m\n                                         ^\n\u001b[31mSyntaxError\u001b[39m\u001b[31m:\u001b[39m invalid syntax\n"
     ]
    }
   ],
   "source": [
    "# TODO: implémenter safe_divide(a, b) -> float | None.\n",
    "# Version  \"manuelle\" avec if\n",
    "def safe_divide(a: float, b: float) -> float | None:\n",
    "    if b == 0:\n",
    "        print(\"b est à 0, la division est impossible.\")\n",
    "        return None\n",
    "    return a / b\n",
    "\n",
    "# TODO: Tests simples\n",
    "print(\"1\",safe_divide(10, 2))   # attendu: 5.0\n",
    "print(\"2\",safe_divide(10, 0))   # attendu: None\n",
    "print(\"3\",safe_divide(10, 'z'))   # "
   ]
  },
  {
   "cell_type": "code",
   "execution_count": 2,
   "id": "a6a4331b3ca01baa",
   "metadata": {},
   "outputs": [
    {
     "name": "stdout",
     "output_type": "stream",
     "text": [
      "1 5.0\n",
      "La division est impossible, car b est à 0 !\n",
      "2 None\n",
      "Valeur invalide\n"
     ]
    },
    {
     "ename": "TypeError",
     "evalue": "unsupported operand type(s) for /: 'int' and 'str'",
     "output_type": "error",
     "traceback": [
      "\u001b[31m---------------------------------------------------------------------------\u001b[39m",
      "\u001b[31mTypeError\u001b[39m                                 Traceback (most recent call last)",
      "\u001b[36mCell\u001b[39m\u001b[36m \u001b[39m\u001b[32mIn[2]\u001b[39m\u001b[32m, line 16\u001b[39m\n\u001b[32m     14\u001b[39m \u001b[38;5;28mprint\u001b[39m(\u001b[33m\"\u001b[39m\u001b[33m1\u001b[39m\u001b[33m\"\u001b[39m,safe_divide(\u001b[32m10\u001b[39m, \u001b[32m2\u001b[39m))   \u001b[38;5;66;03m# attendu: 5.0\u001b[39;00m\n\u001b[32m     15\u001b[39m \u001b[38;5;28mprint\u001b[39m(\u001b[33m\"\u001b[39m\u001b[33m2\u001b[39m\u001b[33m\"\u001b[39m,safe_divide(\u001b[32m10\u001b[39m, \u001b[32m0\u001b[39m))   \u001b[38;5;66;03m# attendu: None\u001b[39;00m\n\u001b[32m---> \u001b[39m\u001b[32m16\u001b[39m \u001b[38;5;28mprint\u001b[39m(\u001b[33m\"\u001b[39m\u001b[33m3\u001b[39m\u001b[33m\"\u001b[39m,safe_divide(\u001b[32m10\u001b[39m, \u001b[33m'\u001b[39m\u001b[33mz\u001b[39m\u001b[33m'\u001b[39m))\n",
      "\u001b[36mCell\u001b[39m\u001b[36m \u001b[39m\u001b[32mIn[2]\u001b[39m\u001b[32m, line 11\u001b[39m, in \u001b[36msafe_divide\u001b[39m\u001b[34m(a, b)\u001b[39m\n\u001b[32m      9\u001b[39m \u001b[38;5;28;01mexcept\u001b[39;00m:\n\u001b[32m     10\u001b[39m     \u001b[38;5;28mprint\u001b[39m(\u001b[33m\"\u001b[39m\u001b[33mValeur invalide\u001b[39m\u001b[33m\"\u001b[39m)\n\u001b[32m---> \u001b[39m\u001b[32m11\u001b[39m \u001b[38;5;28;01mreturn\u001b[39;00m a / b\n",
      "\u001b[31mTypeError\u001b[39m: unsupported operand type(s) for /: 'int' and 'str'"
     ]
    }
   ],
   "source": [
    "# TODO: implémenter safe_divide(a, b) -> float | None\n",
    "def safe_divide(a: float, b: float) -> float | None:\n",
    "    # TODO\n",
    "    try:\n",
    "      a / b\n",
    "    except ZeroDivisionError:\n",
    "        print(\"La division est impossible, car b est à 0 !\")\n",
    "        return None\n",
    "    except:\n",
    "        print(\"Valeur invalide\")\n",
    "    return a / b\n",
    "\n",
    "# TODO: Tests simples\n",
    "print(\"1\",safe_divide(10, 2))   # attendu: 5.0\n",
    "print(\"2\",safe_divide(10, 0))   # attendu: None\n",
    "print(\"3\",safe_divide(10, 'z'))   # "
   ]
  },
  {
   "cell_type": "markdown",
   "id": "c20b7ddc0305c073",
   "metadata": {},
   "source": [
    "## Exercice 2 — Lecture fichier inexistant\n",
    "\n",
    "Écrire une fonction `read_text_file(path)` qui :\n",
    "- ouvre un fichier texte et renvoie son contenu\n",
    "- si le fichier n'existe pas → retourne `None` au lieu de crasher\n",
    "- utiliser `with open(..., encoding=\"utf-8\")`"
   ]
  },
  {
   "cell_type": "code",
   "execution_count": 9,
   "id": "a0afb843626aaa0",
   "metadata": {},
   "outputs": [],
   "source": [
    "from pathlib import Path\n",
    "\n",
    "# TODO: implémenter read_text_file(path: Path) -> str | None\n",
    "def read_text_file(path: Path):\n",
    "    # TODO\n",
    "    pass\n",
    "\n",
    "# TODO: tests\n",
    "# print(read_text_file(Path(\"fichier_qui_n_existe_pas.txt\")))  # attendu: None\n",
    "# Path(\"demo.txt\").write_text(\"hello\", encoding=\"utf-8\")\n",
    "# print(read_text_file(Path(\"demo.txt\")))  # attendu: \"hello\""
   ]
  },
  {
   "cell_type": "markdown",
   "id": "c4b072a50677c6ff",
   "metadata": {},
   "source": [
    "## Mini-challenge (optionnel)\n",
    "\n",
    "- Améliorer `safe_divide` pour accepter aussi des **str** en entrée :\n",
    "  - convertir en float si possible\n",
    "  - sinon retourner None\n",
    "- Dans `read_text_file`, ajouter un `finally` qui affiche `\"done\"` à chaque appel.\n"
   ]
  },
  {
   "cell_type": "code",
   "execution_count": null,
   "id": "184503eb564c6a7a",
   "metadata": {},
   "outputs": [],
   "source": []
  }
 ],
 "metadata": {
  "kernelspec": {
   "display_name": "nomades_PPL",
   "language": "python",
   "name": "python3"
  },
  "language_info": {
   "codemirror_mode": {
    "name": "ipython",
    "version": 3
   },
   "file_extension": ".py",
   "mimetype": "text/x-python",
   "name": "python",
   "nbconvert_exporter": "python",
   "pygments_lexer": "ipython3",
   "version": "3.11.13"
  }
 },
 "nbformat": 4,
 "nbformat_minor": 5
}
