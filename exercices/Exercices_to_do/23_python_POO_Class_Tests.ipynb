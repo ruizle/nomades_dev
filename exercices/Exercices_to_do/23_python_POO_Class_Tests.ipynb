{
 "cells": [
  {
   "cell_type": "code",
   "execution_count": 1,
   "id": "27a976d3",
   "metadata": {},
   "outputs": [
    {
     "name": "stdout",
     "output_type": "stream",
     "text": [
      "Caractéristiques de la voiture :\n",
      " - Marque    : Toyota\n",
      " - Modèle    : \n",
      " - Couleur   : rouge\n",
      " - Cylindrée : None\n",
      " - Prix      : 1.0\n",
      "\n",
      "voiture_1.__prix: 10000.0\n",
      "voiture_1.__prix: 1.0\n",
      "\n",
      "voiture_1.__prix: 2000\n"
     ]
    }
   ],
   "source": [
    "class Voiture:\n",
    "    # Attributs\n",
    "    marque:str = ''\n",
    "    modele:str = ''\n",
    "    couleur:str = ''\n",
    "    cylindree:float = None\n",
    "    __prix:float = None\n",
    "\n",
    "    # Méthodes\n",
    "    def __init__(self, marque='Inconnue',modele='Inconnu',couleur='Inconnue',cylindree=None):\n",
    "        self.marque = marque\n",
    "        self.modele = modele\n",
    "        self.couleur = couleur\n",
    "        self.cylindree = cylindree\n",
    "        self.__prix = 1.0\n",
    "\n",
    "    def affiche_details(self):\n",
    "        print(\"Caractéristiques de la voiture :\")\n",
    "        print(\" - Marque    :\",self.marque)\n",
    "        print(\" - Modèle    :\",self.modele)\n",
    "        print(\" - Couleur   :\",self.couleur)\n",
    "        print(\" - Cylindrée :\",self.cylindree)\n",
    "        print(\" - Prix      :\",self.__prix)\n",
    "\n",
    "    def set_prix(self, prix:float):\n",
    "        self.__prix = prix\n",
    "\n",
    "    def get_prix(self) -> float:\n",
    "        return self.__prix\n",
    "\n",
    "# Main\n",
    "voiture_1 = Voiture('Toyota','','rouge')\n",
    "voiture_1.__prix = 10000.0    # N'assigne pas à l'attribut privé de l'objet !   Mais l'a tout de même en mémoire (globale) !\n",
    "voiture_1.affiche_details()\n",
    "print()\n",
    "print(\"voiture_1.__prix:\",voiture_1.__prix)\n",
    "print(\"voiture_1.__prix:\",voiture_1. get_prix())\n",
    "print()\n",
    "voiture_1.set_prix(2000)\n",
    "print(\"voiture_1.__prix:\",voiture_1. get_prix())"
   ]
  },
  {
   "cell_type": "code",
   "execution_count": null,
   "id": "b60d1e5c",
   "metadata": {},
   "outputs": [],
   "source": []
  }
 ],
 "metadata": {
  "kernelspec": {
   "display_name": "nomades_PPL",
   "language": "python",
   "name": "python3"
  },
  "language_info": {
   "codemirror_mode": {
    "name": "ipython",
    "version": 3
   },
   "file_extension": ".py",
   "mimetype": "text/x-python",
   "name": "python",
   "nbconvert_exporter": "python",
   "pygments_lexer": "ipython3",
   "version": "3.11.13"
  }
 },
 "nbformat": 4,
 "nbformat_minor": 5
}
