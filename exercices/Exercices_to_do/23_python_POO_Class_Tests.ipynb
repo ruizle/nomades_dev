{
 "cells": [
  {
   "cell_type": "code",
   "execution_count": null,
   "id": "27a976d3",
   "metadata": {},
   "outputs": [
    {
     "name": "stdout",
     "output_type": "stream",
     "text": [
      "Caractéristiques de la voiture :\n",
      " - Marque    : I\n",
      " - Modèle    : \n",
      " - Couleur   : \n",
      " - Cylindrée : 0\n",
      " - Prix      : 10\n",
      "\n",
      "voiture_1.__prix: 10000.0\n"
     ]
    }
   ],
   "source": [
    "class Voiture:\n",
    "    # Attributs\n",
    "    marque =''\n",
    "    modele = ''\n",
    "    couleur = ''\n",
    "    cylindree = 0\n",
    "    __prix = 0.0\n",
    "\n",
    "    # Méthodes\n",
    "    def __init__(self):\n",
    "        self.__prix = 10\n",
    "\n",
    "    def affiche_details(self):\n",
    "        print(\"Caractéristiques de la voiture :\")\n",
    "        print(\" - Marque    :\",self.marque)\n",
    "        print(\" - Modèle    :\",self.modele)\n",
    "        print(\" - Couleur   :\",self.couleur)\n",
    "        print(\" - Cylindrée :\",self.cylindree)\n",
    "        print(\" - Prix      :\",self.__prix)\n",
    "\n",
    "# Main\n",
    "voiture_1 = Voiture()\n",
    "voiture_1.__prix = 10000.0    # N'assigne pas à l'attribut privé de l'objet !  \n",
    "voiture_1.affiche_details()\n",
    "print()\n",
    "print(\"voiture_1.__prix:\",voiture_1.__prix)"
   ]
  }
 ],
 "metadata": {
  "kernelspec": {
   "display_name": "nomades_PPL",
   "language": "python",
   "name": "python3"
  },
  "language_info": {
   "codemirror_mode": {
    "name": "ipython",
    "version": 3
   },
   "file_extension": ".py",
   "mimetype": "text/x-python",
   "name": "python",
   "nbconvert_exporter": "python",
   "pygments_lexer": "ipython3",
   "version": "3.11.13"
  }
 },
 "nbformat": 4,
 "nbformat_minor": 5
}
