{
 "cells": [
  {
   "cell_type": "markdown",
   "id": "fb6583207f7b66ef",
   "metadata": {},
   "source": [
    "## Objectifs\n",
    "- Comprendre objets, classes, attributs, méthodes.\n",
    "- Implémenter `__init__` et `__repr__`.\n",
    "- Structurer un projet en plusieurs classes (Snake v1)."
   ]
  },
  {
   "cell_type": "markdown",
   "id": "eccee9dd29e58b9d",
   "metadata": {},
   "source": [
    "## Micro-exo 1 — BankAccount\n",
    "Implémentez une classe `BankAccount` :\n",
    "- Attributs : `owner: str`, `balance: float = 0.0`\n",
    "- Méthodes :\n",
    "  - `deposit(amount: float) -> None`\n",
    "  - `withdraw(amount: float) -> None` (refuse si `amount` > `balance`)\n",
    "- `__repr__` lisible, ex: `BankAccount(owner='Alice', balance=100.0)`\n",
    "\n",
    "> Pas d’exceptions avancées aujourd’hui. Validez avec de petits tests.\n"
   ]
  },
  {
   "cell_type": "code",
   "execution_count": null,
   "id": "648d46f5131f4ed4",
   "metadata": {
    "ExecuteTime": {
     "end_time": "2025-08-26T14:29:07.057609Z",
     "start_time": "2025-08-26T14:29:07.052962Z"
    }
   },
   "outputs": [
    {
     "name": "stdout",
     "output_type": "stream",
     "text": [
      "BankAccount: owner=Alice, balance=65.0\n"
     ]
    }
   ],
   "source": [
    "# TODO: implémenter BankAccount (sans exceptions avancées)\n",
    "class BankAccount:\n",
    "    def __init__(self, owner: str, balance: float = 0.0):\n",
    "        # TODO: initialiser les attributs\n",
    "        self.__owner = owner\n",
    "        self.__balance = balance\n",
    "\n",
    "    def deposit(self, amount: float) -> None:\n",
    "        # TODO: ajouter au solde\n",
    "        self.__balance += amount\n",
    "\n",
    "    def withdraw(self, amount: float) -> None:\n",
    "        # TODO: retirer si possible, sinon ignorer (ou message simple)\n",
    "        if self.__balance >= amount:\n",
    "            self.__balance -= amount\n",
    "        else:\n",
    "            print(\"Impossible de retirer plus de\",self.balance)\n",
    "\n",
    "    def __repr__(self) -> str:\n",
    "        # TODO: représentation lisible pour débogage\n",
    "        return 'BankAccount: owner=' + self.__owner + ', balance=' + str(self.__balance)\n",
    "\n",
    "# TODO: tests simples (décommentez pour vérifier)\n",
    "acc = BankAccount(\"Alice\", 50.0)\n",
    "acc.deposit(25)\n",
    "acc.withdraw(10)\n",
    "print(acc)  # attendu: BankAccount(owner='Alice', balance=65.0)"
   ]
  },
  {
   "cell_type": "markdown",
   "id": "2d2862a241270154",
   "metadata": {},
   "source": [
    "## Mini-challenge — Rectangle\n",
    "Créez une classe `Rectangle` :\n",
    "- Attributs : `width: float`, `height: float`\n",
    "- Méthodes :\n",
    "  - `area() -> float` (surface)\n",
    "- `__repr__` lisible, ex: `Rectangle(3.0, 4.0)`\n",
    "\n",
    "> Testez 2–3 cas rapides.\n"
   ]
  },
  {
   "cell_type": "code",
   "execution_count": 3,
   "id": "feeb30fc661bb4f5",
   "metadata": {
    "ExecuteTime": {
     "end_time": "2025-08-26T14:30:13.673549Z",
     "start_time": "2025-08-26T14:30:13.669464Z"
    }
   },
   "outputs": [
    {
     "name": "stdout",
     "output_type": "stream",
     "text": [
      "Rectangle : width=3.0, height=4.0\n"
     ]
    }
   ],
   "source": [
    "# TODO: implémenter Rectangle\n",
    "class Rectangle:\n",
    "    def __init__(self, width: float, height: float):\n",
    "        # TODO\n",
    "        self.__width = width\n",
    "        self.__height = height\n",
    "\n",
    "    def area(self) -> float:\n",
    "        # TODO\n",
    "        return self.__width * self.__height\n",
    "\n",
    "    def __repr__(self) -> str:\n",
    "        # TODO\n",
    "        return 'Rectangle : width=' + str(self.__width) + ', height=' + str(self.__height)\n",
    "\n",
    "# TODO: tests simples (décommentez pour vérifier)\n",
    "r = Rectangle(3.0, 4.0)\n",
    "assert r.area() == 12.0\n",
    "print(r)  # attendu: Rectangle(3.0, 4.0)\n"
   ]
  },
  {
   "cell_type": "markdown",
   "id": "1dba65c7",
   "metadata": {},
   "source": [
    "# J4 — POO (2e partie) — Exos (sans capstone)\n",
    "\n",
    "Objectifs\n",
    "- Encapsulation : attributs internes + `@property`.\n",
    "- Héritage & polymorphisme : classe de base + classes dérivées.\n",
    "- Représentations : `__repr__` vs `__str__`.\n",
    "- (Optionnel) `@classmethod` & `@staticmethod`.\n",
    "\n",
    "Chaque exo a un squelette `TODO` + quelques tests à décommenter.\n",
    "\n"
   ]
  },
  {
   "cell_type": "markdown",
   "id": "c4bb24a4",
   "metadata": {},
   "source": [
    "## Exercice 1 — Encapsulation avec `@property`\n",
    "\n",
    "Implémentez `BankAccount` :\n",
    "- attributs : `owner: str`, `_balance: float = 0.0`\n",
    "- propriété **lecture seule** `balance`\n",
    "- `deposit(amount)` : refuse `amount ≤ 0`\n",
    "- `withdraw(amount)` : refuse `amount ≤ 0` et `amount > balance`\n",
    "- `__repr__` lisible\n",
    "\n",
    "> Pas d'exceptions avancées ici (focus POO).\n"
   ]
  },
  {
   "cell_type": "code",
   "execution_count": null,
   "id": "ff1e8db5",
   "metadata": {},
   "outputs": [],
   "source": [
    "class BankAccount:\n",
    "    def __init__(self, owner: str, balance: float = 0.0):\n",
    "        # TODO: owner (public), _balance (interne)\n",
    "        pass\n",
    "\n",
    "    @property\n",
    "    def balance(self) -> float:\n",
    "        # TODO: lecture de _balance\n",
    "        pass\n",
    "\n",
    "    def deposit(self, amount: float) -> None:\n",
    "        # TODO: + validations\n",
    "        pass\n",
    "\n",
    "    def withdraw(self, amount: float) -> None:\n",
    "        # TODO: + validations\n",
    "        pass\n",
    "\n",
    "    def __repr__(self) -> str:\n",
    "        # TODO: ex: BankAccount(owner='Alice', balance=130.00)\n",
    "        pass\n",
    "\n",
    "# # tests (décommentez)\n",
    "# acc = BankAccount(\"Alice\", 100)\n",
    "# acc.deposit(50); acc.withdraw(20)\n",
    "# print(acc.balance)   # 130.0\n",
    "# print(acc)\n"
   ]
  },
  {
   "cell_type": "markdown",
   "id": "fb278509",
   "metadata": {},
   "source": [
    "## Exercice 2 — Héritage & Polymorphisme\n",
    "\n",
    "- Classe de base `Shape` avec méthode `area()` (non implémentée).\n",
    "- `Circle(radius)` et `Square(side)` héritent de `Shape` et implémentent `area()`.\n",
    "- Construire une liste mixte de formes et sommer les aires.\n"
   ]
  },
  {
   "cell_type": "code",
   "execution_count": null,
   "id": "d869f364",
   "metadata": {},
   "outputs": [],
   "source": [
    "import math\n",
    "\n",
    "class Shape:\n",
    "    def area(self) -> float:\n",
    "        # TODO: lever NotImplementedError\n",
    "        pass\n",
    "\n",
    "class Circle(Shape):\n",
    "    def __init__(self, radius: float):\n",
    "        # TODO\n",
    "        pass\n",
    "    def area(self) -> float:\n",
    "        # TODO\n",
    "        pass\n",
    "    def __repr__(self) -> str:\n",
    "        # optionnel\n",
    "        return f\"Circle(?)\"\n",
    "\n",
    "class Square(Shape):\n",
    "    def __init__(self, side: float):\n",
    "        # TODO\n",
    "        pass\n",
    "    def area(self) -> float:\n",
    "        # TODO\n",
    "        pass\n",
    "    def __repr__(self) -> str:\n",
    "        # optionnel\n",
    "        return f\"Square(?)\"\n",
    "\n",
    "# # tests (décommentez)\n",
    "# shapes = [Circle(1.0), Square(2.0)]\n",
    "# total = sum(s.area() for s in shapes)\n",
    "# print(round(total, 4))   # ~ 7.1416\n"
   ]
  },
  {
   "cell_type": "markdown",
   "id": "20228269",
   "metadata": {},
   "source": [
    "## Exercice 3 — `__repr__` vs `__str__`\n",
    "\n",
    "- Créez une classe `Product(name, price)`.\n",
    "- `__repr__` → non ambigu, utilisable pour le debug (tous les champs).\n",
    "- `__str__` → user-friendly (ex: \"Laptop — 1299.00 CHF\").\n",
    "\n",
    "> Montrez la différence avec `print(obj)` vs `obj` dans une liste.\n"
   ]
  },
  {
   "cell_type": "code",
   "execution_count": null,
   "id": "7d8f0ea0",
   "metadata": {},
   "outputs": [],
   "source": [
    "class Product:\n",
    "    def __init__(self, name: str, price: float):\n",
    "        # TODO\n",
    "        pass\n",
    "\n",
    "    def __repr__(self) -> str:\n",
    "        # TODO: format non ambigu\n",
    "        pass\n",
    "\n",
    "    def __str__(self) -> str:\n",
    "        # TODO: format lisible user\n",
    "        pass\n",
    "\n",
    "# # tests (décommentez)\n",
    "# p = Product(\"Laptop\", 1299)\n",
    "# print(repr(p))\n",
    "# print(str(p))\n",
    "# print([p])\n"
   ]
  },
  {
   "cell_type": "markdown",
   "id": "6cce7f1d",
   "metadata": {},
   "source": [
    "## Exercice 4 — `@classmethod` & `@staticmethod` (optionnel)\n",
    "\n",
    "- Ajoutez à `Product` :\n",
    "  - `@classmethod from_string(\"Name,Price\")` → construit un `Product`\n",
    "  - `@staticmethod is_valid_price(x)` → True si `x >= 0` (float convertible)\n",
    "\n",
    "Testez la construction depuis une ligne CSV simple.\n"
   ]
  },
  {
   "cell_type": "code",
   "execution_count": null,
   "id": "2cafa4f6",
   "metadata": {},
   "outputs": [],
   "source": [
    "class Product:\n",
    "    # Reprenez votre classe précédente et complétez :\n",
    "    @classmethod\n",
    "    def from_string(cls, s: str) -> \"Product\":\n",
    "        # TODO: parse \"Name,Price\"\n",
    "        pass\n",
    "\n",
    "    @staticmethod\n",
    "    def is_valid_price(x) -> bool:\n",
    "        # TODO: convertible en float et >= 0\n",
    "        pass\n",
    "\n",
    "# # tests (décommentez)\n",
    "# p2 = Product.from_string(\"Mouse,29.9\")\n",
    "# print(p2)\n",
    "# print(Product.is_valid_price(\"10\"), Product.is_valid_price(\"-5\"))\n"
   ]
  },
  {
   "cell_type": "markdown",
   "id": "96a88106",
   "metadata": {},
   "source": [
    "## Mini-challenge (optionnel)\n",
    "\n",
    "- Créez `SavingAccount(BankAccount)` avec un `interest_rate` (ex: 2.0 %).\n",
    "- Ajoutez `apply_interest()` qui augmente `_balance`.\n",
    "- Montrez le polymorphisme : `acc.apply_interest()` disponible sur `SavingAccount` mais pas sur `BankAccount`.\n"
   ]
  },
  {
   "cell_type": "code",
   "execution_count": null,
   "id": "7b096fc6",
   "metadata": {},
   "outputs": [],
   "source": [
    "class BankAccount:\n",
    "    def __init__(self, owner: str, balance: float = 0.0):\n",
    "        self.owner = owner\n",
    "        self._balance = float(balance)\n",
    "\n",
    "    @property\n",
    "    def balance(self) -> float:\n",
    "        return self._balance\n",
    "\n",
    "    def deposit(self, amount: float) -> None:\n",
    "        if amount is None:\n",
    "            return\n",
    "        amount = float(amount)\n",
    "        if amount <= 0:\n",
    "            return\n",
    "        self._balance += amount\n",
    "\n",
    "    def withdraw(self, amount: float) -> None:\n",
    "        if amount is None:\n",
    "            return\n",
    "        amount = float(amount)\n",
    "        if amount <= 0 or amount > self._balance:\n",
    "            return\n",
    "        self._balance -= amount\n",
    "\n",
    "    def __repr__(self) -> str:\n",
    "        return f\"BankAccount(owner={self.owner!r}, balance={self._balance:.2f})\"\n",
    "\n",
    "# tests\n",
    "acc = BankAccount(\"Alice\", 100)\n",
    "acc.deposit(50); acc.withdraw(20)\n",
    "assert abs(acc.balance - 130.0) < 1e-9\n",
    "print(\"✅ Encapsulation OK:\", acc)\n"
   ]
  },
  {
   "cell_type": "code",
   "execution_count": null,
   "id": "c941b74f",
   "metadata": {},
   "outputs": [],
   "source": [
    "import math\n",
    "\n",
    "class Shape:\n",
    "    def area(self) -> float:\n",
    "        raise NotImplementedError(\"area() must be implemented by subclasses\")\n",
    "\n",
    "class Circle(Shape):\n",
    "    def __init__(self, radius: float):\n",
    "        self.radius = float(radius)\n",
    "    def area(self) -> float:\n",
    "        return math.pi * self.radius ** 2\n",
    "    def __repr__(self) -> str:\n",
    "        return f\"Circle(radius={self.radius:.2f})\"\n",
    "\n",
    "class Square(Shape):\n",
    "    def __init__(self, side: float):\n",
    "        self.side = float(side)\n",
    "    def area(self) -> float:\n",
    "        return self.side * self.side\n",
    "    def __repr__(self) -> str:\n",
    "        return f\"Square(side={self.side:.2f})\"\n",
    "\n",
    "# tests\n",
    "shapes = [Circle(1.0), Square(2.0)]\n",
    "total = sum(s.area() for s in shapes)\n",
    "assert abs(total - (math.pi*1 + 4)) < 1e-9\n",
    "print(\"✅ Héritage/Polymorphisme OK:\", round(total, 4))\n"
   ]
  },
  {
   "cell_type": "code",
   "execution_count": null,
   "id": "1f9410e6",
   "metadata": {},
   "outputs": [],
   "source": [
    "class Product:\n",
    "    def __init__(self, name: str, price: float):\n",
    "        self.name = str(name)\n",
    "        self.price = float(price)\n",
    "\n",
    "    def __repr__(self) -> str:\n",
    "        # non ambigu, utile pour debug\n",
    "        return f\"Product(name={self.name!r}, price={self.price:.2f})\"\n",
    "\n",
    "    def __str__(self) -> str:\n",
    "        # user-friendly\n",
    "        return f\"{self.name} — {self.price:.2f} CHF\"\n",
    "\n",
    "# tests\n",
    "p = Product(\"Laptop\", 1299)\n",
    "assert \"Product(name='Laptop'\" in repr(p)\n",
    "assert \"Laptop — 1299.00 CHF\" == str(p)\n",
    "print(\"✅ repr/str OK:\", repr(p), \"|\", str(p))\n",
    "print([p])  # montre l'usage de __repr__ dans les conteneurs\n"
   ]
  },
  {
   "cell_type": "code",
   "execution_count": null,
   "id": "ca66ac72",
   "metadata": {},
   "outputs": [],
   "source": [
    "class Product:\n",
    "    def __init__(self, name: str, price: float):\n",
    "        self.name = str(name)\n",
    "        self.price = float(price)\n",
    "\n",
    "    def __repr__(self) -> str:\n",
    "        return f\"Product(name={self.name!r}, price={self.price:.2f})\"\n",
    "\n",
    "    def __str__(self) -> str:\n",
    "        return f\"{self.name} — {self.price:.2f} CHF\"\n",
    "\n",
    "    @classmethod\n",
    "    def from_string(cls, s: str) -> \"Product\":\n",
    "        parts = [p.strip() for p in s.split(\",\")]\n",
    "        if len(parts) != 2:\n",
    "            raise ValueError(\"format attendu: 'Name,Price'\")\n",
    "        name, price_str = parts\n",
    "        return cls(name, float(price_str))\n",
    "\n",
    "    @staticmethod\n",
    "    def is_valid_price(x) -> bool:\n",
    "        try:\n",
    "            return float(x) >= 0\n",
    "        except (TypeError, ValueError):\n",
    "            return False\n",
    "\n",
    "# tests\n",
    "p2 = Product.from_string(\"Mouse,29.9\")\n",
    "assert isinstance(p2, Product) and p2.price == 29.9\n",
    "assert Product.is_valid_price(\"10\") is True\n",
    "assert Product.is_valid_price(\"-5\") is False\n",
    "print(\"✅ classmethod/staticmethod OK:\", p2)\n"
   ]
  },
  {
   "cell_type": "code",
   "execution_count": null,
   "id": "e6ebf48a",
   "metadata": {},
   "outputs": [],
   "source": [
    "class SavingAccount(BankAccount):\n",
    "    def __init__(self, owner: str, balance: float = 0.0, interest_rate: float = 2.0):\n",
    "        super().__init__(owner, balance)\n",
    "        self.interest_rate = float(interest_rate)  # en %\n",
    "\n",
    "    def apply_interest(self) -> None:\n",
    "        if self.interest_rate <= 0:\n",
    "            return\n",
    "        self._balance *= (1 + self.interest_rate / 100.0)\n",
    "\n",
    "    def __repr__(self) -> str:\n",
    "        return f\"SavingAccount(owner={self.owner!r}, balance={self._balance:.2f}, rate={self.interest_rate:.2f}%)\"\n",
    "\n",
    "# tests\n",
    "sacc = SavingAccount(\"Bob\", 100, 5.0)\n",
    "sacc.apply_interest()\n",
    "assert abs(sacc.balance - 105.0) < 1e-9\n",
    "print(\"✅ Mini-challenge OK:\", sacc)\n"
   ]
  }
 ],
 "metadata": {
  "kernelspec": {
   "display_name": "nomades_PPL",
   "language": "python",
   "name": "python3"
  },
  "language_info": {
   "codemirror_mode": {
    "name": "ipython",
    "version": 3
   },
   "file_extension": ".py",
   "mimetype": "text/x-python",
   "name": "python",
   "nbconvert_exporter": "python",
   "pygments_lexer": "ipython3",
   "version": "3.11.13"
  }
 },
 "nbformat": 4,
 "nbformat_minor": 5
}
