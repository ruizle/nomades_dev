{
 "cells": [
  {
   "metadata": {},
   "cell_type": "markdown",
   "source": [
    "## Objectifs\n",
    "- Comprendre objets, classes, attributs, méthodes.\n",
    "- Implémenter `__init__` et `__repr__`.\n",
    "- Structurer un projet en plusieurs classes (Snake v1)."
   ],
   "id": "fb6583207f7b66ef"
  },
  {
   "metadata": {},
   "cell_type": "markdown",
   "source": [
    "## Micro-exo 1 — BankAccount\n",
    "Implémentez une classe `BankAccount` :\n",
    "- Attributs : `owner: str`, `balance: float = 0.0`\n",
    "- Méthodes :\n",
    "  - `deposit(amount: float) -> None`\n",
    "  - `withdraw(amount: float) -> None` (refuse si `amount` > `balance`)\n",
    "- `__repr__` lisible, ex: `BankAccount(owner='Alice', balance=100.0)`\n",
    "\n",
    "> Pas d’exceptions avancées aujourd’hui. Validez avec de petits tests.\n"
   ],
   "id": "eccee9dd29e58b9d"
  },
  {
   "metadata": {
    "ExecuteTime": {
     "end_time": "2025-08-26T14:29:07.057609Z",
     "start_time": "2025-08-26T14:29:07.052962Z"
    }
   },
   "cell_type": "code",
   "source": [
    "# TODO: implémenter BankAccount (sans exceptions avancées)\n",
    "class BankAccount:\n",
    "    def __init__(self, owner: str, balance: float = 0.0):\n",
    "        # TODO: initialiser les attributs\n",
    "        pass\n",
    "\n",
    "    def deposit(self, amount: float) -> None:\n",
    "        # TODO: ajouter au solde\n",
    "        pass\n",
    "\n",
    "    def withdraw(self, amount: float) -> None:\n",
    "        # TODO: retirer si possible, sinon ignorer (ou message simple)\n",
    "        pass\n",
    "\n",
    "    def __repr__(self) -> str:\n",
    "        # TODO: représentation lisible pour débogage\n",
    "        pass\n",
    "\n",
    "# TODO: tests simples (décommentez pour vérifier)\n",
    "# acc = BankAccount(\"Alice\", 50.0)\n",
    "# acc.deposit(25)\n",
    "# acc.withdraw(10)\n",
    "# print(acc)  # attendu: BankAccount(owner='Alice', balance=65.0)\n"
   ],
   "id": "648d46f5131f4ed4",
   "outputs": [],
   "execution_count": 2
  },
  {
   "metadata": {},
   "cell_type": "markdown",
   "source": [
    "## Mini-challenge — Rectangle\n",
    "Créez une classe `Rectangle` :\n",
    "- Attributs : `width: float`, `height: float`\n",
    "- Méthodes :\n",
    "  - `area() -> float` (surface)\n",
    "- `__repr__` lisible, ex: `Rectangle(3.0, 4.0)`\n",
    "\n",
    "> Testez 2–3 cas rapides.\n"
   ],
   "id": "2d2862a241270154"
  },
  {
   "metadata": {
    "ExecuteTime": {
     "end_time": "2025-08-26T14:30:13.673549Z",
     "start_time": "2025-08-26T14:30:13.669464Z"
    }
   },
   "cell_type": "code",
   "source": [
    "# TODO: implémenter Rectangle\n",
    "class Rectangle:\n",
    "    def __init__(self, width: float, height: float):\n",
    "        # TODO\n",
    "        pass\n",
    "\n",
    "    def area(self) -> float:\n",
    "        # TODO\n",
    "        pass\n",
    "\n",
    "    def __repr__(self) -> str:\n",
    "        # TODO\n",
    "        pass\n",
    "\n",
    "# TODO: tests simples (décommentez pour vérifier)\n",
    "# r = Rectangle(3.0, 4.0)\n",
    "# assert r.area() == 12.0\n",
    "# print(r)  # attendu: Rectangle(3.0, 4.0)\n"
   ],
   "id": "feeb30fc661bb4f5",
   "outputs": [],
   "execution_count": 3
  },
  {
   "metadata": {},
   "cell_type": "code",
   "outputs": [],
   "execution_count": null,
   "source": "",
   "id": "c2221d65936e3a46"
  }
 ],
 "metadata": {
  "kernelspec": {
   "display_name": "Python 3",
   "language": "python",
   "name": "python3"
  },
  "language_info": {
   "codemirror_mode": {
    "name": "ipython",
    "version": 2
   },
   "file_extension": ".py",
   "mimetype": "text/x-python",
   "name": "python",
   "nbconvert_exporter": "python",
   "pygments_lexer": "ipython2",
   "version": "2.7.6"
  }
 },
 "nbformat": 4,
 "nbformat_minor": 5
}
