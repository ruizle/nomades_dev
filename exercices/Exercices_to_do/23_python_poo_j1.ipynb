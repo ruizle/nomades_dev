{
 "cells": [
  {
   "cell_type": "markdown",
   "id": "fb6583207f7b66ef",
   "metadata": {},
   "source": [
    "## Objectifs\n",
    "- Comprendre objets, classes, attributs, méthodes.\n",
    "- Implémenter `__init__` et `__repr__`.\n",
    "- Structurer un projet en plusieurs classes (Snake v1)."
   ]
  },
  {
   "cell_type": "markdown",
   "id": "eccee9dd29e58b9d",
   "metadata": {},
   "source": [
    "## Micro-exo 1 — BankAccount\n",
    "Implémentez une classe `BankAccount` :\n",
    "- Attributs : `owner: str`, `balance: float = 0.0`\n",
    "- Méthodes :\n",
    "  - `deposit(amount: float) -> None`\n",
    "  - `withdraw(amount: float) -> None` (refuse si `amount` > `balance`)\n",
    "- `__repr__` lisible, ex: `BankAccount(owner='Alice', balance=100.0)`\n",
    "\n",
    "> Pas d’exceptions avancées aujourd’hui. Validez avec de petits tests.\n"
   ]
  },
  {
   "cell_type": "code",
   "execution_count": 26,
   "id": "648d46f5131f4ed4",
   "metadata": {
    "ExecuteTime": {
     "end_time": "2025-08-26T14:29:07.057609Z",
     "start_time": "2025-08-26T14:29:07.052962Z"
    }
   },
   "outputs": [
    {
     "name": "stdout",
     "output_type": "stream",
     "text": [
      "BankAccount: owner=Alice, balance=65.0\n"
     ]
    }
   ],
   "source": [
    "# TODO: implémenter BankAccount (sans exceptions avancées)\n",
    "class BankAccount:\n",
    "    def __init__(self, owner: str, balance: float = 0.0):\n",
    "        # TODO: initialiser les attributs\n",
    "        self.owner = owner\n",
    "        self.balance = balance\n",
    "\n",
    "    def deposit(self, amount: float) -> None:\n",
    "        # TODO: ajouter au solde\n",
    "        self.balance += amount\n",
    "\n",
    "    def withdraw(self, amount: float) -> None:\n",
    "        # TODO: retirer si possible, sinon ignorer (ou message simple)\n",
    "        if self.balance >= amount:\n",
    "            self.balance -= amount\n",
    "        else:\n",
    "            print(\"Impossible de retirer plus de\",self.balance)\n",
    "\n",
    "    def __repr__(self) -> str:\n",
    "        # TODO: représentation lisible pour débogage\n",
    "        return 'BankAccount: owner=' + self.owner + ', balance=' + str(self.balance)\n",
    "\n",
    "# TODO: tests simples (décommentez pour vérifier)\n",
    "acc = BankAccount(\"Alice\", 50.0)\n",
    "acc.deposit(25)\n",
    "acc.withdraw(10)\n",
    "print(acc)  # attendu: BankAccount(owner='Alice', balance=65.0)\n"
   ]
  },
  {
   "cell_type": "markdown",
   "id": "2d2862a241270154",
   "metadata": {},
   "source": [
    "## Mini-challenge — Rectangle\n",
    "Créez une classe `Rectangle` :\n",
    "- Attributs : `width: float`, `height: float`\n",
    "- Méthodes :\n",
    "  - `area() -> float` (surface)\n",
    "- `__repr__` lisible, ex: `Rectangle(3.0, 4.0)`\n",
    "\n",
    "> Testez 2–3 cas rapides.\n"
   ]
  },
  {
   "cell_type": "code",
   "execution_count": 25,
   "id": "feeb30fc661bb4f5",
   "metadata": {
    "ExecuteTime": {
     "end_time": "2025-08-26T14:30:13.673549Z",
     "start_time": "2025-08-26T14:30:13.669464Z"
    }
   },
   "outputs": [
    {
     "name": "stdout",
     "output_type": "stream",
     "text": [
      "Rectangle : width=3.0, height=4.0\n"
     ]
    }
   ],
   "source": [
    "# TODO: implémenter Rectangle\n",
    "class Rectangle:\n",
    "    # Attributs\n",
    "    width:float = 0.0\n",
    "    height:float = 0.0\n",
    "\n",
    "    # Méthodes\n",
    "    def __init__(self, width: float, height: float):\n",
    "        # TODO\n",
    "        self.width = width\n",
    "        self.height = height\n",
    "\n",
    "    def area(self) -> float:\n",
    "        # TODO\n",
    "        return self.width * self.height\n",
    "\n",
    "    def __repr__(self) -> str:\n",
    "        # TODO\n",
    "        return 'Rectangle : width=' + str(self.width) + ', height=' + str(self.height)\n",
    "\n",
    "# TODO: tests simples (décommentez pour vérifier)\n",
    "r = Rectangle(3.0, 4.0)\n",
    "assert r.area() == 12.0\n",
    "print(r)  # attendu: Rectangle(3.0, 4.0)\n"
   ]
  },
  {
   "cell_type": "code",
   "execution_count": null,
   "id": "c2221d65936e3a46",
   "metadata": {},
   "outputs": [],
   "source": []
  }
 ],
 "metadata": {
  "kernelspec": {
   "display_name": "nomades_PPL",
   "language": "python",
   "name": "python3"
  },
  "language_info": {
   "codemirror_mode": {
    "name": "ipython",
    "version": 3
   },
   "file_extension": ".py",
   "mimetype": "text/x-python",
   "name": "python",
   "nbconvert_exporter": "python",
   "pygments_lexer": "ipython3",
   "version": "3.11.13"
  }
 },
 "nbformat": 4,
 "nbformat_minor": 5
}
