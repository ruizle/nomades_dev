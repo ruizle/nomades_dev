{
 "cells": [
  {
   "cell_type": "markdown",
   "id": "fdf80c19",
   "metadata": {},
   "source": [
    "Parcourir un dictionnaire."
   ]
  },
  {
   "cell_type": "code",
   "execution_count": null,
   "id": "302060fd",
   "metadata": {},
   "outputs": [
    {
     "name": "stdout",
     "output_type": "stream",
     "text": [
      "<class 'dict'>\n",
      "\n",
      "{'France': 'bleu-blanc-rouge', 'Suisse': 'rouge-blanc', 'Espagne': 'rouge-jaune'} \n",
      "\n",
      "dict_items([('France', 'bleu-blanc-rouge'), ('Suisse', 'rouge-blanc'), ('Espagne', 'rouge-jaune')])\n",
      "dict_keys(['France', 'Suisse', 'Espagne'])\n",
      "dict_values(['bleu-blanc-rouge', 'rouge-blanc', 'rouge-jaune']) \n",
      "\n",
      "\n",
      "pays= France\n",
      "drapeau= bleu-blanc-rouge\n",
      "bleu-blanc-rouge\n",
      "\n",
      "pays= Suisse\n",
      "drapeau= rouge-blanc\n",
      "rouge-blanc\n",
      "\n",
      "pays= Espagne\n",
      "drapeau= rouge-jaune\n",
      "rouge-jaune\n"
     ]
    }
   ],
   "source": [
    "# Ensemble de pays, ainsi que les couleurs qui composent leur drapeau\n",
    "pays_drapeaux = {'France':'bleu-blanc-rouge', 'Suisse':'rouge-blanc', 'Espagne':'rouge-jaune'}\n",
    "\n",
    "print(type(pays_drapeaux))\n",
    "print()\n",
    "print(pays_drapeaux,\"\\n\")\n",
    "#print()      \n",
    "print(pays_drapeaux.items())\n",
    "print(pays_drapeaux.keys())\n",
    "print(pays_drapeaux.values(),\"\\n\")\n",
    "\n",
    "for pays in pays_drapeaux:    # pays, drapeau in pays_drapeaux.items():\n",
    "    print(\"\\npays=\",pays)\n",
    "    print(\"drapeau=\",pays_drapeaux[pays])\n",
    "    print(pays_drapeaux.get(pays))\n",
    "    \n"
   ]
  },
  {
   "cell_type": "code",
   "execution_count": 38,
   "id": "dd5e3c36",
   "metadata": {},
   "outputs": [
    {
     "name": "stdout",
     "output_type": "stream",
     "text": [
      "<class 'dict'>\n",
      "item: France type: <class 'str'>\n"
     ]
    },
    {
     "ename": "NameError",
     "evalue": "name 'dico' is not defined",
     "output_type": "error",
     "traceback": [
      "\u001b[31m---------------------------------------------------------------------------\u001b[39m",
      "\u001b[31mNameError\u001b[39m                                 Traceback (most recent call last)",
      "\u001b[36mCell\u001b[39m\u001b[36m \u001b[39m\u001b[32mIn[38]\u001b[39m\u001b[32m, line 22\u001b[39m\n\u001b[32m     19\u001b[39m     \u001b[38;5;28mprint\u001b[39m(\u001b[33m\"\u001b[39m\u001b[33mElement: \u001b[39m\u001b[33m\"\u001b[39m) \n\u001b[32m     21\u001b[39m \u001b[38;5;66;03m# Main\u001b[39;00m\n\u001b[32m---> \u001b[39m\u001b[32m22\u001b[39m aff_elements_dico(pays_drapeaux2)\n",
      "\u001b[36mCell\u001b[39m\u001b[36m \u001b[39m\u001b[32mIn[38]\u001b[39m\u001b[32m, line 18\u001b[39m, in \u001b[36maff_elements_dico\u001b[39m\u001b[34m(list_items)\u001b[39m\n\u001b[32m     15\u001b[39m     \u001b[38;5;28;01melif\u001b[39;00m \u001b[38;5;28mtype\u001b[39m(item) == \u001b[33m\"\u001b[39m\u001b[33m<class \u001b[39m\u001b[33m'\u001b[39m\u001b[33mtuple\u001b[39m\u001b[33m'\u001b[39m\u001b[33m>\u001b[39m\u001b[33m\"\u001b[39m:\n\u001b[32m     16\u001b[39m         \u001b[38;5;28mprint\u001b[39m(\u001b[33m\"\u001b[39m\u001b[33mTuple:\u001b[39m\u001b[33m\"\u001b[39m, item) \n\u001b[32m---> \u001b[39m\u001b[32m18\u001b[39m     aff_elements_dico(dico.values())\n\u001b[32m     19\u001b[39m \u001b[38;5;28mprint\u001b[39m(\u001b[33m\"\u001b[39m\u001b[33mElement: \u001b[39m\u001b[33m\"\u001b[39m)\n",
      "\u001b[31mNameError\u001b[39m: name 'dico' is not defined"
     ]
    }
   ],
   "source": [
    "# 2e dimension avec les couleurs!!!\n",
    "pays_drapeaux2 = {'France':['bleu','blanc','rouge'], 'Suisse':['rouge','blanc'], 'Espagne':['rouge','jaune']}\n",
    "\n",
    "\n",
    "# utiliser la récursivité\n",
    "def aff_elements_dico(list_items):\n",
    "    print(type(list_items))\n",
    "    #if len(dico.values) == 0:\n",
    "    #    return\n",
    "    # Derouler les différents élément (=items) (key + value) du Dico\n",
    "    for item in list_items:\n",
    "        print(\"item:\", item, \"type:\", type(item))\n",
    "        if type(item) == \"<class 'dict'>\":\n",
    "            print(\"Key:\", list_items.key)\n",
    "        elif type(item) == \"<class 'tuple'>\":\n",
    "            print(\"Tuple:\", item) \n",
    "             \n",
    "        aff_elements_dico(dico.values())\n",
    "    print(\"Element: \") \n",
    "\n",
    "# Main\n",
    "aff_elements_dico(pays_drapeaux2)"
   ]
  }
 ],
 "metadata": {
  "kernelspec": {
   "display_name": "nomades_PPL",
   "language": "python",
   "name": "python3"
  },
  "language_info": {
   "codemirror_mode": {
    "name": "ipython",
    "version": 3
   },
   "file_extension": ".py",
   "mimetype": "text/x-python",
   "name": "python",
   "nbconvert_exporter": "python",
   "pygments_lexer": "ipython3",
   "version": "3.11.13"
  }
 },
 "nbformat": 4,
 "nbformat_minor": 5
}
