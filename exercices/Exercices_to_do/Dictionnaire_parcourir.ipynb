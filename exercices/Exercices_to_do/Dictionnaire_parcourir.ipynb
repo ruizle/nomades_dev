{
 "cells": [
  {
   "cell_type": "markdown",
   "id": "fdf80c19",
   "metadata": {},
   "source": [
    "Parcourir un dictionnaire."
   ]
  },
  {
   "cell_type": "code",
   "execution_count": null,
   "id": "302060fd",
   "metadata": {},
   "outputs": [
    {
     "name": "stdout",
     "output_type": "stream",
     "text": [
      "<class 'dict'>\n",
      "France\n",
      "Suisse\n",
      "Espagne\n",
      "1\n"
     ]
    }
   ],
   "source": [
    "# Ensemble de pays avec les couleurs composant leur drapeau\n",
    "pays_drapeaux = {'France':'bleu-blanc-rouge', 'Suisse':'rouge-blanc', 'Espagne':'rouge-jaune'}\n",
    "\n",
    "print(type(pays_drapeaux))\n",
    "\n",
    "for pays in pays_drapeaux:\n",
    "    print(pays)\n"
   ]
  }
 ],
 "metadata": {
  "kernelspec": {
   "display_name": "nomades_PPL",
   "language": "python",
   "name": "python3"
  },
  "language_info": {
   "codemirror_mode": {
    "name": "ipython",
    "version": 3
   },
   "file_extension": ".py",
   "mimetype": "text/x-python",
   "name": "python",
   "nbconvert_exporter": "python",
   "pygments_lexer": "ipython3",
   "version": "3.11.13"
  }
 },
 "nbformat": 4,
 "nbformat_minor": 5
}
