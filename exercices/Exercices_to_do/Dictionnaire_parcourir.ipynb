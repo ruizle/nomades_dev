{
 "cells": [
  {
   "cell_type": "markdown",
   "id": "fdf80c19",
   "metadata": {},
   "source": [
    "Parcourir un dictionnaire."
   ]
  },
  {
   "cell_type": "code",
   "execution_count": null,
   "id": "302060fd",
   "metadata": {},
   "outputs": [
    {
     "name": "stdout",
     "output_type": "stream",
     "text": [
      "<class 'dict'>\n",
      "\n",
      "{'France': 'bleu-blanc-rouge', 'Suisse': 'rouge-blanc', 'Espagne': 'rouge-jaune'} \n",
      "\n",
      "dict_items([('France', 'bleu-blanc-rouge'), ('Suisse', 'rouge-blanc'), ('Espagne', 'rouge-jaune')])\n",
      "dict_keys(['France', 'Suisse', 'Espagne'])\n",
      "dict_values(['bleu-blanc-rouge', 'rouge-blanc', 'rouge-jaune']) \n",
      "\n",
      "\n",
      "pays= France\n",
      "drapeau= bleu-blanc-rouge\n",
      "bleu-blanc-rouge\n",
      "\n",
      "pays= Suisse\n",
      "drapeau= rouge-blanc\n",
      "rouge-blanc\n",
      "\n",
      "pays= Espagne\n",
      "drapeau= rouge-jaune\n",
      "rouge-jaune\n"
     ]
    }
   ],
   "source": [
    "# Ensemble de pays, ainsi que les couleurs qui composent leur drapeau\n",
    "pays_drapeaux = {'France':'bleu-blanc-rouge', 'Suisse':'rouge-blanc', 'Espagne':'rouge-jaune'}\n",
    "\n",
    "print(type(pays_drapeaux))\n",
    "print()\n",
    "print(pays_drapeaux,\"\\n\")\n",
    "#print()      \n",
    "print(pays_drapeaux.items())\n",
    "print(pays_drapeaux.keys())\n",
    "print(pays_drapeaux.values(),\"\\n\")\n",
    "\n",
    "for pays in pays_drapeaux:    # pays, drapeau in pays_drapeaux.items():\n",
    "    print(\"\\npays=\",pays)\n",
    "    print(\"drapeau=\",pays_drapeaux[pays])\n",
    "    print(pays_drapeaux.get(pays))\n",
    "    \n",
    "\n",
    "# Faire une 2e dimension avec les couleurs!!!\n",
    "pays_drapeaux2 = {'France':['bleu','blanc','rouge'], 'Suisse':['rouge','blanc'], 'Espagne':['rouge','jaune']}\n",
    "\n",
    "\n",
    "\n",
    "# utiliser la récursivité\n",
    "def aff_elements_dico(dico):\n",
    "    if len(dico.values) == 0\n",
    "        return\n",
    "    aff_elements_dico(dico.items)\n"
   ]
  }
 ],
 "metadata": {
  "kernelspec": {
   "display_name": "nomades_PPL",
   "language": "python",
   "name": "python3"
  },
  "language_info": {
   "codemirror_mode": {
    "name": "ipython",
    "version": 3
   },
   "file_extension": ".py",
   "mimetype": "text/x-python",
   "name": "python",
   "nbconvert_exporter": "python",
   "pygments_lexer": "ipython3",
   "version": "3.11.13"
  }
 },
 "nbformat": 4,
 "nbformat_minor": 5
}
