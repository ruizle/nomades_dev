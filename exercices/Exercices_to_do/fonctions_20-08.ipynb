{
 "cells": [
  {
   "cell_type": "markdown",
   "id": "2f2df495",
   "metadata": {},
   "source": [
    "Créer une fonction qui divise un nombre par un autre"
   ]
  },
  {
   "cell_type": "code",
   "execution_count": 10,
   "id": "f478666d",
   "metadata": {},
   "outputs": [
    {
     "name": "stdout",
     "output_type": "stream",
     "text": [
      "Division par 0 impossible\n",
      "Le résultat est : 2.0\n"
     ]
    }
   ],
   "source": [
    "def divise (nb_1, nb_2) -> int: \n",
    "  if (nb_2>0):\n",
    "    return nb_1 / nb_2\n",
    "  else:\n",
    "    print(\"Division par 0 impossible\")\n",
    "    return None\n",
    "\n",
    "divise (5, 3)\n",
    "divise (6, 0)\n",
    "\n",
    "my_result = divise(4,2)\n",
    "print(\"Le résultat est :\", my_result)"
   ]
  },
  {
   "cell_type": "markdown",
   "id": "109da752",
   "metadata": {},
   "source": [
    "Créer une fonction avec un nombre variable de paramètres . Il retourne le nombre de paramètres."
   ]
  },
  {
   "cell_type": "code",
   "execution_count": 26,
   "id": "7cc6d41c",
   "metadata": {},
   "outputs": [
    {
     "name": "stdout",
     "output_type": "stream",
     "text": [
      "<class 'tuple'>\n",
      "<built-in method count of tuple object at 0x105d3cac0>\n",
      "Nombre de paramètres : 1\n",
      "<class 'tuple'>\n",
      "<class 'tuple'>\n",
      "<class 'tuple'>\n",
      "<class 'tuple'>\n",
      "<class 'tuple'>\n",
      "<built-in method count of tuple object at 0x109d4cbd0>\n",
      "Nombre de paramètres : 5\n",
      "<class 'tuple'>\n",
      "<class 'tuple'>\n",
      "<built-in method count of tuple object at 0x109d5eac0>\n",
      "Nombre de paramètres : 2\n"
     ]
    }
   ],
   "source": [
    "def nbre_params(*args):\n",
    "  for i in args:\n",
    "    print(type(args))\n",
    "  print(args.count)\n",
    "  return len(args)\n",
    "\n",
    "print(\"Nombre de paramètres :\", nbre_params(1))\n",
    "print(\"Nombre de paramètres :\", nbre_params(1,2,3,\"toto\", [1, 6] ))\n",
    "print(\"Nombre de paramètres :\", nbre_params(1,(2,3)))"
   ]
  }
 ],
 "metadata": {
  "kernelspec": {
   "display_name": "nomades_PPL",
   "language": "python",
   "name": "python3"
  },
  "language_info": {
   "codemirror_mode": {
    "name": "ipython",
    "version": 3
   },
   "file_extension": ".py",
   "mimetype": "text/x-python",
   "name": "python",
   "nbconvert_exporter": "python",
   "pygments_lexer": "ipython3",
   "version": "3.11.13"
  }
 },
 "nbformat": 4,
 "nbformat_minor": 5
}
